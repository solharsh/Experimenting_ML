{
 "cells": [
  {
   "cell_type": "markdown",
   "metadata": {},
   "source": [
    "# MXNet: Building a Neural Network"
   ]
  },
  {
   "cell_type": "markdown",
   "metadata": {},
   "source": [
    "## Automatic differentiation with autograd\n",
    "\n",
    "We train models to get better and better as a function of experience. <br/>\n",
    "__Usually, getting better means minimizing a loss function__. To achieve this goal, we often iteratively compute the gradient of the loss with respect to weights and then update the weights accordingly. While the gradient calculations are straightforward through a chain rule, for complex models, working it out by hand can be a pain.<br/>\n",
    "__Before diving deep into the model training, let’s go through how MXNet’s autograd package expedites this work by automatically calculating derivatives.__\n",
    "\n",
    "__Basic usage__"
   ]
  },
  {
   "cell_type": "markdown",
   "metadata": {},
   "source": [
    "## Sample Problem: Detecting Electrical Plugs in Amazon Marketplace Products\n",
    "#### In this notebook, we will explore an Amazon dataset. In some marketplaces, ASINs having electrical plugs need to be accompanied by a compliance form. Thus it is desirable to identify ASINs which have an electrical plug.\n",
    "\n",
    "__Dataset schema:__ \n",
    "- __ASIN__: Product ASIN\n",
    "- __target_label:__ Binary field with values in {0,1}. A value of 1 show ASIN has a plug, otherwise 0.\n",
    "- __ASIN_STATIC_ITEM_NAME:__ Title of the ASIN.\n",
    "- __ASIN_STATIC_PRODUCT_DESCRIPTION:__ Description of the ASIN\n",
    "- __ASIN_STATIC_GL_PRODUCT_GROUP_TYPE:__ GL information for the ASIN.\n",
    "- __ASIN_STATIC_ITEM_PACKAGE_WEIGHT:__ Weight of the ASIN.\n",
    "- __ASIN_STATIC_LIST_PRICE:__ Price information for the ASIN.\n",
    "- __ASIN_STATIC_BATTERIES_INCLUDED:__ Information whether batteries are included along with the product.\n",
    "- __ASIN_STATIC_BATTERIES_REQUIRED:__ Information whether batteries are required for using the product.\n",
    "- __ASIN_STATIC_ITEM_CLASSIFICATION:__ Item classification of whether it is a standalone or bundle parent item etc"
   ]
  },
  {
   "cell_type": "markdown",
   "metadata": {},
   "source": [
    "## 1. Reading the data\n",
    "Let's read the dataset into a dataframe."
   ]
  },
  {
   "cell_type": "code",
   "execution_count": 2,
   "metadata": {},
   "outputs": [
    {
     "name": "stderr",
     "output_type": "stream",
     "text": [
      "C:\\Users\\solharsh\\AppData\\Local\\Continuum\\anaconda3\\lib\\site-packages\\IPython\\core\\interactiveshell.py:3063: DtypeWarning: Columns (0,18,19,23,31,38,41,48,63,78,82,85,96,105) have mixed types.Specify dtype option on import or set low_memory=False.\n",
      "  interactivity=interactivity, compiler=compiler, result=result)\n"
     ]
    }
   ],
   "source": [
    "import pandas as pd\n",
    "\n",
    "# import the datasets\n",
    "df = pd.read_csv('C:\\\\Users\\\\solharsh\\\\Downloads\\\\Tabular Data MLU\\\\final_project\\\\final_project\\\\asin_product.csv',encoding= 'unicode_escape')"
   ]
  },
  {
   "cell_type": "markdown",
   "metadata": {},
   "source": [
    "## 2. Overall Statistics and Imputing:\n",
    "We will look at number of rows, columns and simple statistics of the dataset."
   ]
  },
  {
   "cell_type": "code",
   "execution_count": 30,
   "metadata": {},
   "outputs": [
    {
     "data": {
      "text/plain": [
       "array(['base_product', nan, 'variation_parent'], dtype=object)"
      ]
     },
     "execution_count": 30,
     "metadata": {},
     "output_type": "execute_result"
    }
   ],
   "source": [
    "df[\"ASIN_STATIC_ITEM_CLASSIFICATION\"].unique()"
   ]
  },
  {
   "cell_type": "code",
   "execution_count": 31,
   "metadata": {},
   "outputs": [
    {
     "data": {
      "text/plain": [
       "0    58989\n",
       "1     2244\n",
       "Name: target_label, dtype: int64"
      ]
     },
     "execution_count": 31,
     "metadata": {},
     "output_type": "execute_result"
    }
   ],
   "source": [
    "df['target_label'].value_counts()"
   ]
  },
  {
   "cell_type": "code",
   "execution_count": 32,
   "metadata": {},
   "outputs": [
    {
     "data": {
      "text/html": [
       "<div>\n",
       "<style scoped>\n",
       "    .dataframe tbody tr th:only-of-type {\n",
       "        vertical-align: middle;\n",
       "    }\n",
       "\n",
       "    .dataframe tbody tr th {\n",
       "        vertical-align: top;\n",
       "    }\n",
       "\n",
       "    .dataframe thead th {\n",
       "        text-align: right;\n",
       "    }\n",
       "</style>\n",
       "<table border=\"1\" class=\"dataframe\">\n",
       "  <thead>\n",
       "    <tr style=\"text-align: right;\">\n",
       "      <th></th>\n",
       "      <th>ASIN</th>\n",
       "      <th>target_label</th>\n",
       "      <th>ASIN_STATIC_ITEM_NAME</th>\n",
       "      <th>ASIN_STATIC_PRODUCT_DESCRIPTION</th>\n",
       "      <th>ASIN_STATIC_GL_PRODUCT_GROUP_TYPE</th>\n",
       "      <th>ASIN_STATIC_ITEM_PACKAGE_WEIGHT</th>\n",
       "      <th>ASIN_STATIC_LIST_PRICE</th>\n",
       "      <th>ASIN_STATIC_BATTERIES_INCLUDED</th>\n",
       "      <th>ASIN_STATIC_BATTERIES_REQUIRED</th>\n",
       "      <th>ASIN_STATIC_ITEM_CLASSIFICATION</th>\n",
       "    </tr>\n",
       "  </thead>\n",
       "  <tbody>\n",
       "    <tr>\n",
       "      <th>0</th>\n",
       "      <td>B004U9MOWO</td>\n",
       "      <td>0</td>\n",
       "      <td>Master Lock 8 X 900 mm Chain Integrated 4 Digi...</td>\n",
       "      <td>Master Lock Street Flexium 900mm Integrated Co...</td>\n",
       "      <td>gl_sports</td>\n",
       "      <td>2.650000</td>\n",
       "      <td>16.66</td>\n",
       "      <td>False</td>\n",
       "      <td>False</td>\n",
       "      <td>base_product</td>\n",
       "    </tr>\n",
       "    <tr>\n",
       "      <th>1</th>\n",
       "      <td>B006OJWZMW</td>\n",
       "      <td>0</td>\n",
       "      <td>In Phase SRX-EQ 10 Band Parametric Equalizer w...</td>\n",
       "      <td>NaN</td>\n",
       "      <td>gl_wireless</td>\n",
       "      <td>1.680000</td>\n",
       "      <td>158.33</td>\n",
       "      <td>False</td>\n",
       "      <td>False</td>\n",
       "      <td>base_product</td>\n",
       "    </tr>\n",
       "    <tr>\n",
       "      <th>2</th>\n",
       "      <td>B00008VIJ4</td>\n",
       "      <td>0</td>\n",
       "      <td>Technics RPDJ1210 DJ Headphones - Silver</td>\n",
       "      <td>Plated Connector:Gold, Connector Type:Headphon...</td>\n",
       "      <td>gl_home_entertainment</td>\n",
       "      <td>1.455036</td>\n",
       "      <td>NaN</td>\n",
       "      <td>False</td>\n",
       "      <td>False</td>\n",
       "      <td>base_product</td>\n",
       "    </tr>\n",
       "    <tr>\n",
       "      <th>3</th>\n",
       "      <td>B005433T4M</td>\n",
       "      <td>0</td>\n",
       "      <td>Heartwarmers Coming Home Padded Lap Tray, 42 x...</td>\n",
       "      <td>NaN</td>\n",
       "      <td>gl_home</td>\n",
       "      <td>1.763680</td>\n",
       "      <td>12.49</td>\n",
       "      <td>False</td>\n",
       "      <td>NaN</td>\n",
       "      <td>base_product</td>\n",
       "    </tr>\n",
       "    <tr>\n",
       "      <th>4</th>\n",
       "      <td>B0073CN63Q</td>\n",
       "      <td>0</td>\n",
       "      <td>Douceur D'Intérieur  - 1600728, Curtain With E...</td>\n",
       "      <td>NaN</td>\n",
       "      <td>gl_home</td>\n",
       "      <td>2.292784</td>\n",
       "      <td>25.42</td>\n",
       "      <td>False</td>\n",
       "      <td>False</td>\n",
       "      <td>base_product</td>\n",
       "    </tr>\n",
       "  </tbody>\n",
       "</table>\n",
       "</div>"
      ],
      "text/plain": [
       "         ASIN  target_label  \\\n",
       "0  B004U9MOWO             0   \n",
       "1  B006OJWZMW             0   \n",
       "2  B00008VIJ4             0   \n",
       "3  B005433T4M             0   \n",
       "4  B0073CN63Q             0   \n",
       "\n",
       "                               ASIN_STATIC_ITEM_NAME  \\\n",
       "0  Master Lock 8 X 900 mm Chain Integrated 4 Digi...   \n",
       "1  In Phase SRX-EQ 10 Band Parametric Equalizer w...   \n",
       "2           Technics RPDJ1210 DJ Headphones - Silver   \n",
       "3  Heartwarmers Coming Home Padded Lap Tray, 42 x...   \n",
       "4  Douceur D'Intérieur  - 1600728, Curtain With E...   \n",
       "\n",
       "                     ASIN_STATIC_PRODUCT_DESCRIPTION  \\\n",
       "0  Master Lock Street Flexium 900mm Integrated Co...   \n",
       "1                                                NaN   \n",
       "2  Plated Connector:Gold, Connector Type:Headphon...   \n",
       "3                                                NaN   \n",
       "4                                                NaN   \n",
       "\n",
       "  ASIN_STATIC_GL_PRODUCT_GROUP_TYPE  ASIN_STATIC_ITEM_PACKAGE_WEIGHT  \\\n",
       "0                         gl_sports                         2.650000   \n",
       "1                       gl_wireless                         1.680000   \n",
       "2             gl_home_entertainment                         1.455036   \n",
       "3                           gl_home                         1.763680   \n",
       "4                           gl_home                         2.292784   \n",
       "\n",
       "   ASIN_STATIC_LIST_PRICE ASIN_STATIC_BATTERIES_INCLUDED  \\\n",
       "0                   16.66                          False   \n",
       "1                  158.33                          False   \n",
       "2                     NaN                          False   \n",
       "3                   12.49                          False   \n",
       "4                   25.42                          False   \n",
       "\n",
       "  ASIN_STATIC_BATTERIES_REQUIRED ASIN_STATIC_ITEM_CLASSIFICATION  \n",
       "0                          False                    base_product  \n",
       "1                          False                    base_product  \n",
       "2                          False                    base_product  \n",
       "3                            NaN                    base_product  \n",
       "4                          False                    base_product  "
      ]
     },
     "execution_count": 32,
     "metadata": {},
     "output_type": "execute_result"
    }
   ],
   "source": [
    "# Print the first five rows\n",
    "# NaN means missing data\n",
    "df.head()"
   ]
  },
  {
   "cell_type": "code",
   "execution_count": 33,
   "metadata": {},
   "outputs": [
    {
     "name": "stdout",
     "output_type": "stream",
     "text": [
      "<class 'pandas.core.frame.DataFrame'>\n",
      "RangeIndex: 61233 entries, 0 to 61232\n",
      "Data columns (total 10 columns):\n",
      "ASIN                                 61233 non-null object\n",
      "target_label                         61233 non-null int64\n",
      "ASIN_STATIC_ITEM_NAME                61233 non-null object\n",
      "ASIN_STATIC_PRODUCT_DESCRIPTION      35261 non-null object\n",
      "ASIN_STATIC_GL_PRODUCT_GROUP_TYPE    61233 non-null object\n",
      "ASIN_STATIC_ITEM_PACKAGE_WEIGHT      61141 non-null float64\n",
      "ASIN_STATIC_LIST_PRICE               45741 non-null float64\n",
      "ASIN_STATIC_BATTERIES_INCLUDED       50058 non-null object\n",
      "ASIN_STATIC_BATTERIES_REQUIRED       45229 non-null object\n",
      "ASIN_STATIC_ITEM_CLASSIFICATION      61221 non-null object\n",
      "dtypes: float64(2), int64(1), object(7)\n",
      "memory usage: 4.7+ MB\n"
     ]
    }
   ],
   "source": [
    "# Let's see the data types and non-null values for each column\n",
    "df.info()"
   ]
  },
  {
   "cell_type": "code",
   "execution_count": 34,
   "metadata": {},
   "outputs": [
    {
     "data": {
      "text/html": [
       "<div>\n",
       "<style scoped>\n",
       "    .dataframe tbody tr th:only-of-type {\n",
       "        vertical-align: middle;\n",
       "    }\n",
       "\n",
       "    .dataframe tbody tr th {\n",
       "        vertical-align: top;\n",
       "    }\n",
       "\n",
       "    .dataframe thead th {\n",
       "        text-align: right;\n",
       "    }\n",
       "</style>\n",
       "<table border=\"1\" class=\"dataframe\">\n",
       "  <thead>\n",
       "    <tr style=\"text-align: right;\">\n",
       "      <th></th>\n",
       "      <th>target_label</th>\n",
       "      <th>ASIN_STATIC_ITEM_PACKAGE_WEIGHT</th>\n",
       "      <th>ASIN_STATIC_LIST_PRICE</th>\n",
       "    </tr>\n",
       "  </thead>\n",
       "  <tbody>\n",
       "    <tr>\n",
       "      <th>count</th>\n",
       "      <td>61233.000000</td>\n",
       "      <td>61141.000000</td>\n",
       "      <td>4.574100e+04</td>\n",
       "    </tr>\n",
       "    <tr>\n",
       "      <th>mean</th>\n",
       "      <td>0.036647</td>\n",
       "      <td>31.520023</td>\n",
       "      <td>1.475785e+02</td>\n",
       "    </tr>\n",
       "    <tr>\n",
       "      <th>std</th>\n",
       "      <td>0.187895</td>\n",
       "      <td>462.639041</td>\n",
       "      <td>1.664631e+04</td>\n",
       "    </tr>\n",
       "    <tr>\n",
       "      <th>min</th>\n",
       "      <td>0.000000</td>\n",
       "      <td>0.000000</td>\n",
       "      <td>1.160000e+00</td>\n",
       "    </tr>\n",
       "    <tr>\n",
       "      <th>25%</th>\n",
       "      <td>0.000000</td>\n",
       "      <td>1.520000</td>\n",
       "      <td>1.667000e+01</td>\n",
       "    </tr>\n",
       "    <tr>\n",
       "      <th>50%</th>\n",
       "      <td>0.000000</td>\n",
       "      <td>2.513244</td>\n",
       "      <td>3.291000e+01</td>\n",
       "    </tr>\n",
       "    <tr>\n",
       "      <th>75%</th>\n",
       "      <td>0.000000</td>\n",
       "      <td>5.555592</td>\n",
       "      <td>7.000000e+01</td>\n",
       "    </tr>\n",
       "    <tr>\n",
       "      <th>max</th>\n",
       "      <td>1.000000</td>\n",
       "      <td>29500.000000</td>\n",
       "      <td>3.560000e+06</td>\n",
       "    </tr>\n",
       "  </tbody>\n",
       "</table>\n",
       "</div>"
      ],
      "text/plain": [
       "       target_label  ASIN_STATIC_ITEM_PACKAGE_WEIGHT  ASIN_STATIC_LIST_PRICE\n",
       "count  61233.000000                     61141.000000            4.574100e+04\n",
       "mean       0.036647                        31.520023            1.475785e+02\n",
       "std        0.187895                       462.639041            1.664631e+04\n",
       "min        0.000000                         0.000000            1.160000e+00\n",
       "25%        0.000000                         1.520000            1.667000e+01\n",
       "50%        0.000000                         2.513244            3.291000e+01\n",
       "75%        0.000000                         5.555592            7.000000e+01\n",
       "max        1.000000                     29500.000000            3.560000e+06"
      ]
     },
     "execution_count": 34,
     "metadata": {},
     "output_type": "execute_result"
    }
   ],
   "source": [
    "# This will print basic statistics for numerical columns\n",
    "df.describe()"
   ]
  },
  {
   "cell_type": "markdown",
   "metadata": {},
   "source": [
    "Let's check our target distribution."
   ]
  },
  {
   "cell_type": "code",
   "execution_count": 35,
   "metadata": {},
   "outputs": [
    {
     "data": {
      "image/png": "[encoded data removed]",
      "text/plain": [
       "<Figure size 432x288 with 1 Axes>"
      ]
     },
     "metadata": {},
     "output_type": "display_data"
    }
   ],
   "source": [
    "%matplotlib inline\n",
    "import matplotlib.pyplot as plt\n",
    "\n",
    "\n",
    "df['target_label'].value_counts().plot.bar()\n",
    "plt.show()"
   ]
  },
  {
   "cell_type": "markdown",
   "metadata": {},
   "source": [
    "We can see from the target plot above that we are dealing with an imbalanced dataset. This means one result type is dominating the other one(s). In this case, we have a lot of \"no plug\" records but not many \"plug\" records."
   ]
  },
  {
   "cell_type": "code",
   "execution_count": 36,
   "metadata": {},
   "outputs": [
    {
     "data": {
      "text/plain": [
       "(-3558.84, 356001.044]        45740\n",
       "(356001.044, 712000.928]          0\n",
       "(712000.928, 1068000.812]         0\n",
       "(1068000.812, 1424000.696]        0\n",
       "(1424000.696, 1780000.58]         0\n",
       "(1780000.58, 2136000.464]         0\n",
       "(2136000.464, 2492000.348]        0\n",
       "(2492000.348, 2848000.232]        0\n",
       "(2848000.232, 3204000.116]        0\n",
       "(3204000.116, 3560000.0]          1\n",
       "Name: ASIN_STATIC_LIST_PRICE, dtype: int64"
      ]
     },
     "execution_count": 36,
     "metadata": {},
     "output_type": "execute_result"
    }
   ],
   "source": [
    "df['ASIN_STATIC_LIST_PRICE'].value_counts(bins=10, sort=False)"
   ]
  },
  {
   "cell_type": "markdown",
   "metadata": {},
   "source": [
    "We have an outlier data in the last bin. We will remove this data point below."
   ]
  },
  {
   "cell_type": "code",
   "execution_count": 37,
   "metadata": {},
   "outputs": [],
   "source": [
    "dropIndexes = df[df['ASIN_STATIC_LIST_PRICE'] > 3000000].index\n",
    "df.drop(dropIndexes , inplace=True)"
   ]
  },
  {
   "cell_type": "code",
   "execution_count": 38,
   "metadata": {},
   "outputs": [
    {
     "data": {
      "text/plain": [
       "(-13.838999999999999, 1500.944]    45704\n",
       "(1500.944, 3000.728]                  15\n",
       "(3000.728, 4500.512]                   9\n",
       "(4500.512, 6000.296]                   3\n",
       "(6000.296, 7500.08]                    2\n",
       "(7500.08, 8999.864]                    4\n",
       "(8999.864, 10499.648]                  0\n",
       "(10499.648, 11999.432]                 1\n",
       "(11999.432, 13499.216]                 0\n",
       "(13499.216, 14999.0]                   2\n",
       "Name: ASIN_STATIC_LIST_PRICE, dtype: int64"
      ]
     },
     "execution_count": 38,
     "metadata": {},
     "output_type": "execute_result"
    }
   ],
   "source": [
    "df['ASIN_STATIC_LIST_PRICE'].value_counts(bins=10, sort=False)"
   ]
  },
  {
   "cell_type": "markdown",
   "metadata": {},
   "source": [
    "Let's look at missing values for each column in our dataset."
   ]
  },
  {
   "cell_type": "code",
   "execution_count": 39,
   "metadata": {},
   "outputs": [
    {
     "data": {
      "text/plain": [
       "ASIN                                     0\n",
       "target_label                             0\n",
       "ASIN_STATIC_ITEM_NAME                    0\n",
       "ASIN_STATIC_PRODUCT_DESCRIPTION      25972\n",
       "ASIN_STATIC_GL_PRODUCT_GROUP_TYPE        0\n",
       "ASIN_STATIC_ITEM_PACKAGE_WEIGHT         92\n",
       "ASIN_STATIC_LIST_PRICE               15492\n",
       "ASIN_STATIC_BATTERIES_INCLUDED       11175\n",
       "ASIN_STATIC_BATTERIES_REQUIRED       16004\n",
       "ASIN_STATIC_ITEM_CLASSIFICATION         12\n",
       "dtype: int64"
      ]
     },
     "execution_count": 39,
     "metadata": {},
     "output_type": "execute_result"
    }
   ],
   "source": [
    "df.isna().sum()"
   ]
  },
  {
   "cell_type": "code",
   "execution_count": 40,
   "metadata": {},
   "outputs": [],
   "source": [
    "# Numerical fields are imputed with mean values\n",
    "df[\"ASIN_STATIC_ITEM_PACKAGE_WEIGHT\"].fillna(df[\"ASIN_STATIC_ITEM_PACKAGE_WEIGHT\"].mean(), inplace=True)\n",
    "df[\"ASIN_STATIC_LIST_PRICE\"].fillna(df[\"ASIN_STATIC_LIST_PRICE\"].mean(), inplace=True)\n",
    "\n",
    "# Categorical values are imputed with a placeholder value\n",
    "df[\"ASIN_STATIC_PRODUCT_DESCRIPTION\"].fillna(\"Missing\", inplace=True)\n",
    "df[\"ASIN_STATIC_BATTERIES_INCLUDED\"].fillna(\"Missing\", inplace=True)\n",
    "df[\"ASIN_STATIC_BATTERIES_REQUIRED\"].fillna(\"Missing\", inplace=True)\n",
    "df[\"ASIN_STATIC_ITEM_CLASSIFICATION\"].fillna(\"Missing\", inplace=True)"
   ]
  },
  {
   "cell_type": "markdown",
   "metadata": {},
   "source": [
    "Let's check missing values one more time"
   ]
  },
  {
   "cell_type": "code",
   "execution_count": 41,
   "metadata": {},
   "outputs": [
    {
     "data": {
      "text/plain": [
       "ASIN                                 0\n",
       "target_label                         0\n",
       "ASIN_STATIC_ITEM_NAME                0\n",
       "ASIN_STATIC_PRODUCT_DESCRIPTION      0\n",
       "ASIN_STATIC_GL_PRODUCT_GROUP_TYPE    0\n",
       "ASIN_STATIC_ITEM_PACKAGE_WEIGHT      0\n",
       "ASIN_STATIC_LIST_PRICE               0\n",
       "ASIN_STATIC_BATTERIES_INCLUDED       0\n",
       "ASIN_STATIC_BATTERIES_REQUIRED       0\n",
       "ASIN_STATIC_ITEM_CLASSIFICATION      0\n",
       "dtype: int64"
      ]
     },
     "execution_count": 41,
     "metadata": {},
     "output_type": "execute_result"
    }
   ],
   "source": [
    "df.isna().sum()"
   ]
  },
  {
   "cell_type": "markdown",
   "metadata": {},
   "source": [
    "## 3. Processing Categorical Variables\n",
    "\n",
    "Our categorical variables are __ASIN_STATIC_BATTERIES_INCLUDED__, __ASIN_STATIC_BATTERIES_REQUIRED__ and __ASIN_STATIC_ITEM_CLASSIFICATION__. It is a good idea to check the unique values for these columns."
   ]
  },
  {
   "cell_type": "code",
   "execution_count": 42,
   "metadata": {},
   "outputs": [
    {
     "data": {
      "text/plain": [
       "False      48123\n",
       "Missing    11175\n",
       "True        1934\n",
       "Name: ASIN_STATIC_BATTERIES_INCLUDED, dtype: int64"
      ]
     },
     "execution_count": 42,
     "metadata": {},
     "output_type": "execute_result"
    }
   ],
   "source": [
    "df['ASIN_STATIC_BATTERIES_INCLUDED'].value_counts()"
   ]
  },
  {
   "cell_type": "code",
   "execution_count": 43,
   "metadata": {},
   "outputs": [
    {
     "data": {
      "text/plain": [
       "False      42415\n",
       "Missing    16004\n",
       "True        2813\n",
       "Name: ASIN_STATIC_BATTERIES_REQUIRED, dtype: int64"
      ]
     },
     "execution_count": 43,
     "metadata": {},
     "output_type": "execute_result"
    }
   ],
   "source": [
    "df['ASIN_STATIC_BATTERIES_REQUIRED'].value_counts()"
   ]
  },
  {
   "cell_type": "code",
   "execution_count": 44,
   "metadata": {},
   "outputs": [
    {
     "data": {
      "text/plain": [
       "base_product        61199\n",
       "variation_parent       21\n",
       "Missing                12\n",
       "Name: ASIN_STATIC_ITEM_CLASSIFICATION, dtype: int64"
      ]
     },
     "execution_count": 44,
     "metadata": {},
     "output_type": "execute_result"
    }
   ],
   "source": [
    "df['ASIN_STATIC_ITEM_CLASSIFICATION'].value_counts()"
   ]
  },
  {
   "cell_type": "code",
   "execution_count": 45,
   "metadata": {},
   "outputs": [
    {
     "data": {
      "text/plain": [
       "gl_home                        16221\n",
       "gl_home_improvement             6985\n",
       "gl_sports                       5868\n",
       "gl_toy                          5493\n",
       "gl_automotive                   4435\n",
       "gl_pet_products                 4231\n",
       "gl_office_product               3229\n",
       "gl_lawn_and_garden              2779\n",
       "gl_musical_instruments          2008\n",
       "gl_pc                           1837\n",
       "gl_camera                       1789\n",
       "gl_electronics                  1440\n",
       "gl_baby_product                 1375\n",
       "gl_drugstore                     857\n",
       "gl_wireless                      655\n",
       "gl_personal_care_appliances      643\n",
       "gl_kitchen                       626\n",
       "gl_biss                          259\n",
       "gl_major_appliances              237\n",
       "gl_home_entertainment            116\n",
       "gl_apparel                        58\n",
       "gl_luggage                        34\n",
       "gl_shoes                          22\n",
       "gl_beauty                         20\n",
       "gl_video_games                     7\n",
       "gl_book                            3\n",
       "gl_watch                           3\n",
       "gl_fresh_ambient                   1\n",
       "gl_music                           1\n",
       "Name: ASIN_STATIC_GL_PRODUCT_GROUP_TYPE, dtype: int64"
      ]
     },
     "execution_count": 45,
     "metadata": {},
     "output_type": "execute_result"
    }
   ],
   "source": [
    "df['ASIN_STATIC_GL_PRODUCT_GROUP_TYPE'].value_counts()"
   ]
  },
  {
   "cell_type": "markdown",
   "metadata": {},
   "source": [
    "We will not use the gl product type field in this example."
   ]
  },
  {
   "cell_type": "code",
   "execution_count": 46,
   "metadata": {},
   "outputs": [],
   "source": [
    "df.drop(columns=['ASIN_STATIC_GL_PRODUCT_GROUP_TYPE'], inplace=True)"
   ]
  },
  {
   "cell_type": "markdown",
   "metadata": {},
   "source": [
    "Let's apply __one-hot-encoding__ to these three columns."
   ]
  },
  {
   "cell_type": "code",
   "execution_count": 47,
   "metadata": {},
   "outputs": [],
   "source": [
    "df = pd.get_dummies(df, columns=['ASIN_STATIC_BATTERIES_INCLUDED', \n",
    "                                 'ASIN_STATIC_BATTERIES_REQUIRED', 'ASIN_STATIC_ITEM_CLASSIFICATION'])"
   ]
  },
  {
   "cell_type": "code",
   "execution_count": 48,
   "metadata": {},
   "outputs": [
    {
     "data": {
      "text/html": [
       "<div>\n",
       "<style scoped>\n",
       "    .dataframe tbody tr th:only-of-type {\n",
       "        vertical-align: middle;\n",
       "    }\n",
       "\n",
       "    .dataframe tbody tr th {\n",
       "        vertical-align: top;\n",
       "    }\n",
       "\n",
       "    .dataframe thead th {\n",
       "        text-align: right;\n",
       "    }\n",
       "</style>\n",
       "<table border=\"1\" class=\"dataframe\">\n",
       "  <thead>\n",
       "    <tr style=\"text-align: right;\">\n",
       "      <th></th>\n",
       "      <th>ASIN</th>\n",
       "      <th>target_label</th>\n",
       "      <th>ASIN_STATIC_ITEM_NAME</th>\n",
       "      <th>ASIN_STATIC_PRODUCT_DESCRIPTION</th>\n",
       "      <th>ASIN_STATIC_ITEM_PACKAGE_WEIGHT</th>\n",
       "      <th>ASIN_STATIC_LIST_PRICE</th>\n",
       "      <th>ASIN_STATIC_BATTERIES_INCLUDED_False</th>\n",
       "      <th>ASIN_STATIC_BATTERIES_INCLUDED_True</th>\n",
       "      <th>ASIN_STATIC_BATTERIES_INCLUDED_Missing</th>\n",
       "      <th>ASIN_STATIC_BATTERIES_REQUIRED_False</th>\n",
       "      <th>ASIN_STATIC_BATTERIES_REQUIRED_True</th>\n",
       "      <th>ASIN_STATIC_BATTERIES_REQUIRED_Missing</th>\n",
       "      <th>ASIN_STATIC_ITEM_CLASSIFICATION_Missing</th>\n",
       "      <th>ASIN_STATIC_ITEM_CLASSIFICATION_base_product</th>\n",
       "      <th>ASIN_STATIC_ITEM_CLASSIFICATION_variation_parent</th>\n",
       "    </tr>\n",
       "  </thead>\n",
       "  <tbody>\n",
       "    <tr>\n",
       "      <th>0</th>\n",
       "      <td>B004U9MOWO</td>\n",
       "      <td>0</td>\n",
       "      <td>Master Lock 8 X 900 mm Chain Integrated 4 Digi...</td>\n",
       "      <td>Master Lock Street Flexium 900mm Integrated Co...</td>\n",
       "      <td>2.650000</td>\n",
       "      <td>16.660000</td>\n",
       "      <td>1</td>\n",
       "      <td>0</td>\n",
       "      <td>0</td>\n",
       "      <td>1</td>\n",
       "      <td>0</td>\n",
       "      <td>0</td>\n",
       "      <td>0</td>\n",
       "      <td>1</td>\n",
       "      <td>0</td>\n",
       "    </tr>\n",
       "    <tr>\n",
       "      <th>1</th>\n",
       "      <td>B006OJWZMW</td>\n",
       "      <td>0</td>\n",
       "      <td>In Phase SRX-EQ 10 Band Parametric Equalizer w...</td>\n",
       "      <td>Missing</td>\n",
       "      <td>1.680000</td>\n",
       "      <td>158.330000</td>\n",
       "      <td>1</td>\n",
       "      <td>0</td>\n",
       "      <td>0</td>\n",
       "      <td>1</td>\n",
       "      <td>0</td>\n",
       "      <td>0</td>\n",
       "      <td>0</td>\n",
       "      <td>1</td>\n",
       "      <td>0</td>\n",
       "    </tr>\n",
       "    <tr>\n",
       "      <th>2</th>\n",
       "      <td>B00008VIJ4</td>\n",
       "      <td>0</td>\n",
       "      <td>Technics RPDJ1210 DJ Headphones - Silver</td>\n",
       "      <td>Plated Connector:Gold, Connector Type:Headphon...</td>\n",
       "      <td>1.455036</td>\n",
       "      <td>69.750458</td>\n",
       "      <td>1</td>\n",
       "      <td>0</td>\n",
       "      <td>0</td>\n",
       "      <td>1</td>\n",
       "      <td>0</td>\n",
       "      <td>0</td>\n",
       "      <td>0</td>\n",
       "      <td>1</td>\n",
       "      <td>0</td>\n",
       "    </tr>\n",
       "    <tr>\n",
       "      <th>3</th>\n",
       "      <td>B005433T4M</td>\n",
       "      <td>0</td>\n",
       "      <td>Heartwarmers Coming Home Padded Lap Tray, 42 x...</td>\n",
       "      <td>Missing</td>\n",
       "      <td>1.763680</td>\n",
       "      <td>12.490000</td>\n",
       "      <td>1</td>\n",
       "      <td>0</td>\n",
       "      <td>0</td>\n",
       "      <td>0</td>\n",
       "      <td>0</td>\n",
       "      <td>1</td>\n",
       "      <td>0</td>\n",
       "      <td>1</td>\n",
       "      <td>0</td>\n",
       "    </tr>\n",
       "    <tr>\n",
       "      <th>4</th>\n",
       "      <td>B0073CN63Q</td>\n",
       "      <td>0</td>\n",
       "      <td>Douceur D'Intérieur  - 1600728, Curtain With E...</td>\n",
       "      <td>Missing</td>\n",
       "      <td>2.292784</td>\n",
       "      <td>25.420000</td>\n",
       "      <td>1</td>\n",
       "      <td>0</td>\n",
       "      <td>0</td>\n",
       "      <td>1</td>\n",
       "      <td>0</td>\n",
       "      <td>0</td>\n",
       "      <td>0</td>\n",
       "      <td>1</td>\n",
       "      <td>0</td>\n",
       "    </tr>\n",
       "  </tbody>\n",
       "</table>\n",
       "</div>"
      ],
      "text/plain": [
       "         ASIN  target_label  \\\n",
       "0  B004U9MOWO             0   \n",
       "1  B006OJWZMW             0   \n",
       "2  B00008VIJ4             0   \n",
       "3  B005433T4M             0   \n",
       "4  B0073CN63Q             0   \n",
       "\n",
       "                               ASIN_STATIC_ITEM_NAME  \\\n",
       "0  Master Lock 8 X 900 mm Chain Integrated 4 Digi...   \n",
       "1  In Phase SRX-EQ 10 Band Parametric Equalizer w...   \n",
       "2           Technics RPDJ1210 DJ Headphones - Silver   \n",
       "3  Heartwarmers Coming Home Padded Lap Tray, 42 x...   \n",
       "4  Douceur D'Intérieur  - 1600728, Curtain With E...   \n",
       "\n",
       "                     ASIN_STATIC_PRODUCT_DESCRIPTION  \\\n",
       "0  Master Lock Street Flexium 900mm Integrated Co...   \n",
       "1                                            Missing   \n",
       "2  Plated Connector:Gold, Connector Type:Headphon...   \n",
       "3                                            Missing   \n",
       "4                                            Missing   \n",
       "\n",
       "   ASIN_STATIC_ITEM_PACKAGE_WEIGHT  ASIN_STATIC_LIST_PRICE  \\\n",
       "0                         2.650000               16.660000   \n",
       "1                         1.680000              158.330000   \n",
       "2                         1.455036               69.750458   \n",
       "3                         1.763680               12.490000   \n",
       "4                         2.292784               25.420000   \n",
       "\n",
       "   ASIN_STATIC_BATTERIES_INCLUDED_False  ASIN_STATIC_BATTERIES_INCLUDED_True  \\\n",
       "0                                     1                                    0   \n",
       "1                                     1                                    0   \n",
       "2                                     1                                    0   \n",
       "3                                     1                                    0   \n",
       "4                                     1                                    0   \n",
       "\n",
       "   ASIN_STATIC_BATTERIES_INCLUDED_Missing  \\\n",
       "0                                       0   \n",
       "1                                       0   \n",
       "2                                       0   \n",
       "3                                       0   \n",
       "4                                       0   \n",
       "\n",
       "   ASIN_STATIC_BATTERIES_REQUIRED_False  ASIN_STATIC_BATTERIES_REQUIRED_True  \\\n",
       "0                                     1                                    0   \n",
       "1                                     1                                    0   \n",
       "2                                     1                                    0   \n",
       "3                                     0                                    0   \n",
       "4                                     1                                    0   \n",
       "\n",
       "   ASIN_STATIC_BATTERIES_REQUIRED_Missing  \\\n",
       "0                                       0   \n",
       "1                                       0   \n",
       "2                                       0   \n",
       "3                                       1   \n",
       "4                                       0   \n",
       "\n",
       "   ASIN_STATIC_ITEM_CLASSIFICATION_Missing  \\\n",
       "0                                        0   \n",
       "1                                        0   \n",
       "2                                        0   \n",
       "3                                        0   \n",
       "4                                        0   \n",
       "\n",
       "   ASIN_STATIC_ITEM_CLASSIFICATION_base_product  \\\n",
       "0                                             1   \n",
       "1                                             1   \n",
       "2                                             1   \n",
       "3                                             1   \n",
       "4                                             1   \n",
       "\n",
       "   ASIN_STATIC_ITEM_CLASSIFICATION_variation_parent  \n",
       "0                                                 0  \n",
       "1                                                 0  \n",
       "2                                                 0  \n",
       "3                                                 0  \n",
       "4                                                 0  "
      ]
     },
     "execution_count": 48,
     "metadata": {},
     "output_type": "execute_result"
    }
   ],
   "source": [
    "df.head()"
   ]
  },
  {
   "cell_type": "markdown",
   "metadata": {},
   "source": [
    "## 4. Training, validation, test subsets and Feature Engineering\n",
    "We will split our dataset into training (80%), test (10%) and validation (10%) subset. Sklearn's \"train_test_split()\" function is a useful function to use here. More details are available here: https://scikit-learn.org/stable/modules/generated/sklearn.model_selection.train_test_split.html"
   ]
  },
  {
   "cell_type": "code",
   "execution_count": 49,
   "metadata": {},
   "outputs": [],
   "source": [
    "from sklearn.model_selection import train_test_split\n",
    "\n",
    "train_data, test_data = train_test_split(df, test_size=0.2, shuffle=True, random_state=23)\n",
    "validation_data, test_data = train_test_split(test_data, test_size=0.5, shuffle=True, random_state=23)"
   ]
  },
  {
   "cell_type": "code",
   "execution_count": 50,
   "metadata": {},
   "outputs": [
    {
     "name": "stdout",
     "output_type": "stream",
     "text": [
      "47189\n",
      "1796\n"
     ]
    }
   ],
   "source": [
    "print(sum(train_data['target_label'] == 0))\n",
    "print(sum(train_data['target_label'] == 1))"
   ]
  },
  {
   "cell_type": "markdown",
   "metadata": {},
   "source": [
    "__Dataset balancing:__ In this dataset, we have imbalance in terms of number of samples from each class: 47189 samples for class 0 and 1796 samples for class 1. <br/>\n",
    "This might cause trouble in learning, especially the rare class. <br/>\n",
    "In order to fix it, we will upsample the rare the class. In the end, we will have equal number of samples for each class. <br/>\n",
    "__Important note:__ We want to fix the imbalance only in training set. We shouldn't change the validation and test sets, they should follow the original distribution."
   ]
  },
  {
   "cell_type": "code",
   "execution_count": 51,
   "metadata": {},
   "outputs": [],
   "source": [
    "from sklearn.utils import shuffle\n",
    "\n",
    "plug_products = train_data[train_data['target_label'] == 1]\n",
    "no_plug_products = train_data[train_data['target_label'] == 0]\n",
    "\n",
    "upsampled_plug_products = plug_products.sample(n=len(no_plug_products), replace=True, random_state=42)\n",
    "\n",
    "train_data = pd.concat([no_plug_products, upsampled_plug_products])\n",
    "train_data = shuffle(train_data)"
   ]
  },
  {
   "cell_type": "code",
   "execution_count": 52,
   "metadata": {},
   "outputs": [
    {
     "name": "stdout",
     "output_type": "stream",
     "text": [
      "47189\n",
      "47189\n"
     ]
    }
   ],
   "source": [
    "print(sum(train_data['target_label'] == 0))\n",
    "print(sum(train_data['target_label'] == 1))"
   ]
  },
  {
   "cell_type": "markdown",
   "metadata": {},
   "source": [
    "__Text Processing:__ \n",
    "\n",
    "In this part, we will get Bag of Word feautures for our text fields: __ASIN_STATIC_ITEM_NAME__ and __ASIN_STATIC_PRODUCT_DESCRIPTION__. <br/>\n",
    "We will use the same functions from yesterday's class."
   ]
  },
  {
   "cell_type": "code",
   "execution_count": 53,
   "metadata": {},
   "outputs": [],
   "source": [
    "import re, string\n",
    "\n",
    "def preProcessText(text):\n",
    "    # lowercase and strip leading/trailing white space\n",
    "    text = text.lower().strip()\n",
    "    \n",
    "    # remove HTML tags\n",
    "    text = re.compile('<.*?>').sub('', text)\n",
    "    \n",
    "    # remove punctuation\n",
    "    text = re.compile('[%s]' % re.escape(string.punctuation)).sub(' ', text)\n",
    "    \n",
    "    # remove extra white space\n",
    "    text = re.sub('\\s+', ' ', text)\n",
    "    \n",
    "    return text\n",
    "\n",
    "def lexiconProcess(text, stop_words, stemmer):\n",
    "    filtered_sentence = []\n",
    "    words = text.split(\" \")\n",
    "    for w in words:\n",
    "        if w not in stop_words:\n",
    "            filtered_sentence.append(stemmer.stem(w))\n",
    "    text = \" \".join(filtered_sentence)\n",
    "    \n",
    "    return text\n",
    "\n",
    "def cleanSentence(text, stop_words, stemmer):\n",
    "    return lexiconProcess(preProcessText(text), stop_words, stemmer)"
   ]
  },
  {
   "cell_type": "code",
   "execution_count": 54,
   "metadata": {},
   "outputs": [
    {
     "name": "stdout",
     "output_type": "stream",
     "text": [
      "Train name shapes: (94378, 50) Train desc shapes: (94378, 150)\n",
      "Val name shapes: (6123, 50) Val desc shapes: (6123, 150)\n",
      "Test name shapes: (6124, 50) Test desc shapes: (6124, 150)\n",
      "CPU times: user 1min 1s, sys: 151 ms, total: 1min 1s\n",
      "Wall time: 1min 4s\n"
     ]
    }
   ],
   "source": [
    "%%time\n",
    "import nltk\n",
    "from nltk.stem import SnowballStemmer\n",
    "from sklearn.feature_extraction.text import CountVectorizer\n",
    "\n",
    "stop_words = [\"a\", \"an\", \"the\", \"this\", \"that\", \"is\", \"it\", \"to\", \"and\"]\n",
    "\n",
    "stemmer = SnowballStemmer('english')\n",
    "\n",
    "train_names = [cleanSentence(item, stop_words, stemmer) for item in train_data[\"ASIN_STATIC_ITEM_NAME\"].values]\n",
    "train_descriptions = [cleanSentence(item, stop_words, stemmer) for item in train_data[\"ASIN_STATIC_PRODUCT_DESCRIPTION\"].values]\n",
    "\n",
    "validation_names = [cleanSentence(item, stop_words, stemmer) for item in validation_data[\"ASIN_STATIC_ITEM_NAME\"].values]\n",
    "validation_descriptions = [cleanSentence(item, stop_words, stemmer) for item in validation_data[\"ASIN_STATIC_PRODUCT_DESCRIPTION\"].values]\n",
    "\n",
    "test_names = [cleanSentence(item, stop_words, stemmer) for item in test_data[\"ASIN_STATIC_ITEM_NAME\"].values]\n",
    "test_descriptions = [cleanSentence(item, stop_words, stemmer) for item in test_data[\"ASIN_STATIC_PRODUCT_DESCRIPTION\"].values]\n",
    "\n",
    "# We can also use the max_features parameter here to limit the size of the vocabulary\n",
    "name_vectorizer = CountVectorizer(binary=True, max_features=50)\n",
    "desc_vectorizer = CountVectorizer(binary=True, max_features=150)\n",
    "\n",
    "train_name_features = name_vectorizer.fit_transform(train_names)\n",
    "train_desc_features = desc_vectorizer.fit_transform(train_descriptions)\n",
    "print(\"Train name shapes:\", train_name_features.shape, \"Train desc shapes:\", train_desc_features.shape)\n",
    "\n",
    "val_name_features = name_vectorizer.transform(validation_names)\n",
    "val_desc_features = desc_vectorizer.transform(validation_descriptions)\n",
    "print(\"Val name shapes:\", val_name_features.shape, \"Val desc shapes:\", val_desc_features.shape)\n",
    "\n",
    "test_name_features = name_vectorizer.transform(test_names)\n",
    "test_desc_features = desc_vectorizer.transform(test_descriptions)\n",
    "print(\"Test name shapes:\", test_name_features.shape, \"Test desc shapes:\", test_desc_features.shape)\n"
   ]
  },
  {
   "cell_type": "markdown",
   "metadata": {},
   "source": [
    "## 5. Fitting the classifier\n",
    "We will use Gluon library to build a simple neural network and fit to our training data. This time, we will also use our validation data and check performance at the end of each iteration."
   ]
  },
  {
   "cell_type": "code",
   "execution_count": 55,
   "metadata": {},
   "outputs": [
    {
     "name": "stdout",
     "output_type": "stream",
     "text": [
      "['ASIN', 'target_label', 'ASIN_STATIC_ITEM_NAME', 'ASIN_STATIC_PRODUCT_DESCRIPTION', 'ASIN_STATIC_ITEM_PACKAGE_WEIGHT', 'ASIN_STATIC_LIST_PRICE', 'ASIN_STATIC_BATTERIES_INCLUDED_False', 'ASIN_STATIC_BATTERIES_INCLUDED_True', 'ASIN_STATIC_BATTERIES_INCLUDED_Missing', 'ASIN_STATIC_BATTERIES_REQUIRED_False', 'ASIN_STATIC_BATTERIES_REQUIRED_True', 'ASIN_STATIC_BATTERIES_REQUIRED_Missing', 'ASIN_STATIC_ITEM_CLASSIFICATION_Missing', 'ASIN_STATIC_ITEM_CLASSIFICATION_base_product', 'ASIN_STATIC_ITEM_CLASSIFICATION_variation_parent']\n"
     ]
    }
   ],
   "source": [
    "columns = df.columns.tolist()\n",
    "print(columns)"
   ]
  },
  {
   "cell_type": "code",
   "execution_count": 56,
   "metadata": {},
   "outputs": [
    {
     "name": "stdout",
     "output_type": "stream",
     "text": [
      "Epoch 0, training loss: 0.67, validation loss: 0.61,     training accuracy: 0.58, validation accuracy: 0.77\n",
      "Classification report \n",
      "               precision    recall  f1-score   support\n",
      "\n",
      "           0       0.98      0.78      0.87      5920\n",
      "           1       0.06      0.43      0.11       203\n",
      "\n",
      "   micro avg       0.77      0.77      0.77      6123\n",
      "   macro avg       0.52      0.60      0.49      6123\n",
      "weighted avg       0.95      0.77      0.84      6123\n",
      "\n",
      "Epoch 1, training loss: 0.63, validation loss: 0.58,     training accuracy: 0.65, validation accuracy: 0.78\n",
      "Classification report \n",
      "               precision    recall  f1-score   support\n",
      "\n",
      "           0       0.98      0.79      0.88      5920\n",
      "           1       0.07      0.46      0.12       203\n",
      "\n",
      "   micro avg       0.78      0.78      0.78      6123\n",
      "   macro avg       0.52      0.63      0.50      6123\n",
      "weighted avg       0.95      0.78      0.85      6123\n",
      "\n",
      "Epoch 2, training loss: 0.60, validation loss: 0.56,     training accuracy: 0.67, validation accuracy: 0.77\n",
      "Classification report \n",
      "               precision    recall  f1-score   support\n",
      "\n",
      "           0       0.98      0.78      0.87      5920\n",
      "           1       0.07      0.48      0.12       203\n",
      "\n",
      "   micro avg       0.77      0.77      0.77      6123\n",
      "   macro avg       0.52      0.63      0.49      6123\n",
      "weighted avg       0.95      0.77      0.84      6123\n",
      "\n",
      "Epoch 3, training loss: 0.58, validation loss: 0.53,     training accuracy: 0.69, validation accuracy: 0.78\n",
      "Classification report \n",
      "               precision    recall  f1-score   support\n",
      "\n",
      "           0       0.98      0.79      0.87      5920\n",
      "           1       0.07      0.46      0.12       203\n",
      "\n",
      "   micro avg       0.78      0.78      0.78      6123\n",
      "   macro avg       0.52      0.63      0.50      6123\n",
      "weighted avg       0.95      0.78      0.85      6123\n",
      "\n",
      "Epoch 4, training loss: 0.56, validation loss: 0.49,     training accuracy: 0.71, validation accuracy: 0.81\n",
      "Classification report \n",
      "               precision    recall  f1-score   support\n",
      "\n",
      "           0       0.98      0.83      0.90      5920\n",
      "           1       0.08      0.43      0.13       203\n",
      "\n",
      "   micro avg       0.81      0.81      0.81      6123\n",
      "   macro avg       0.53      0.63      0.51      6123\n",
      "weighted avg       0.95      0.81      0.87      6123\n",
      "\n"
     ]
    }
   ],
   "source": [
    "import mxnet as mx\n",
    "from mxnet import gluon, autograd\n",
    "from mxnet.gluon.loss import SigmoidBinaryCrossEntropyLoss\n",
    "import mxnet.ndarray as nd\n",
    "import numpy as np\n",
    "from sklearn.metrics import confusion_matrix, accuracy_score, classification_report\n",
    "\n",
    "# We will add our bag of words features to all other features here\n",
    "X_train = np.concatenate((train_data[columns[6:]].values,\n",
    "                          train_name_features.toarray(),\n",
    "                          train_desc_features.toarray(),\n",
    "                         ), axis=1)\n",
    "\n",
    "y_train = train_data['target_label'].values\n",
    "\n",
    "# We will add our bag of words features to all other features here\n",
    "X_val = np.concatenate((validation_data[columns[6:]].values,\n",
    "                          val_name_features.toarray(),\n",
    "                          val_desc_features.toarray(),\n",
    "                         ), axis=1)\n",
    "\n",
    "y_val = validation_data['target_label'].values\n",
    "\n",
    "# Set this to CPU or GPU depending on your training instance\n",
    "# ctx = mx.gpu()\n",
    "ctx = mx.cpu()\n",
    "\n",
    "# Hyper-paramaters of the system\n",
    "batch_size = 16\n",
    "epochs = 5\n",
    "learning_rate = 0.01\n",
    "\n",
    "# Let's set our data loaders\n",
    "train_dataset = mx.gluon.data.dataset.ArrayDataset(nd.array(X_train), nd.array(y_train))\n",
    "val_dataset = mx.gluon.data.dataset.ArrayDataset(nd.array(X_val), nd.array(y_val))\n",
    "\n",
    "train_data_loader = mx.gluon.data.DataLoader(train_dataset, batch_size=16)\n",
    "val_data_loader = mx.gluon.data.DataLoader(val_dataset, batch_size=16)\n",
    "\n",
    "# Let's create a simple Multi Layer Perceptron\n",
    "net = gluon.nn.Sequential()\n",
    "with net.name_scope():\n",
    "    net.add(gluon.nn.Dense(units=64, activation='relu'))\n",
    "    net.add(gluon.nn.Dropout(.4))\n",
    "    net.add(gluon.nn.Dense(units=64, activation='relu'))\n",
    "    net.add(gluon.nn.Dropout(.4))\n",
    "    net.add(gluon.nn.Dense(units=1, activation='sigmoid'))\n",
    "    \n",
    "net.collect_params().initialize(mx.init.Xavier())\n",
    "\n",
    "# Define loss and trainer.\n",
    "binary_cross_etropy_loss = SigmoidBinaryCrossEntropyLoss(from_sigmoid=True)\n",
    "trainer = gluon.Trainer(net.collect_params(), 'sgd', {'learning_rate': learning_rate})\n",
    "\n",
    "\n",
    "# Starting the outer loop, we will have 5 epochs (5 full pass through our dataset)\n",
    "for epoch in range(epochs):\n",
    "    # Training loop: (with autograd and trainer steps, etc.)\n",
    "    # This loop does the training of the neural network (weights are updated)\n",
    "    cumulative_train_loss = 0\n",
    "    train_predictions = []\n",
    "    for i, (data, label) in enumerate(train_data_loader):\n",
    "        with autograd.record():\n",
    "            output = net(data)\n",
    "            train_predictions += np.squeeze(output.asnumpy()).tolist()\n",
    "        \n",
    "            # Let's calculate our loss and add it to our cumulative loss\n",
    "            loss = binary_cross_etropy_loss(output, label)\n",
    "            cumulative_train_loss = cumulative_train_loss + nd.sum(loss)\n",
    "        loss.backward()\n",
    "        trainer.step(data.shape[0])\n",
    "\n",
    "    # Calculating the Log-loss for training data\n",
    "    train_loss = cumulative_train_loss/len(X_train)\n",
    "\n",
    "    # Validation loop:\n",
    "    # This loop tests the trained network on validation dataset\n",
    "    # No weight updates here\n",
    "    \n",
    "    cumulative_valid_loss = 0\n",
    "    val_predictions = []\n",
    "    for i, (data, label) in enumerate(val_data_loader):\n",
    "        output = net(data)\n",
    "        val_predictions += np.squeeze(output.asnumpy()).tolist()\n",
    "        val_loss = binary_cross_etropy_loss(output, label)\n",
    "        cumulative_valid_loss = cumulative_valid_loss + nd.sum(val_loss)\n",
    "    \n",
    "    # Calculating the Log-loss for validation data\n",
    "    valid_loss = cumulative_valid_loss/len(X_val)\n",
    "    \n",
    "    # Round predictions: 0.5 and up becomes 1, 0 otherwise\n",
    "    train_predictions = [round(train_pred) for train_pred in train_predictions]\n",
    "    val_predictions = [round(val_pred) for val_pred in val_predictions]\n",
    "\n",
    "    # Calculate training and validation accuracies\n",
    "    # accuracy = (TP+TN) / (TP+FP+TN+FN)\n",
    "    train_accuracy = accuracy_score(y_train, train_predictions)\n",
    "    validation_accuracy = accuracy_score(y_val, val_predictions)\n",
    "    validation_report = classification_report(y_val, val_predictions)\n",
    "    \n",
    "    print(\"Epoch {}, training loss: {:.2f}, validation loss: {:.2f}, \\\n",
    "    training accuracy: {:.2f}, validation accuracy: {:.2f}\".format(epoch, \\\n",
    "                                                                   train_loss.asnumpy()[0], \n",
    "                                                                   valid_loss.asnumpy()[0], \n",
    "                                                                   train_accuracy, \n",
    "                                                                   validation_accuracy))\n",
    "    print(\"Classification report \\n\", validation_report)"
   ]
  },
  {
   "cell_type": "markdown",
   "metadata": {},
   "source": [
    "## 6. Testing\n",
    "\n",
    "Let's see how the classifier performs with \"unseen\" data (our test data). We will use the predict() function this time."
   ]
  },
  {
   "cell_type": "code",
   "execution_count": 57,
   "metadata": {},
   "outputs": [
    {
     "name": "stdout",
     "output_type": "stream",
     "text": [
      "CPU times: user 16.2 ms, sys: 8.28 ms, total: 24.4 ms\n",
      "Wall time: 23 ms\n"
     ]
    }
   ],
   "source": [
    "%%time\n",
    "# Let's get the input and output data for testing the classifier\n",
    "X_test = np.concatenate((test_data[columns[6:]].values,\n",
    "                          test_name_features.toarray(),\n",
    "                          test_desc_features.toarray(),\n",
    "                         ), axis=1)\n",
    "\n",
    "y_test = test_data['target_label'].values\n",
    "\n",
    "test_input = nd.array(X_test.astype('float32')).as_in_context(ctx)\n",
    "test_predictions = net(test_input)\n",
    "\n",
    "# Round predictions: 0.5 and up becomes 1, 0 otherwise\n",
    "y_pred = [round(test_pred) for test_pred in np.squeeze(test_predictions.asnumpy()).tolist()]"
   ]
  },
  {
   "cell_type": "markdown",
   "metadata": {},
   "source": [
    "We will use Sklearn's metrics functions to see the results.\n",
    "\n",
    "__Confusion matrix:__ The diagonals show us correct classifications. Each row and column belongs to a class (plug or no plug). The first column and row correspond to \"no plug\" case, the second column-rows are \"plug\" case."
   ]
  },
  {
   "cell_type": "code",
   "execution_count": 58,
   "metadata": {},
   "outputs": [
    {
     "name": "stdout",
     "output_type": "stream",
     "text": [
      "[[4814 1065]\n",
      " [ 133  112]]\n"
     ]
    }
   ],
   "source": [
    "from sklearn.metrics import confusion_matrix\n",
    "\n",
    "print(confusion_matrix(y_test, y_pred))"
   ]
  },
  {
   "cell_type": "markdown",
   "metadata": {},
   "source": [
    "Let's look at the classification report and accuracy below."
   ]
  },
  {
   "cell_type": "code",
   "execution_count": 59,
   "metadata": {},
   "outputs": [
    {
     "name": "stdout",
     "output_type": "stream",
     "text": [
      "              precision    recall  f1-score   support\n",
      "\n",
      "           0       0.97      0.82      0.89      5879\n",
      "           1       0.10      0.46      0.16       245\n",
      "\n",
      "   micro avg       0.80      0.80      0.80      6124\n",
      "   macro avg       0.53      0.64      0.52      6124\n",
      "weighted avg       0.94      0.80      0.86      6124\n",
      "\n",
      "Accuracy: 0.8043762246897452\n"
     ]
    }
   ],
   "source": [
    "from sklearn.metrics import classification_report\n",
    "from sklearn.metrics import accuracy_score\n",
    "\n",
    "print(classification_report(y_test, y_pred))\n",
    "\n",
    "print(\"Accuracy:\", accuracy_score(y_test, y_pred))"
   ]
  }
 ],
 "metadata": {
  "kernelspec": {
   "display_name": "Python 3",
   "language": "python",
   "name": "python3"
  },
  "language_info": {
   "codemirror_mode": {
    "name": "ipython",
    "version": 3
   },
   "file_extension": ".py",
   "mimetype": "text/x-python",
   "name": "python",
   "nbconvert_exporter": "python",
   "pygments_lexer": "ipython3",
   "version": "3.7.4"
  }
 },
 "nbformat": 4,
 "nbformat_minor": 2
}
