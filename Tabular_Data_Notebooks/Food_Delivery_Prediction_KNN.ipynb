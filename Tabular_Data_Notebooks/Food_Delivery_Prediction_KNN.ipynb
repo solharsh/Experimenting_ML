{
 "cells": [
  {
   "cell_type": "markdown",
   "metadata": {},
   "source": [
    "# Food Delivery Prediction "
   ]
  },
  {
   "cell_type": "code",
   "execution_count": null,
   "metadata": {},
   "outputs": [],
   "source": [
    "I love to order my food online for home and work.(not that I have any option as well)\n",
    "So, I want to predict whether my order will be on time or late beforehand.\n",
    "I logged my previous 45 orders like this:\n",
    "[\"bad_weather\", \"is_rush_hour\", \"km_distance\", \"urban_address\", \"late\"]"
   ]
  },
  {
   "cell_type": "markdown",
   "metadata": {},
   "source": [
    "# KNN Example"
   ]
  },
  {
   "cell_type": "markdown",
   "metadata": {},
   "source": [
    "Let's write our data into a Panda's data frame."
   ]
  },
  {
   "cell_type": "code",
   "execution_count": 4,
   "metadata": {},
   "outputs": [],
   "source": [
    "import pandas as pd\n",
    "import numpy as np"
   ]
  },
  {
   "cell_type": "code",
   "execution_count": 7,
   "metadata": {},
   "outputs": [],
   "source": [
    "data = np.array([[0, 1, 5, 1, 0],\n",
    "                [1, 0, 7, 0, 1],\n",
    "                [0, 1, 2, 1, 0],\n",
    "                [1, 1, 4.2, 1, 0],\n",
    "                [0, 0, 7.8, 0, 1],\n",
    "                [1, 0, 3.9, 1, 0],\n",
    "                [0, 1, 4, 1, 0],\n",
    "                [1, 1, 2, 0, 0],\n",
    "                [0, 0, 3.5, 0, 1],\n",
    "                [1, 0, 2.6, 1, 0],\n",
    "                [0, 0, 4.1, 0, 1],\n",
    "                [0, 1, 1.5, 0, 1],\n",
    "                [1, 1, 1.75, 1, 0],\n",
    "                [1, 0, 1.3, 0, 0],\n",
    "                [1, 1, 2.1, 0, 0],\n",
    "                [1, 1, 0.2, 1, 0],\n",
    "                [1, 1, 5.2, 0, 1],\n",
    "                [0, 1, 2, 1, 0],\n",
    "                [1, 0, 5.5, 0, 1],\n",
    "                [0, 0, 2, 1, 0],\n",
    "                [1, 1, 1.7, 0, 0],\n",
    "                [0, 1, 3, 1, 1],\n",
    "                [1, 1, 1.9, 1, 0],\n",
    "                [0, 1, 3.1, 0, 1],\n",
    "                [0, 1, 2.3, 0, 0],\n",
    "                [0, 0, 1.1, 1, 0],\n",
    "                [1, 1, 2.5, 1, 1],\n",
    "                [1, 1, 5, 0, 1],\n",
    "                [1, 0, 7.5, 1, 1],\n",
    "                [0, 0, 0.5, 1, 0],\n",
    "                [0, 0, 1.5, 1, 0],\n",
    "                [1, 0, 3.2, 1, 0],\n",
    "                [0, 0, 2.15, 1, 0],\n",
    "                [1, 1, 4.2, 0, 1],\n",
    "                [1, 0, 6.5, 0, 1],\n",
    "                [1, 0, 0.5, 0, 0],\n",
    "                [0, 0, 3.5, 0, 1],\n",
    "                [0, 0, 1.75, 0, 0],\n",
    "                [1, 1, 5, 0, 1],\n",
    "                [0, 0, 2, 1, 0],\n",
    "                [0, 1, 1.3, 1, 1],\n",
    "                [0, 1, 0.2, 0, 0],\n",
    "                [1, 1, 2.2, 0, 0],\n",
    "                [0, 1, 1.2, 1, 0],\n",
    "                [1, 1, 4.2, 0, 1]])\n",
    "\n",
    "# Creating the data frame with this data and the columns\n",
    "delivery_data = pd.DataFrame(data, columns=[\"bad_weather\", \"is_rush_hour\", \"km_distance\", \"urban_address\", \"late\"])"
   ]
  },
  {
   "cell_type": "code",
   "execution_count": 8,
   "metadata": {},
   "outputs": [
    {
     "data": {
      "text/html": [
       "<div>\n",
       "<style scoped>\n",
       "    .dataframe tbody tr th:only-of-type {\n",
       "        vertical-align: middle;\n",
       "    }\n",
       "\n",
       "    .dataframe tbody tr th {\n",
       "        vertical-align: top;\n",
       "    }\n",
       "\n",
       "    .dataframe thead th {\n",
       "        text-align: right;\n",
       "    }\n",
       "</style>\n",
       "<table border=\"1\" class=\"dataframe\">\n",
       "  <thead>\n",
       "    <tr style=\"text-align: right;\">\n",
       "      <th></th>\n",
       "      <th>bad_weather</th>\n",
       "      <th>is_rush_hour</th>\n",
       "      <th>km_distance</th>\n",
       "      <th>urban_address</th>\n",
       "      <th>late</th>\n",
       "    </tr>\n",
       "  </thead>\n",
       "  <tbody>\n",
       "    <tr>\n",
       "      <th>0</th>\n",
       "      <td>0.0</td>\n",
       "      <td>1.0</td>\n",
       "      <td>5.00</td>\n",
       "      <td>1.0</td>\n",
       "      <td>0.0</td>\n",
       "    </tr>\n",
       "    <tr>\n",
       "      <th>1</th>\n",
       "      <td>1.0</td>\n",
       "      <td>0.0</td>\n",
       "      <td>7.00</td>\n",
       "      <td>0.0</td>\n",
       "      <td>1.0</td>\n",
       "    </tr>\n",
       "    <tr>\n",
       "      <th>2</th>\n",
       "      <td>0.0</td>\n",
       "      <td>1.0</td>\n",
       "      <td>2.00</td>\n",
       "      <td>1.0</td>\n",
       "      <td>0.0</td>\n",
       "    </tr>\n",
       "    <tr>\n",
       "      <th>3</th>\n",
       "      <td>1.0</td>\n",
       "      <td>1.0</td>\n",
       "      <td>4.20</td>\n",
       "      <td>1.0</td>\n",
       "      <td>0.0</td>\n",
       "    </tr>\n",
       "    <tr>\n",
       "      <th>4</th>\n",
       "      <td>0.0</td>\n",
       "      <td>0.0</td>\n",
       "      <td>7.80</td>\n",
       "      <td>0.0</td>\n",
       "      <td>1.0</td>\n",
       "    </tr>\n",
       "    <tr>\n",
       "      <th>5</th>\n",
       "      <td>1.0</td>\n",
       "      <td>0.0</td>\n",
       "      <td>3.90</td>\n",
       "      <td>1.0</td>\n",
       "      <td>0.0</td>\n",
       "    </tr>\n",
       "    <tr>\n",
       "      <th>6</th>\n",
       "      <td>0.0</td>\n",
       "      <td>1.0</td>\n",
       "      <td>4.00</td>\n",
       "      <td>1.0</td>\n",
       "      <td>0.0</td>\n",
       "    </tr>\n",
       "    <tr>\n",
       "      <th>7</th>\n",
       "      <td>1.0</td>\n",
       "      <td>1.0</td>\n",
       "      <td>2.00</td>\n",
       "      <td>0.0</td>\n",
       "      <td>0.0</td>\n",
       "    </tr>\n",
       "    <tr>\n",
       "      <th>8</th>\n",
       "      <td>0.0</td>\n",
       "      <td>0.0</td>\n",
       "      <td>3.50</td>\n",
       "      <td>0.0</td>\n",
       "      <td>1.0</td>\n",
       "    </tr>\n",
       "    <tr>\n",
       "      <th>9</th>\n",
       "      <td>1.0</td>\n",
       "      <td>0.0</td>\n",
       "      <td>2.60</td>\n",
       "      <td>1.0</td>\n",
       "      <td>0.0</td>\n",
       "    </tr>\n",
       "    <tr>\n",
       "      <th>10</th>\n",
       "      <td>0.0</td>\n",
       "      <td>0.0</td>\n",
       "      <td>4.10</td>\n",
       "      <td>0.0</td>\n",
       "      <td>1.0</td>\n",
       "    </tr>\n",
       "    <tr>\n",
       "      <th>11</th>\n",
       "      <td>0.0</td>\n",
       "      <td>1.0</td>\n",
       "      <td>1.50</td>\n",
       "      <td>0.0</td>\n",
       "      <td>1.0</td>\n",
       "    </tr>\n",
       "    <tr>\n",
       "      <th>12</th>\n",
       "      <td>1.0</td>\n",
       "      <td>1.0</td>\n",
       "      <td>1.75</td>\n",
       "      <td>1.0</td>\n",
       "      <td>0.0</td>\n",
       "    </tr>\n",
       "    <tr>\n",
       "      <th>13</th>\n",
       "      <td>1.0</td>\n",
       "      <td>0.0</td>\n",
       "      <td>1.30</td>\n",
       "      <td>0.0</td>\n",
       "      <td>0.0</td>\n",
       "    </tr>\n",
       "    <tr>\n",
       "      <th>14</th>\n",
       "      <td>1.0</td>\n",
       "      <td>1.0</td>\n",
       "      <td>2.10</td>\n",
       "      <td>0.0</td>\n",
       "      <td>0.0</td>\n",
       "    </tr>\n",
       "    <tr>\n",
       "      <th>15</th>\n",
       "      <td>1.0</td>\n",
       "      <td>1.0</td>\n",
       "      <td>0.20</td>\n",
       "      <td>1.0</td>\n",
       "      <td>0.0</td>\n",
       "    </tr>\n",
       "    <tr>\n",
       "      <th>16</th>\n",
       "      <td>1.0</td>\n",
       "      <td>1.0</td>\n",
       "      <td>5.20</td>\n",
       "      <td>0.0</td>\n",
       "      <td>1.0</td>\n",
       "    </tr>\n",
       "    <tr>\n",
       "      <th>17</th>\n",
       "      <td>0.0</td>\n",
       "      <td>1.0</td>\n",
       "      <td>2.00</td>\n",
       "      <td>1.0</td>\n",
       "      <td>0.0</td>\n",
       "    </tr>\n",
       "    <tr>\n",
       "      <th>18</th>\n",
       "      <td>1.0</td>\n",
       "      <td>0.0</td>\n",
       "      <td>5.50</td>\n",
       "      <td>0.0</td>\n",
       "      <td>1.0</td>\n",
       "    </tr>\n",
       "    <tr>\n",
       "      <th>19</th>\n",
       "      <td>0.0</td>\n",
       "      <td>0.0</td>\n",
       "      <td>2.00</td>\n",
       "      <td>1.0</td>\n",
       "      <td>0.0</td>\n",
       "    </tr>\n",
       "    <tr>\n",
       "      <th>20</th>\n",
       "      <td>1.0</td>\n",
       "      <td>1.0</td>\n",
       "      <td>1.70</td>\n",
       "      <td>0.0</td>\n",
       "      <td>0.0</td>\n",
       "    </tr>\n",
       "    <tr>\n",
       "      <th>21</th>\n",
       "      <td>0.0</td>\n",
       "      <td>1.0</td>\n",
       "      <td>3.00</td>\n",
       "      <td>1.0</td>\n",
       "      <td>1.0</td>\n",
       "    </tr>\n",
       "    <tr>\n",
       "      <th>22</th>\n",
       "      <td>1.0</td>\n",
       "      <td>1.0</td>\n",
       "      <td>1.90</td>\n",
       "      <td>1.0</td>\n",
       "      <td>0.0</td>\n",
       "    </tr>\n",
       "    <tr>\n",
       "      <th>23</th>\n",
       "      <td>0.0</td>\n",
       "      <td>1.0</td>\n",
       "      <td>3.10</td>\n",
       "      <td>0.0</td>\n",
       "      <td>1.0</td>\n",
       "    </tr>\n",
       "    <tr>\n",
       "      <th>24</th>\n",
       "      <td>0.0</td>\n",
       "      <td>1.0</td>\n",
       "      <td>2.30</td>\n",
       "      <td>0.0</td>\n",
       "      <td>0.0</td>\n",
       "    </tr>\n",
       "    <tr>\n",
       "      <th>25</th>\n",
       "      <td>0.0</td>\n",
       "      <td>0.0</td>\n",
       "      <td>1.10</td>\n",
       "      <td>1.0</td>\n",
       "      <td>0.0</td>\n",
       "    </tr>\n",
       "    <tr>\n",
       "      <th>26</th>\n",
       "      <td>1.0</td>\n",
       "      <td>1.0</td>\n",
       "      <td>2.50</td>\n",
       "      <td>1.0</td>\n",
       "      <td>1.0</td>\n",
       "    </tr>\n",
       "    <tr>\n",
       "      <th>27</th>\n",
       "      <td>1.0</td>\n",
       "      <td>1.0</td>\n",
       "      <td>5.00</td>\n",
       "      <td>0.0</td>\n",
       "      <td>1.0</td>\n",
       "    </tr>\n",
       "    <tr>\n",
       "      <th>28</th>\n",
       "      <td>1.0</td>\n",
       "      <td>0.0</td>\n",
       "      <td>7.50</td>\n",
       "      <td>1.0</td>\n",
       "      <td>1.0</td>\n",
       "    </tr>\n",
       "    <tr>\n",
       "      <th>29</th>\n",
       "      <td>0.0</td>\n",
       "      <td>0.0</td>\n",
       "      <td>0.50</td>\n",
       "      <td>1.0</td>\n",
       "      <td>0.0</td>\n",
       "    </tr>\n",
       "    <tr>\n",
       "      <th>30</th>\n",
       "      <td>0.0</td>\n",
       "      <td>0.0</td>\n",
       "      <td>1.50</td>\n",
       "      <td>1.0</td>\n",
       "      <td>0.0</td>\n",
       "    </tr>\n",
       "    <tr>\n",
       "      <th>31</th>\n",
       "      <td>1.0</td>\n",
       "      <td>0.0</td>\n",
       "      <td>3.20</td>\n",
       "      <td>1.0</td>\n",
       "      <td>0.0</td>\n",
       "    </tr>\n",
       "    <tr>\n",
       "      <th>32</th>\n",
       "      <td>0.0</td>\n",
       "      <td>0.0</td>\n",
       "      <td>2.15</td>\n",
       "      <td>1.0</td>\n",
       "      <td>0.0</td>\n",
       "    </tr>\n",
       "    <tr>\n",
       "      <th>33</th>\n",
       "      <td>1.0</td>\n",
       "      <td>1.0</td>\n",
       "      <td>4.20</td>\n",
       "      <td>0.0</td>\n",
       "      <td>1.0</td>\n",
       "    </tr>\n",
       "    <tr>\n",
       "      <th>34</th>\n",
       "      <td>1.0</td>\n",
       "      <td>0.0</td>\n",
       "      <td>6.50</td>\n",
       "      <td>0.0</td>\n",
       "      <td>1.0</td>\n",
       "    </tr>\n",
       "    <tr>\n",
       "      <th>35</th>\n",
       "      <td>1.0</td>\n",
       "      <td>0.0</td>\n",
       "      <td>0.50</td>\n",
       "      <td>0.0</td>\n",
       "      <td>0.0</td>\n",
       "    </tr>\n",
       "    <tr>\n",
       "      <th>36</th>\n",
       "      <td>0.0</td>\n",
       "      <td>0.0</td>\n",
       "      <td>3.50</td>\n",
       "      <td>0.0</td>\n",
       "      <td>1.0</td>\n",
       "    </tr>\n",
       "    <tr>\n",
       "      <th>37</th>\n",
       "      <td>0.0</td>\n",
       "      <td>0.0</td>\n",
       "      <td>1.75</td>\n",
       "      <td>0.0</td>\n",
       "      <td>0.0</td>\n",
       "    </tr>\n",
       "    <tr>\n",
       "      <th>38</th>\n",
       "      <td>1.0</td>\n",
       "      <td>1.0</td>\n",
       "      <td>5.00</td>\n",
       "      <td>0.0</td>\n",
       "      <td>1.0</td>\n",
       "    </tr>\n",
       "    <tr>\n",
       "      <th>39</th>\n",
       "      <td>0.0</td>\n",
       "      <td>0.0</td>\n",
       "      <td>2.00</td>\n",
       "      <td>1.0</td>\n",
       "      <td>0.0</td>\n",
       "    </tr>\n",
       "    <tr>\n",
       "      <th>40</th>\n",
       "      <td>0.0</td>\n",
       "      <td>1.0</td>\n",
       "      <td>1.30</td>\n",
       "      <td>1.0</td>\n",
       "      <td>1.0</td>\n",
       "    </tr>\n",
       "    <tr>\n",
       "      <th>41</th>\n",
       "      <td>0.0</td>\n",
       "      <td>1.0</td>\n",
       "      <td>0.20</td>\n",
       "      <td>0.0</td>\n",
       "      <td>0.0</td>\n",
       "    </tr>\n",
       "    <tr>\n",
       "      <th>42</th>\n",
       "      <td>1.0</td>\n",
       "      <td>1.0</td>\n",
       "      <td>2.20</td>\n",
       "      <td>0.0</td>\n",
       "      <td>0.0</td>\n",
       "    </tr>\n",
       "    <tr>\n",
       "      <th>43</th>\n",
       "      <td>0.0</td>\n",
       "      <td>1.0</td>\n",
       "      <td>1.20</td>\n",
       "      <td>1.0</td>\n",
       "      <td>0.0</td>\n",
       "    </tr>\n",
       "    <tr>\n",
       "      <th>44</th>\n",
       "      <td>1.0</td>\n",
       "      <td>1.0</td>\n",
       "      <td>4.20</td>\n",
       "      <td>0.0</td>\n",
       "      <td>1.0</td>\n",
       "    </tr>\n",
       "  </tbody>\n",
       "</table>\n",
       "</div>"
      ],
      "text/plain": [
       "    bad_weather  is_rush_hour  km_distance  urban_address  late\n",
       "0           0.0           1.0         5.00            1.0   0.0\n",
       "1           1.0           0.0         7.00            0.0   1.0\n",
       "2           0.0           1.0         2.00            1.0   0.0\n",
       "3           1.0           1.0         4.20            1.0   0.0\n",
       "4           0.0           0.0         7.80            0.0   1.0\n",
       "5           1.0           0.0         3.90            1.0   0.0\n",
       "6           0.0           1.0         4.00            1.0   0.0\n",
       "7           1.0           1.0         2.00            0.0   0.0\n",
       "8           0.0           0.0         3.50            0.0   1.0\n",
       "9           1.0           0.0         2.60            1.0   0.0\n",
       "10          0.0           0.0         4.10            0.0   1.0\n",
       "11          0.0           1.0         1.50            0.0   1.0\n",
       "12          1.0           1.0         1.75            1.0   0.0\n",
       "13          1.0           0.0         1.30            0.0   0.0\n",
       "14          1.0           1.0         2.10            0.0   0.0\n",
       "15          1.0           1.0         0.20            1.0   0.0\n",
       "16          1.0           1.0         5.20            0.0   1.0\n",
       "17          0.0           1.0         2.00            1.0   0.0\n",
       "18          1.0           0.0         5.50            0.0   1.0\n",
       "19          0.0           0.0         2.00            1.0   0.0\n",
       "20          1.0           1.0         1.70            0.0   0.0\n",
       "21          0.0           1.0         3.00            1.0   1.0\n",
       "22          1.0           1.0         1.90            1.0   0.0\n",
       "23          0.0           1.0         3.10            0.0   1.0\n",
       "24          0.0           1.0         2.30            0.0   0.0\n",
       "25          0.0           0.0         1.10            1.0   0.0\n",
       "26          1.0           1.0         2.50            1.0   1.0\n",
       "27          1.0           1.0         5.00            0.0   1.0\n",
       "28          1.0           0.0         7.50            1.0   1.0\n",
       "29          0.0           0.0         0.50            1.0   0.0\n",
       "30          0.0           0.0         1.50            1.0   0.0\n",
       "31          1.0           0.0         3.20            1.0   0.0\n",
       "32          0.0           0.0         2.15            1.0   0.0\n",
       "33          1.0           1.0         4.20            0.0   1.0\n",
       "34          1.0           0.0         6.50            0.0   1.0\n",
       "35          1.0           0.0         0.50            0.0   0.0\n",
       "36          0.0           0.0         3.50            0.0   1.0\n",
       "37          0.0           0.0         1.75            0.0   0.0\n",
       "38          1.0           1.0         5.00            0.0   1.0\n",
       "39          0.0           0.0         2.00            1.0   0.0\n",
       "40          0.0           1.0         1.30            1.0   1.0\n",
       "41          0.0           1.0         0.20            0.0   0.0\n",
       "42          1.0           1.0         2.20            0.0   0.0\n",
       "43          0.0           1.0         1.20            1.0   0.0\n",
       "44          1.0           1.0         4.20            0.0   1.0"
      ]
     },
     "execution_count": 8,
     "metadata": {},
     "output_type": "execute_result"
    }
   ],
   "source": [
    "delivery_data"
   ]
  },
  {
   "cell_type": "code",
   "execution_count": 9,
   "metadata": {},
   "outputs": [
    {
     "data": {
      "text/html": [
       "<div>\n",
       "<style scoped>\n",
       "    .dataframe tbody tr th:only-of-type {\n",
       "        vertical-align: middle;\n",
       "    }\n",
       "\n",
       "    .dataframe tbody tr th {\n",
       "        vertical-align: top;\n",
       "    }\n",
       "\n",
       "    .dataframe thead th {\n",
       "        text-align: right;\n",
       "    }\n",
       "</style>\n",
       "<table border=\"1\" class=\"dataframe\">\n",
       "  <thead>\n",
       "    <tr style=\"text-align: right;\">\n",
       "      <th></th>\n",
       "      <th>bad_weather</th>\n",
       "      <th>is_rush_hour</th>\n",
       "      <th>km_distance</th>\n",
       "      <th>urban_address</th>\n",
       "      <th>late</th>\n",
       "    </tr>\n",
       "  </thead>\n",
       "  <tbody>\n",
       "    <tr>\n",
       "      <th>0</th>\n",
       "      <td>0.0</td>\n",
       "      <td>1.0</td>\n",
       "      <td>5.0</td>\n",
       "      <td>1.0</td>\n",
       "      <td>0.0</td>\n",
       "    </tr>\n",
       "    <tr>\n",
       "      <th>1</th>\n",
       "      <td>1.0</td>\n",
       "      <td>0.0</td>\n",
       "      <td>7.0</td>\n",
       "      <td>0.0</td>\n",
       "      <td>1.0</td>\n",
       "    </tr>\n",
       "    <tr>\n",
       "      <th>2</th>\n",
       "      <td>0.0</td>\n",
       "      <td>1.0</td>\n",
       "      <td>2.0</td>\n",
       "      <td>1.0</td>\n",
       "      <td>0.0</td>\n",
       "    </tr>\n",
       "    <tr>\n",
       "      <th>3</th>\n",
       "      <td>1.0</td>\n",
       "      <td>1.0</td>\n",
       "      <td>4.2</td>\n",
       "      <td>1.0</td>\n",
       "      <td>0.0</td>\n",
       "    </tr>\n",
       "    <tr>\n",
       "      <th>4</th>\n",
       "      <td>0.0</td>\n",
       "      <td>0.0</td>\n",
       "      <td>7.8</td>\n",
       "      <td>0.0</td>\n",
       "      <td>1.0</td>\n",
       "    </tr>\n",
       "  </tbody>\n",
       "</table>\n",
       "</div>"
      ],
      "text/plain": [
       "   bad_weather  is_rush_hour  km_distance  urban_address  late\n",
       "0          0.0           1.0          5.0            1.0   0.0\n",
       "1          1.0           0.0          7.0            0.0   1.0\n",
       "2          0.0           1.0          2.0            1.0   0.0\n",
       "3          1.0           1.0          4.2            1.0   0.0\n",
       "4          0.0           0.0          7.8            0.0   1.0"
      ]
     },
     "execution_count": 9,
     "metadata": {},
     "output_type": "execute_result"
    }
   ],
   "source": [
    "# This will print the first 5 rows\n",
    "delivery_data.head()"
   ]
  },
  {
   "cell_type": "markdown",
   "metadata": {},
   "source": [
    "Let's get the input and output of our problem."
   ]
  },
  {
   "cell_type": "code",
   "execution_count": 10,
   "metadata": {},
   "outputs": [],
   "source": [
    "target = delivery_data[\"late\"].tolist()\n",
    "input_data = delivery_data[[\"bad_weather\", \"is_rush_hour\", \"km_distance\", \"urban_address\"]].values"
   ]
  },
  {
   "cell_type": "markdown",
   "metadata": {},
   "source": [
    "__The KNN Model:__ Let's fit the model to our data.\n",
    "\n",
    "We will use the Sklearn library's KNN function here."
   ]
  },
  {
   "cell_type": "code",
   "execution_count": 14,
   "metadata": {},
   "outputs": [
    {
     "data": {
      "text/plain": [
       "KNeighborsClassifier(algorithm='auto', leaf_size=30, metric='minkowski',\n",
       "                     metric_params=None, n_jobs=None, n_neighbors=2, p=2,\n",
       "                     weights='uniform')"
      ]
     },
     "execution_count": 14,
     "metadata": {},
     "output_type": "execute_result"
    }
   ],
   "source": [
    "from sklearn.neighbors import KNeighborsClassifier\n",
    "\n",
    "# Below, we are using n_neighbors = 2. \n",
    "# This means the KNN will consider two other \"closest\" records to make a decision.\n",
    "knn_classifier = KNeighborsClassifier(n_neighbors = 2)\n",
    "\n",
    "# We will fit the model to our data\n",
    "knn_classifier.fit(input_data, target)"
   ]
  },
  {
   "cell_type": "markdown",
   "metadata": {},
   "source": [
    "Let's make some prediction with our model. Assume we have the following data:"
   ]
  },
  {
   "cell_type": "code",
   "execution_count": 16,
   "metadata": {},
   "outputs": [
    {
     "name": "stdout",
     "output_type": "stream",
     "text": [
      "[0.]\n"
     ]
    }
   ],
   "source": [
    "import numpy as np\n",
    "\n",
    "data = np.array([[0, 0, 2.1, 1]]) # bad_weather->0, is_rush_hour->0, km_distance->2.1 and urban_address->1\n",
    "\n",
    "print(knn_classifier.predict(data))"
   ]
  },
  {
   "cell_type": "markdown",
   "metadata": {},
   "source": [
    "We predicted this delivery to be on time."
   ]
  },
  {
   "cell_type": "markdown",
   "metadata": {},
   "source": [
    "We can predict multiple records below."
   ]
  },
  {
   "cell_type": "code",
   "execution_count": 19,
   "metadata": {},
   "outputs": [
    {
     "name": "stdout",
     "output_type": "stream",
     "text": [
      "[0. 0. 1.]\n"
     ]
    }
   ],
   "source": [
    "import numpy as np\n",
    "\n",
    "data = np.array([[0, 0, 2.1, 1], # bad_weather->0, is_rush_hour->0, km_distance->2.1 and urban_address->1\n",
    "                 [0, 1, 5, 0],   # bad_weather->0, is_rush_hour->1, km_distance->5.0 and urban_address->0\n",
    "                 [1, 1, 3.1, 1]  # bad_weather->1, is_rush_hour->1, km_distance->3.1 and urban_address->1\n",
    "                ])\n",
    "\n",
    "print(knn_classifier.predict(data))"
   ]
  },
  {
   "cell_type": "markdown",
   "metadata": {},
   "source": [
    "The last delivery is predicted to be late. The first two will be on time (Hopefully :D)"
   ]
  },
  {
   "cell_type": "markdown",
   "metadata": {},
   "source": [
    "# Overfitting\n",
    "In the above lines of code, we quickly saw how to use a simple ML model to make predictions about the outcome (Late or on time delivery) of a problem. In this example, we will focus on building Training, Validation and Test subsets and discuss their importance.\n",
    "\n",
    "### Approach 1: KNN trained on the whole dataset\n",
    "As a first model, we will fit a KNN model to our whole data. "
   ]
  },
  {
   "cell_type": "code",
   "execution_count": 20,
   "metadata": {},
   "outputs": [
    {
     "data": {
      "text/plain": [
       "(45, 5)"
      ]
     },
     "execution_count": 20,
     "metadata": {},
     "output_type": "execute_result"
    }
   ],
   "source": [
    "delivery_data.shape"
   ]
  },
  {
   "cell_type": "code",
   "execution_count": 22,
   "metadata": {},
   "outputs": [],
   "source": [
    "target = delivery_data[\"late\"].tolist()\n",
    "input_data = delivery_data[[\"bad_weather\", \"is_rush_hour\", \"km_distance\", \"urban_address\"]].values"
   ]
  },
  {
   "cell_type": "code",
   "execution_count": 23,
   "metadata": {},
   "outputs": [
    {
     "data": {
      "text/plain": [
       "KNeighborsClassifier(algorithm='auto', leaf_size=30, metric='minkowski',\n",
       "                     metric_params=None, n_jobs=None, n_neighbors=1, p=2,\n",
       "                     weights='uniform')"
      ]
     },
     "execution_count": 23,
     "metadata": {},
     "output_type": "execute_result"
    }
   ],
   "source": [
    "from sklearn.neighbors import KNeighborsClassifier\n",
    "\n",
    "# Below, we are using n_neighbors = 1\n",
    "# This means the KNN will consider one other \"closest\" record to make a decision.\n",
    "knn_classifier = KNeighborsClassifier(n_neighbors = 1)\n",
    "\n",
    "# We will fit the model to our data\n",
    "knn_classifier.fit(input_data, target)"
   ]
  },
  {
   "cell_type": "markdown",
   "metadata": {},
   "source": [
    "Let's make some prediction with our model. Assume we have the following data:"
   ]
  },
  {
   "cell_type": "code",
   "execution_count": 24,
   "metadata": {},
   "outputs": [
    {
     "name": "stdout",
     "output_type": "stream",
     "text": [
      "[0.]\n"
     ]
    }
   ],
   "source": [
    "import numpy as np\n",
    "\n",
    "data = np.array([[0, 0, 2.1, 1]]) # bad_weather->0, is_rush_hour->0, mile_distance->2.1 and urban_address->1\n",
    "\n",
    "print(knn_classifier.predict(data))"
   ]
  },
  {
   "cell_type": "markdown",
   "metadata": {},
   "source": [
    "__How do we know whether this was a good or bad prediction?__ <br/>\n",
    "If we don't have the correct label for this input, we won't know. Similarly, we won't have any idea about how good this model is. \n",
    "\n",
    "One thing we can do is to test this model with the data we used to train it. We will introduce the __accuracy__ metric here that measures how correctly it predicts the late or not late outcome."
   ]
  },
  {
   "cell_type": "code",
   "execution_count": 25,
   "metadata": {},
   "outputs": [
    {
     "data": {
      "text/plain": [
       "1.0"
      ]
     },
     "execution_count": 25,
     "metadata": {},
     "output_type": "execute_result"
    }
   ],
   "source": [
    "from sklearn.metrics import accuracy_score\n",
    "\n",
    "preds = knn_classifier.predict(input_data)\n",
    "\n",
    "accuracy_score(target, preds)"
   ]
  },
  {
   "cell_type": "markdown",
   "metadata": {},
   "source": [
    "We predicted the outcome with 100% accuracy."
   ]
  },
  {
   "cell_type": "markdown",
   "metadata": {},
   "source": [
    "### Approach 2: Using a test dataset\n",
    "My model worked with 100% accuracy on the whole dataset. This might seem promising, but this doesn't tell us anything about our future orders. In order to see whether this model works with some new \"unseen\" orders, we need to reserve some data for test purposes. \n",
    "\n",
    "__Let's split our data into two sets: Training (85%) and Test (15%)__\n",
    "\n",
    "This will give us 38 training records and 7 test records (total 45 records)"
   ]
  },
  {
   "cell_type": "code",
   "execution_count": 27,
   "metadata": {},
   "outputs": [
    {
     "data": {
      "text/html": [
       "<div>\n",
       "<style scoped>\n",
       "    .dataframe tbody tr th:only-of-type {\n",
       "        vertical-align: middle;\n",
       "    }\n",
       "\n",
       "    .dataframe tbody tr th {\n",
       "        vertical-align: top;\n",
       "    }\n",
       "\n",
       "    .dataframe thead th {\n",
       "        text-align: right;\n",
       "    }\n",
       "</style>\n",
       "<table border=\"1\" class=\"dataframe\">\n",
       "  <thead>\n",
       "    <tr style=\"text-align: right;\">\n",
       "      <th></th>\n",
       "      <th>bad_weather</th>\n",
       "      <th>is_rush_hour</th>\n",
       "      <th>km_distance</th>\n",
       "      <th>urban_address</th>\n",
       "      <th>late</th>\n",
       "    </tr>\n",
       "  </thead>\n",
       "  <tbody>\n",
       "    <tr>\n",
       "      <th>0</th>\n",
       "      <td>0.0</td>\n",
       "      <td>1.0</td>\n",
       "      <td>5.0</td>\n",
       "      <td>1.0</td>\n",
       "      <td>0.0</td>\n",
       "    </tr>\n",
       "    <tr>\n",
       "      <th>1</th>\n",
       "      <td>1.0</td>\n",
       "      <td>0.0</td>\n",
       "      <td>7.0</td>\n",
       "      <td>0.0</td>\n",
       "      <td>1.0</td>\n",
       "    </tr>\n",
       "    <tr>\n",
       "      <th>2</th>\n",
       "      <td>0.0</td>\n",
       "      <td>1.0</td>\n",
       "      <td>2.0</td>\n",
       "      <td>1.0</td>\n",
       "      <td>0.0</td>\n",
       "    </tr>\n",
       "    <tr>\n",
       "      <th>3</th>\n",
       "      <td>1.0</td>\n",
       "      <td>1.0</td>\n",
       "      <td>4.2</td>\n",
       "      <td>1.0</td>\n",
       "      <td>0.0</td>\n",
       "    </tr>\n",
       "    <tr>\n",
       "      <th>4</th>\n",
       "      <td>0.0</td>\n",
       "      <td>0.0</td>\n",
       "      <td>7.8</td>\n",
       "      <td>0.0</td>\n",
       "      <td>1.0</td>\n",
       "    </tr>\n",
       "  </tbody>\n",
       "</table>\n",
       "</div>"
      ],
      "text/plain": [
       "   bad_weather  is_rush_hour  km_distance  urban_address  late\n",
       "0          0.0           1.0          5.0            1.0   0.0\n",
       "1          1.0           0.0          7.0            0.0   1.0\n",
       "2          0.0           1.0          2.0            1.0   0.0\n",
       "3          1.0           1.0          4.2            1.0   0.0\n",
       "4          0.0           0.0          7.8            0.0   1.0"
      ]
     },
     "execution_count": 27,
     "metadata": {},
     "output_type": "execute_result"
    }
   ],
   "source": [
    "# Let's split our data into two sets: Training (85%) and Test (15%)\n",
    "# This will give us 38 training records and 7 test records (total 45 records)\n",
    "\n",
    "training_data = delivery_data.iloc[:38, :] # First 38\n",
    "test_data = delivery_data.iloc[38:, :] # Remaining\n",
    "\n",
    "# This will print the first 5 rows\n",
    "training_data.head()"
   ]
  },
  {
   "cell_type": "markdown",
   "metadata": {},
   "source": [
    "Fitting the KNN on training portion this time."
   ]
  },
  {
   "cell_type": "code",
   "execution_count": 29,
   "metadata": {},
   "outputs": [
    {
     "data": {
      "text/plain": [
       "KNeighborsClassifier(algorithm='auto', leaf_size=30, metric='minkowski',\n",
       "                     metric_params=None, n_jobs=None, n_neighbors=1, p=2,\n",
       "                     weights='uniform')"
      ]
     },
     "execution_count": 29,
     "metadata": {},
     "output_type": "execute_result"
    }
   ],
   "source": [
    "from sklearn.neighbors import KNeighborsClassifier\n",
    "\n",
    "target = training_data[\"late\"].tolist()\n",
    "input_data = training_data[[\"bad_weather\", \"is_rush_hour\", \"km_distance\", \"urban_address\"]].values\n",
    "\n",
    "# Below, we are using n_neighbors = 1\n",
    "# This means the KNN will consider two other \"closest\" records to make a decision.\n",
    "knn_classifier = KNeighborsClassifier(n_neighbors = 1)\n",
    "\n",
    "# We will fit the model to our data\n",
    "knn_classifier.fit(input_data, target)"
   ]
  },
  {
   "cell_type": "markdown",
   "metadata": {},
   "source": [
    "Let's see the accuracy on training data"
   ]
  },
  {
   "cell_type": "code",
   "execution_count": 31,
   "metadata": {},
   "outputs": [
    {
     "data": {
      "text/plain": [
       "1.0"
      ]
     },
     "execution_count": 31,
     "metadata": {},
     "output_type": "execute_result"
    }
   ],
   "source": [
    "from sklearn.metrics import accuracy_score\n",
    "\n",
    "preds = knn_classifier.predict(input_data)\n",
    "\n",
    "accuracy_score(target, preds)"
   ]
  },
  {
   "cell_type": "markdown",
   "metadata": {},
   "source": [
    "Let's see the accuracy on test data"
   ]
  },
  {
   "cell_type": "code",
   "execution_count": 33,
   "metadata": {},
   "outputs": [
    {
     "data": {
      "text/plain": [
       "0.7142857142857143"
      ]
     },
     "execution_count": 33,
     "metadata": {},
     "output_type": "execute_result"
    }
   ],
   "source": [
    "from sklearn.metrics import accuracy_score\n",
    "\n",
    "test_target = test_data[\"late\"].tolist()\n",
    "test_input_data = test_data[[\"bad_weather\", \"is_rush_hour\", \"km_distance\", \"urban_address\"]].values\n",
    "\n",
    "test_preds = knn_classifier.predict(test_input_data)\n",
    "\n",
    "accuracy_score(test_target, test_preds)"
   ]
  },
  {
   "cell_type": "markdown",
   "metadata": {},
   "source": [
    "### This doesn't look good! \n",
    "We only achieved 71% accuracy with our data that the model hasn't seen before. <br/>\n",
    "Can we trust this model? Probably not.\n",
    "\n",
    "### Let's explain what happened here. \n",
    "We experienced a common problem called __\"Overfitting\"__. This means our model \"over-learned\" or memorized our training data, and failed with the new data it hasn't seen before.\n",
    "\n",
    "__the K parameter we chose as 1 here looks at the closest 1 record and assign the class of that record. This doesn't generalize well to our overall dataset and \"overfits\" the dataset.\n",
    "\n",
    "### Where is the validation subset?\n",
    "\n",
    "In this example, we didn't search for different K values. If we want to optimize the performance of our algorithm, we need to look for the best performing K value.<br/>\n",
    "__This is done with the validation subset.__ <br/> \n",
    "We pick the K value that results in the best validation performance metric of our choice. Then we also look at test set performance as a double check."
   ]
  },
  {
   "cell_type": "code",
   "execution_count": null,
   "metadata": {},
   "outputs": [],
   "source": []
  }
 ],
 "metadata": {
  "kernelspec": {
   "display_name": "Python 3",
   "language": "python",
   "name": "python3"
  },
  "language_info": {
   "codemirror_mode": {
    "name": "ipython",
    "version": 3
   },
   "file_extension": ".py",
   "mimetype": "text/x-python",
   "name": "python",
   "nbconvert_exporter": "python",
   "pygments_lexer": "ipython3",
   "version": "3.7.4"
  }
 },
 "nbformat": 4,
 "nbformat_minor": 4
}
