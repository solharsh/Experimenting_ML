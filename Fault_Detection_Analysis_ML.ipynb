{
  "nbformat": 4,
  "nbformat_minor": 0,
  "metadata": {
    "colab": {
      "name": "Fault_Detection_Analysis_ML.ipynb",
      "provenance": [],
      "mount_file_id": "1a9od54JOaVj7fuE6CswxAeQMPGyZRRJG",
      "authorship_tag": "ABX9TyMCu9s+k5m3kc0nocAFz3MO",
      "include_colab_link": true
    },
    "kernelspec": {
      "name": "python3",
      "display_name": "Python 3"
    }
  },
  "cells": [
    {
      "cell_type": "markdown",
      "metadata": {
        "id": "view-in-github",
        "colab_type": "text"
      },
      "source": [
        "<a href=\"https://colab.research.google.com/github/solharsh/Experimenting_ML/blob/master/Fault_Detection_Analysis_ML.ipynb\" target=\"_parent\"><img src=\"https://colab.research.google.com/assets/colab-badge.svg\" alt=\"Open In Colab\"/></a>"
      ]
    },
    {
      "cell_type": "code",
      "metadata": {
        "id": "vQ3Q8Sz71ad6",
        "colab_type": "code",
        "colab": {}
      },
      "source": [
        "import pandas as pd"
      ],
      "execution_count": 257,
      "outputs": []
    },
    {
      "cell_type": "code",
      "metadata": {
        "id": "uJfhdvl02BIr",
        "colab_type": "code",
        "colab": {}
      },
      "source": [
        "from pandas import read_excel\n",
        "my_sheet = 'Data' \n",
        "file_name = '/content/drive/My Drive/Computer_vision/GreatFarms Inc Fault Analytics Case.xlsx'\n",
        "df = read_excel(file_name, sheet_name = my_sheet)"
      ],
      "execution_count": 258,
      "outputs": []
    },
    {
      "cell_type": "code",
      "metadata": {
        "id": "TnBbfoYe2t_X",
        "colab_type": "code",
        "colab": {
          "base_uri": "https://localhost:8080/",
          "height": 416
        },
        "outputId": "f68a7e44-8ac3-4e93-99b8-c431aed32b93"
      },
      "source": [
        "df.head()"
      ],
      "execution_count": 259,
      "outputs": [
        {
          "output_type": "execute_result",
          "data": {
            "text/html": [
              "<div>\n",
              "<style scoped>\n",
              "    .dataframe tbody tr th:only-of-type {\n",
              "        vertical-align: middle;\n",
              "    }\n",
              "\n",
              "    .dataframe tbody tr th {\n",
              "        vertical-align: top;\n",
              "    }\n",
              "\n",
              "    .dataframe thead th {\n",
              "        text-align: right;\n",
              "    }\n",
              "</style>\n",
              "<table border=\"1\" class=\"dataframe\">\n",
              "  <thead>\n",
              "    <tr style=\"text-align: right;\">\n",
              "      <th></th>\n",
              "      <th>Fault No</th>\n",
              "      <th>Status</th>\n",
              "      <th>MSN</th>\n",
              "      <th>CreationDate</th>\n",
              "      <th>ProductType</th>\n",
              "      <th>Disposition</th>\n",
              "      <th>Factory Code</th>\n",
              "      <th>Category</th>\n",
              "      <th>Side</th>\n",
              "      <th>FrameFrom</th>\n",
              "      <th>FrameTo</th>\n",
              "      <th>CrossFrom</th>\n",
              "      <th>CrossTo</th>\n",
              "      <th>FaultCodeGroup</th>\n",
              "      <th>FaultCode</th>\n",
              "      <th>FaultCodeDescription</th>\n",
              "      <th>CauseCodeGroup</th>\n",
              "      <th>CauseCode</th>\n",
              "      <th>CauseCodeDescription</th>\n",
              "    </tr>\n",
              "  </thead>\n",
              "  <tbody>\n",
              "    <tr>\n",
              "      <th>0</th>\n",
              "      <td>JK-00100051</td>\n",
              "      <td>ACC</td>\n",
              "      <td>458</td>\n",
              "      <td>2019-12-03</td>\n",
              "      <td>K560-200</td>\n",
              "      <td>Acceptable after further work performed</td>\n",
              "      <td>JK</td>\n",
              "      <td>STRUCTURE</td>\n",
              "      <td>NaN</td>\n",
              "      <td>20.0</td>\n",
              "      <td>41</td>\n",
              "      <td>NaN</td>\n",
              "      <td>NaN</td>\n",
              "      <td>NC-DC-F</td>\n",
              "      <td>FCA</td>\n",
              "      <td>Shape geometry deviating</td>\n",
              "      <td>NC-CC-E</td>\n",
              "      <td>E5</td>\n",
              "      <td>No Fault Found (NFF)</td>\n",
              "    </tr>\n",
              "    <tr>\n",
              "      <th>1</th>\n",
              "      <td>JK-00100081</td>\n",
              "      <td>ACC</td>\n",
              "      <td>467</td>\n",
              "      <td>2019-12-03</td>\n",
              "      <td>K590-500</td>\n",
              "      <td>Acceptable as is</td>\n",
              "      <td>JK</td>\n",
              "      <td>STRUCTURE</td>\n",
              "      <td>RIGHT SIDE</td>\n",
              "      <td>30.0</td>\n",
              "      <td>30</td>\n",
              "      <td>32.0</td>\n",
              "      <td>34.0</td>\n",
              "      <td>NC-DC-B</td>\n",
              "      <td>BBA</td>\n",
              "      <td>Measure out of tolerance</td>\n",
              "      <td>NC-CC-E</td>\n",
              "      <td>E5</td>\n",
              "      <td>No Fault Found (NFF)</td>\n",
              "    </tr>\n",
              "    <tr>\n",
              "      <th>2</th>\n",
              "      <td>RA-00100118</td>\n",
              "      <td>ACC</td>\n",
              "      <td>434</td>\n",
              "      <td>2019-12-04</td>\n",
              "      <td>K590-500</td>\n",
              "      <td>Acceptable after further work performed</td>\n",
              "      <td>RA</td>\n",
              "      <td>STRUCTURE</td>\n",
              "      <td>RIGHT SIDE</td>\n",
              "      <td>NaN</td>\n",
              "      <td>NaN</td>\n",
              "      <td>NaN</td>\n",
              "      <td>NaN</td>\n",
              "      <td>NC-DC-F</td>\n",
              "      <td>FCB</td>\n",
              "      <td>Stringer displacement</td>\n",
              "      <td>NC-CC-G</td>\n",
              "      <td>G1</td>\n",
              "      <td>Working error</td>\n",
              "    </tr>\n",
              "    <tr>\n",
              "      <th>3</th>\n",
              "      <td>DN-00100369</td>\n",
              "      <td>ACC</td>\n",
              "      <td>0</td>\n",
              "      <td>2019-12-03</td>\n",
              "      <td>K590-500</td>\n",
              "      <td>Acceptable after further work performed</td>\n",
              "      <td>DN</td>\n",
              "      <td>NaN</td>\n",
              "      <td>NaN</td>\n",
              "      <td>NaN</td>\n",
              "      <td>NaN</td>\n",
              "      <td>NaN</td>\n",
              "      <td>NaN</td>\n",
              "      <td>NC-DC-F</td>\n",
              "      <td>FCG</td>\n",
              "      <td>Not sufficient flatness</td>\n",
              "      <td>NC-CC-C</td>\n",
              "      <td>C4</td>\n",
              "      <td>Process/Method not applicable</td>\n",
              "    </tr>\n",
              "    <tr>\n",
              "      <th>4</th>\n",
              "      <td>JK-00100837</td>\n",
              "      <td>ACC</td>\n",
              "      <td>447</td>\n",
              "      <td>2019-12-03</td>\n",
              "      <td>K560-200</td>\n",
              "      <td>Acceptable as is</td>\n",
              "      <td>JK</td>\n",
              "      <td>STRUCTURE</td>\n",
              "      <td>RIGHT SIDE</td>\n",
              "      <td>24.0</td>\n",
              "      <td>25</td>\n",
              "      <td>NaN</td>\n",
              "      <td>NaN</td>\n",
              "      <td>NC-DC-A</td>\n",
              "      <td>AO</td>\n",
              "      <td>Riveting</td>\n",
              "      <td>NC-CC-G</td>\n",
              "      <td>G1</td>\n",
              "      <td>Working error</td>\n",
              "    </tr>\n",
              "  </tbody>\n",
              "</table>\n",
              "</div>"
            ],
            "text/plain": [
              "      Fault No Status  ...  CauseCode           CauseCodeDescription\n",
              "0  JK-00100051    ACC  ...         E5           No Fault Found (NFF)\n",
              "1  JK-00100081    ACC  ...         E5           No Fault Found (NFF)\n",
              "2  RA-00100118    ACC  ...         G1                  Working error\n",
              "3  DN-00100369    ACC  ...         C4  Process/Method not applicable\n",
              "4  JK-00100837    ACC  ...         G1                  Working error\n",
              "\n",
              "[5 rows x 19 columns]"
            ]
          },
          "metadata": {
            "tags": []
          },
          "execution_count": 259
        }
      ]
    },
    {
      "cell_type": "markdown",
      "metadata": {
        "id": "fbQ0KDzG3Wf1",
        "colab_type": "text"
      },
      "source": [
        "1. Provide EDA on dataset\n",
        "2. Clean up the dataset, filling in missing values as required\n",
        "3. Define the problem based on the data\n",
        "4. Build a ML model to predict faults\n",
        "5. Visualize using graphs and provide insights"
      ]
    },
    {
      "cell_type": "code",
      "metadata": {
        "id": "vuatwZn729qo",
        "colab_type": "code",
        "colab": {
          "base_uri": "https://localhost:8080/",
          "height": 35
        },
        "outputId": "ea0da9ea-e758-48d8-bfd7-6ff4290e49ec"
      },
      "source": [
        "print('There are {} rows and {} columns in the dataset.'.format(df.shape[0],df.shape[1]))"
      ],
      "execution_count": 260,
      "outputs": [
        {
          "output_type": "stream",
          "text": [
            "There are 5803 rows and 19 columns in the dataset.\n"
          ],
          "name": "stdout"
        }
      ]
    },
    {
      "cell_type": "code",
      "metadata": {
        "id": "oTQfNcYQ3lnN",
        "colab_type": "code",
        "colab": {
          "base_uri": "https://localhost:8080/",
          "height": 124
        },
        "outputId": "ff6be4e0-c1a4-455d-c3cf-c4a26272ce9e"
      },
      "source": [
        "#printing the name of columns\n",
        "df.columns"
      ],
      "execution_count": 261,
      "outputs": [
        {
          "output_type": "execute_result",
          "data": {
            "text/plain": [
              "Index(['Fault No', 'Status', 'MSN', 'CreationDate', 'ProductType',\n",
              "       'Disposition', 'Factory Code', 'Category', 'Side', 'FrameFrom',\n",
              "       'FrameTo', 'CrossFrom', 'CrossTo', 'FaultCodeGroup', 'FaultCode',\n",
              "       'FaultCodeDescription', 'CauseCodeGroup', 'CauseCode',\n",
              "       'CauseCodeDescription'],\n",
              "      dtype='object')"
            ]
          },
          "metadata": {
            "tags": []
          },
          "execution_count": 261
        }
      ]
    },
    {
      "cell_type": "markdown",
      "metadata": {
        "id": "WNsjPOmz3pvp",
        "colab_type": "text"
      },
      "source": [
        "# 1. EDA and MISSING VALUE TREATMENT"
      ]
    },
    {
      "cell_type": "code",
      "metadata": {
        "id": "6HC4JvdK3nha",
        "colab_type": "code",
        "colab": {
          "base_uri": "https://localhost:8080/",
          "height": 282
        },
        "outputId": "178f0824-5418-4e01-a9ae-87849e6eef25"
      },
      "source": [
        "# This will print basic statistics for numerical columns\n",
        "df.describe()"
      ],
      "execution_count": 262,
      "outputs": [
        {
          "output_type": "execute_result",
          "data": {
            "text/html": [
              "<div>\n",
              "<style scoped>\n",
              "    .dataframe tbody tr th:only-of-type {\n",
              "        vertical-align: middle;\n",
              "    }\n",
              "\n",
              "    .dataframe tbody tr th {\n",
              "        vertical-align: top;\n",
              "    }\n",
              "\n",
              "    .dataframe thead th {\n",
              "        text-align: right;\n",
              "    }\n",
              "</style>\n",
              "<table border=\"1\" class=\"dataframe\">\n",
              "  <thead>\n",
              "    <tr style=\"text-align: right;\">\n",
              "      <th></th>\n",
              "      <th>MSN</th>\n",
              "      <th>FrameFrom</th>\n",
              "      <th>CrossFrom</th>\n",
              "      <th>CrossTo</th>\n",
              "    </tr>\n",
              "  </thead>\n",
              "  <tbody>\n",
              "    <tr>\n",
              "      <th>count</th>\n",
              "      <td>5803.000000</td>\n",
              "      <td>3707.000000</td>\n",
              "      <td>3161.000000</td>\n",
              "      <td>2461.000000</td>\n",
              "    </tr>\n",
              "    <tr>\n",
              "      <th>mean</th>\n",
              "      <td>332.415819</td>\n",
              "      <td>48.179390</td>\n",
              "      <td>26.854476</td>\n",
              "      <td>28.599756</td>\n",
              "    </tr>\n",
              "    <tr>\n",
              "      <th>std</th>\n",
              "      <td>157.657739</td>\n",
              "      <td>26.584426</td>\n",
              "      <td>11.529723</td>\n",
              "      <td>11.355396</td>\n",
              "    </tr>\n",
              "    <tr>\n",
              "      <th>min</th>\n",
              "      <td>0.000000</td>\n",
              "      <td>19.000000</td>\n",
              "      <td>1.000000</td>\n",
              "      <td>1.000000</td>\n",
              "    </tr>\n",
              "    <tr>\n",
              "      <th>25%</th>\n",
              "      <td>354.000000</td>\n",
              "      <td>26.000000</td>\n",
              "      <td>16.000000</td>\n",
              "      <td>22.000000</td>\n",
              "    </tr>\n",
              "    <tr>\n",
              "      <th>50%</th>\n",
              "      <td>394.000000</td>\n",
              "      <td>36.000000</td>\n",
              "      <td>28.000000</td>\n",
              "      <td>30.000000</td>\n",
              "    </tr>\n",
              "    <tr>\n",
              "      <th>75%</th>\n",
              "      <td>427.000000</td>\n",
              "      <td>77.500000</td>\n",
              "      <td>36.000000</td>\n",
              "      <td>37.000000</td>\n",
              "    </tr>\n",
              "    <tr>\n",
              "      <th>max</th>\n",
              "      <td>499.000000</td>\n",
              "      <td>93.000000</td>\n",
              "      <td>46.000000</td>\n",
              "      <td>47.000000</td>\n",
              "    </tr>\n",
              "  </tbody>\n",
              "</table>\n",
              "</div>"
            ],
            "text/plain": [
              "               MSN    FrameFrom    CrossFrom      CrossTo\n",
              "count  5803.000000  3707.000000  3161.000000  2461.000000\n",
              "mean    332.415819    48.179390    26.854476    28.599756\n",
              "std     157.657739    26.584426    11.529723    11.355396\n",
              "min       0.000000    19.000000     1.000000     1.000000\n",
              "25%     354.000000    26.000000    16.000000    22.000000\n",
              "50%     394.000000    36.000000    28.000000    30.000000\n",
              "75%     427.000000    77.500000    36.000000    37.000000\n",
              "max     499.000000    93.000000    46.000000    47.000000"
            ]
          },
          "metadata": {
            "tags": []
          },
          "execution_count": 262
        }
      ]
    },
    {
      "cell_type": "code",
      "metadata": {
        "id": "wsWSbDDg3ttw",
        "colab_type": "code",
        "colab": {}
      },
      "source": [
        "#So, we've got a lot of columns that we need to understand. Knowing what the columns mean can help us a lot for better results."
      ],
      "execution_count": 263,
      "outputs": []
    },
    {
      "cell_type": "code",
      "metadata": {
        "id": "-z2R-cXi3xq2",
        "colab_type": "code",
        "colab": {}
      },
      "source": [
        "#Checking the count of missing values and percentage\n",
        "\n",
        "def null_values(df): #creates a function with below logic\n",
        "        mis_val = df.isnull().sum() #gives sum of missing values (null values)\n",
        "        mis_val_percent = 100 * df.isnull().sum() / len(df) #getting percentage of missing values\n",
        "        mis_val_table = pd.concat([mis_val, mis_val_percent], axis=1) #creating a DF containing missing value count and it's percentage\n",
        "        mis_val_table_ren_columns = mis_val_table.rename( \n",
        "        columns = {0 : 'Missing Values', 1 : '% of Total Values'}) #renaming the columns\n",
        "        mis_val_table_ren_columns = mis_val_table_ren_columns[\n",
        "            mis_val_table_ren_columns.iloc[:,1] != 0].sort_values(\n",
        "        '% of Total Values', ascending=False).round(1) #getting the percentage of missing values in descending order and rounding it to 1 decimal\n",
        "        print (\"Dataframe has \" + str(df.shape[1]) + \" columns.\\n\"      \n",
        "            \"There are \" + str(mis_val_table_ren_columns.shape[0]) +\n",
        "              \" columns that have missing values.\") #printing number of columns and missing value count\n",
        "        return mis_val_table_ren_columns"
      ],
      "execution_count": 264,
      "outputs": []
    },
    {
      "cell_type": "code",
      "metadata": {
        "id": "6XFJl0Ph4gu7",
        "colab_type": "code",
        "colab": {
          "base_uri": "https://localhost:8080/",
          "height": 435
        },
        "outputId": "cf9536f5-8e08-429c-fec5-b44ad3eeaf6d"
      },
      "source": [
        "# Missing values statistics\n",
        "miss_values = null_values(df)\n",
        "miss_values.head(20)"
      ],
      "execution_count": 265,
      "outputs": [
        {
          "output_type": "stream",
          "text": [
            "Dataframe has 19 columns.\n",
            "There are 12 columns that have missing values.\n"
          ],
          "name": "stdout"
        },
        {
          "output_type": "execute_result",
          "data": {
            "text/html": [
              "<div>\n",
              "<style scoped>\n",
              "    .dataframe tbody tr th:only-of-type {\n",
              "        vertical-align: middle;\n",
              "    }\n",
              "\n",
              "    .dataframe tbody tr th {\n",
              "        vertical-align: top;\n",
              "    }\n",
              "\n",
              "    .dataframe thead th {\n",
              "        text-align: right;\n",
              "    }\n",
              "</style>\n",
              "<table border=\"1\" class=\"dataframe\">\n",
              "  <thead>\n",
              "    <tr style=\"text-align: right;\">\n",
              "      <th></th>\n",
              "      <th>Missing Values</th>\n",
              "      <th>% of Total Values</th>\n",
              "    </tr>\n",
              "  </thead>\n",
              "  <tbody>\n",
              "    <tr>\n",
              "      <th>FrameTo</th>\n",
              "      <td>3757</td>\n",
              "      <td>64.7</td>\n",
              "    </tr>\n",
              "    <tr>\n",
              "      <th>CrossTo</th>\n",
              "      <td>3342</td>\n",
              "      <td>57.6</td>\n",
              "    </tr>\n",
              "    <tr>\n",
              "      <th>CrossFrom</th>\n",
              "      <td>2642</td>\n",
              "      <td>45.5</td>\n",
              "    </tr>\n",
              "    <tr>\n",
              "      <th>FrameFrom</th>\n",
              "      <td>2096</td>\n",
              "      <td>36.1</td>\n",
              "    </tr>\n",
              "    <tr>\n",
              "      <th>Side</th>\n",
              "      <td>1875</td>\n",
              "      <td>32.3</td>\n",
              "    </tr>\n",
              "    <tr>\n",
              "      <th>Category</th>\n",
              "      <td>1845</td>\n",
              "      <td>31.8</td>\n",
              "    </tr>\n",
              "    <tr>\n",
              "      <th>FaultCodeGroup</th>\n",
              "      <td>1395</td>\n",
              "      <td>24.0</td>\n",
              "    </tr>\n",
              "    <tr>\n",
              "      <th>FaultCode</th>\n",
              "      <td>1395</td>\n",
              "      <td>24.0</td>\n",
              "    </tr>\n",
              "    <tr>\n",
              "      <th>CauseCodeGroup</th>\n",
              "      <td>1395</td>\n",
              "      <td>24.0</td>\n",
              "    </tr>\n",
              "    <tr>\n",
              "      <th>CauseCode</th>\n",
              "      <td>1395</td>\n",
              "      <td>24.0</td>\n",
              "    </tr>\n",
              "    <tr>\n",
              "      <th>CauseCodeDescription</th>\n",
              "      <td>1395</td>\n",
              "      <td>24.0</td>\n",
              "    </tr>\n",
              "    <tr>\n",
              "      <th>ProductType</th>\n",
              "      <td>436</td>\n",
              "      <td>7.5</td>\n",
              "    </tr>\n",
              "  </tbody>\n",
              "</table>\n",
              "</div>"
            ],
            "text/plain": [
              "                      Missing Values  % of Total Values\n",
              "FrameTo                         3757               64.7\n",
              "CrossTo                         3342               57.6\n",
              "CrossFrom                       2642               45.5\n",
              "FrameFrom                       2096               36.1\n",
              "Side                            1875               32.3\n",
              "Category                        1845               31.8\n",
              "FaultCodeGroup                  1395               24.0\n",
              "FaultCode                       1395               24.0\n",
              "CauseCodeGroup                  1395               24.0\n",
              "CauseCode                       1395               24.0\n",
              "CauseCodeDescription            1395               24.0\n",
              "ProductType                      436                7.5"
            ]
          },
          "metadata": {
            "tags": []
          },
          "execution_count": 265
        }
      ]
    },
    {
      "cell_type": "code",
      "metadata": {
        "id": "ri48C5WW48qP",
        "colab_type": "code",
        "colab": {
          "base_uri": "https://localhost:8080/",
          "height": 372
        },
        "outputId": "637049d0-f4b6-4a4c-b942-5a7046078330"
      },
      "source": [
        "#First calculate the percentage of missing data for each feature:\n",
        "missing_features = df.isnull().mean().sort_values(ascending=False)\n",
        "print(missing_features)"
      ],
      "execution_count": 266,
      "outputs": [
        {
          "output_type": "stream",
          "text": [
            "FrameTo                 0.647424\n",
            "CrossTo                 0.575909\n",
            "CrossFrom               0.455282\n",
            "FrameFrom               0.361192\n",
            "Side                    0.323109\n",
            "Category                0.317939\n",
            "CauseCode               0.240393\n",
            "CauseCodeDescription    0.240393\n",
            "FaultCodeGroup          0.240393\n",
            "FaultCode               0.240393\n",
            "CauseCodeGroup          0.240393\n",
            "ProductType             0.075134\n",
            "FaultCodeDescription    0.000000\n",
            "Factory Code            0.000000\n",
            "Disposition             0.000000\n",
            "CreationDate            0.000000\n",
            "MSN                     0.000000\n",
            "Status                  0.000000\n",
            "Fault No                0.000000\n",
            "dtype: float64\n"
          ],
          "name": "stdout"
        }
      ]
    },
    {
      "cell_type": "markdown",
      "metadata": {
        "id": "SSNX9cKsEkkQ",
        "colab_type": "text"
      },
      "source": [
        "Columns with missing values: \n",
        "\n",
        "FrameTo                 \n",
        "CrossTo                 \n",
        "CrossFrom               \n",
        "FrameFrom               \n",
        "Side                    \n",
        "Category                \n",
        "CauseCode               \n",
        "CauseCodeDescription    \n",
        "FaultCodeGroup          \n",
        "FaultCode               \n",
        "CauseCodeGroup          \n",
        "ProductType             "
      ]
    },
    {
      "cell_type": "code",
      "metadata": {
        "id": "tBTmtvkY4izk",
        "colab_type": "code",
        "colab": {
          "base_uri": "https://localhost:8080/",
          "height": 316
        },
        "outputId": "fa901be5-bcd3-46bd-83eb-216cec9bbe71"
      },
      "source": [
        "#Let's visualize the distribution of missing data percentages:\n",
        "import matplotlib.pyplot as plt\n",
        "plt.figure(figsize=(6,3), dpi=90)\n",
        "missing_features.plot.hist(bins=20)\n",
        "plt.title('Histogram of Missing Features')\n",
        "plt.xlabel('Fraction of data missing')\n",
        "plt.ylabel('Feature count')"
      ],
      "execution_count": 267,
      "outputs": [
        {
          "output_type": "execute_result",
          "data": {
            "text/plain": [
              "Text(0, 0.5, 'Feature count')"
            ]
          },
          "metadata": {
            "tags": []
          },
          "execution_count": 267
        },
        {
          "output_type": "display_data",
          "data": {
            "image/png": "[encoded data removed]",
            "text/plain": [
              "<Figure size 540x270 with 1 Axes>"
            ]
          },
          "metadata": {
            "tags": [],
            "needs_background": "light"
          }
        }
      ]
    },
    {
      "cell_type": "code",
      "metadata": {
        "id": "0c638-Vj41w7",
        "colab_type": "code",
        "colab": {
          "base_uri": "https://localhost:8080/",
          "height": 1000
        },
        "outputId": "1201abeb-1164-4c09-c123-fc3f3537c685"
      },
      "source": [
        "for col in df: \n",
        "  print('Name of the feature:',col)\n",
        "  print('Unique values:')\n",
        "  print(df[col].unique())\n",
        "  print('------')"
      ],
      "execution_count": 268,
      "outputs": [
        {
          "output_type": "stream",
          "text": [
            "Name of the feature: Fault No\n",
            "Unique values:\n",
            "['JK-00100051' 'JK-00100081' 'RA-00100118' ... 'RA-00999324' 'RA-00999470'\n",
            " 'RA-00999811']\n",
            "------\n",
            "Name of the feature: Status\n",
            "Unique values:\n",
            "['ACC' 'DIF' 'INP']\n",
            "------\n",
            "Name of the feature: MSN\n",
            "Unique values:\n",
            "[458 467 434   0 447 446 445 459 473 448 368 468 444 457 465 443 455 456\n",
            " 427 356 476 466 433 471 438 436 451 450 426 461 370 430 452 478 416 440\n",
            " 453 428 442 431 474 423 472 429 432 449 463 464 382 470 462 439 435 469\n",
            " 493 477 441 425 414 410 479 484 408 415 375 409 424 389 422 339 403 402\n",
            " 437 418 419 420 386 372 412 394 481 397 486 411 348 421 417 407 475 454\n",
            "  71 482 405 381 395 401 400 340 406 358 485 404  65 380 398 413 399 378\n",
            " 396 388 342 332 383 314 363 392 362 374 369 391 376 346 390 364 371 373\n",
            " 334 393 365 306 366 385 387 326 379 338 352 357 355 359 354 350 325 321\n",
            " 318 316 343 344 345 347 349 351 341 322 337 335 320 327 328 333 329 331\n",
            " 323 324 330 336 308 295 273 249 319 315 262 483 499]\n",
            "------\n",
            "Name of the feature: CreationDate\n",
            "Unique values:\n",
            "['2019-12-03T00:00:00.000000000' '2019-12-04T00:00:00.000000000'\n",
            " '2019-12-02T00:00:00.000000000' '2019-12-01T00:00:00.000000000'\n",
            " '2019-11-29T00:00:00.000000000' '2019-12-05T00:00:00.000000000'\n",
            " '2019-12-06T00:00:00.000000000' '2019-12-09T00:00:00.000000000'\n",
            " '2019-12-13T00:00:00.000000000' '2019-12-19T00:00:00.000000000'\n",
            " '2019-11-12T00:00:00.000000000' '2019-11-11T00:00:00.000000000'\n",
            " '2019-11-08T00:00:00.000000000' '2019-12-20T00:00:00.000000000'\n",
            " '2019-12-10T00:00:00.000000000' '2019-12-16T00:00:00.000000000'\n",
            " '2019-12-12T00:00:00.000000000' '2019-12-17T00:00:00.000000000'\n",
            " '2019-12-18T00:00:00.000000000' '2019-11-28T00:00:00.000000000'\n",
            " '2019-11-25T00:00:00.000000000' '2019-11-22T00:00:00.000000000'\n",
            " '2019-11-21T00:00:00.000000000' '2019-11-26T00:00:00.000000000'\n",
            " '2019-12-11T00:00:00.000000000' '2019-11-27T00:00:00.000000000'\n",
            " '2019-12-07T00:00:00.000000000' '2019-10-02T00:00:00.000000000'\n",
            " '2019-10-07T00:00:00.000000000' '2019-10-04T00:00:00.000000000'\n",
            " '2019-10-18T00:00:00.000000000' '2019-10-14T00:00:00.000000000'\n",
            " '2019-10-03T00:00:00.000000000' '2019-10-01T00:00:00.000000000'\n",
            " '2019-11-19T00:00:00.000000000' '2019-10-31T00:00:00.000000000'\n",
            " '2019-10-22T00:00:00.000000000' '2019-10-10T00:00:00.000000000'\n",
            " '2019-10-08T00:00:00.000000000' '2019-10-09T00:00:00.000000000'\n",
            " '2019-11-05T00:00:00.000000000' '2019-09-30T00:00:00.000000000'\n",
            " '2019-09-26T00:00:00.000000000' '2019-10-16T00:00:00.000000000'\n",
            " '2019-09-29T00:00:00.000000000' '2019-09-25T00:00:00.000000000'\n",
            " '2019-09-24T00:00:00.000000000' '2019-09-27T00:00:00.000000000'\n",
            " '2019-10-11T00:00:00.000000000' '2019-09-28T00:00:00.000000000'\n",
            " '2019-10-17T00:00:00.000000000' '2019-10-21T00:00:00.000000000'\n",
            " '2019-10-15T00:00:00.000000000' '2019-10-19T00:00:00.000000000'\n",
            " '2019-10-24T00:00:00.000000000' '2019-11-04T00:00:00.000000000'\n",
            " '2019-10-23T00:00:00.000000000' '2019-10-12T00:00:00.000000000'\n",
            " '2019-10-13T00:00:00.000000000' '2019-09-06T00:00:00.000000000'\n",
            " '2019-09-09T00:00:00.000000000' '2019-09-12T00:00:00.000000000'\n",
            " '2019-09-05T00:00:00.000000000' '2019-09-04T00:00:00.000000000'\n",
            " '2019-09-10T00:00:00.000000000' '2019-09-11T00:00:00.000000000'\n",
            " '2019-08-29T00:00:00.000000000' '2019-08-28T00:00:00.000000000'\n",
            " '2019-09-13T00:00:00.000000000' '2019-08-30T00:00:00.000000000'\n",
            " '2019-08-26T00:00:00.000000000' '2019-10-28T00:00:00.000000000'\n",
            " '2019-07-22T00:00:00.000000000' '2019-08-23T00:00:00.000000000'\n",
            " '2019-08-22T00:00:00.000000000' '2019-07-30T00:00:00.000000000'\n",
            " '2019-08-06T00:00:00.000000000' '2019-08-02T00:00:00.000000000'\n",
            " '2019-08-12T00:00:00.000000000' '2019-09-03T00:00:00.000000000'\n",
            " '2019-09-02T00:00:00.000000000' '2019-09-20T00:00:00.000000000'\n",
            " '2019-09-19T00:00:00.000000000' '2019-09-18T00:00:00.000000000'\n",
            " '2019-09-17T00:00:00.000000000' '2019-09-23T00:00:00.000000000'\n",
            " '2019-09-22T00:00:00.000000000' '2019-09-16T00:00:00.000000000'\n",
            " '2019-11-18T00:00:00.000000000' '2019-11-20T00:00:00.000000000'\n",
            " '2019-11-13T00:00:00.000000000' '2019-11-14T00:00:00.000000000'\n",
            " '2019-11-15T00:00:00.000000000' '2019-11-16T00:00:00.000000000'\n",
            " '2019-11-24T00:00:00.000000000' '2019-11-23T00:00:00.000000000'\n",
            " '2019-10-25T00:00:00.000000000' '2019-10-30T00:00:00.000000000'\n",
            " '2019-10-27T00:00:00.000000000' '2019-10-26T00:00:00.000000000'\n",
            " '2019-10-29T00:00:00.000000000' '2019-11-06T00:00:00.000000000'\n",
            " '2019-11-03T00:00:00.000000000' '2019-11-07T00:00:00.000000000'\n",
            " '2019-11-10T00:00:00.000000000' '2019-11-01T00:00:00.000000000'\n",
            " '2019-11-02T00:00:00.000000000' '2019-08-07T00:00:00.000000000'\n",
            " '2019-08-08T00:00:00.000000000' '2019-08-05T00:00:00.000000000'\n",
            " '2019-08-09T00:00:00.000000000' '2019-08-13T00:00:00.000000000'\n",
            " '2019-08-15T00:00:00.000000000' '2019-08-01T00:00:00.000000000'\n",
            " '2019-07-29T00:00:00.000000000' '2019-07-31T00:00:00.000000000'\n",
            " '2019-07-26T00:00:00.000000000' '2019-08-14T00:00:00.000000000'\n",
            " '2019-08-16T00:00:00.000000000' '2019-06-24T00:00:00.000000000'\n",
            " '2019-08-20T00:00:00.000000000' '2019-07-17T00:00:00.000000000'\n",
            " '2019-07-24T00:00:00.000000000' '2019-07-23T00:00:00.000000000'\n",
            " '2019-08-04T00:00:00.000000000' '2019-08-27T00:00:00.000000000'\n",
            " '2019-08-19T00:00:00.000000000' '2019-08-21T00:00:00.000000000'\n",
            " '2019-07-08T00:00:00.000000000' '2019-07-10T00:00:00.000000000'\n",
            " '2019-07-05T00:00:00.000000000' '2019-07-09T00:00:00.000000000'\n",
            " '2019-07-04T00:00:00.000000000' '2019-07-03T00:00:00.000000000'\n",
            " '2019-07-11T00:00:00.000000000' '2019-07-16T00:00:00.000000000'\n",
            " '2019-07-15T00:00:00.000000000' '2019-07-12T00:00:00.000000000'\n",
            " '2019-06-27T00:00:00.000000000' '2019-06-28T00:00:00.000000000'\n",
            " '2019-06-26T00:00:00.000000000' '2019-07-01T00:00:00.000000000'\n",
            " '2019-06-21T00:00:00.000000000' '2019-06-20T00:00:00.000000000'\n",
            " '2019-06-12T00:00:00.000000000' '2019-06-25T00:00:00.000000000'\n",
            " '2019-07-02T00:00:00.000000000' '2019-07-25T00:00:00.000000000'\n",
            " '2019-07-18T00:00:00.000000000' '2019-07-19T00:00:00.000000000'\n",
            " '2019-05-15T00:00:00.000000000' '2019-05-20T00:00:00.000000000'\n",
            " '2019-05-14T00:00:00.000000000' '2019-05-17T00:00:00.000000000'\n",
            " '2019-05-16T00:00:00.000000000' '2019-05-10T00:00:00.000000000'\n",
            " '2019-05-22T00:00:00.000000000' '2019-05-09T00:00:00.000000000'\n",
            " '2019-05-12T00:00:00.000000000' '2019-05-13T00:00:00.000000000'\n",
            " '2019-05-27T00:00:00.000000000' '2019-05-23T00:00:00.000000000'\n",
            " '2019-05-21T00:00:00.000000000' '2019-05-28T00:00:00.000000000'\n",
            " '2019-05-24T00:00:00.000000000' '2019-06-03T00:00:00.000000000'\n",
            " '2019-06-04T00:00:00.000000000' '2019-05-29T00:00:00.000000000'\n",
            " '2019-04-30T00:00:00.000000000' '2019-05-06T00:00:00.000000000'\n",
            " '2019-04-29T00:00:00.000000000' '2019-04-28T00:00:00.000000000'\n",
            " '2019-05-08T00:00:00.000000000' '2019-05-02T00:00:00.000000000'\n",
            " '2019-05-03T00:00:00.000000000' '2019-04-24T00:00:00.000000000'\n",
            " '2019-04-22T00:00:00.000000000' '2019-04-23T00:00:00.000000000'\n",
            " '2019-04-25T00:00:00.000000000' '2019-03-14T00:00:00.000000000'\n",
            " '2019-04-16T00:00:00.000000000' '2019-04-10T00:00:00.000000000'\n",
            " '2019-04-17T00:00:00.000000000' '2019-04-18T00:00:00.000000000'\n",
            " '2019-04-26T00:00:00.000000000' '2019-05-11T00:00:00.000000000'\n",
            " '2019-05-04T00:00:00.000000000' '2019-05-07T00:00:00.000000000'\n",
            " '2019-05-05T00:00:00.000000000' '2019-06-18T00:00:00.000000000'\n",
            " '2019-06-17T00:00:00.000000000' '2019-06-19T00:00:00.000000000'\n",
            " '2019-06-15T00:00:00.000000000' '2019-06-13T00:00:00.000000000'\n",
            " '2019-06-11T00:00:00.000000000' '2019-06-14T00:00:00.000000000'\n",
            " '2019-06-22T00:00:00.000000000' '2019-05-31T00:00:00.000000000'\n",
            " '2019-05-30T00:00:00.000000000' '2019-06-05T00:00:00.000000000'\n",
            " '2019-06-06T00:00:00.000000000' '2019-06-07T00:00:00.000000000'\n",
            " '2019-06-08T00:00:00.000000000' '2019-04-03T00:00:00.000000000'\n",
            " '2019-04-04T00:00:00.000000000' '2019-04-08T00:00:00.000000000'\n",
            " '2019-04-02T00:00:00.000000000' '2019-04-09T00:00:00.000000000'\n",
            " '2019-04-05T00:00:00.000000000' '2019-04-07T00:00:00.000000000'\n",
            " '2019-04-06T00:00:00.000000000' '2019-03-28T00:00:00.000000000'\n",
            " '2019-03-27T00:00:00.000000000' '2019-03-29T00:00:00.000000000'\n",
            " '2019-03-24T00:00:00.000000000' '2019-03-26T00:00:00.000000000'\n",
            " '2019-03-25T00:00:00.000000000' '2019-04-01T00:00:00.000000000'\n",
            " '2019-03-22T00:00:00.000000000' '2019-03-21T00:00:00.000000000'\n",
            " '2019-03-19T00:00:00.000000000' '2019-03-30T00:00:00.000000000'\n",
            " '2019-04-21T00:00:00.000000000' '2019-04-19T00:00:00.000000000'\n",
            " '2019-04-11T00:00:00.000000000' '2019-04-15T00:00:00.000000000'\n",
            " '2019-04-12T00:00:00.000000000' '2019-03-07T00:00:00.000000000'\n",
            " '2019-03-11T00:00:00.000000000' '2019-03-06T00:00:00.000000000'\n",
            " '2019-03-08T00:00:00.000000000' '2019-03-05T00:00:00.000000000'\n",
            " '2019-03-13T00:00:00.000000000' '2019-03-12T00:00:00.000000000'\n",
            " '2019-03-18T00:00:00.000000000' '2019-03-09T00:00:00.000000000'\n",
            " '2019-02-27T00:00:00.000000000' '2019-03-04T00:00:00.000000000'\n",
            " '2019-03-01T00:00:00.000000000' '2019-02-26T00:00:00.000000000'\n",
            " '2019-02-28T00:00:00.000000000' '2019-03-20T00:00:00.000000000'\n",
            " '2019-02-21T00:00:00.000000000' '2019-02-20T00:00:00.000000000'\n",
            " '2019-02-19T00:00:00.000000000' '2019-02-25T00:00:00.000000000'\n",
            " '2019-02-14T00:00:00.000000000' '2019-02-18T00:00:00.000000000'\n",
            " '2019-02-22T00:00:00.000000000' '2019-02-15T00:00:00.000000000'\n",
            " '2019-03-15T00:00:00.000000000' '2019-02-07T00:00:00.000000000'\n",
            " '2019-02-11T00:00:00.000000000' '2019-02-12T00:00:00.000000000'\n",
            " '2019-02-08T00:00:00.000000000' '2019-02-13T00:00:00.000000000'\n",
            " '2019-02-06T00:00:00.000000000' '2019-02-05T00:00:00.000000000'\n",
            " '2019-01-30T00:00:00.000000000' '2019-01-29T00:00:00.000000000'\n",
            " '2019-02-01T00:00:00.000000000' '2019-01-28T00:00:00.000000000'\n",
            " '2019-02-04T00:00:00.000000000' '2019-01-31T00:00:00.000000000'\n",
            " '2019-01-26T00:00:00.000000000' '2019-01-22T00:00:00.000000000'\n",
            " '2019-01-21T00:00:00.000000000' '2019-01-15T00:00:00.000000000'\n",
            " '2019-01-07T00:00:00.000000000' '2019-01-25T00:00:00.000000000'\n",
            " '2019-01-24T00:00:00.000000000' '2019-01-23T00:00:00.000000000'\n",
            " '2019-02-24T00:00:00.000000000' '2019-01-10T00:00:00.000000000'\n",
            " '2019-01-11T00:00:00.000000000' '2019-01-14T00:00:00.000000000'\n",
            " '2019-01-09T00:00:00.000000000' '2019-01-08T00:00:00.000000000'\n",
            " '2019-01-16T00:00:00.000000000' '2019-01-18T00:00:00.000000000'\n",
            " '2019-01-17T00:00:00.000000000' '2019-01-13T00:00:00.000000000'\n",
            " '2019-01-12T00:00:00.000000000' '2019-01-02T00:00:00.000000000'\n",
            " '2019-01-04T00:00:00.000000000' '2019-01-03T00:00:00.000000000'\n",
            " '2019-12-23T00:00:00.000000000' '2019-12-27T00:00:00.000000000'\n",
            " '2019-12-30T00:00:00.000000000' '2019-12-26T00:00:00.000000000']\n",
            "------\n",
            "Name of the feature: ProductType\n",
            "Unique values:\n",
            "['K560-200' 'K590-500' nan]\n",
            "------\n",
            "Name of the feature: Disposition\n",
            "Unique values:\n",
            "['Acceptable after further work performed' 'Acceptable as is'\n",
            " 'Acceptable as is with work performed']\n",
            "------\n",
            "Name of the feature: Factory Code\n",
            "Unique values:\n",
            "['JK' 'RA' 'DN']\n",
            "------\n",
            "Name of the feature: Category\n",
            "Unique values:\n",
            "['STRUCTURE' nan 'FUEL SYSTEM']\n",
            "------\n",
            "Name of the feature: Side\n",
            "Unique values:\n",
            "[nan 'RIGHT SIDE' 'LEFT SIDE' 'IN A/C AXIS' 'RIGHT AND LEFT SIDE' 'RIGHT'\n",
            " 'LEFT']\n",
            "------\n",
            "Name of the feature: FrameFrom\n",
            "Unique values:\n",
            "[20. 30. nan 24. 23. 34. 37. 77. 84. 89. 31. 36. 28. 72. 35. 32. 21. 90.\n",
            " 38. 74. 40. 79. 82. 85. 73. 87. 39. 71. 83. 26. 27. 22. 91. 80. 92. 86.\n",
            " 88. 76. 81. 93. 33. 29. 78. 25. 41. 75. 19. 70.]\n",
            "------\n",
            "Name of the feature: FrameTo\n",
            "Unique values:\n",
            "[41 30 nan 25 38 85 35 93 33 22 91 40 37 80 83 75 89 32 26 21 24 23 39 73\n",
            " 28 87 77 31 82 86 34 29 84 '077A' 81 36 '084A' 88 20 74 78 27 72 90 94 92\n",
            " 79 '022A' 76 71]\n",
            "------\n",
            "Name of the feature: CrossFrom\n",
            "Unique values:\n",
            "[nan 32. 30. 10.  9. 15. 38. 34. 31. 41. 40.  5.  2. 33. 25. 44. 23. 39.\n",
            " 43. 11. 27. 24. 20. 22. 14. 18. 45.  8. 37. 29. 16.  6. 28. 17. 26. 42.\n",
            "  1. 36. 21. 12. 13.  4. 19. 35. 46.  3.  7.]\n",
            "------\n",
            "Name of the feature: CrossTo\n",
            "Unique values:\n",
            "[nan 34. 31. 11. 10. 23. 39. 37. 43. 35.  6.  2. 36. 26. 45. 24. 40. 29.\n",
            " 21.  3. 12. 22. 46. 25.  9. 38. 41. 32. 16. 17.  7. 15. 18. 27. 42. 28.\n",
            " 14.  5. 20. 33. 30. 19. 47.  1. 13.  4. 44.  8.]\n",
            "------\n",
            "Name of the feature: FaultCodeGroup\n",
            "Unique values:\n",
            "['NC-DC-F' 'NC-DC-B' 'NC-DC-A' 'NC-DC-D' nan 'NC-DC-J' 'NC-DC-C' 'NC-DC-H'\n",
            " 'NC-DC-E' 'NC-DC-G']\n",
            "------\n",
            "Name of the feature: FaultCode\n",
            "Unique values:\n",
            "['FCA' 'BBA' 'FCB' 'FCG' 'AO' 'DQ' 'AHJ' nan 'AHG' 'AHK' 'DQB' 'AHH' 'JE'\n",
            " 'JEA' 'DQA' 'AAI' 'AH' 'CA' 'CAA' 'DK' 'AHD' 'JJB' 'JD' 'AHE' 'AAA' 'HA'\n",
            " 'FEA' 'EAA' 'AAE' 'AAD' 'FU' 'DE' 'JC' 'AHA' 'JBB' 'DF' 'EDC' 'JII' 'JIG'\n",
            " 'AHL' 'CIA' 'AGA' 'CCD' 'JIJ' 'FCK' 'AAB' 'DH' 'JJ' 'FGD' 'FGE' 'FN' 'DN'\n",
            " 'AGN' 'JK' 'AHN' 'AAG' 'AGB' 'DMA' 'GOL' 'AGL' 'CC' 'FC' 'AAC' 'AGF'\n",
            " 'JJA' 'GOJ' 'JIA' 'DM' 'AA' 'DHA' 'DRE' 'JIK' 'FE' 'DR' 'BCD' 'CFA' 'FEC'\n",
            " 'GOA' 'DNA' 'AHQ' 'DRC' 'JI' 'JIB' 'FCI' 'DKA' 'JFB' 'DP' 'FA' 'AAH'\n",
            " 'DKB' 'JMR' 'FCE' 'AHB' 'DO' 'FH' 'AGC' 'AAF' 'JH' 'AHM' 'FO' 'AG' 'JIC'\n",
            " 'JL' 'AGJ' 'JDB' 'DC' 'JF' 'AAJ' 'AGE' 'AV']\n",
            "------\n",
            "Name of the feature: FaultCodeDescription\n",
            "Unique values:\n",
            "['Shape geometry deviating' 'Measure out of tolerance'\n",
            " 'Stringer displacement' 'Not sufficient flatness' 'Riveting'\n",
            " 'Delamination and/or Flaking' 'Unwanted hole'\n",
            " 'Spalling/delamination at hole edge' 'Unwanted drill start'\n",
            " 'Flaking edge of part' 'Hole with a too deep countersink'\n",
            " 'Hole incorrectly positioned' 'Dimensions out of Tolerance'\n",
            " 'Deviating root face' 'Flaking plan panel' 'Geomety/Volume CA incorrect'\n",
            " 'Drilling' 'Absence of Colour / Paint missing' 'Surface quality'\n",
            " 'Scratch' 'Oversized Hole' 'Multiple delamination'\n",
            " 'Thickness deviation/ size' 'Gap/Clearance between parts'\n",
            " 'FOD found without damage' 'Deviating part thickness' 'Incorrect content'\n",
            " 'Mis-alignment' 'Part incorrectly fitted' 'Lack of Material' 'Cut'\n",
            " 'Bonding' 'Defective hole surface/edge' 'Fiber defect orientation' 'Dent'\n",
            " 'Traceability not recorded' 'Multi-layer spalling'\n",
            " 'Single-layer spalling' 'Flaking around drilled holes' 'Surface Marks'\n",
            " 'IncorrectFastener/Bolt/Screw/Washer/Bush' 'Surface protection deficient'\n",
            " 'Fibre breakout' 'Diameter' 'Clash between parts' 'Distortion'\n",
            " 'Delamination Composite Manufacturing' 'First Part Qualification'\n",
            " 'Material Qualification' 'Material Characteristics' 'Impact'\n",
            " 'Fastener/Bolt/Screw Edge/Pitch distance' 'Inclusion'\n",
            " 'Material Missing or Incorrect positioned'\n",
            " 'Countersink Hole in error / missing' 'Step and into/out of wind'\n",
            " 'Fastener/(B/S/W) OutOfSquare c/sunk head' 'Surface damage chamfer/flute'\n",
            " 'Missing G1C sample' 'Fastener/Bolt/Screw not tight'\n",
            " 'Absence of Protective Treatment' 'Shape' 'Incorrect part fitted'\n",
            " 'Protrusion / Intrusion' 'Single delamination' 'Not sufficient G1C'\n",
            " 'Depression' 'Spot - Crater' 'Structural and Mechanical Assembly'\n",
            " 'Deburring distortion' 'Offset machining' 'Abresion of layer'\n",
            " 'Size/Dimensions' 'Machining' 'Certificate' 'Stains / Marks'\n",
            " 'Deviating material thickness' 'Not sufficient tenacity' 'Pressure mark'\n",
            " 'Chamfer' 'Milling Distortion' 'Surface defects' 'Wrinkles'\n",
            " 'Curing Temperature/Measurement' 'Deviating gap-dimension'\n",
            " 'Scratch or tool mark' 'Curing Time' 'Perished' 'Incorrect Angle'\n",
            " 'Incorrect Shape' 'Curing Vacuum' 'Scratch - cosmetical item'\n",
            " 'Columns / overlap' 'Chemical Treatment' 'Layer missing'\n",
            " 'Strak deviation' 'Galvanic process out of tolerance' 'Hole elongated'\n",
            " 'Mechanical' 'Expired Material' 'Fastener with incorrect position'\n",
            " 'Part not installed' 'Traveller/witness test result'\n",
            " 'Hole Edge / Pitch distance' 'Contaminated material'\n",
            " 'Fastener  (incl. Bolt/Screw/Washer/Bush)' 'Overlapping Fibers wrinkles'\n",
            " 'Fastener direction reversed' 'Thickness too high' 'Broken'\n",
            " 'LINEAR AND ANGULAR DIMENSIONS' 'DIMENSIONS OF FORM AND POSITION'\n",
            " 'DOCUMENTATION' 'Completeness' 'Curing Process'\n",
            " 'Part not installable as per Work Order' 'Thickness out of tolerance'\n",
            " 'Qualification' 'Fastener Hole incorrectly positioned'\n",
            " 'Contamination/Cleanliness' 'Sealant application (during assembly)'\n",
            " 'Volume Porosity' 'Layer Porosity']\n",
            "------\n",
            "Name of the feature: CauseCodeGroup\n",
            "Unique values:\n",
            "['NC-CC-E' 'NC-CC-G' 'NC-CC-C' nan 'NC-CC-L' 'NC-CC-H' 'NC-CC-B' 'NC-CC-A'\n",
            " 'NC-CC-D' 'NC-CC-K' 'NC-CC-I']\n",
            "------\n",
            "Name of the feature: CauseCode\n",
            "Unique values:\n",
            "['E5' 'G1' 'C4' 'G2' nan 'L4' 'C61' 'G12' 'H6' 'B21' 'A2' 'D2' 'G13' 'G11'\n",
            " 'B2' 'H2' 'A1' 'C3' 'C1' 'K4' 'H3' 'K2' 'K1' 'K7' 'L5' 'H4' 'L1' 'C7'\n",
            " 'B1' 'H1' 'E3' 'D4' 'D3' 'K5' 'L2' 'I4' 'L3' 'C62' 'I7' 'C51']\n",
            "------\n",
            "Name of the feature: CauseCodeDescription\n",
            "Unique values:\n",
            "['No Fault Found (NFF)' 'Working error' 'Process/Method not applicable'\n",
            " 'Accident' nan 'Wrong Characteristic/Consistency Mat.'\n",
            " 'QSR - Root cause by Airbus' 'Tool setting error'\n",
            " 'Installation / Maladjustment' 'Design/Drg incorrect: Tolerance Addition'\n",
            " 'Wrong/Incorrect Documentation or Records' 'Transportation'\n",
            " 'NC Program error' 'Part/jigs assembly error'\n",
            " 'Design / drawing incorrect' 'Lack of' 'Lack of Documentation/Records'\n",
            " 'Wrong Process/Method applied' 'Non-adherence of Process'\n",
            " 'Incomplete delivery' 'Defect/Damaged/Broken' 'Wrong/Defective Delivery'\n",
            " 'Delay in delivery' 'Supplier liability (APD only)'\n",
            " 'Material not approved / unqualified' 'Malfunction' 'Incorrect Material'\n",
            " 'Process / Method not applied before' 'Design / drawing incomplete'\n",
            " 'Wrong / unsuitable' 'Test performed incorrectly' 'Protection' 'Storage'\n",
            " 'Outstanding Work' 'Expired Material' 'Contamination / cleanliness'\n",
            " 'Missing Material' 'QSR - Root cause by External Supplier'\n",
            " 'Environmental conditions (climate)'\n",
            " 'FOD - Dirtiness / Small Debris found']\n",
            "------\n"
          ],
          "name": "stdout"
        }
      ]
    },
    {
      "cell_type": "code",
      "metadata": {
        "id": "_r25bC2X5TjD",
        "colab_type": "code",
        "colab": {
          "base_uri": "https://localhost:8080/",
          "height": 124
        },
        "outputId": "7e7e2714-5746-4b75-b2a1-250fd6e1322a"
      },
      "source": [
        "df.columns"
      ],
      "execution_count": 269,
      "outputs": [
        {
          "output_type": "execute_result",
          "data": {
            "text/plain": [
              "Index(['Fault No', 'Status', 'MSN', 'CreationDate', 'ProductType',\n",
              "       'Disposition', 'Factory Code', 'Category', 'Side', 'FrameFrom',\n",
              "       'FrameTo', 'CrossFrom', 'CrossTo', 'FaultCodeGroup', 'FaultCode',\n",
              "       'FaultCodeDescription', 'CauseCodeGroup', 'CauseCode',\n",
              "       'CauseCodeDescription'],\n",
              "      dtype='object')"
            ]
          },
          "metadata": {
            "tags": []
          },
          "execution_count": 269
        }
      ]
    },
    {
      "cell_type": "markdown",
      "metadata": {
        "id": "9FC8WxHQ-kId",
        "colab_type": "text"
      },
      "source": [
        "# Data Dictionary for self reference\n",
        "\n",
        "- Fault No: Just a serial number to give to the occured faults (but seems not relevant)\n",
        "- Status: 3 Kinds of fault can occur (Not sure what ACC, DIF, INP mean)\n",
        "- MSN: It has values ranging from 0 to 499 (Not sure what MSN means)\n",
        "- Creation date: Self explanatory (but not that relevant in terms of year as everything is manufacturer in 2019, can take months for analysis)\n",
        "- ProductType: Data for 2 kinds of products available (few missing values are there too, can't imputer without any logic)\n",
        "- Disposition: 3 kinds of disposition possible (however, confused between two as they mean the same thing: Acceptable after further work performed and acceptable as is with work performed)\n",
        "- Factory code: 3 factories are used for manufacturing of these products (JK, RA, DN)\n",
        "- Category: 2 Categories (Fuel System and Structure with missing values)\n",
        "- Side: Probably shows what side is the component for (6 possible 4 can be merged as they are redundant (left/left side and right/right side))\n",
        "- Frame from: Not sure what this means (probably dimension of a frame that starts from this value)\n",
        "- Frame to: Not sure what this means (probably dimension of a frame that ends at this value)\n",
        "- Cross from: Something similar to Frame from\n",
        "- Cross to: Something similar to Frame to\n",
        "- Fault code group: Major category of fault (10 categories possible)\n",
        "- Fault code: Exact type of fault\n",
        "- Fault code Description: Many possible, can't get anything significant out of it\n",
        "- Cause code group: Major category of cause of fault\n",
        "- Cause code: exact type of cause of fault\n",
        "- Cause code description: Text field`"
      ]
    },
    {
      "cell_type": "code",
      "metadata": {
        "id": "ags-Cfhg7JkW",
        "colab_type": "code",
        "colab": {
          "base_uri": "https://localhost:8080/",
          "height": 884
        },
        "outputId": "796923e8-dcdb-4326-b643-c12395421c80"
      },
      "source": [
        "import seaborn as sns\n",
        "cor = df.corr() #Checking corelation between features\n",
        "plt.subplots(figsize=(20,15)) #giving figure size parameters\n",
        "sns.heatmap(cor, square = True) #plotting heatmap to check corelation"
      ],
      "execution_count": 270,
      "outputs": [
        {
          "output_type": "execute_result",
          "data": {
            "text/plain": [
              "<matplotlib.axes._subplots.AxesSubplot at 0x7fcc0dea0b38>"
            ]
          },
          "metadata": {
            "tags": []
          },
          "execution_count": 270
        },
        {
          "output_type": "display_data",
          "data": {
            "image/png": "[encoded data removed]",
            "text/plain": [
              "<Figure size 1440x1080 with 2 Axes>"
            ]
          },
          "metadata": {
            "tags": [],
            "needs_background": "light"
          }
        }
      ]
    },
    {
      "cell_type": "markdown",
      "metadata": {
        "id": "SL7pk9eO_OCw",
        "colab_type": "text"
      },
      "source": [
        "From the above heatmap we can observe that there is a high correlation between quite a CrossFrom and CrossTo\n",
        "Therefore, instead of keeping both. I have to figure out a way to eliminate one column to reduce multicollinearity.\n",
        "\n"
      ]
    },
    {
      "cell_type": "code",
      "metadata": {
        "id": "IcQYggK-_hLc",
        "colab_type": "code",
        "colab": {
          "base_uri": "https://localhost:8080/",
          "height": 276
        },
        "outputId": "14208d49-6993-4d6b-83b3-406f3aea3c7e"
      },
      "source": [
        "df['Status'].value_counts().plot.bar()\n",
        "plt.show()"
      ],
      "execution_count": 271,
      "outputs": [
        {
          "output_type": "display_data",
          "data": {
            "image/png": "[encoded data removed]",
            "text/plain": [
              "<Figure size 432x288 with 1 Axes>"
            ]
          },
          "metadata": {
            "tags": [],
            "needs_background": "light"
          }
        }
      ]
    },
    {
      "cell_type": "markdown",
      "metadata": {
        "id": "9l_PUrlOAIDc",
        "colab_type": "text"
      },
      "source": [
        "imbalanced data for the status column"
      ]
    },
    {
      "cell_type": "code",
      "metadata": {
        "id": "FGe8JqXa_kK9",
        "colab_type": "code",
        "colab": {
          "base_uri": "https://localhost:8080/",
          "height": 274
        },
        "outputId": "eda1688b-f49d-4db2-99a0-20807341f414"
      },
      "source": [
        "df['MSN'].value_counts().plot.bar()\n",
        "plt.show()"
      ],
      "execution_count": 272,
      "outputs": [
        {
          "output_type": "display_data",
          "data": {
            "image/png": "[encoded data removed]",
            "text/plain": [
              "<Figure size 432x288 with 1 Axes>"
            ]
          },
          "metadata": {
            "tags": [],
            "needs_background": "light"
          }
        }
      ]
    },
    {
      "cell_type": "code",
      "metadata": {
        "id": "N3HqWKNgAUGn",
        "colab_type": "code",
        "colab": {}
      },
      "source": [
        "def check_stats(col): #creating function to check head of column, check it's statistics and do a value count\n",
        "  print(df[col].head())\n",
        "  print(df[col].describe())\n",
        "  print(df[col].value_counts())"
      ],
      "execution_count": 273,
      "outputs": []
    },
    {
      "cell_type": "code",
      "metadata": {
        "id": "RdXtYJ6DAhFH",
        "colab_type": "code",
        "colab": {}
      },
      "source": [
        "#function to get month from the creation date as entire value for creation date is not useful\n",
        "\n",
        "import datetime\n",
        "\n",
        "now = datetime.datetime.today() #prints current date\n",
        "def credit_age (x):\n",
        "    if x != 'nan': #filter non null\n",
        "        c1 = datetime.datetime.strptime(x, '%Y-%m-%d') #strips the present date in mon-year format \n",
        "        c1 = c1.month\n",
        "        return c1\n",
        "        #return c1\n",
        "    else:\n",
        "        return None"
      ],
      "execution_count": 274,
      "outputs": []
    },
    {
      "cell_type": "code",
      "metadata": {
        "id": "NddkQQU9FXc7",
        "colab_type": "code",
        "colab": {}
      },
      "source": [
        "df['CreationDate'] = df['CreationDate'].astype(str)\n",
        "df['month'] = df['CreationDate'].apply(credit_age)"
      ],
      "execution_count": 275,
      "outputs": []
    },
    {
      "cell_type": "code",
      "metadata": {
        "id": "ZUR9VbtrFx4G",
        "colab_type": "code",
        "colab": {
          "base_uri": "https://localhost:8080/",
          "height": 248
        },
        "outputId": "f91021d0-b718-4aa2-98f5-6560873173f3"
      },
      "source": [
        "df['month'].value_counts()"
      ],
      "execution_count": 276,
      "outputs": [
        {
          "output_type": "execute_result",
          "data": {
            "text/plain": [
              "1     590\n",
              "11    571\n",
              "3     568\n",
              "2     557\n",
              "7     511\n",
              "10    498\n",
              "5     483\n",
              "6     461\n",
              "4     456\n",
              "12    397\n",
              "9     390\n",
              "8     321\n",
              "Name: month, dtype: int64"
            ]
          },
          "metadata": {
            "tags": []
          },
          "execution_count": 276
        }
      ]
    },
    {
      "cell_type": "code",
      "metadata": {
        "id": "oT5qfl02M9GA",
        "colab_type": "code",
        "colab": {}
      },
      "source": [
        "#dropping fault no column as it's just a number assigned (just like serial number)\n",
        "drop_list = ['Fault No']\n",
        "df = df.drop(drop_list,axis=1)"
      ],
      "execution_count": 277,
      "outputs": []
    },
    {
      "cell_type": "code",
      "metadata": {
        "id": "WpHiHuFxGC0O",
        "colab_type": "code",
        "colab": {}
      },
      "source": [
        "#dropping creation date as it is not useful anymore\n",
        "drop_list1 = ['CreationDate']\n",
        "df = df.drop(drop_list1,axis=1)"
      ],
      "execution_count": 278,
      "outputs": []
    },
    {
      "cell_type": "code",
      "metadata": {
        "id": "C5PF5FZNA176",
        "colab_type": "code",
        "colab": {
          "base_uri": "https://localhost:8080/",
          "height": 416
        },
        "outputId": "491efaff-653d-4f21-81de-f855af28a722"
      },
      "source": [
        "df.head()"
      ],
      "execution_count": 279,
      "outputs": [
        {
          "output_type": "execute_result",
          "data": {
            "text/html": [
              "<div>\n",
              "<style scoped>\n",
              "    .dataframe tbody tr th:only-of-type {\n",
              "        vertical-align: middle;\n",
              "    }\n",
              "\n",
              "    .dataframe tbody tr th {\n",
              "        vertical-align: top;\n",
              "    }\n",
              "\n",
              "    .dataframe thead th {\n",
              "        text-align: right;\n",
              "    }\n",
              "</style>\n",
              "<table border=\"1\" class=\"dataframe\">\n",
              "  <thead>\n",
              "    <tr style=\"text-align: right;\">\n",
              "      <th></th>\n",
              "      <th>Status</th>\n",
              "      <th>MSN</th>\n",
              "      <th>ProductType</th>\n",
              "      <th>Disposition</th>\n",
              "      <th>Factory Code</th>\n",
              "      <th>Category</th>\n",
              "      <th>Side</th>\n",
              "      <th>FrameFrom</th>\n",
              "      <th>FrameTo</th>\n",
              "      <th>CrossFrom</th>\n",
              "      <th>CrossTo</th>\n",
              "      <th>FaultCodeGroup</th>\n",
              "      <th>FaultCode</th>\n",
              "      <th>FaultCodeDescription</th>\n",
              "      <th>CauseCodeGroup</th>\n",
              "      <th>CauseCode</th>\n",
              "      <th>CauseCodeDescription</th>\n",
              "      <th>month</th>\n",
              "    </tr>\n",
              "  </thead>\n",
              "  <tbody>\n",
              "    <tr>\n",
              "      <th>0</th>\n",
              "      <td>ACC</td>\n",
              "      <td>458</td>\n",
              "      <td>K560-200</td>\n",
              "      <td>Acceptable after further work performed</td>\n",
              "      <td>JK</td>\n",
              "      <td>STRUCTURE</td>\n",
              "      <td>NaN</td>\n",
              "      <td>20.0</td>\n",
              "      <td>41</td>\n",
              "      <td>NaN</td>\n",
              "      <td>NaN</td>\n",
              "      <td>NC-DC-F</td>\n",
              "      <td>FCA</td>\n",
              "      <td>Shape geometry deviating</td>\n",
              "      <td>NC-CC-E</td>\n",
              "      <td>E5</td>\n",
              "      <td>No Fault Found (NFF)</td>\n",
              "      <td>12</td>\n",
              "    </tr>\n",
              "    <tr>\n",
              "      <th>1</th>\n",
              "      <td>ACC</td>\n",
              "      <td>467</td>\n",
              "      <td>K590-500</td>\n",
              "      <td>Acceptable as is</td>\n",
              "      <td>JK</td>\n",
              "      <td>STRUCTURE</td>\n",
              "      <td>RIGHT SIDE</td>\n",
              "      <td>30.0</td>\n",
              "      <td>30</td>\n",
              "      <td>32.0</td>\n",
              "      <td>34.0</td>\n",
              "      <td>NC-DC-B</td>\n",
              "      <td>BBA</td>\n",
              "      <td>Measure out of tolerance</td>\n",
              "      <td>NC-CC-E</td>\n",
              "      <td>E5</td>\n",
              "      <td>No Fault Found (NFF)</td>\n",
              "      <td>12</td>\n",
              "    </tr>\n",
              "    <tr>\n",
              "      <th>2</th>\n",
              "      <td>ACC</td>\n",
              "      <td>434</td>\n",
              "      <td>K590-500</td>\n",
              "      <td>Acceptable after further work performed</td>\n",
              "      <td>RA</td>\n",
              "      <td>STRUCTURE</td>\n",
              "      <td>RIGHT SIDE</td>\n",
              "      <td>NaN</td>\n",
              "      <td>NaN</td>\n",
              "      <td>NaN</td>\n",
              "      <td>NaN</td>\n",
              "      <td>NC-DC-F</td>\n",
              "      <td>FCB</td>\n",
              "      <td>Stringer displacement</td>\n",
              "      <td>NC-CC-G</td>\n",
              "      <td>G1</td>\n",
              "      <td>Working error</td>\n",
              "      <td>12</td>\n",
              "    </tr>\n",
              "    <tr>\n",
              "      <th>3</th>\n",
              "      <td>ACC</td>\n",
              "      <td>0</td>\n",
              "      <td>K590-500</td>\n",
              "      <td>Acceptable after further work performed</td>\n",
              "      <td>DN</td>\n",
              "      <td>NaN</td>\n",
              "      <td>NaN</td>\n",
              "      <td>NaN</td>\n",
              "      <td>NaN</td>\n",
              "      <td>NaN</td>\n",
              "      <td>NaN</td>\n",
              "      <td>NC-DC-F</td>\n",
              "      <td>FCG</td>\n",
              "      <td>Not sufficient flatness</td>\n",
              "      <td>NC-CC-C</td>\n",
              "      <td>C4</td>\n",
              "      <td>Process/Method not applicable</td>\n",
              "      <td>12</td>\n",
              "    </tr>\n",
              "    <tr>\n",
              "      <th>4</th>\n",
              "      <td>ACC</td>\n",
              "      <td>447</td>\n",
              "      <td>K560-200</td>\n",
              "      <td>Acceptable as is</td>\n",
              "      <td>JK</td>\n",
              "      <td>STRUCTURE</td>\n",
              "      <td>RIGHT SIDE</td>\n",
              "      <td>24.0</td>\n",
              "      <td>25</td>\n",
              "      <td>NaN</td>\n",
              "      <td>NaN</td>\n",
              "      <td>NC-DC-A</td>\n",
              "      <td>AO</td>\n",
              "      <td>Riveting</td>\n",
              "      <td>NC-CC-G</td>\n",
              "      <td>G1</td>\n",
              "      <td>Working error</td>\n",
              "      <td>12</td>\n",
              "    </tr>\n",
              "  </tbody>\n",
              "</table>\n",
              "</div>"
            ],
            "text/plain": [
              "  Status  MSN ProductType  ... CauseCode           CauseCodeDescription month\n",
              "0    ACC  458    K560-200  ...        E5           No Fault Found (NFF)    12\n",
              "1    ACC  467    K590-500  ...        E5           No Fault Found (NFF)    12\n",
              "2    ACC  434    K590-500  ...        G1                  Working error    12\n",
              "3    ACC    0    K590-500  ...        C4  Process/Method not applicable    12\n",
              "4    ACC  447    K560-200  ...        G1                  Working error    12\n",
              "\n",
              "[5 rows x 18 columns]"
            ]
          },
          "metadata": {
            "tags": []
          },
          "execution_count": 279
        }
      ]
    },
    {
      "cell_type": "code",
      "metadata": {
        "id": "zbNkArq8ESoM",
        "colab_type": "code",
        "colab": {
          "base_uri": "https://localhost:8080/",
          "height": 284
        },
        "outputId": "e17a0e15-88fc-4e65-b6e9-381118bfe0bd"
      },
      "source": [
        "check_stats('Status')"
      ],
      "execution_count": 280,
      "outputs": [
        {
          "output_type": "stream",
          "text": [
            "0    ACC\n",
            "1    ACC\n",
            "2    ACC\n",
            "3    ACC\n",
            "4    ACC\n",
            "Name: Status, dtype: object\n",
            "count     5803\n",
            "unique       3\n",
            "top        ACC\n",
            "freq      5148\n",
            "Name: Status, dtype: object\n",
            "ACC    5148\n",
            "DIF     653\n",
            "INP       2\n",
            "Name: Status, dtype: int64\n"
          ],
          "name": "stdout"
        }
      ]
    },
    {
      "cell_type": "code",
      "metadata": {
        "id": "W0zO3FZ2GpBW",
        "colab_type": "code",
        "colab": {
          "base_uri": "https://localhost:8080/",
          "height": 497
        },
        "outputId": "a2f34f95-bef7-4145-8fec-eca5d77867ef"
      },
      "source": [
        "check_stats('MSN')"
      ],
      "execution_count": 281,
      "outputs": [
        {
          "output_type": "stream",
          "text": [
            "0    458\n",
            "1    467\n",
            "2    434\n",
            "3      0\n",
            "4    447\n",
            "Name: MSN, dtype: int64\n",
            "count    5803.000000\n",
            "mean      332.415819\n",
            "std       157.657739\n",
            "min         0.000000\n",
            "25%       354.000000\n",
            "50%       394.000000\n",
            "75%       427.000000\n",
            "max       499.000000\n",
            "Name: MSN, dtype: float64\n",
            "0      989\n",
            "402     81\n",
            "415     72\n",
            "374     71\n",
            "388     68\n",
            "      ... \n",
            "306      1\n",
            "262      1\n",
            "493      1\n",
            "485      1\n",
            "499      1\n",
            "Name: MSN, Length: 175, dtype: int64\n"
          ],
          "name": "stdout"
        }
      ]
    },
    {
      "cell_type": "code",
      "metadata": {
        "id": "HIUNYFmlGyR3",
        "colab_type": "code",
        "colab": {
          "base_uri": "https://localhost:8080/",
          "height": 266
        },
        "outputId": "10d1e1dd-54c4-4f1a-b180-c5b41529d24f"
      },
      "source": [
        "check_stats('ProductType')"
      ],
      "execution_count": 282,
      "outputs": [
        {
          "output_type": "stream",
          "text": [
            "0    K560-200\n",
            "1    K590-500\n",
            "2    K590-500\n",
            "3    K590-500\n",
            "4    K560-200\n",
            "Name: ProductType, dtype: object\n",
            "count         5367\n",
            "unique           2\n",
            "top       K560-200\n",
            "freq          3593\n",
            "Name: ProductType, dtype: object\n",
            "K560-200    3593\n",
            "K590-500    1774\n",
            "Name: ProductType, dtype: int64\n"
          ],
          "name": "stdout"
        }
      ]
    },
    {
      "cell_type": "code",
      "metadata": {
        "id": "O1sRuLxcLw3w",
        "colab_type": "code",
        "colab": {
          "base_uri": "https://localhost:8080/",
          "height": 106
        },
        "outputId": "ce337856-9613-4b93-a801-d6cdf86f4274"
      },
      "source": [
        "#Product type has seven percent missing values. Let's impute them majority class as the class is already imbalanced and it makes sense to impute with median.\n",
        "obj_cols = df.columns[df.dtypes==object]\n",
        "obj_cols"
      ],
      "execution_count": 283,
      "outputs": [
        {
          "output_type": "execute_result",
          "data": {
            "text/plain": [
              "Index(['Status', 'ProductType', 'Disposition', 'Factory Code', 'Category',\n",
              "       'Side', 'FrameTo', 'FaultCodeGroup', 'FaultCode',\n",
              "       'FaultCodeDescription', 'CauseCodeGroup', 'CauseCode',\n",
              "       'CauseCodeDescription'],\n",
              "      dtype='object')"
            ]
          },
          "metadata": {
            "tags": []
          },
          "execution_count": 283
        }
      ]
    },
    {
      "cell_type": "markdown",
      "metadata": {
        "id": "cprYVvrPOFeF",
        "colab_type": "text"
      },
      "source": [
        "To deal with missing values in each column, I will do some data imputation dealing with each dtype differently. For dtype = object, I will use the most frequent values while for numerical dtypes, I will use the median"
      ]
    },
    {
      "cell_type": "code",
      "metadata": {
        "id": "6jtywUVzNmfd",
        "colab_type": "code",
        "colab": {}
      },
      "source": [
        "#Imputer function\n",
        "imputer = lambda x:x.fillna(x.value_counts().index[0]) \n",
        "\n",
        "#Impute dtype=object with most frequent value\n",
        "df[obj_cols] = df[obj_cols].apply(imputer) "
      ],
      "execution_count": 284,
      "outputs": []
    },
    {
      "cell_type": "code",
      "metadata": {
        "id": "-11HsltGMo6w",
        "colab_type": "code",
        "colab": {}
      },
      "source": [
        "#Impute the rest of df with median\n",
        "df = df.fillna(df.median(axis=0))"
      ],
      "execution_count": 285,
      "outputs": []
    },
    {
      "cell_type": "code",
      "metadata": {
        "id": "Gd8lXXkVPL2q",
        "colab_type": "code",
        "colab": {
          "base_uri": "https://localhost:8080/",
          "height": 1000
        },
        "outputId": "b4a8c10d-d398-4094-f54a-16aeb2a744da"
      },
      "source": [
        "check_stats('FrameFrom')"
      ],
      "execution_count": 286,
      "outputs": [
        {
          "output_type": "stream",
          "text": [
            "0    20.0\n",
            "1    30.0\n",
            "2    36.0\n",
            "3    36.0\n",
            "4    24.0\n",
            "Name: FrameFrom, dtype: float64\n",
            "count    5803.000000\n",
            "mean       43.780286\n",
            "std        22.037552\n",
            "min        19.000000\n",
            "25%        30.000000\n",
            "50%        36.000000\n",
            "75%        40.000000\n",
            "max        93.000000\n",
            "Name: FrameFrom, dtype: float64\n",
            "36.0    2222\n",
            "20.0     407\n",
            "89.0     198\n",
            "30.0     176\n",
            "22.0     153\n",
            "71.0     145\n",
            "21.0     144\n",
            "29.0     138\n",
            "72.0     128\n",
            "27.0     117\n",
            "35.0     110\n",
            "87.0     106\n",
            "37.0     104\n",
            "28.0     104\n",
            "40.0      99\n",
            "24.0      95\n",
            "39.0      93\n",
            "38.0      89\n",
            "77.0      88\n",
            "82.0      76\n",
            "86.0      69\n",
            "23.0      69\n",
            "34.0      68\n",
            "85.0      64\n",
            "83.0      64\n",
            "79.0      53\n",
            "90.0      53\n",
            "31.0      53\n",
            "33.0      51\n",
            "92.0      49\n",
            "84.0      48\n",
            "25.0      48\n",
            "32.0      43\n",
            "26.0      39\n",
            "81.0      33\n",
            "78.0      31\n",
            "76.0      30\n",
            "91.0      28\n",
            "88.0      26\n",
            "80.0      22\n",
            "74.0      22\n",
            "73.0      18\n",
            "41.0      10\n",
            "75.0       9\n",
            "93.0       7\n",
            "70.0       3\n",
            "19.0       1\n",
            "Name: FrameFrom, dtype: int64\n"
          ],
          "name": "stdout"
        }
      ]
    },
    {
      "cell_type": "code",
      "metadata": {
        "id": "Nt2EqhzdPSsu",
        "colab_type": "code",
        "colab": {
          "base_uri": "https://localhost:8080/",
          "height": 1000
        },
        "outputId": "1daedf34-60fd-418e-c471-1fd740243bd3"
      },
      "source": [
        "check_stats('FrameTo')"
      ],
      "execution_count": 287,
      "outputs": [
        {
          "output_type": "stream",
          "text": [
            "0    41\n",
            "1    30\n",
            "2    93\n",
            "3    93\n",
            "4    25\n",
            "Name: FrameTo, dtype: object\n",
            "count     5803\n",
            "unique      49\n",
            "top         93\n",
            "freq      3959\n",
            "Name: FrameTo, dtype: int64\n",
            "93      3959\n",
            "41       181\n",
            "40       131\n",
            "32       124\n",
            "90       118\n",
            "30        98\n",
            "27        90\n",
            "38        80\n",
            "21        73\n",
            "25        57\n",
            "39        52\n",
            "35        50\n",
            "31        43\n",
            "86        40\n",
            "22        38\n",
            "37        38\n",
            "82        36\n",
            "28        36\n",
            "83        35\n",
            "23        34\n",
            "34        32\n",
            "36        31\n",
            "33        31\n",
            "85        31\n",
            "89        31\n",
            "80        30\n",
            "26        27\n",
            "72        27\n",
            "87        27\n",
            "92        22\n",
            "24        20\n",
            "88        19\n",
            "77        17\n",
            "29        15\n",
            "78        12\n",
            "91        12\n",
            "084A      12\n",
            "077A      11\n",
            "81        11\n",
            "84        11\n",
            "73         9\n",
            "75         9\n",
            "79         9\n",
            "76         7\n",
            "022A       7\n",
            "74         6\n",
            "20         6\n",
            "94         5\n",
            "71         3\n",
            "Name: FrameTo, dtype: int64\n"
          ],
          "name": "stdout"
        }
      ]
    },
    {
      "cell_type": "markdown",
      "metadata": {
        "id": "N_ulC7npPXhv",
        "colab_type": "text"
      },
      "source": [
        "There are following values which does not makes sense when compared to other values: 084A, 077A, 022A. Therefore, changing them as per format of others. "
      ]
    },
    {
      "cell_type": "code",
      "metadata": {
        "id": "_6xz5pJBPoDh",
        "colab_type": "code",
        "colab": {}
      },
      "source": [
        "df['FrameTo'].replace(['084A'], '84', inplace=True)\n",
        "df['FrameTo'].replace(['077A'], '77', inplace=True)\n",
        "df['FrameTo'].replace(['022A'], '22', inplace=True)"
      ],
      "execution_count": 288,
      "outputs": []
    },
    {
      "cell_type": "code",
      "metadata": {
        "id": "VBVEP7c4PAhG",
        "colab_type": "code",
        "colab": {}
      },
      "source": [
        "df['FrameFrom'] = df['FrameFrom'].astype(float)\n",
        "df['FrameTo'] = df['FrameTo'].astype(float)\n",
        "df['CrossFrom'] = df['CrossFrom'].astype(float)\n",
        "df['CrossTo'] = df['CrossTo'].astype(float)"
      ],
      "execution_count": 289,
      "outputs": []
    },
    {
      "cell_type": "code",
      "metadata": {
        "id": "8vhLfeZJMsQw",
        "colab_type": "code",
        "colab": {}
      },
      "source": [
        "# calcualte mean FrameFrom, FrameTo value\n",
        "df['Frame_avg'] = (df['FrameFrom'] + df['FrameTo'])/2\n",
        "# calcualte mean CrossFrom, CrossTo value\n",
        "df['Cross_avf'] = (df['CrossFrom'] + df['CrossTo'])/2\n",
        "#Dropping the columns that are now transformed to new columns\n",
        "drop_list2 = ['FrameFrom','FrameTo','CrossFrom','CrossTo']\n",
        "df = df.drop(drop_list2,axis=1)"
      ],
      "execution_count": 290,
      "outputs": []
    },
    {
      "cell_type": "code",
      "metadata": {
        "id": "EYzIAgDrOxTo",
        "colab_type": "code",
        "colab": {
          "base_uri": "https://localhost:8080/",
          "height": 346
        },
        "outputId": "92c5daf4-67b9-4ff2-f32b-7039d7527f38"
      },
      "source": [
        "df.head()"
      ],
      "execution_count": 291,
      "outputs": [
        {
          "output_type": "execute_result",
          "data": {
            "text/html": [
              "<div>\n",
              "<style scoped>\n",
              "    .dataframe tbody tr th:only-of-type {\n",
              "        vertical-align: middle;\n",
              "    }\n",
              "\n",
              "    .dataframe tbody tr th {\n",
              "        vertical-align: top;\n",
              "    }\n",
              "\n",
              "    .dataframe thead th {\n",
              "        text-align: right;\n",
              "    }\n",
              "</style>\n",
              "<table border=\"1\" class=\"dataframe\">\n",
              "  <thead>\n",
              "    <tr style=\"text-align: right;\">\n",
              "      <th></th>\n",
              "      <th>Status</th>\n",
              "      <th>MSN</th>\n",
              "      <th>ProductType</th>\n",
              "      <th>Disposition</th>\n",
              "      <th>Factory Code</th>\n",
              "      <th>Category</th>\n",
              "      <th>Side</th>\n",
              "      <th>FaultCodeGroup</th>\n",
              "      <th>FaultCode</th>\n",
              "      <th>FaultCodeDescription</th>\n",
              "      <th>CauseCodeGroup</th>\n",
              "      <th>CauseCode</th>\n",
              "      <th>CauseCodeDescription</th>\n",
              "      <th>month</th>\n",
              "      <th>Frame_avg</th>\n",
              "      <th>Cross_avf</th>\n",
              "    </tr>\n",
              "  </thead>\n",
              "  <tbody>\n",
              "    <tr>\n",
              "      <th>0</th>\n",
              "      <td>ACC</td>\n",
              "      <td>458</td>\n",
              "      <td>K560-200</td>\n",
              "      <td>Acceptable after further work performed</td>\n",
              "      <td>JK</td>\n",
              "      <td>STRUCTURE</td>\n",
              "      <td>RIGHT SIDE</td>\n",
              "      <td>NC-DC-F</td>\n",
              "      <td>FCA</td>\n",
              "      <td>Shape geometry deviating</td>\n",
              "      <td>NC-CC-E</td>\n",
              "      <td>E5</td>\n",
              "      <td>No Fault Found (NFF)</td>\n",
              "      <td>12</td>\n",
              "      <td>30.5</td>\n",
              "      <td>29.0</td>\n",
              "    </tr>\n",
              "    <tr>\n",
              "      <th>1</th>\n",
              "      <td>ACC</td>\n",
              "      <td>467</td>\n",
              "      <td>K590-500</td>\n",
              "      <td>Acceptable as is</td>\n",
              "      <td>JK</td>\n",
              "      <td>STRUCTURE</td>\n",
              "      <td>RIGHT SIDE</td>\n",
              "      <td>NC-DC-B</td>\n",
              "      <td>BBA</td>\n",
              "      <td>Measure out of tolerance</td>\n",
              "      <td>NC-CC-E</td>\n",
              "      <td>E5</td>\n",
              "      <td>No Fault Found (NFF)</td>\n",
              "      <td>12</td>\n",
              "      <td>30.0</td>\n",
              "      <td>33.0</td>\n",
              "    </tr>\n",
              "    <tr>\n",
              "      <th>2</th>\n",
              "      <td>ACC</td>\n",
              "      <td>434</td>\n",
              "      <td>K590-500</td>\n",
              "      <td>Acceptable after further work performed</td>\n",
              "      <td>RA</td>\n",
              "      <td>STRUCTURE</td>\n",
              "      <td>RIGHT SIDE</td>\n",
              "      <td>NC-DC-F</td>\n",
              "      <td>FCB</td>\n",
              "      <td>Stringer displacement</td>\n",
              "      <td>NC-CC-G</td>\n",
              "      <td>G1</td>\n",
              "      <td>Working error</td>\n",
              "      <td>12</td>\n",
              "      <td>64.5</td>\n",
              "      <td>29.0</td>\n",
              "    </tr>\n",
              "    <tr>\n",
              "      <th>3</th>\n",
              "      <td>ACC</td>\n",
              "      <td>0</td>\n",
              "      <td>K590-500</td>\n",
              "      <td>Acceptable after further work performed</td>\n",
              "      <td>DN</td>\n",
              "      <td>STRUCTURE</td>\n",
              "      <td>RIGHT SIDE</td>\n",
              "      <td>NC-DC-F</td>\n",
              "      <td>FCG</td>\n",
              "      <td>Not sufficient flatness</td>\n",
              "      <td>NC-CC-C</td>\n",
              "      <td>C4</td>\n",
              "      <td>Process/Method not applicable</td>\n",
              "      <td>12</td>\n",
              "      <td>64.5</td>\n",
              "      <td>29.0</td>\n",
              "    </tr>\n",
              "    <tr>\n",
              "      <th>4</th>\n",
              "      <td>ACC</td>\n",
              "      <td>447</td>\n",
              "      <td>K560-200</td>\n",
              "      <td>Acceptable as is</td>\n",
              "      <td>JK</td>\n",
              "      <td>STRUCTURE</td>\n",
              "      <td>RIGHT SIDE</td>\n",
              "      <td>NC-DC-A</td>\n",
              "      <td>AO</td>\n",
              "      <td>Riveting</td>\n",
              "      <td>NC-CC-G</td>\n",
              "      <td>G1</td>\n",
              "      <td>Working error</td>\n",
              "      <td>12</td>\n",
              "      <td>24.5</td>\n",
              "      <td>29.0</td>\n",
              "    </tr>\n",
              "  </tbody>\n",
              "</table>\n",
              "</div>"
            ],
            "text/plain": [
              "  Status  MSN ProductType  ... month Frame_avg Cross_avf\n",
              "0    ACC  458    K560-200  ...    12      30.5      29.0\n",
              "1    ACC  467    K590-500  ...    12      30.0      33.0\n",
              "2    ACC  434    K590-500  ...    12      64.5      29.0\n",
              "3    ACC    0    K590-500  ...    12      64.5      29.0\n",
              "4    ACC  447    K560-200  ...    12      24.5      29.0\n",
              "\n",
              "[5 rows x 16 columns]"
            ]
          },
          "metadata": {
            "tags": []
          },
          "execution_count": 291
        }
      ]
    },
    {
      "cell_type": "code",
      "metadata": {
        "id": "zJSaCpEvP3EW",
        "colab_type": "code",
        "colab": {
          "base_uri": "https://localhost:8080/",
          "height": 284
        },
        "outputId": "f3c3cf40-d38c-4e03-aa82-62bcc86d7f29"
      },
      "source": [
        "check_stats('Disposition')"
      ],
      "execution_count": 292,
      "outputs": [
        {
          "output_type": "stream",
          "text": [
            "0    Acceptable after further work performed\n",
            "1                           Acceptable as is\n",
            "2    Acceptable after further work performed\n",
            "3    Acceptable after further work performed\n",
            "4                           Acceptable as is\n",
            "Name: Disposition, dtype: object\n",
            "count                 5803\n",
            "unique                   3\n",
            "top       Acceptable as is\n",
            "freq                  2467\n",
            "Name: Disposition, dtype: object\n",
            "Acceptable as is                           2467\n",
            "Acceptable after further work performed    2173\n",
            "Acceptable as is with work performed       1163\n",
            "Name: Disposition, dtype: int64\n"
          ],
          "name": "stdout"
        }
      ]
    },
    {
      "cell_type": "code",
      "metadata": {
        "id": "SxV5CowgQWYx",
        "colab_type": "code",
        "colab": {}
      },
      "source": [
        "# I am assuming that that is the dependent variable that we are trying to predict. \n",
        "# Also, as two classes looks similar, I am combining them into one. Namely, Acceptable as is and Acceptable after further work performed\n",
        "df['Disposition'].replace(['Acceptable as is with work performed'], 'Acceptable after further work performed', inplace=True)"
      ],
      "execution_count": 293,
      "outputs": []
    },
    {
      "cell_type": "code",
      "metadata": {
        "id": "RtvCp23dc3L2",
        "colab_type": "code",
        "colab": {}
      },
      "source": [
        "disposition_map = {\n",
        "    'Acceptable as is': 1,\n",
        "    'Acceptable after further work performed': 0}"
      ],
      "execution_count": 294,
      "outputs": []
    },
    {
      "cell_type": "code",
      "metadata": {
        "id": "X2ReIpVJdIc2",
        "colab_type": "code",
        "colab": {}
      },
      "source": [
        "df['Disposition'] = df['Disposition'].map(disposition_map)"
      ],
      "execution_count": 295,
      "outputs": []
    },
    {
      "cell_type": "code",
      "metadata": {
        "id": "KauGrExUdMLI",
        "colab_type": "code",
        "colab": {
          "base_uri": "https://localhost:8080/",
          "height": 337
        },
        "outputId": "b23520d1-3aa5-44e3-e3f0-d35fb94be641"
      },
      "source": [
        "#let's see it again after above updates\n",
        "check_stats('Disposition')"
      ],
      "execution_count": 296,
      "outputs": [
        {
          "output_type": "stream",
          "text": [
            "0    0\n",
            "1    1\n",
            "2    0\n",
            "3    0\n",
            "4    1\n",
            "Name: Disposition, dtype: int64\n",
            "count    5803.000000\n",
            "mean        0.425125\n",
            "std         0.494405\n",
            "min         0.000000\n",
            "25%         0.000000\n",
            "50%         0.000000\n",
            "75%         1.000000\n",
            "max         1.000000\n",
            "Name: Disposition, dtype: float64\n",
            "0    3336\n",
            "1    2467\n",
            "Name: Disposition, dtype: int64\n"
          ],
          "name": "stdout"
        }
      ]
    },
    {
      "cell_type": "code",
      "metadata": {
        "id": "nOZnYML_dPFc",
        "colab_type": "code",
        "colab": {
          "base_uri": "https://localhost:8080/",
          "height": 70
        },
        "outputId": "899a9992-499e-4fd8-bb31-90ec00cbca55"
      },
      "source": [
        "#Disposition counts as percentages:\n",
        "df['Disposition'].value_counts(normalize=True, dropna=False)"
      ],
      "execution_count": 297,
      "outputs": [
        {
          "output_type": "execute_result",
          "data": {
            "text/plain": [
              "0    0.574875\n",
              "1    0.425125\n",
              "Name: Disposition, dtype: float64"
            ]
          },
          "metadata": {
            "tags": []
          },
          "execution_count": 297
        }
      ]
    },
    {
      "cell_type": "markdown",
      "metadata": {
        "id": "wLtQI5wVdYF_",
        "colab_type": "text"
      },
      "source": [
        "About 57% of the products are acceptable as they are and 42% needs work to be acceptable.\n",
        "\n"
      ]
    },
    {
      "cell_type": "code",
      "metadata": {
        "id": "CGsObivFdWBm",
        "colab_type": "code",
        "colab": {
          "base_uri": "https://localhost:8080/",
          "height": 458
        },
        "outputId": "6cdf8cd4-8c3f-402f-c3ff-dd5c788aca43"
      },
      "source": [
        "#Visualizing the Target Column Outcomes\n",
        "\n",
        "fig, axs = plt.subplots(1,2,figsize=(14,7))\n",
        "sns.countplot(x='Disposition',data=df,ax=axs[0])\n",
        "axs[0].set_title(\"Frequency of each Disposition\")\n",
        "df.Disposition.value_counts().plot(x=None,y=None, kind='pie', ax=axs[1],autopct='%1.2f%%')\n",
        "axs[1].set_title(\"Percentage of each Disposition\")\n",
        "plt.show()"
      ],
      "execution_count": 298,
      "outputs": [
        {
          "output_type": "display_data",
          "data": {
            "image/png": "[encoded data removed]",
            "text/plain": [
              "<Figure size 1008x504 with 2 Axes>"
            ]
          },
          "metadata": {
            "tags": [],
            "needs_background": "light"
          }
        }
      ]
    },
    {
      "cell_type": "code",
      "metadata": {
        "id": "xTo0p6pFdt9f",
        "colab_type": "code",
        "colab": {
          "base_uri": "https://localhost:8080/",
          "height": 886
        },
        "outputId": "8e511d6c-acf4-4a3c-e47c-b73be3894987"
      },
      "source": [
        "cor = df.corr() \n",
        "plt.subplots(figsize=(20,15))\n",
        "sns.heatmap(cor, square = True)"
      ],
      "execution_count": 299,
      "outputs": [
        {
          "output_type": "execute_result",
          "data": {
            "text/plain": [
              "<matplotlib.axes._subplots.AxesSubplot at 0x7fcc0fc05208>"
            ]
          },
          "metadata": {
            "tags": []
          },
          "execution_count": 299
        },
        {
          "output_type": "display_data",
          "data": {
            "image/png": "[encoded data removed]",
            "text/plain": [
              "<Figure size 1440x1080 with 2 Axes>"
            ]
          },
          "metadata": {
            "tags": [],
            "needs_background": "light"
          }
        }
      ]
    },
    {
      "cell_type": "code",
      "metadata": {
        "id": "wIPKVeUBdyxh",
        "colab_type": "code",
        "colab": {
          "base_uri": "https://localhost:8080/",
          "height": 319
        },
        "outputId": "4262af77-6a02-461c-f96b-b8461a3fb98e"
      },
      "source": [
        "missing_features = df.isnull().mean().sort_values(ascending=False)\n",
        "print(missing_features)"
      ],
      "execution_count": 300,
      "outputs": [
        {
          "output_type": "stream",
          "text": [
            "Cross_avf               0.0\n",
            "Frame_avg               0.0\n",
            "month                   0.0\n",
            "CauseCodeDescription    0.0\n",
            "CauseCode               0.0\n",
            "CauseCodeGroup          0.0\n",
            "FaultCodeDescription    0.0\n",
            "FaultCode               0.0\n",
            "FaultCodeGroup          0.0\n",
            "Side                    0.0\n",
            "Category                0.0\n",
            "Factory Code            0.0\n",
            "Disposition             0.0\n",
            "ProductType             0.0\n",
            "MSN                     0.0\n",
            "Status                  0.0\n",
            "dtype: float64\n"
          ],
          "name": "stdout"
        }
      ]
    },
    {
      "cell_type": "code",
      "metadata": {
        "id": "pD8Ztlxud7sg",
        "colab_type": "code",
        "colab": {}
      },
      "source": [
        "#No more missing values are present now."
      ],
      "execution_count": 301,
      "outputs": []
    },
    {
      "cell_type": "code",
      "metadata": {
        "id": "AhqzHFXOd-qO",
        "colab_type": "code",
        "colab": {
          "base_uri": "https://localhost:8080/",
          "height": 177
        },
        "outputId": "36239b0a-d4d8-4217-ffcc-fb39dc3628ba"
      },
      "source": [
        "df['Cross_avf'].describe()"
      ],
      "execution_count": 302,
      "outputs": [
        {
          "output_type": "execute_result",
          "data": {
            "text/plain": [
              "count    5803.000000\n",
              "mean       28.391091\n",
              "std         7.699811\n",
              "min         1.000000\n",
              "25%        27.500000\n",
              "50%        29.000000\n",
              "75%        31.500000\n",
              "max        46.500000\n",
              "Name: Cross_avf, dtype: float64"
            ]
          },
          "metadata": {
            "tags": []
          },
          "execution_count": 302
        }
      ]
    },
    {
      "cell_type": "markdown",
      "metadata": {
        "id": "cFcb1F59eHvu",
        "colab_type": "text"
      },
      "source": [
        "Cross_avf dimension ranges from 1 to 46.5, with a median of 29."
      ]
    },
    {
      "cell_type": "code",
      "metadata": {
        "id": "7LlKKn-NeFZG",
        "colab_type": "code",
        "colab": {
          "base_uri": "https://localhost:8080/",
          "height": 135
        },
        "outputId": "ff37d16b-1031-490c-e17c-f630abfa85ef"
      },
      "source": [
        "df.groupby('Disposition')['Cross_avf'].describe()"
      ],
      "execution_count": 303,
      "outputs": [
        {
          "output_type": "execute_result",
          "data": {
            "text/html": [
              "<div>\n",
              "<style scoped>\n",
              "    .dataframe tbody tr th:only-of-type {\n",
              "        vertical-align: middle;\n",
              "    }\n",
              "\n",
              "    .dataframe tbody tr th {\n",
              "        vertical-align: top;\n",
              "    }\n",
              "\n",
              "    .dataframe thead th {\n",
              "        text-align: right;\n",
              "    }\n",
              "</style>\n",
              "<table border=\"1\" class=\"dataframe\">\n",
              "  <thead>\n",
              "    <tr style=\"text-align: right;\">\n",
              "      <th></th>\n",
              "      <th>count</th>\n",
              "      <th>mean</th>\n",
              "      <th>std</th>\n",
              "      <th>min</th>\n",
              "      <th>25%</th>\n",
              "      <th>50%</th>\n",
              "      <th>75%</th>\n",
              "      <th>max</th>\n",
              "    </tr>\n",
              "    <tr>\n",
              "      <th>Disposition</th>\n",
              "      <th></th>\n",
              "      <th></th>\n",
              "      <th></th>\n",
              "      <th></th>\n",
              "      <th></th>\n",
              "      <th></th>\n",
              "      <th></th>\n",
              "      <th></th>\n",
              "    </tr>\n",
              "  </thead>\n",
              "  <tbody>\n",
              "    <tr>\n",
              "      <th>0</th>\n",
              "      <td>3336.0</td>\n",
              "      <td>28.187350</td>\n",
              "      <td>7.142350</td>\n",
              "      <td>1.0</td>\n",
              "      <td>27.5</td>\n",
              "      <td>29.0</td>\n",
              "      <td>29.5</td>\n",
              "      <td>46.5</td>\n",
              "    </tr>\n",
              "    <tr>\n",
              "      <th>1</th>\n",
              "      <td>2467.0</td>\n",
              "      <td>28.666599</td>\n",
              "      <td>8.388601</td>\n",
              "      <td>2.0</td>\n",
              "      <td>27.5</td>\n",
              "      <td>29.0</td>\n",
              "      <td>33.0</td>\n",
              "      <td>46.5</td>\n",
              "    </tr>\n",
              "  </tbody>\n",
              "</table>\n",
              "</div>"
            ],
            "text/plain": [
              "              count       mean       std  min   25%   50%   75%   max\n",
              "Disposition                                                          \n",
              "0            3336.0  28.187350  7.142350  1.0  27.5  29.0  29.5  46.5\n",
              "1            2467.0  28.666599  8.388601  2.0  27.5  29.0  33.0  46.5"
            ]
          },
          "metadata": {
            "tags": []
          },
          "execution_count": 303
        }
      ]
    },
    {
      "cell_type": "code",
      "metadata": {
        "id": "4OjdX3yMeSdX",
        "colab_type": "code",
        "colab": {}
      },
      "source": [
        "#This seems to have no effect on our disposition column. Can be deleted altogether. "
      ],
      "execution_count": 304,
      "outputs": []
    },
    {
      "cell_type": "code",
      "metadata": {
        "id": "_Y7sYorjeeJZ",
        "colab_type": "code",
        "colab": {
          "base_uri": "https://localhost:8080/",
          "height": 177
        },
        "outputId": "8e1dc487-1bc6-4799-e634-a676cfbe15de"
      },
      "source": [
        "df['Frame_avg'].describe()"
      ],
      "execution_count": 305,
      "outputs": [
        {
          "output_type": "execute_result",
          "data": {
            "text/plain": [
              "count    5803.000000\n",
              "mean       61.253748\n",
              "std        19.378052\n",
              "min        20.000000\n",
              "25%        57.000000\n",
              "50%        64.500000\n",
              "75%        66.000000\n",
              "max        93.000000\n",
              "Name: Frame_avg, dtype: float64"
            ]
          },
          "metadata": {
            "tags": []
          },
          "execution_count": 305
        }
      ]
    },
    {
      "cell_type": "markdown",
      "metadata": {
        "id": "3jQVBlxEekyZ",
        "colab_type": "text"
      },
      "source": [
        "Frame_avg dimension ranges from 20 to 93, with a median of 64."
      ]
    },
    {
      "cell_type": "code",
      "metadata": {
        "id": "ZkQkluTDeixK",
        "colab_type": "code",
        "colab": {
          "base_uri": "https://localhost:8080/",
          "height": 135
        },
        "outputId": "b87dd1f8-213d-440c-a15e-a04fbe2bbc80"
      },
      "source": [
        "#Compare the disposition by frame_avg:\n",
        "df.groupby('Disposition')['Frame_avg'].describe()"
      ],
      "execution_count": 306,
      "outputs": [
        {
          "output_type": "execute_result",
          "data": {
            "text/html": [
              "<div>\n",
              "<style scoped>\n",
              "    .dataframe tbody tr th:only-of-type {\n",
              "        vertical-align: middle;\n",
              "    }\n",
              "\n",
              "    .dataframe tbody tr th {\n",
              "        vertical-align: top;\n",
              "    }\n",
              "\n",
              "    .dataframe thead th {\n",
              "        text-align: right;\n",
              "    }\n",
              "</style>\n",
              "<table border=\"1\" class=\"dataframe\">\n",
              "  <thead>\n",
              "    <tr style=\"text-align: right;\">\n",
              "      <th></th>\n",
              "      <th>count</th>\n",
              "      <th>mean</th>\n",
              "      <th>std</th>\n",
              "      <th>min</th>\n",
              "      <th>25%</th>\n",
              "      <th>50%</th>\n",
              "      <th>75%</th>\n",
              "      <th>max</th>\n",
              "    </tr>\n",
              "    <tr>\n",
              "      <th>Disposition</th>\n",
              "      <th></th>\n",
              "      <th></th>\n",
              "      <th></th>\n",
              "      <th></th>\n",
              "      <th></th>\n",
              "      <th></th>\n",
              "      <th></th>\n",
              "      <th></th>\n",
              "    </tr>\n",
              "  </thead>\n",
              "  <tbody>\n",
              "    <tr>\n",
              "      <th>0</th>\n",
              "      <td>3336.0</td>\n",
              "      <td>63.281775</td>\n",
              "      <td>18.985915</td>\n",
              "      <td>20.0</td>\n",
              "      <td>60.0</td>\n",
              "      <td>64.5</td>\n",
              "      <td>79.5</td>\n",
              "      <td>93.0</td>\n",
              "    </tr>\n",
              "    <tr>\n",
              "      <th>1</th>\n",
              "      <td>2467.0</td>\n",
              "      <td>58.511350</td>\n",
              "      <td>19.568310</td>\n",
              "      <td>20.5</td>\n",
              "      <td>38.5</td>\n",
              "      <td>64.5</td>\n",
              "      <td>64.5</td>\n",
              "      <td>92.5</td>\n",
              "    </tr>\n",
              "  </tbody>\n",
              "</table>\n",
              "</div>"
            ],
            "text/plain": [
              "              count       mean        std   min   25%   50%   75%   max\n",
              "Disposition                                                            \n",
              "0            3336.0  63.281775  18.985915  20.0  60.0  64.5  79.5  93.0\n",
              "1            2467.0  58.511350  19.568310  20.5  38.5  64.5  64.5  92.5"
            ]
          },
          "metadata": {
            "tags": []
          },
          "execution_count": 306
        }
      ]
    },
    {
      "cell_type": "code",
      "metadata": {
        "id": "25CyaXjAe102",
        "colab_type": "code",
        "colab": {}
      },
      "source": [
        "# Products that have faul (not acceptable as is have higher mean for the frame feature)"
      ],
      "execution_count": 307,
      "outputs": []
    },
    {
      "cell_type": "code",
      "metadata": {
        "id": "S5JqMCzOq7FU",
        "colab_type": "code",
        "colab": {
          "base_uri": "https://localhost:8080/",
          "height": 523
        },
        "outputId": "40ef5594-01c3-4c45-db4b-4195d4a556db"
      },
      "source": [
        "#Factory \n",
        "df['Factory Code'].value_counts().sort_values().plot(kind='barh',figsize=(18,8)) #plotting the bar to see the factory distribution\n",
        "plt.title('Number of products distributed by Factory',fontsize=20) #plotting the title\n",
        "plt.xlabel('Number of Products',fontsize=15) #plotting number of products for x axis\n",
        "plt.ylabel('Factory',fontsize=15); #plotting factory for y axis"
      ],
      "execution_count": 308,
      "outputs": [
        {
          "output_type": "display_data",
          "data": {
            "image/png": "[encoded data removed]",
            "text/plain": [
              "<Figure size 1296x576 with 1 Axes>"
            ]
          },
          "metadata": {
            "tags": [],
            "needs_background": "light"
          }
        }
      ]
    },
    {
      "cell_type": "markdown",
      "metadata": {
        "id": "5eru7GPRrym4",
        "colab_type": "text"
      },
      "source": [
        "#Most number of products are developed at RA (I am guessing Ranchi factory)"
      ]
    },
    {
      "cell_type": "code",
      "metadata": {
        "id": "xvwFyANnrIF8",
        "colab_type": "code",
        "colab": {
          "base_uri": "https://localhost:8080/",
          "height": 316
        },
        "outputId": "785a9adf-2922-4041-a61a-93bece8337d1"
      },
      "source": [
        "plt.figure(figsize=(10,3), dpi=90)\n",
        "sns.countplot(df['MSN'], order=sorted(df['MSN'].unique()), color='#5975A4', saturation=1)\n",
        "_, _ = plt.xticks(np.arange(0, 90, 5), np.arange(0, 90, 5))\n",
        "plt.title('Number of Open Credit Lines')"
      ],
      "execution_count": 309,
      "outputs": [
        {
          "output_type": "execute_result",
          "data": {
            "text/plain": [
              "Text(0.5, 1.0, 'Number of Open Credit Lines')"
            ]
          },
          "metadata": {
            "tags": []
          },
          "execution_count": 309
        },
        {
          "output_type": "display_data",
          "data": {
            "image/png": "[encoded data removed]",
            "text/plain": [
              "<Figure size 900x270 with 1 Axes>"
            ]
          },
          "metadata": {
            "tags": [],
            "needs_background": "light"
          }
        }
      ]
    },
    {
      "cell_type": "code",
      "metadata": {
        "id": "4IRnHAiPsKbJ",
        "colab_type": "code",
        "colab": {
          "base_uri": "https://localhost:8080/",
          "height": 135
        },
        "outputId": "1e52f59f-74be-4b53-aa9f-cc81dff4b105"
      },
      "source": [
        "#let's see the difference in number of credit lines between fully paid loans and charged-off loans\n",
        "df.groupby('Disposition')['Factory Code'].describe()"
      ],
      "execution_count": 310,
      "outputs": [
        {
          "output_type": "execute_result",
          "data": {
            "text/html": [
              "<div>\n",
              "<style scoped>\n",
              "    .dataframe tbody tr th:only-of-type {\n",
              "        vertical-align: middle;\n",
              "    }\n",
              "\n",
              "    .dataframe tbody tr th {\n",
              "        vertical-align: top;\n",
              "    }\n",
              "\n",
              "    .dataframe thead th {\n",
              "        text-align: right;\n",
              "    }\n",
              "</style>\n",
              "<table border=\"1\" class=\"dataframe\">\n",
              "  <thead>\n",
              "    <tr style=\"text-align: right;\">\n",
              "      <th></th>\n",
              "      <th>count</th>\n",
              "      <th>unique</th>\n",
              "      <th>top</th>\n",
              "      <th>freq</th>\n",
              "    </tr>\n",
              "    <tr>\n",
              "      <th>Disposition</th>\n",
              "      <th></th>\n",
              "      <th></th>\n",
              "      <th></th>\n",
              "      <th></th>\n",
              "    </tr>\n",
              "  </thead>\n",
              "  <tbody>\n",
              "    <tr>\n",
              "      <th>0</th>\n",
              "      <td>3336</td>\n",
              "      <td>3</td>\n",
              "      <td>RA</td>\n",
              "      <td>1871</td>\n",
              "    </tr>\n",
              "    <tr>\n",
              "      <th>1</th>\n",
              "      <td>2467</td>\n",
              "      <td>3</td>\n",
              "      <td>JK</td>\n",
              "      <td>1258</td>\n",
              "    </tr>\n",
              "  </tbody>\n",
              "</table>\n",
              "</div>"
            ],
            "text/plain": [
              "            count unique top  freq\n",
              "Disposition                       \n",
              "0            3336      3  RA  1871\n",
              "1            2467      3  JK  1258"
            ]
          },
          "metadata": {
            "tags": []
          },
          "execution_count": 310
        }
      ]
    },
    {
      "cell_type": "code",
      "metadata": {
        "id": "2A7qJMmEsn55",
        "colab_type": "code",
        "colab": {}
      },
      "source": [
        "#Most number of acceptable as is products are coming from JK Factory\n",
        "#Most number of not acceptable products are coming from RA factory but could be because of the number of products manufactured there are more than other 2 factories"
      ],
      "execution_count": 311,
      "outputs": []
    },
    {
      "cell_type": "code",
      "metadata": {
        "id": "YR906wsrs9Oq",
        "colab_type": "code",
        "colab": {
          "base_uri": "https://localhost:8080/",
          "height": 135
        },
        "outputId": "8c63626c-1df4-4d6b-c647-0c0892a37f40"
      },
      "source": [
        "df.groupby('Disposition')['Status'].describe()"
      ],
      "execution_count": 312,
      "outputs": [
        {
          "output_type": "execute_result",
          "data": {
            "text/html": [
              "<div>\n",
              "<style scoped>\n",
              "    .dataframe tbody tr th:only-of-type {\n",
              "        vertical-align: middle;\n",
              "    }\n",
              "\n",
              "    .dataframe tbody tr th {\n",
              "        vertical-align: top;\n",
              "    }\n",
              "\n",
              "    .dataframe thead th {\n",
              "        text-align: right;\n",
              "    }\n",
              "</style>\n",
              "<table border=\"1\" class=\"dataframe\">\n",
              "  <thead>\n",
              "    <tr style=\"text-align: right;\">\n",
              "      <th></th>\n",
              "      <th>count</th>\n",
              "      <th>unique</th>\n",
              "      <th>top</th>\n",
              "      <th>freq</th>\n",
              "    </tr>\n",
              "    <tr>\n",
              "      <th>Disposition</th>\n",
              "      <th></th>\n",
              "      <th></th>\n",
              "      <th></th>\n",
              "      <th></th>\n",
              "    </tr>\n",
              "  </thead>\n",
              "  <tbody>\n",
              "    <tr>\n",
              "      <th>0</th>\n",
              "      <td>3336</td>\n",
              "      <td>2</td>\n",
              "      <td>ACC</td>\n",
              "      <td>2884</td>\n",
              "    </tr>\n",
              "    <tr>\n",
              "      <th>1</th>\n",
              "      <td>2467</td>\n",
              "      <td>3</td>\n",
              "      <td>ACC</td>\n",
              "      <td>2264</td>\n",
              "    </tr>\n",
              "  </tbody>\n",
              "</table>\n",
              "</div>"
            ],
            "text/plain": [
              "            count unique  top  freq\n",
              "Disposition                        \n",
              "0            3336      2  ACC  2884\n",
              "1            2467      3  ACC  2264"
            ]
          },
          "metadata": {
            "tags": []
          },
          "execution_count": 312
        }
      ]
    },
    {
      "cell_type": "code",
      "metadata": {
        "id": "1FMgTNOKtAev",
        "colab_type": "code",
        "colab": {
          "base_uri": "https://localhost:8080/",
          "height": 316
        },
        "outputId": "33fc11da-c196-45c8-e8d3-ba202b02cdb1"
      },
      "source": [
        "plt.figure(figsize=(10,3), dpi=90)\n",
        "sns.countplot(df['month'], order=sorted(df['month'].unique()), color='#5975A4', saturation=1)\n",
        "_, _ = plt.xticks(np.arange(0, 12, 1), np.arange(0, 12, 1))\n",
        "plt.title('Number of Open Credit Lines')"
      ],
      "execution_count": 313,
      "outputs": [
        {
          "output_type": "execute_result",
          "data": {
            "text/plain": [
              "Text(0.5, 1.0, 'Number of Open Credit Lines')"
            ]
          },
          "metadata": {
            "tags": []
          },
          "execution_count": 313
        },
        {
          "output_type": "display_data",
          "data": {
            "image/png": "[encoded data removed]",
            "text/plain": [
              "<Figure size 900x270 with 1 Axes>"
            ]
          },
          "metadata": {
            "tags": [],
            "needs_background": "light"
          }
        }
      ]
    },
    {
      "cell_type": "code",
      "metadata": {
        "id": "yPsYITjFtNAm",
        "colab_type": "code",
        "colab": {}
      },
      "source": [
        "#Months seems to have no special effect on the disposition. However, it is observed that during mid months, the production is lesser."
      ],
      "execution_count": 314,
      "outputs": []
    },
    {
      "cell_type": "code",
      "metadata": {
        "id": "gLUpihVMtrdg",
        "colab_type": "code",
        "colab": {
          "base_uri": "https://localhost:8080/",
          "height": 135
        },
        "outputId": "21237aa0-7bbf-42ac-fe75-52abd503d8ab"
      },
      "source": [
        "df.groupby('Disposition')['ProductType'].describe()"
      ],
      "execution_count": 315,
      "outputs": [
        {
          "output_type": "execute_result",
          "data": {
            "text/html": [
              "<div>\n",
              "<style scoped>\n",
              "    .dataframe tbody tr th:only-of-type {\n",
              "        vertical-align: middle;\n",
              "    }\n",
              "\n",
              "    .dataframe tbody tr th {\n",
              "        vertical-align: top;\n",
              "    }\n",
              "\n",
              "    .dataframe thead th {\n",
              "        text-align: right;\n",
              "    }\n",
              "</style>\n",
              "<table border=\"1\" class=\"dataframe\">\n",
              "  <thead>\n",
              "    <tr style=\"text-align: right;\">\n",
              "      <th></th>\n",
              "      <th>count</th>\n",
              "      <th>unique</th>\n",
              "      <th>top</th>\n",
              "      <th>freq</th>\n",
              "    </tr>\n",
              "    <tr>\n",
              "      <th>Disposition</th>\n",
              "      <th></th>\n",
              "      <th></th>\n",
              "      <th></th>\n",
              "      <th></th>\n",
              "    </tr>\n",
              "  </thead>\n",
              "  <tbody>\n",
              "    <tr>\n",
              "      <th>0</th>\n",
              "      <td>3336</td>\n",
              "      <td>2</td>\n",
              "      <td>K560-200</td>\n",
              "      <td>2231</td>\n",
              "    </tr>\n",
              "    <tr>\n",
              "      <th>1</th>\n",
              "      <td>2467</td>\n",
              "      <td>2</td>\n",
              "      <td>K560-200</td>\n",
              "      <td>1798</td>\n",
              "    </tr>\n",
              "  </tbody>\n",
              "</table>\n",
              "</div>"
            ],
            "text/plain": [
              "            count unique       top  freq\n",
              "Disposition                             \n",
              "0            3336      2  K560-200  2231\n",
              "1            2467      2  K560-200  1798"
            ]
          },
          "metadata": {
            "tags": []
          },
          "execution_count": 315
        }
      ]
    },
    {
      "cell_type": "code",
      "metadata": {
        "id": "B7hOE0R6tuX-",
        "colab_type": "code",
        "colab": {
          "base_uri": "https://localhost:8080/",
          "height": 458
        },
        "outputId": "42b45a34-6292-4a8d-846d-31abfccc9ce6"
      },
      "source": [
        "#Visualizing the ProductType Column Outcomes\n",
        "\n",
        "fig, axs = plt.subplots(1,2,figsize=(14,7))\n",
        "sns.countplot(x='ProductType',data=df,ax=axs[0])\n",
        "axs[0].set_title(\"Frequency of each ProductType\")\n",
        "df.ProductType.value_counts().plot(x=None,y=None, kind='pie', ax=axs[1],autopct='%1.2f%%')\n",
        "axs[1].set_title(\"Percentage of each ProductType\")\n",
        "plt.show()"
      ],
      "execution_count": 316,
      "outputs": [
        {
          "output_type": "display_data",
          "data": {
            "image/png": "[encoded data removed]",
            "text/plain": [
              "<Figure size 1008x504 with 2 Axes>"
            ]
          },
          "metadata": {
            "tags": [],
            "needs_background": "light"
          }
        }
      ]
    },
    {
      "cell_type": "code",
      "metadata": {
        "id": "IG1rqKQ_t_EO",
        "colab_type": "code",
        "colab": {
          "base_uri": "https://localhost:8080/",
          "height": 458
        },
        "outputId": "d41b9d2c-d0f6-4779-cb8d-df835388f8e0"
      },
      "source": [
        "#Visualizing the Category Column Outcomes\n",
        "\n",
        "fig, axs = plt.subplots(1,2,figsize=(14,7))\n",
        "sns.countplot(x='Category',data=df,ax=axs[0])\n",
        "axs[0].set_title(\"Frequency of each Category\")\n",
        "df.Category.value_counts().plot(x=None,y=None, kind='pie', ax=axs[1],autopct='%1.2f%%')\n",
        "axs[1].set_title(\"Percentage of each Category\")\n",
        "plt.show()"
      ],
      "execution_count": 317,
      "outputs": [
        {
          "output_type": "display_data",
          "data": {
            "image/png": "[encoded data removed]",
            "text/plain": [
              "<Figure size 1008x504 with 2 Axes>"
            ]
          },
          "metadata": {
            "tags": [],
            "needs_background": "light"
          }
        }
      ]
    },
    {
      "cell_type": "code",
      "metadata": {
        "id": "AW7XoVbZuKPm",
        "colab_type": "code",
        "colab": {}
      },
      "source": [
        "# Very few products belonging to fuel system category are present"
      ],
      "execution_count": 318,
      "outputs": []
    },
    {
      "cell_type": "code",
      "metadata": {
        "id": "UPO9Qk3yuwel",
        "colab_type": "code",
        "colab": {
          "base_uri": "https://localhost:8080/",
          "height": 141
        },
        "outputId": "448f5159-c046-4fe7-cae5-de9b9ac18b70"
      },
      "source": [
        "  df['Side'].value_counts()"
      ],
      "execution_count": 319,
      "outputs": [
        {
          "output_type": "execute_result",
          "data": {
            "text/plain": [
              "RIGHT SIDE             3913\n",
              "LEFT SIDE              1510\n",
              "RIGHT AND LEFT SIDE     323\n",
              "IN A/C AXIS              36\n",
              "RIGHT                    11\n",
              "LEFT                     10\n",
              "Name: Side, dtype: int64"
            ]
          },
          "metadata": {
            "tags": []
          },
          "execution_count": 319
        }
      ]
    },
    {
      "cell_type": "code",
      "metadata": {
        "id": "Vm3h1IVju34g",
        "colab_type": "code",
        "colab": {}
      },
      "source": [
        "#As the above feature has reduntant values, changing the name to make them similar. \n",
        "\n",
        "df['Side'].replace(['RIGHT SIDE'], 'RIGHT', inplace=True)\n",
        "df['Side'].replace(['LEFT SIDE'], 'LEFT', inplace=True)"
      ],
      "execution_count": 320,
      "outputs": []
    },
    {
      "cell_type": "code",
      "metadata": {
        "id": "4dU0LzuavKEh",
        "colab_type": "code",
        "colab": {
          "base_uri": "https://localhost:8080/",
          "height": 458
        },
        "outputId": "755a193a-fa09-4c3b-e436-8f9367668661"
      },
      "source": [
        "#Visualizing the Side Column Outcomes\n",
        "\n",
        "fig, axs = plt.subplots(1,2,figsize=(14,7))\n",
        "sns.countplot(x='Side',data=df,ax=axs[0])\n",
        "axs[0].set_title(\"Frequency of each Side\")\n",
        "df.Side.value_counts().plot(x=None,y=None, kind='pie', ax=axs[1],autopct='%1.2f%%')\n",
        "axs[1].set_title(\"Percentage of each Side\")\n",
        "plt.show()"
      ],
      "execution_count": 321,
      "outputs": [
        {
          "output_type": "display_data",
          "data": {
            "image/png": "[encoded data removed]",
            "text/plain": [
              "<Figure size 1008x504 with 2 Axes>"
            ]
          },
          "metadata": {
            "tags": [],
            "needs_background": "light"
          }
        }
      ]
    },
    {
      "cell_type": "markdown",
      "metadata": {
        "id": "QQHQPXQZvSha",
        "colab_type": "text"
      },
      "source": [
        "## Most number of products are for right side. "
      ]
    },
    {
      "cell_type": "code",
      "metadata": {
        "id": "-err_YfOvOdt",
        "colab_type": "code",
        "colab": {
          "base_uri": "https://localhost:8080/",
          "height": 106
        },
        "outputId": "44447a19-0222-4622-b60c-9939cc9e6e09"
      },
      "source": [
        "print(\"Data types and their frequency\\n{}\".format(df.dtypes.value_counts()))"
      ],
      "execution_count": 322,
      "outputs": [
        {
          "output_type": "stream",
          "text": [
            "Data types and their frequency\n",
            "object     11\n",
            "int64       3\n",
            "float64     2\n",
            "dtype: int64\n"
          ],
          "name": "stdout"
        }
      ]
    },
    {
      "cell_type": "markdown",
      "metadata": {
        "id": "obtZA-PMv6Pj",
        "colab_type": "text"
      },
      "source": [
        "# Processing Categorical Variables"
      ]
    },
    {
      "cell_type": "code",
      "metadata": {
        "id": "nhVoHM-nvdUQ",
        "colab_type": "code",
        "colab": {
          "base_uri": "https://localhost:8080/",
          "height": 399
        },
        "outputId": "bb5eedaf-1c01-4b11-eec2-c214ac37dc4a"
      },
      "source": [
        "#We have 11 object columns that contain text which need to be converted into numeric features.\n",
        "\n",
        "#Let’s select just the object columns using the DataFrame method select_dtype, then display a sample row to get a better sense of how the values in each column are formatted.\n",
        "\n",
        "df.select_dtypes(include='object')\n"
      ],
      "execution_count": 323,
      "outputs": [
        {
          "output_type": "execute_result",
          "data": {
            "text/html": [
              "<div>\n",
              "<style scoped>\n",
              "    .dataframe tbody tr th:only-of-type {\n",
              "        vertical-align: middle;\n",
              "    }\n",
              "\n",
              "    .dataframe tbody tr th {\n",
              "        vertical-align: top;\n",
              "    }\n",
              "\n",
              "    .dataframe thead th {\n",
              "        text-align: right;\n",
              "    }\n",
              "</style>\n",
              "<table border=\"1\" class=\"dataframe\">\n",
              "  <thead>\n",
              "    <tr style=\"text-align: right;\">\n",
              "      <th></th>\n",
              "      <th>Status</th>\n",
              "      <th>ProductType</th>\n",
              "      <th>Factory Code</th>\n",
              "      <th>Category</th>\n",
              "      <th>Side</th>\n",
              "      <th>FaultCodeGroup</th>\n",
              "      <th>FaultCode</th>\n",
              "      <th>FaultCodeDescription</th>\n",
              "      <th>CauseCodeGroup</th>\n",
              "      <th>CauseCode</th>\n",
              "      <th>CauseCodeDescription</th>\n",
              "    </tr>\n",
              "  </thead>\n",
              "  <tbody>\n",
              "    <tr>\n",
              "      <th>0</th>\n",
              "      <td>ACC</td>\n",
              "      <td>K560-200</td>\n",
              "      <td>JK</td>\n",
              "      <td>STRUCTURE</td>\n",
              "      <td>RIGHT</td>\n",
              "      <td>NC-DC-F</td>\n",
              "      <td>FCA</td>\n",
              "      <td>Shape geometry deviating</td>\n",
              "      <td>NC-CC-E</td>\n",
              "      <td>E5</td>\n",
              "      <td>No Fault Found (NFF)</td>\n",
              "    </tr>\n",
              "    <tr>\n",
              "      <th>1</th>\n",
              "      <td>ACC</td>\n",
              "      <td>K590-500</td>\n",
              "      <td>JK</td>\n",
              "      <td>STRUCTURE</td>\n",
              "      <td>RIGHT</td>\n",
              "      <td>NC-DC-B</td>\n",
              "      <td>BBA</td>\n",
              "      <td>Measure out of tolerance</td>\n",
              "      <td>NC-CC-E</td>\n",
              "      <td>E5</td>\n",
              "      <td>No Fault Found (NFF)</td>\n",
              "    </tr>\n",
              "    <tr>\n",
              "      <th>2</th>\n",
              "      <td>ACC</td>\n",
              "      <td>K590-500</td>\n",
              "      <td>RA</td>\n",
              "      <td>STRUCTURE</td>\n",
              "      <td>RIGHT</td>\n",
              "      <td>NC-DC-F</td>\n",
              "      <td>FCB</td>\n",
              "      <td>Stringer displacement</td>\n",
              "      <td>NC-CC-G</td>\n",
              "      <td>G1</td>\n",
              "      <td>Working error</td>\n",
              "    </tr>\n",
              "    <tr>\n",
              "      <th>3</th>\n",
              "      <td>ACC</td>\n",
              "      <td>K590-500</td>\n",
              "      <td>DN</td>\n",
              "      <td>STRUCTURE</td>\n",
              "      <td>RIGHT</td>\n",
              "      <td>NC-DC-F</td>\n",
              "      <td>FCG</td>\n",
              "      <td>Not sufficient flatness</td>\n",
              "      <td>NC-CC-C</td>\n",
              "      <td>C4</td>\n",
              "      <td>Process/Method not applicable</td>\n",
              "    </tr>\n",
              "    <tr>\n",
              "      <th>4</th>\n",
              "      <td>ACC</td>\n",
              "      <td>K560-200</td>\n",
              "      <td>JK</td>\n",
              "      <td>STRUCTURE</td>\n",
              "      <td>RIGHT</td>\n",
              "      <td>NC-DC-A</td>\n",
              "      <td>AO</td>\n",
              "      <td>Riveting</td>\n",
              "      <td>NC-CC-G</td>\n",
              "      <td>G1</td>\n",
              "      <td>Working error</td>\n",
              "    </tr>\n",
              "    <tr>\n",
              "      <th>...</th>\n",
              "      <td>...</td>\n",
              "      <td>...</td>\n",
              "      <td>...</td>\n",
              "      <td>...</td>\n",
              "      <td>...</td>\n",
              "      <td>...</td>\n",
              "      <td>...</td>\n",
              "      <td>...</td>\n",
              "      <td>...</td>\n",
              "      <td>...</td>\n",
              "      <td>...</td>\n",
              "    </tr>\n",
              "    <tr>\n",
              "      <th>5798</th>\n",
              "      <td>ACC</td>\n",
              "      <td>K560-200</td>\n",
              "      <td>RA</td>\n",
              "      <td>STRUCTURE</td>\n",
              "      <td>RIGHT</td>\n",
              "      <td>NC-DC-J</td>\n",
              "      <td>JE</td>\n",
              "      <td>Dimensions out of Tolerance</td>\n",
              "      <td>NC-CC-H</td>\n",
              "      <td>H6</td>\n",
              "      <td>Installation / Maladjustment</td>\n",
              "    </tr>\n",
              "    <tr>\n",
              "      <th>5799</th>\n",
              "      <td>ACC</td>\n",
              "      <td>K560-200</td>\n",
              "      <td>RA</td>\n",
              "      <td>STRUCTURE</td>\n",
              "      <td>RIGHT</td>\n",
              "      <td>NC-DC-A</td>\n",
              "      <td>AGA</td>\n",
              "      <td>Scratch or tool mark</td>\n",
              "      <td>NC-CC-G</td>\n",
              "      <td>G1</td>\n",
              "      <td>Working error</td>\n",
              "    </tr>\n",
              "    <tr>\n",
              "      <th>5800</th>\n",
              "      <td>ACC</td>\n",
              "      <td>K560-200</td>\n",
              "      <td>RA</td>\n",
              "      <td>STRUCTURE</td>\n",
              "      <td>RIGHT</td>\n",
              "      <td>NC-DC-J</td>\n",
              "      <td>JE</td>\n",
              "      <td>Dimensions out of Tolerance</td>\n",
              "      <td>NC-CC-H</td>\n",
              "      <td>H6</td>\n",
              "      <td>Installation / Maladjustment</td>\n",
              "    </tr>\n",
              "    <tr>\n",
              "      <th>5801</th>\n",
              "      <td>ACC</td>\n",
              "      <td>K560-200</td>\n",
              "      <td>RA</td>\n",
              "      <td>STRUCTURE</td>\n",
              "      <td>RIGHT</td>\n",
              "      <td>NC-DC-F</td>\n",
              "      <td>FEA</td>\n",
              "      <td>Deviating part thickness</td>\n",
              "      <td>NC-CC-G</td>\n",
              "      <td>G11</td>\n",
              "      <td>Part/jigs assembly error</td>\n",
              "    </tr>\n",
              "    <tr>\n",
              "      <th>5802</th>\n",
              "      <td>INP</td>\n",
              "      <td>K560-200</td>\n",
              "      <td>RA</td>\n",
              "      <td>STRUCTURE</td>\n",
              "      <td>RIGHT</td>\n",
              "      <td>NC-DC-A</td>\n",
              "      <td>AGA</td>\n",
              "      <td>Oversized Hole</td>\n",
              "      <td>NC-CC-G</td>\n",
              "      <td>G1</td>\n",
              "      <td>Working error</td>\n",
              "    </tr>\n",
              "  </tbody>\n",
              "</table>\n",
              "<p>5803 rows × 11 columns</p>\n",
              "</div>"
            ],
            "text/plain": [
              "     Status ProductType  ... CauseCode           CauseCodeDescription\n",
              "0       ACC    K560-200  ...        E5           No Fault Found (NFF)\n",
              "1       ACC    K590-500  ...        E5           No Fault Found (NFF)\n",
              "2       ACC    K590-500  ...        G1                  Working error\n",
              "3       ACC    K590-500  ...        C4  Process/Method not applicable\n",
              "4       ACC    K560-200  ...        G1                  Working error\n",
              "...     ...         ...  ...       ...                            ...\n",
              "5798    ACC    K560-200  ...        H6   Installation / Maladjustment\n",
              "5799    ACC    K560-200  ...        G1                  Working error\n",
              "5800    ACC    K560-200  ...        H6   Installation / Maladjustment\n",
              "5801    ACC    K560-200  ...       G11       Part/jigs assembly error\n",
              "5802    INP    K560-200  ...        G1                  Working error\n",
              "\n",
              "[5803 rows x 11 columns]"
            ]
          },
          "metadata": {
            "tags": []
          },
          "execution_count": 323
        }
      ]
    },
    {
      "cell_type": "code",
      "metadata": {
        "id": "estRTq7ywGN0",
        "colab_type": "code",
        "colab": {
          "base_uri": "https://localhost:8080/",
          "height": 1000
        },
        "outputId": "b0e13d31-a65e-4bcb-8a16-42951760d893"
      },
      "source": [
        "cols = ['Status','ProductType','Factory Code','Category', 'Side', 'FaultCodeGroup','FaultCode','FaultCodeDescription','CauseCodeGroup','CauseCode','CauseCodeDescription']\n",
        "for name in cols:\n",
        "    print(name,':')\n",
        "    print(df[name].value_counts(),'\\n')"
      ],
      "execution_count": 324,
      "outputs": [
        {
          "output_type": "stream",
          "text": [
            "Status :\n",
            "ACC    5148\n",
            "DIF     653\n",
            "INP       2\n",
            "Name: Status, dtype: int64 \n",
            "\n",
            "ProductType :\n",
            "K560-200    4029\n",
            "K590-500    1774\n",
            "Name: ProductType, dtype: int64 \n",
            "\n",
            "Factory Code :\n",
            "RA    3008\n",
            "JK    2471\n",
            "DN     324\n",
            "Name: Factory Code, dtype: int64 \n",
            "\n",
            "Category :\n",
            "STRUCTURE      5801\n",
            "FUEL SYSTEM       2\n",
            "Name: Category, dtype: int64 \n",
            "\n",
            "Side :\n",
            "RIGHT                  3924\n",
            "LEFT                   1520\n",
            "RIGHT AND LEFT SIDE     323\n",
            "IN A/C AXIS              36\n",
            "Name: Side, dtype: int64 \n",
            "\n",
            "FaultCodeGroup :\n",
            "NC-DC-A    3999\n",
            "NC-DC-F     520\n",
            "NC-DC-D     422\n",
            "NC-DC-J     396\n",
            "NC-DC-B     246\n",
            "NC-DC-C     194\n",
            "NC-DC-H       9\n",
            "NC-DC-E       9\n",
            "NC-DC-G       8\n",
            "Name: FaultCodeGroup, dtype: int64 \n",
            "\n",
            "FaultCode :\n",
            "AGA    1731\n",
            "AO      323\n",
            "AHD     323\n",
            "FCA     294\n",
            "BBA     245\n",
            "       ... \n",
            "AGB       1\n",
            "AGJ       1\n",
            "FH        1\n",
            "GOA       1\n",
            "CFA       1\n",
            "Name: FaultCode, Length: 109, dtype: int64 \n",
            "\n",
            "FaultCodeDescription :\n",
            "Shape geometry deviating                    788\n",
            "Thickness deviation/ size                   521\n",
            "IncorrectFastener/Bolt/Screw/Washer/Bush    336\n",
            "Oversized Hole                              327\n",
            "Riveting                                    323\n",
            "                                           ... \n",
            "Traveller/witness test result                 1\n",
            "Completeness                                  1\n",
            "Volume Porosity                               1\n",
            "Qualification                                 1\n",
            "Deviating gap-dimension                       1\n",
            "Name: FaultCodeDescription, Length: 123, dtype: int64 \n",
            "\n",
            "CauseCodeGroup :\n",
            "NC-CC-G    4578\n",
            "NC-CC-E     455\n",
            "NC-CC-C     177\n",
            "NC-CC-B     159\n",
            "NC-CC-H     129\n",
            "NC-CC-A     120\n",
            "NC-CC-K      89\n",
            "NC-CC-L      65\n",
            "NC-CC-D      29\n",
            "NC-CC-I       2\n",
            "Name: CauseCodeGroup, dtype: int64 \n",
            "\n",
            "CauseCode :\n",
            "G1     4130\n",
            "E5      370\n",
            "G11     279\n",
            "B21     133\n",
            "A2       92\n",
            "H6       91\n",
            "E3       85\n",
            "G12      84\n",
            "C4       79\n",
            "K2       65\n",
            "L4       58\n",
            "G2       48\n",
            "C1       38\n",
            "G13      37\n",
            "C61      37\n",
            "A1       28\n",
            "B2       25\n",
            "D2       23\n",
            "H3       21\n",
            "C3       19\n",
            "H4       14\n",
            "K7       11\n",
            "K1       10\n",
            "L1        4\n",
            "D3        4\n",
            "D4        2\n",
            "C7        2\n",
            "H1        2\n",
            "K5        2\n",
            "B1        1\n",
            "I4        1\n",
            "C62       1\n",
            "L5        1\n",
            "C51       1\n",
            "L2        1\n",
            "K4        1\n",
            "I7        1\n",
            "H2        1\n",
            "L3        1\n",
            "Name: CauseCode, dtype: int64 \n",
            "\n",
            "CauseCodeDescription :\n",
            "Working error                               4130\n",
            "No Fault Found (NFF)                         370\n",
            "Part/jigs assembly error                     279\n",
            "Design/Drg incorrect: Tolerance Addition     133\n",
            "Wrong/Incorrect Documentation or Records      92\n",
            "Installation / Maladjustment                  91\n",
            "Test performed incorrectly                    85\n",
            "Tool setting error                            84\n",
            "Process/Method not applicable                 79\n",
            "Wrong/Defective Delivery                      65\n",
            "Wrong Characteristic/Consistency Mat.         58\n",
            "Accident                                      48\n",
            "Non-adherence of Process                      38\n",
            "QSR - Root cause by Airbus                    37\n",
            "NC Program error                              37\n",
            "Lack of Documentation/Records                 28\n",
            "Design / drawing incorrect                    25\n",
            "Transportation                                23\n",
            "Defect/Damaged/Broken                         21\n",
            "Wrong Process/Method applied                  19\n",
            "Malfunction                                   14\n",
            "Supplier liability (APD only)                 11\n",
            "Delay in delivery                             10\n",
            "Storage                                        4\n",
            "Incorrect Material                             4\n",
            "Wrong / unsuitable                             2\n",
            "Outstanding Work                               2\n",
            "Process / Method not applied before            2\n",
            "Protection                                     2\n",
            "FOD - Dirtiness / Small Debris found           1\n",
            "Environmental conditions (climate)             1\n",
            "Lack of                                        1\n",
            "Expired Material                               1\n",
            "Material not approved / unqualified            1\n",
            "Incomplete delivery                            1\n",
            "QSR - Root cause by External Supplier          1\n",
            "Design / drawing incomplete                    1\n",
            "Missing Material                               1\n",
            "Contamination / cleanliness                    1\n",
            "Name: CauseCodeDescription, dtype: int64 \n",
            "\n"
          ],
          "name": "stdout"
        }
      ]
    },
    {
      "cell_type": "code",
      "metadata": {
        "id": "ID8-gXghwuhG",
        "colab_type": "code",
        "colab": {}
      },
      "source": [
        "#Further, dropping 'Category' column altogether as it is highly dominated by one type. \n",
        "drop_list3 = ['Category']\n",
        "df = df.drop(drop_list3,axis=1)"
      ],
      "execution_count": 325,
      "outputs": []
    },
    {
      "cell_type": "code",
      "metadata": {
        "id": "x3S3viAJxa04",
        "colab_type": "code",
        "colab": {}
      },
      "source": [
        "def filter_by_freq(df: pd.DataFrame, column: str, min_freq: int) -> pd.DataFrame:\n",
        "    \"\"\"Filters the DataFrame based on the value frequency in the specified column.\n",
        "\n",
        "    :param df: DataFrame to be filtered.\n",
        "    :param column: Column name that should be frequency filtered.\n",
        "    :param min_freq: Minimal value frequency for the row to be accepted.\n",
        "    :return: Frequency filtered DataFrame.\n",
        "    \"\"\"\n",
        "    # Frequencies of each value in the column.\n",
        "    freq = df[column].value_counts()\n",
        "    # Select frequent values. Value is in the index.\n",
        "    frequent_values = freq[freq >= min_freq].index\n",
        "    # Return only rows with value frequency above threshold.\n",
        "    return df[df[column].isin(frequent_values)]"
      ],
      "execution_count": 326,
      "outputs": []
    },
    {
      "cell_type": "code",
      "metadata": {
        "id": "lB_DykfXZIQ7",
        "colab_type": "code",
        "colab": {
          "base_uri": "https://localhost:8080/",
          "height": 399
        },
        "outputId": "67954ebd-739a-49fa-a01c-571070bbc4b4"
      },
      "source": [
        "filter_by_freq(df, 'CauseCodeDescription', 50)"
      ],
      "execution_count": 330,
      "outputs": [
        {
          "output_type": "execute_result",
          "data": {
            "text/html": [
              "<div>\n",
              "<style scoped>\n",
              "    .dataframe tbody tr th:only-of-type {\n",
              "        vertical-align: middle;\n",
              "    }\n",
              "\n",
              "    .dataframe tbody tr th {\n",
              "        vertical-align: top;\n",
              "    }\n",
              "\n",
              "    .dataframe thead th {\n",
              "        text-align: right;\n",
              "    }\n",
              "</style>\n",
              "<table border=\"1\" class=\"dataframe\">\n",
              "  <thead>\n",
              "    <tr style=\"text-align: right;\">\n",
              "      <th></th>\n",
              "      <th>Status</th>\n",
              "      <th>MSN</th>\n",
              "      <th>ProductType</th>\n",
              "      <th>Disposition</th>\n",
              "      <th>Factory Code</th>\n",
              "      <th>Side</th>\n",
              "      <th>FaultCodeGroup</th>\n",
              "      <th>FaultCode</th>\n",
              "      <th>FaultCodeDescription</th>\n",
              "      <th>CauseCodeGroup</th>\n",
              "      <th>CauseCode</th>\n",
              "      <th>CauseCodeDescription</th>\n",
              "      <th>month</th>\n",
              "      <th>Frame_avg</th>\n",
              "      <th>Cross_avf</th>\n",
              "    </tr>\n",
              "  </thead>\n",
              "  <tbody>\n",
              "    <tr>\n",
              "      <th>0</th>\n",
              "      <td>ACC</td>\n",
              "      <td>458</td>\n",
              "      <td>K560-200</td>\n",
              "      <td>0</td>\n",
              "      <td>JK</td>\n",
              "      <td>RIGHT</td>\n",
              "      <td>NC-DC-F</td>\n",
              "      <td>FCA</td>\n",
              "      <td>Shape geometry deviating</td>\n",
              "      <td>NC-CC-E</td>\n",
              "      <td>E5</td>\n",
              "      <td>No Fault Found (NFF)</td>\n",
              "      <td>12</td>\n",
              "      <td>30.5</td>\n",
              "      <td>29.0</td>\n",
              "    </tr>\n",
              "    <tr>\n",
              "      <th>1</th>\n",
              "      <td>ACC</td>\n",
              "      <td>467</td>\n",
              "      <td>K590-500</td>\n",
              "      <td>1</td>\n",
              "      <td>JK</td>\n",
              "      <td>RIGHT</td>\n",
              "      <td>NC-DC-B</td>\n",
              "      <td>BBA</td>\n",
              "      <td>Measure out of tolerance</td>\n",
              "      <td>NC-CC-E</td>\n",
              "      <td>E5</td>\n",
              "      <td>No Fault Found (NFF)</td>\n",
              "      <td>12</td>\n",
              "      <td>30.0</td>\n",
              "      <td>33.0</td>\n",
              "    </tr>\n",
              "    <tr>\n",
              "      <th>2</th>\n",
              "      <td>ACC</td>\n",
              "      <td>434</td>\n",
              "      <td>K590-500</td>\n",
              "      <td>0</td>\n",
              "      <td>RA</td>\n",
              "      <td>RIGHT</td>\n",
              "      <td>NC-DC-F</td>\n",
              "      <td>FCB</td>\n",
              "      <td>Stringer displacement</td>\n",
              "      <td>NC-CC-G</td>\n",
              "      <td>G1</td>\n",
              "      <td>Working error</td>\n",
              "      <td>12</td>\n",
              "      <td>64.5</td>\n",
              "      <td>29.0</td>\n",
              "    </tr>\n",
              "    <tr>\n",
              "      <th>3</th>\n",
              "      <td>ACC</td>\n",
              "      <td>0</td>\n",
              "      <td>K590-500</td>\n",
              "      <td>0</td>\n",
              "      <td>DN</td>\n",
              "      <td>RIGHT</td>\n",
              "      <td>NC-DC-F</td>\n",
              "      <td>FCG</td>\n",
              "      <td>Not sufficient flatness</td>\n",
              "      <td>NC-CC-C</td>\n",
              "      <td>C4</td>\n",
              "      <td>Process/Method not applicable</td>\n",
              "      <td>12</td>\n",
              "      <td>64.5</td>\n",
              "      <td>29.0</td>\n",
              "    </tr>\n",
              "    <tr>\n",
              "      <th>4</th>\n",
              "      <td>ACC</td>\n",
              "      <td>447</td>\n",
              "      <td>K560-200</td>\n",
              "      <td>1</td>\n",
              "      <td>JK</td>\n",
              "      <td>RIGHT</td>\n",
              "      <td>NC-DC-A</td>\n",
              "      <td>AO</td>\n",
              "      <td>Riveting</td>\n",
              "      <td>NC-CC-G</td>\n",
              "      <td>G1</td>\n",
              "      <td>Working error</td>\n",
              "      <td>12</td>\n",
              "      <td>24.5</td>\n",
              "      <td>29.0</td>\n",
              "    </tr>\n",
              "    <tr>\n",
              "      <th>...</th>\n",
              "      <td>...</td>\n",
              "      <td>...</td>\n",
              "      <td>...</td>\n",
              "      <td>...</td>\n",
              "      <td>...</td>\n",
              "      <td>...</td>\n",
              "      <td>...</td>\n",
              "      <td>...</td>\n",
              "      <td>...</td>\n",
              "      <td>...</td>\n",
              "      <td>...</td>\n",
              "      <td>...</td>\n",
              "      <td>...</td>\n",
              "      <td>...</td>\n",
              "      <td>...</td>\n",
              "    </tr>\n",
              "    <tr>\n",
              "      <th>5798</th>\n",
              "      <td>ACC</td>\n",
              "      <td>0</td>\n",
              "      <td>K560-200</td>\n",
              "      <td>0</td>\n",
              "      <td>RA</td>\n",
              "      <td>RIGHT</td>\n",
              "      <td>NC-DC-J</td>\n",
              "      <td>JE</td>\n",
              "      <td>Dimensions out of Tolerance</td>\n",
              "      <td>NC-CC-H</td>\n",
              "      <td>H6</td>\n",
              "      <td>Installation / Maladjustment</td>\n",
              "      <td>12</td>\n",
              "      <td>64.5</td>\n",
              "      <td>29.0</td>\n",
              "    </tr>\n",
              "    <tr>\n",
              "      <th>5799</th>\n",
              "      <td>ACC</td>\n",
              "      <td>0</td>\n",
              "      <td>K560-200</td>\n",
              "      <td>0</td>\n",
              "      <td>RA</td>\n",
              "      <td>RIGHT</td>\n",
              "      <td>NC-DC-A</td>\n",
              "      <td>AGA</td>\n",
              "      <td>Scratch or tool mark</td>\n",
              "      <td>NC-CC-G</td>\n",
              "      <td>G1</td>\n",
              "      <td>Working error</td>\n",
              "      <td>12</td>\n",
              "      <td>64.5</td>\n",
              "      <td>29.0</td>\n",
              "    </tr>\n",
              "    <tr>\n",
              "      <th>5800</th>\n",
              "      <td>ACC</td>\n",
              "      <td>0</td>\n",
              "      <td>K560-200</td>\n",
              "      <td>0</td>\n",
              "      <td>RA</td>\n",
              "      <td>RIGHT</td>\n",
              "      <td>NC-DC-J</td>\n",
              "      <td>JE</td>\n",
              "      <td>Dimensions out of Tolerance</td>\n",
              "      <td>NC-CC-H</td>\n",
              "      <td>H6</td>\n",
              "      <td>Installation / Maladjustment</td>\n",
              "      <td>12</td>\n",
              "      <td>64.5</td>\n",
              "      <td>29.0</td>\n",
              "    </tr>\n",
              "    <tr>\n",
              "      <th>5801</th>\n",
              "      <td>ACC</td>\n",
              "      <td>0</td>\n",
              "      <td>K560-200</td>\n",
              "      <td>0</td>\n",
              "      <td>RA</td>\n",
              "      <td>RIGHT</td>\n",
              "      <td>NC-DC-F</td>\n",
              "      <td>FEA</td>\n",
              "      <td>Deviating part thickness</td>\n",
              "      <td>NC-CC-G</td>\n",
              "      <td>G11</td>\n",
              "      <td>Part/jigs assembly error</td>\n",
              "      <td>12</td>\n",
              "      <td>64.5</td>\n",
              "      <td>29.0</td>\n",
              "    </tr>\n",
              "    <tr>\n",
              "      <th>5802</th>\n",
              "      <td>INP</td>\n",
              "      <td>0</td>\n",
              "      <td>K560-200</td>\n",
              "      <td>1</td>\n",
              "      <td>RA</td>\n",
              "      <td>RIGHT</td>\n",
              "      <td>NC-DC-A</td>\n",
              "      <td>AGA</td>\n",
              "      <td>Oversized Hole</td>\n",
              "      <td>NC-CC-G</td>\n",
              "      <td>G1</td>\n",
              "      <td>Working error</td>\n",
              "      <td>12</td>\n",
              "      <td>64.5</td>\n",
              "      <td>29.0</td>\n",
              "    </tr>\n",
              "  </tbody>\n",
              "</table>\n",
              "<p>5466 rows × 15 columns</p>\n",
              "</div>"
            ],
            "text/plain": [
              "     Status  MSN ProductType  ...  month Frame_avg Cross_avf\n",
              "0       ACC  458    K560-200  ...     12      30.5      29.0\n",
              "1       ACC  467    K590-500  ...     12      30.0      33.0\n",
              "2       ACC  434    K590-500  ...     12      64.5      29.0\n",
              "3       ACC    0    K590-500  ...     12      64.5      29.0\n",
              "4       ACC  447    K560-200  ...     12      24.5      29.0\n",
              "...     ...  ...         ...  ...    ...       ...       ...\n",
              "5798    ACC    0    K560-200  ...     12      64.5      29.0\n",
              "5799    ACC    0    K560-200  ...     12      64.5      29.0\n",
              "5800    ACC    0    K560-200  ...     12      64.5      29.0\n",
              "5801    ACC    0    K560-200  ...     12      64.5      29.0\n",
              "5802    INP    0    K560-200  ...     12      64.5      29.0\n",
              "\n",
              "[5466 rows x 15 columns]"
            ]
          },
          "metadata": {
            "tags": []
          },
          "execution_count": 330
        }
      ]
    },
    {
      "cell_type": "code",
      "metadata": {
        "id": "CJb5J8KbZN9f",
        "colab_type": "code",
        "colab": {}
      },
      "source": [
        ""
      ],
      "execution_count": 328,
      "outputs": []
    }
  ]
}