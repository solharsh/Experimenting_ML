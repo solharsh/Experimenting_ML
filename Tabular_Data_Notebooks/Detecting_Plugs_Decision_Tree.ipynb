{
 "cells": [
  {
   "cell_type": "markdown",
   "metadata": {},
   "source": [
    "# Categoricals and Grid Search\n",
    "## Sample Problem: Detecting Electrical Plugs in Amazon Marketplace Products\n",
    "#### In this notebook, we will explore an Amazon dataset. In some marketplaces, ASINs having electrical plugs need to be accompanied by a compliance form. Thus it is desirable to identify ASINs which have an electrical plug.\n",
    "\n",
    "__Dataset schema:__ \n",
    "- __ASIN__: Product ASIN\n",
    "- __target_label:__ Binary field with values in {0,1}. A value of 1 show ASIN has a plug, otherwise 0.\n",
    "- __ASIN_STATIC_ITEM_NAME:__ Title of the ASIN.\n",
    "- __ASIN_STATIC_PRODUCT_DESCRIPTION:__ Description of the ASIN\n",
    "- __ASIN_STATIC_GL_PRODUCT_GROUP_TYPE:__ GL information for the ASIN.\n",
    "- __ASIN_STATIC_ITEM_PACKAGE_WEIGHT:__ Weight of the ASIN.\n",
    "- __ASIN_STATIC_LIST_PRICE:__ Price information for the ASIN.\n",
    "- __ASIN_STATIC_BATTERIES_INCLUDED:__ Information whether batteries are included along with the product.\n",
    "- __ASIN_STATIC_BATTERIES_REQUIRED:__ Information whether batteries are required for using the product.\n",
    "- __ASIN_STATIC_ITEM_CLASSIFICATION:__ Item classification of whether it is a standalone or bundle parent item etc"
   ]
  },
  {
   "cell_type": "markdown",
   "metadata": {},
   "source": [
    "## 1. Reading the data\n",
    "Let's read the dataset into a dataframe."
   ]
  },
  {
   "cell_type": "code",
   "execution_count": 10,
   "metadata": {},
   "outputs": [
    {
     "name": "stderr",
     "output_type": "stream",
     "text": [
      "C:\\Users\\solharsh\\AppData\\Local\\Continuum\\anaconda3\\lib\\site-packages\\IPython\\core\\interactiveshell.py:3063: DtypeWarning: Columns (0,18,19,23,31,38,41,48,63,78,82,85,96,105) have mixed types.Specify dtype option on import or set low_memory=False.\n",
      "  interactivity=interactivity, compiler=compiler, result=result)\n"
     ]
    }
   ],
   "source": [
    "import pandas as pd\n",
    "\n",
    "# import the datasets\n",
    "df = pd.read_csv('C:\\\\Users\\\\solharsh\\\\Downloads\\\\Tabular Data MLU\\\\final_project\\\\final_project\\\\asin_product.csv',encoding= 'unicode_escape')"
   ]
  },
  {
   "cell_type": "markdown",
   "metadata": {},
   "source": [
    "## 2. Overall Statistics and Imputing:\n",
    "We will look at number of rows, columns and simple statistics of the dataset."
   ]
  },
  {
   "cell_type": "code",
   "execution_count": 37,
   "metadata": {},
   "outputs": [
    {
     "data": {
      "text/plain": [
       "array(['base_product', nan, 'variation_parent'], dtype=object)"
      ]
     },
     "execution_count": 37,
     "metadata": {},
     "output_type": "execute_result"
    }
   ],
   "source": [
    "df[\"ASIN_STATIC_ITEM_CLASSIFICATION\"].unique()"
   ]
  },
  {
   "cell_type": "code",
   "execution_count": 38,
   "metadata": {},
   "outputs": [
    {
     "data": {
      "text/html": [
       "<div>\n",
       "<style scoped>\n",
       "    .dataframe tbody tr th:only-of-type {\n",
       "        vertical-align: middle;\n",
       "    }\n",
       "\n",
       "    .dataframe tbody tr th {\n",
       "        vertical-align: top;\n",
       "    }\n",
       "\n",
       "    .dataframe thead th {\n",
       "        text-align: right;\n",
       "    }\n",
       "</style>\n",
       "<table border=\"1\" class=\"dataframe\">\n",
       "  <thead>\n",
       "    <tr style=\"text-align: right;\">\n",
       "      <th></th>\n",
       "      <th>ASIN</th>\n",
       "      <th>target_label</th>\n",
       "      <th>ASIN_STATIC_ITEM_NAME</th>\n",
       "      <th>ASIN_STATIC_PRODUCT_DESCRIPTION</th>\n",
       "      <th>ASIN_STATIC_GL_PRODUCT_GROUP_TYPE</th>\n",
       "      <th>ASIN_STATIC_ITEM_PACKAGE_WEIGHT</th>\n",
       "      <th>ASIN_STATIC_LIST_PRICE</th>\n",
       "      <th>ASIN_STATIC_BATTERIES_INCLUDED</th>\n",
       "      <th>ASIN_STATIC_BATTERIES_REQUIRED</th>\n",
       "      <th>ASIN_STATIC_ITEM_CLASSIFICATION</th>\n",
       "    </tr>\n",
       "  </thead>\n",
       "  <tbody>\n",
       "    <tr>\n",
       "      <th>0</th>\n",
       "      <td>B004U9MOWO</td>\n",
       "      <td>0</td>\n",
       "      <td>Master Lock 8 X 900 mm Chain Integrated 4 Digi...</td>\n",
       "      <td>Master Lock Street Flexium 900mm Integrated Co...</td>\n",
       "      <td>gl_sports</td>\n",
       "      <td>2.650000</td>\n",
       "      <td>16.66</td>\n",
       "      <td>False</td>\n",
       "      <td>False</td>\n",
       "      <td>base_product</td>\n",
       "    </tr>\n",
       "    <tr>\n",
       "      <th>1</th>\n",
       "      <td>B006OJWZMW</td>\n",
       "      <td>0</td>\n",
       "      <td>In Phase SRX-EQ 10 Band Parametric Equalizer w...</td>\n",
       "      <td>NaN</td>\n",
       "      <td>gl_wireless</td>\n",
       "      <td>1.680000</td>\n",
       "      <td>158.33</td>\n",
       "      <td>False</td>\n",
       "      <td>False</td>\n",
       "      <td>base_product</td>\n",
       "    </tr>\n",
       "    <tr>\n",
       "      <th>2</th>\n",
       "      <td>B00008VIJ4</td>\n",
       "      <td>0</td>\n",
       "      <td>Technics RPDJ1210 DJ Headphones - Silver</td>\n",
       "      <td>Plated Connector:Gold, Connector Type:Headphon...</td>\n",
       "      <td>gl_home_entertainment</td>\n",
       "      <td>1.455036</td>\n",
       "      <td>NaN</td>\n",
       "      <td>False</td>\n",
       "      <td>False</td>\n",
       "      <td>base_product</td>\n",
       "    </tr>\n",
       "    <tr>\n",
       "      <th>3</th>\n",
       "      <td>B005433T4M</td>\n",
       "      <td>0</td>\n",
       "      <td>Heartwarmers Coming Home Padded Lap Tray, 42 x...</td>\n",
       "      <td>NaN</td>\n",
       "      <td>gl_home</td>\n",
       "      <td>1.763680</td>\n",
       "      <td>12.49</td>\n",
       "      <td>False</td>\n",
       "      <td>NaN</td>\n",
       "      <td>base_product</td>\n",
       "    </tr>\n",
       "    <tr>\n",
       "      <th>4</th>\n",
       "      <td>B0073CN63Q</td>\n",
       "      <td>0</td>\n",
       "      <td>Douceur D'Intérieur  - 1600728, Curtain With E...</td>\n",
       "      <td>NaN</td>\n",
       "      <td>gl_home</td>\n",
       "      <td>2.292784</td>\n",
       "      <td>25.42</td>\n",
       "      <td>False</td>\n",
       "      <td>False</td>\n",
       "      <td>base_product</td>\n",
       "    </tr>\n",
       "  </tbody>\n",
       "</table>\n",
       "</div>"
      ],
      "text/plain": [
       "         ASIN  target_label  \\\n",
       "0  B004U9MOWO             0   \n",
       "1  B006OJWZMW             0   \n",
       "2  B00008VIJ4             0   \n",
       "3  B005433T4M             0   \n",
       "4  B0073CN63Q             0   \n",
       "\n",
       "                               ASIN_STATIC_ITEM_NAME  \\\n",
       "0  Master Lock 8 X 900 mm Chain Integrated 4 Digi...   \n",
       "1  In Phase SRX-EQ 10 Band Parametric Equalizer w...   \n",
       "2           Technics RPDJ1210 DJ Headphones - Silver   \n",
       "3  Heartwarmers Coming Home Padded Lap Tray, 42 x...   \n",
       "4  Douceur D'Intérieur  - 1600728, Curtain With E...   \n",
       "\n",
       "                     ASIN_STATIC_PRODUCT_DESCRIPTION  \\\n",
       "0  Master Lock Street Flexium 900mm Integrated Co...   \n",
       "1                                                NaN   \n",
       "2  Plated Connector:Gold, Connector Type:Headphon...   \n",
       "3                                                NaN   \n",
       "4                                                NaN   \n",
       "\n",
       "  ASIN_STATIC_GL_PRODUCT_GROUP_TYPE  ASIN_STATIC_ITEM_PACKAGE_WEIGHT  \\\n",
       "0                         gl_sports                         2.650000   \n",
       "1                       gl_wireless                         1.680000   \n",
       "2             gl_home_entertainment                         1.455036   \n",
       "3                           gl_home                         1.763680   \n",
       "4                           gl_home                         2.292784   \n",
       "\n",
       "   ASIN_STATIC_LIST_PRICE ASIN_STATIC_BATTERIES_INCLUDED  \\\n",
       "0                   16.66                          False   \n",
       "1                  158.33                          False   \n",
       "2                     NaN                          False   \n",
       "3                   12.49                          False   \n",
       "4                   25.42                          False   \n",
       "\n",
       "  ASIN_STATIC_BATTERIES_REQUIRED ASIN_STATIC_ITEM_CLASSIFICATION  \n",
       "0                          False                    base_product  \n",
       "1                          False                    base_product  \n",
       "2                          False                    base_product  \n",
       "3                            NaN                    base_product  \n",
       "4                          False                    base_product  "
      ]
     },
     "execution_count": 38,
     "metadata": {},
     "output_type": "execute_result"
    }
   ],
   "source": [
    "# Print the first five rows\n",
    "# NaN means missing data\n",
    "df.head()"
   ]
  },
  {
   "cell_type": "code",
   "execution_count": 39,
   "metadata": {},
   "outputs": [
    {
     "name": "stdout",
     "output_type": "stream",
     "text": [
      "<class 'pandas.core.frame.DataFrame'>\n",
      "RangeIndex: 61233 entries, 0 to 61232\n",
      "Data columns (total 10 columns):\n",
      "ASIN                                 61233 non-null object\n",
      "target_label                         61233 non-null int64\n",
      "ASIN_STATIC_ITEM_NAME                61233 non-null object\n",
      "ASIN_STATIC_PRODUCT_DESCRIPTION      35261 non-null object\n",
      "ASIN_STATIC_GL_PRODUCT_GROUP_TYPE    61233 non-null object\n",
      "ASIN_STATIC_ITEM_PACKAGE_WEIGHT      61141 non-null float64\n",
      "ASIN_STATIC_LIST_PRICE               45741 non-null float64\n",
      "ASIN_STATIC_BATTERIES_INCLUDED       50058 non-null object\n",
      "ASIN_STATIC_BATTERIES_REQUIRED       45229 non-null object\n",
      "ASIN_STATIC_ITEM_CLASSIFICATION      61221 non-null object\n",
      "dtypes: float64(2), int64(1), object(7)\n",
      "memory usage: 4.7+ MB\n"
     ]
    }
   ],
   "source": [
    "# Let's see the data types and non-null values for each column\n",
    "df.info()"
   ]
  },
  {
   "cell_type": "code",
   "execution_count": 40,
   "metadata": {},
   "outputs": [
    {
     "data": {
      "text/html": [
       "<div>\n",
       "<style scoped>\n",
       "    .dataframe tbody tr th:only-of-type {\n",
       "        vertical-align: middle;\n",
       "    }\n",
       "\n",
       "    .dataframe tbody tr th {\n",
       "        vertical-align: top;\n",
       "    }\n",
       "\n",
       "    .dataframe thead th {\n",
       "        text-align: right;\n",
       "    }\n",
       "</style>\n",
       "<table border=\"1\" class=\"dataframe\">\n",
       "  <thead>\n",
       "    <tr style=\"text-align: right;\">\n",
       "      <th></th>\n",
       "      <th>target_label</th>\n",
       "      <th>ASIN_STATIC_ITEM_PACKAGE_WEIGHT</th>\n",
       "      <th>ASIN_STATIC_LIST_PRICE</th>\n",
       "    </tr>\n",
       "  </thead>\n",
       "  <tbody>\n",
       "    <tr>\n",
       "      <th>count</th>\n",
       "      <td>61233.000000</td>\n",
       "      <td>61141.000000</td>\n",
       "      <td>4.574100e+04</td>\n",
       "    </tr>\n",
       "    <tr>\n",
       "      <th>mean</th>\n",
       "      <td>0.036647</td>\n",
       "      <td>31.520023</td>\n",
       "      <td>1.475785e+02</td>\n",
       "    </tr>\n",
       "    <tr>\n",
       "      <th>std</th>\n",
       "      <td>0.187895</td>\n",
       "      <td>462.639041</td>\n",
       "      <td>1.664631e+04</td>\n",
       "    </tr>\n",
       "    <tr>\n",
       "      <th>min</th>\n",
       "      <td>0.000000</td>\n",
       "      <td>0.000000</td>\n",
       "      <td>1.160000e+00</td>\n",
       "    </tr>\n",
       "    <tr>\n",
       "      <th>25%</th>\n",
       "      <td>0.000000</td>\n",
       "      <td>1.520000</td>\n",
       "      <td>1.667000e+01</td>\n",
       "    </tr>\n",
       "    <tr>\n",
       "      <th>50%</th>\n",
       "      <td>0.000000</td>\n",
       "      <td>2.513244</td>\n",
       "      <td>3.291000e+01</td>\n",
       "    </tr>\n",
       "    <tr>\n",
       "      <th>75%</th>\n",
       "      <td>0.000000</td>\n",
       "      <td>5.555592</td>\n",
       "      <td>7.000000e+01</td>\n",
       "    </tr>\n",
       "    <tr>\n",
       "      <th>max</th>\n",
       "      <td>1.000000</td>\n",
       "      <td>29500.000000</td>\n",
       "      <td>3.560000e+06</td>\n",
       "    </tr>\n",
       "  </tbody>\n",
       "</table>\n",
       "</div>"
      ],
      "text/plain": [
       "       target_label  ASIN_STATIC_ITEM_PACKAGE_WEIGHT  ASIN_STATIC_LIST_PRICE\n",
       "count  61233.000000                     61141.000000            4.574100e+04\n",
       "mean       0.036647                        31.520023            1.475785e+02\n",
       "std        0.187895                       462.639041            1.664631e+04\n",
       "min        0.000000                         0.000000            1.160000e+00\n",
       "25%        0.000000                         1.520000            1.667000e+01\n",
       "50%        0.000000                         2.513244            3.291000e+01\n",
       "75%        0.000000                         5.555592            7.000000e+01\n",
       "max        1.000000                     29500.000000            3.560000e+06"
      ]
     },
     "execution_count": 40,
     "metadata": {},
     "output_type": "execute_result"
    }
   ],
   "source": [
    "# This will print basic statistics for numerical columns\n",
    "df.describe()"
   ]
  },
  {
   "cell_type": "markdown",
   "metadata": {},
   "source": [
    "Let's check our target distribution."
   ]
  },
  {
   "cell_type": "code",
   "execution_count": 41,
   "metadata": {},
   "outputs": [
    {
     "data": {
      "image/png": "[encoded data removed]",
      "text/plain": [
       "<Figure size 432x288 with 1 Axes>"
      ]
     },
     "metadata": {},
     "output_type": "display_data"
    }
   ],
   "source": [
    "%matplotlib inline\n",
    "import matplotlib.pyplot as plt\n",
    "\n",
    "df['target_label'].value_counts().plot.bar()\n",
    "plt.show()"
   ]
  },
  {
   "cell_type": "markdown",
   "metadata": {},
   "source": [
    "We can see from the target plot above that we are dealing with an imbalanced dataset. This means one result type is dominating the other one(s). In this case, we have a lot of \"no plug\" records but not many \"plug\" records."
   ]
  },
  {
   "cell_type": "code",
   "execution_count": 42,
   "metadata": {},
   "outputs": [
    {
     "data": {
      "text/plain": [
       "(-3558.84, 356001.044]        45740\n",
       "(356001.044, 712000.928]          0\n",
       "(712000.928, 1068000.812]         0\n",
       "(1068000.812, 1424000.696]        0\n",
       "(1424000.696, 1780000.58]         0\n",
       "(1780000.58, 2136000.464]         0\n",
       "(2136000.464, 2492000.348]        0\n",
       "(2492000.348, 2848000.232]        0\n",
       "(2848000.232, 3204000.116]        0\n",
       "(3204000.116, 3560000.0]          1\n",
       "Name: ASIN_STATIC_LIST_PRICE, dtype: int64"
      ]
     },
     "execution_count": 42,
     "metadata": {},
     "output_type": "execute_result"
    }
   ],
   "source": [
    "df['ASIN_STATIC_LIST_PRICE'].value_counts(bins=10, sort=False)"
   ]
  },
  {
   "cell_type": "markdown",
   "metadata": {},
   "source": [
    "We have an outlier data in the last bin. We will remove this data point below."
   ]
  },
  {
   "cell_type": "code",
   "execution_count": 43,
   "metadata": {},
   "outputs": [],
   "source": [
    "dropIndexes = df[df['ASIN_STATIC_LIST_PRICE'] > 3000000].index\n",
    "df.drop(dropIndexes , inplace=True)"
   ]
  },
  {
   "cell_type": "code",
   "execution_count": 44,
   "metadata": {},
   "outputs": [
    {
     "data": {
      "text/plain": [
       "(-13.838999999999999, 1500.944]    45704\n",
       "(1500.944, 3000.728]                  15\n",
       "(3000.728, 4500.512]                   9\n",
       "(4500.512, 6000.296]                   3\n",
       "(6000.296, 7500.08]                    2\n",
       "(7500.08, 8999.864]                    4\n",
       "(8999.864, 10499.648]                  0\n",
       "(10499.648, 11999.432]                 1\n",
       "(11999.432, 13499.216]                 0\n",
       "(13499.216, 14999.0]                   2\n",
       "Name: ASIN_STATIC_LIST_PRICE, dtype: int64"
      ]
     },
     "execution_count": 44,
     "metadata": {},
     "output_type": "execute_result"
    }
   ],
   "source": [
    "df['ASIN_STATIC_LIST_PRICE'].value_counts(bins=10, sort=False)"
   ]
  },
  {
   "cell_type": "markdown",
   "metadata": {},
   "source": [
    "Let's look at missing values for each column in our dataset."
   ]
  },
  {
   "cell_type": "code",
   "execution_count": 45,
   "metadata": {},
   "outputs": [
    {
     "data": {
      "text/plain": [
       "ASIN                                     0\n",
       "target_label                             0\n",
       "ASIN_STATIC_ITEM_NAME                    0\n",
       "ASIN_STATIC_PRODUCT_DESCRIPTION      25972\n",
       "ASIN_STATIC_GL_PRODUCT_GROUP_TYPE        0\n",
       "ASIN_STATIC_ITEM_PACKAGE_WEIGHT         92\n",
       "ASIN_STATIC_LIST_PRICE               15492\n",
       "ASIN_STATIC_BATTERIES_INCLUDED       11175\n",
       "ASIN_STATIC_BATTERIES_REQUIRED       16004\n",
       "ASIN_STATIC_ITEM_CLASSIFICATION         12\n",
       "dtype: int64"
      ]
     },
     "execution_count": 45,
     "metadata": {},
     "output_type": "execute_result"
    }
   ],
   "source": [
    "df.isna().sum()"
   ]
  },
  {
   "cell_type": "markdown",
   "metadata": {},
   "source": [
    "Let's fill the missing values for these columns."
   ]
  },
  {
   "cell_type": "code",
   "execution_count": 46,
   "metadata": {},
   "outputs": [],
   "source": [
    "# Numerical fields are imputed with mean values\n",
    "df[\"ASIN_STATIC_ITEM_PACKAGE_WEIGHT\"].fillna(df[\"ASIN_STATIC_ITEM_PACKAGE_WEIGHT\"].mean(), inplace=True)\n",
    "df[\"ASIN_STATIC_LIST_PRICE\"].fillna(df[\"ASIN_STATIC_LIST_PRICE\"].mean(), inplace=True)\n",
    "\n",
    "# Categorical values are imputed with a placeholder value\n",
    "df[\"ASIN_STATIC_BATTERIES_INCLUDED\"].fillna(\"Missing\", inplace=True)\n",
    "df[\"ASIN_STATIC_BATTERIES_REQUIRED\"].fillna(\"Missing\", inplace=True)\n",
    "df[\"ASIN_STATIC_ITEM_CLASSIFICATION\"].fillna(\"Missing\", inplace=True)"
   ]
  },
  {
   "cell_type": "markdown",
   "metadata": {},
   "source": [
    "Let's check missing values one more time"
   ]
  },
  {
   "cell_type": "code",
   "execution_count": 47,
   "metadata": {},
   "outputs": [
    {
     "data": {
      "text/plain": [
       "ASIN                                     0\n",
       "target_label                             0\n",
       "ASIN_STATIC_ITEM_NAME                    0\n",
       "ASIN_STATIC_PRODUCT_DESCRIPTION      25972\n",
       "ASIN_STATIC_GL_PRODUCT_GROUP_TYPE        0\n",
       "ASIN_STATIC_ITEM_PACKAGE_WEIGHT          0\n",
       "ASIN_STATIC_LIST_PRICE                   0\n",
       "ASIN_STATIC_BATTERIES_INCLUDED           0\n",
       "ASIN_STATIC_BATTERIES_REQUIRED           0\n",
       "ASIN_STATIC_ITEM_CLASSIFICATION          0\n",
       "dtype: int64"
      ]
     },
     "execution_count": 47,
     "metadata": {},
     "output_type": "execute_result"
    }
   ],
   "source": [
    "df.isna().sum()"
   ]
  },
  {
   "cell_type": "markdown",
   "metadata": {},
   "source": [
    "## 4. Processing Categorical Variables\n",
    "\n",
    "Our categorical variables are __ASIN_STATIC_BATTERIES_INCLUDED__, __ASIN_STATIC_BATTERIES_REQUIRED__ and __ASIN_STATIC_ITEM_CLASSIFICATION__. It is a good idea to check the unique values for these columns."
   ]
  },
  {
   "cell_type": "code",
   "execution_count": 48,
   "metadata": {},
   "outputs": [
    {
     "data": {
      "text/plain": [
       "False      48123\n",
       "Missing    11175\n",
       "True        1934\n",
       "Name: ASIN_STATIC_BATTERIES_INCLUDED, dtype: int64"
      ]
     },
     "execution_count": 48,
     "metadata": {},
     "output_type": "execute_result"
    }
   ],
   "source": [
    "df['ASIN_STATIC_BATTERIES_INCLUDED'].value_counts()"
   ]
  },
  {
   "cell_type": "code",
   "execution_count": 49,
   "metadata": {},
   "outputs": [
    {
     "data": {
      "text/plain": [
       "False      42415\n",
       "Missing    16004\n",
       "True        2813\n",
       "Name: ASIN_STATIC_BATTERIES_REQUIRED, dtype: int64"
      ]
     },
     "execution_count": 49,
     "metadata": {},
     "output_type": "execute_result"
    }
   ],
   "source": [
    "df['ASIN_STATIC_BATTERIES_REQUIRED'].value_counts()"
   ]
  },
  {
   "cell_type": "code",
   "execution_count": 50,
   "metadata": {},
   "outputs": [
    {
     "data": {
      "text/plain": [
       "base_product        61199\n",
       "variation_parent       21\n",
       "Missing                12\n",
       "Name: ASIN_STATIC_ITEM_CLASSIFICATION, dtype: int64"
      ]
     },
     "execution_count": 50,
     "metadata": {},
     "output_type": "execute_result"
    }
   ],
   "source": [
    "df['ASIN_STATIC_ITEM_CLASSIFICATION'].value_counts()"
   ]
  },
  {
   "cell_type": "markdown",
   "metadata": {},
   "source": [
    "Let's apply __one-hot-encoding__ to these three columns."
   ]
  },
  {
   "cell_type": "code",
   "execution_count": 51,
   "metadata": {},
   "outputs": [],
   "source": [
    "df = pd.get_dummies(df, columns=['ASIN_STATIC_BATTERIES_INCLUDED',\n",
    "                                 'ASIN_STATIC_BATTERIES_REQUIRED',\n",
    "                                 'ASIN_STATIC_ITEM_CLASSIFICATION',\n",
    "                                 'ASIN_STATIC_GL_PRODUCT_GROUP_TYPE'\n",
    "                                ])"
   ]
  },
  {
   "cell_type": "code",
   "execution_count": 52,
   "metadata": {},
   "outputs": [
    {
     "data": {
      "text/html": [
       "<div>\n",
       "<style scoped>\n",
       "    .dataframe tbody tr th:only-of-type {\n",
       "        vertical-align: middle;\n",
       "    }\n",
       "\n",
       "    .dataframe tbody tr th {\n",
       "        vertical-align: top;\n",
       "    }\n",
       "\n",
       "    .dataframe thead th {\n",
       "        text-align: right;\n",
       "    }\n",
       "</style>\n",
       "<table border=\"1\" class=\"dataframe\">\n",
       "  <thead>\n",
       "    <tr style=\"text-align: right;\">\n",
       "      <th></th>\n",
       "      <th>ASIN</th>\n",
       "      <th>target_label</th>\n",
       "      <th>ASIN_STATIC_ITEM_NAME</th>\n",
       "      <th>ASIN_STATIC_PRODUCT_DESCRIPTION</th>\n",
       "      <th>ASIN_STATIC_ITEM_PACKAGE_WEIGHT</th>\n",
       "      <th>ASIN_STATIC_LIST_PRICE</th>\n",
       "      <th>ASIN_STATIC_BATTERIES_INCLUDED_False</th>\n",
       "      <th>ASIN_STATIC_BATTERIES_INCLUDED_True</th>\n",
       "      <th>ASIN_STATIC_BATTERIES_INCLUDED_Missing</th>\n",
       "      <th>ASIN_STATIC_BATTERIES_REQUIRED_False</th>\n",
       "      <th>...</th>\n",
       "      <th>ASIN_STATIC_GL_PRODUCT_GROUP_TYPE_gl_office_product</th>\n",
       "      <th>ASIN_STATIC_GL_PRODUCT_GROUP_TYPE_gl_pc</th>\n",
       "      <th>ASIN_STATIC_GL_PRODUCT_GROUP_TYPE_gl_personal_care_appliances</th>\n",
       "      <th>ASIN_STATIC_GL_PRODUCT_GROUP_TYPE_gl_pet_products</th>\n",
       "      <th>ASIN_STATIC_GL_PRODUCT_GROUP_TYPE_gl_shoes</th>\n",
       "      <th>ASIN_STATIC_GL_PRODUCT_GROUP_TYPE_gl_sports</th>\n",
       "      <th>ASIN_STATIC_GL_PRODUCT_GROUP_TYPE_gl_toy</th>\n",
       "      <th>ASIN_STATIC_GL_PRODUCT_GROUP_TYPE_gl_video_games</th>\n",
       "      <th>ASIN_STATIC_GL_PRODUCT_GROUP_TYPE_gl_watch</th>\n",
       "      <th>ASIN_STATIC_GL_PRODUCT_GROUP_TYPE_gl_wireless</th>\n",
       "    </tr>\n",
       "  </thead>\n",
       "  <tbody>\n",
       "    <tr>\n",
       "      <th>0</th>\n",
       "      <td>B004U9MOWO</td>\n",
       "      <td>0</td>\n",
       "      <td>Master Lock 8 X 900 mm Chain Integrated 4 Digi...</td>\n",
       "      <td>Master Lock Street Flexium 900mm Integrated Co...</td>\n",
       "      <td>2.650000</td>\n",
       "      <td>16.660000</td>\n",
       "      <td>1</td>\n",
       "      <td>0</td>\n",
       "      <td>0</td>\n",
       "      <td>1</td>\n",
       "      <td>...</td>\n",
       "      <td>0</td>\n",
       "      <td>0</td>\n",
       "      <td>0</td>\n",
       "      <td>0</td>\n",
       "      <td>0</td>\n",
       "      <td>1</td>\n",
       "      <td>0</td>\n",
       "      <td>0</td>\n",
       "      <td>0</td>\n",
       "      <td>0</td>\n",
       "    </tr>\n",
       "    <tr>\n",
       "      <th>1</th>\n",
       "      <td>B006OJWZMW</td>\n",
       "      <td>0</td>\n",
       "      <td>In Phase SRX-EQ 10 Band Parametric Equalizer w...</td>\n",
       "      <td>NaN</td>\n",
       "      <td>1.680000</td>\n",
       "      <td>158.330000</td>\n",
       "      <td>1</td>\n",
       "      <td>0</td>\n",
       "      <td>0</td>\n",
       "      <td>1</td>\n",
       "      <td>...</td>\n",
       "      <td>0</td>\n",
       "      <td>0</td>\n",
       "      <td>0</td>\n",
       "      <td>0</td>\n",
       "      <td>0</td>\n",
       "      <td>0</td>\n",
       "      <td>0</td>\n",
       "      <td>0</td>\n",
       "      <td>0</td>\n",
       "      <td>1</td>\n",
       "    </tr>\n",
       "    <tr>\n",
       "      <th>2</th>\n",
       "      <td>B00008VIJ4</td>\n",
       "      <td>0</td>\n",
       "      <td>Technics RPDJ1210 DJ Headphones - Silver</td>\n",
       "      <td>Plated Connector:Gold, Connector Type:Headphon...</td>\n",
       "      <td>1.455036</td>\n",
       "      <td>69.750458</td>\n",
       "      <td>1</td>\n",
       "      <td>0</td>\n",
       "      <td>0</td>\n",
       "      <td>1</td>\n",
       "      <td>...</td>\n",
       "      <td>0</td>\n",
       "      <td>0</td>\n",
       "      <td>0</td>\n",
       "      <td>0</td>\n",
       "      <td>0</td>\n",
       "      <td>0</td>\n",
       "      <td>0</td>\n",
       "      <td>0</td>\n",
       "      <td>0</td>\n",
       "      <td>0</td>\n",
       "    </tr>\n",
       "    <tr>\n",
       "      <th>3</th>\n",
       "      <td>B005433T4M</td>\n",
       "      <td>0</td>\n",
       "      <td>Heartwarmers Coming Home Padded Lap Tray, 42 x...</td>\n",
       "      <td>NaN</td>\n",
       "      <td>1.763680</td>\n",
       "      <td>12.490000</td>\n",
       "      <td>1</td>\n",
       "      <td>0</td>\n",
       "      <td>0</td>\n",
       "      <td>0</td>\n",
       "      <td>...</td>\n",
       "      <td>0</td>\n",
       "      <td>0</td>\n",
       "      <td>0</td>\n",
       "      <td>0</td>\n",
       "      <td>0</td>\n",
       "      <td>0</td>\n",
       "      <td>0</td>\n",
       "      <td>0</td>\n",
       "      <td>0</td>\n",
       "      <td>0</td>\n",
       "    </tr>\n",
       "    <tr>\n",
       "      <th>4</th>\n",
       "      <td>B0073CN63Q</td>\n",
       "      <td>0</td>\n",
       "      <td>Douceur D'Intérieur  - 1600728, Curtain With E...</td>\n",
       "      <td>NaN</td>\n",
       "      <td>2.292784</td>\n",
       "      <td>25.420000</td>\n",
       "      <td>1</td>\n",
       "      <td>0</td>\n",
       "      <td>0</td>\n",
       "      <td>1</td>\n",
       "      <td>...</td>\n",
       "      <td>0</td>\n",
       "      <td>0</td>\n",
       "      <td>0</td>\n",
       "      <td>0</td>\n",
       "      <td>0</td>\n",
       "      <td>0</td>\n",
       "      <td>0</td>\n",
       "      <td>0</td>\n",
       "      <td>0</td>\n",
       "      <td>0</td>\n",
       "    </tr>\n",
       "  </tbody>\n",
       "</table>\n",
       "<p>5 rows × 44 columns</p>\n",
       "</div>"
      ],
      "text/plain": [
       "         ASIN  target_label  \\\n",
       "0  B004U9MOWO             0   \n",
       "1  B006OJWZMW             0   \n",
       "2  B00008VIJ4             0   \n",
       "3  B005433T4M             0   \n",
       "4  B0073CN63Q             0   \n",
       "\n",
       "                               ASIN_STATIC_ITEM_NAME  \\\n",
       "0  Master Lock 8 X 900 mm Chain Integrated 4 Digi...   \n",
       "1  In Phase SRX-EQ 10 Band Parametric Equalizer w...   \n",
       "2           Technics RPDJ1210 DJ Headphones - Silver   \n",
       "3  Heartwarmers Coming Home Padded Lap Tray, 42 x...   \n",
       "4  Douceur D'Intérieur  - 1600728, Curtain With E...   \n",
       "\n",
       "                     ASIN_STATIC_PRODUCT_DESCRIPTION  \\\n",
       "0  Master Lock Street Flexium 900mm Integrated Co...   \n",
       "1                                                NaN   \n",
       "2  Plated Connector:Gold, Connector Type:Headphon...   \n",
       "3                                                NaN   \n",
       "4                                                NaN   \n",
       "\n",
       "   ASIN_STATIC_ITEM_PACKAGE_WEIGHT  ASIN_STATIC_LIST_PRICE  \\\n",
       "0                         2.650000               16.660000   \n",
       "1                         1.680000              158.330000   \n",
       "2                         1.455036               69.750458   \n",
       "3                         1.763680               12.490000   \n",
       "4                         2.292784               25.420000   \n",
       "\n",
       "   ASIN_STATIC_BATTERIES_INCLUDED_False  ASIN_STATIC_BATTERIES_INCLUDED_True  \\\n",
       "0                                     1                                    0   \n",
       "1                                     1                                    0   \n",
       "2                                     1                                    0   \n",
       "3                                     1                                    0   \n",
       "4                                     1                                    0   \n",
       "\n",
       "   ASIN_STATIC_BATTERIES_INCLUDED_Missing  \\\n",
       "0                                       0   \n",
       "1                                       0   \n",
       "2                                       0   \n",
       "3                                       0   \n",
       "4                                       0   \n",
       "\n",
       "   ASIN_STATIC_BATTERIES_REQUIRED_False  ...  \\\n",
       "0                                     1  ...   \n",
       "1                                     1  ...   \n",
       "2                                     1  ...   \n",
       "3                                     0  ...   \n",
       "4                                     1  ...   \n",
       "\n",
       "   ASIN_STATIC_GL_PRODUCT_GROUP_TYPE_gl_office_product  \\\n",
       "0                                                  0     \n",
       "1                                                  0     \n",
       "2                                                  0     \n",
       "3                                                  0     \n",
       "4                                                  0     \n",
       "\n",
       "   ASIN_STATIC_GL_PRODUCT_GROUP_TYPE_gl_pc  \\\n",
       "0                                        0   \n",
       "1                                        0   \n",
       "2                                        0   \n",
       "3                                        0   \n",
       "4                                        0   \n",
       "\n",
       "   ASIN_STATIC_GL_PRODUCT_GROUP_TYPE_gl_personal_care_appliances  \\\n",
       "0                                                  0               \n",
       "1                                                  0               \n",
       "2                                                  0               \n",
       "3                                                  0               \n",
       "4                                                  0               \n",
       "\n",
       "   ASIN_STATIC_GL_PRODUCT_GROUP_TYPE_gl_pet_products  \\\n",
       "0                                                  0   \n",
       "1                                                  0   \n",
       "2                                                  0   \n",
       "3                                                  0   \n",
       "4                                                  0   \n",
       "\n",
       "   ASIN_STATIC_GL_PRODUCT_GROUP_TYPE_gl_shoes  \\\n",
       "0                                           0   \n",
       "1                                           0   \n",
       "2                                           0   \n",
       "3                                           0   \n",
       "4                                           0   \n",
       "\n",
       "   ASIN_STATIC_GL_PRODUCT_GROUP_TYPE_gl_sports  \\\n",
       "0                                            1   \n",
       "1                                            0   \n",
       "2                                            0   \n",
       "3                                            0   \n",
       "4                                            0   \n",
       "\n",
       "   ASIN_STATIC_GL_PRODUCT_GROUP_TYPE_gl_toy  \\\n",
       "0                                         0   \n",
       "1                                         0   \n",
       "2                                         0   \n",
       "3                                         0   \n",
       "4                                         0   \n",
       "\n",
       "   ASIN_STATIC_GL_PRODUCT_GROUP_TYPE_gl_video_games  \\\n",
       "0                                                 0   \n",
       "1                                                 0   \n",
       "2                                                 0   \n",
       "3                                                 0   \n",
       "4                                                 0   \n",
       "\n",
       "   ASIN_STATIC_GL_PRODUCT_GROUP_TYPE_gl_watch  \\\n",
       "0                                           0   \n",
       "1                                           0   \n",
       "2                                           0   \n",
       "3                                           0   \n",
       "4                                           0   \n",
       "\n",
       "   ASIN_STATIC_GL_PRODUCT_GROUP_TYPE_gl_wireless  \n",
       "0                                              0  \n",
       "1                                              1  \n",
       "2                                              0  \n",
       "3                                              0  \n",
       "4                                              0  \n",
       "\n",
       "[5 rows x 44 columns]"
      ]
     },
     "execution_count": 52,
     "metadata": {},
     "output_type": "execute_result"
    }
   ],
   "source": [
    "df.head()"
   ]
  },
  {
   "cell_type": "markdown",
   "metadata": {},
   "source": [
    "## 4. Training and test subsets\n",
    "We will split our dataset into training (90%) and test (10%) subsets. "
   ]
  },
  {
   "cell_type": "code",
   "execution_count": 53,
   "metadata": {},
   "outputs": [],
   "source": [
    "from sklearn.model_selection import train_test_split\n",
    "\n",
    "train_data, test_data = train_test_split(df, test_size=0.1, shuffle=True, random_state=23)"
   ]
  },
  {
   "cell_type": "markdown",
   "metadata": {},
   "source": [
    "## 5. Fitting the classifier\n",
    "We will use Sklearn's Decision Tree Classifier model here and apply Grid Search for hyper-parameter optimization. <br/>Let's first print the columns of our data table here."
   ]
  },
  {
   "cell_type": "code",
   "execution_count": 54,
   "metadata": {},
   "outputs": [
    {
     "name": "stdout",
     "output_type": "stream",
     "text": [
      "['ASIN', 'target_label', 'ASIN_STATIC_ITEM_NAME', 'ASIN_STATIC_PRODUCT_DESCRIPTION', 'ASIN_STATIC_ITEM_PACKAGE_WEIGHT', 'ASIN_STATIC_LIST_PRICE', 'ASIN_STATIC_BATTERIES_INCLUDED_False', 'ASIN_STATIC_BATTERIES_INCLUDED_True', 'ASIN_STATIC_BATTERIES_INCLUDED_Missing', 'ASIN_STATIC_BATTERIES_REQUIRED_False', 'ASIN_STATIC_BATTERIES_REQUIRED_True', 'ASIN_STATIC_BATTERIES_REQUIRED_Missing', 'ASIN_STATIC_ITEM_CLASSIFICATION_Missing', 'ASIN_STATIC_ITEM_CLASSIFICATION_base_product', 'ASIN_STATIC_ITEM_CLASSIFICATION_variation_parent', 'ASIN_STATIC_GL_PRODUCT_GROUP_TYPE_gl_apparel', 'ASIN_STATIC_GL_PRODUCT_GROUP_TYPE_gl_automotive', 'ASIN_STATIC_GL_PRODUCT_GROUP_TYPE_gl_baby_product', 'ASIN_STATIC_GL_PRODUCT_GROUP_TYPE_gl_beauty', 'ASIN_STATIC_GL_PRODUCT_GROUP_TYPE_gl_biss', 'ASIN_STATIC_GL_PRODUCT_GROUP_TYPE_gl_book', 'ASIN_STATIC_GL_PRODUCT_GROUP_TYPE_gl_camera', 'ASIN_STATIC_GL_PRODUCT_GROUP_TYPE_gl_drugstore', 'ASIN_STATIC_GL_PRODUCT_GROUP_TYPE_gl_electronics', 'ASIN_STATIC_GL_PRODUCT_GROUP_TYPE_gl_fresh_ambient', 'ASIN_STATIC_GL_PRODUCT_GROUP_TYPE_gl_home', 'ASIN_STATIC_GL_PRODUCT_GROUP_TYPE_gl_home_entertainment', 'ASIN_STATIC_GL_PRODUCT_GROUP_TYPE_gl_home_improvement', 'ASIN_STATIC_GL_PRODUCT_GROUP_TYPE_gl_kitchen', 'ASIN_STATIC_GL_PRODUCT_GROUP_TYPE_gl_lawn_and_garden', 'ASIN_STATIC_GL_PRODUCT_GROUP_TYPE_gl_luggage', 'ASIN_STATIC_GL_PRODUCT_GROUP_TYPE_gl_major_appliances', 'ASIN_STATIC_GL_PRODUCT_GROUP_TYPE_gl_music', 'ASIN_STATIC_GL_PRODUCT_GROUP_TYPE_gl_musical_instruments', 'ASIN_STATIC_GL_PRODUCT_GROUP_TYPE_gl_office_product', 'ASIN_STATIC_GL_PRODUCT_GROUP_TYPE_gl_pc', 'ASIN_STATIC_GL_PRODUCT_GROUP_TYPE_gl_personal_care_appliances', 'ASIN_STATIC_GL_PRODUCT_GROUP_TYPE_gl_pet_products', 'ASIN_STATIC_GL_PRODUCT_GROUP_TYPE_gl_shoes', 'ASIN_STATIC_GL_PRODUCT_GROUP_TYPE_gl_sports', 'ASIN_STATIC_GL_PRODUCT_GROUP_TYPE_gl_toy', 'ASIN_STATIC_GL_PRODUCT_GROUP_TYPE_gl_video_games', 'ASIN_STATIC_GL_PRODUCT_GROUP_TYPE_gl_watch', 'ASIN_STATIC_GL_PRODUCT_GROUP_TYPE_gl_wireless']\n"
     ]
    }
   ],
   "source": [
    "columns = df.columns.tolist()\n",
    "print(columns)"
   ]
  },
  {
   "cell_type": "markdown",
   "metadata": {},
   "source": [
    "We will __NOT__ use __'ASIN', 'ASIN_STATIC_ITEM_NAME', 'ASIN_STATIC_PRODUCT_DESCRIPTION'__ fields. The rest will be used to fit our decision tree. 'ASIN_STATIC_ITEM_NAME', 'ASIN_STATIC_PRODUCT_DESCRIPTION' fields are text fields. We need to apply text processing techniques for these fields. "
   ]
  },
  {
   "cell_type": "code",
   "execution_count": 55,
   "metadata": {},
   "outputs": [
    {
     "name": "stdout",
     "output_type": "stream",
     "text": [
      "Training data shape: (55108, 40)\n",
      "Training label shape: (55108,)\n",
      "Fitting 5 folds for each of 245 candidates, totalling 1225 fits\n"
     ]
    },
    {
     "name": "stderr",
     "output_type": "stream",
     "text": [
      "[Parallel(n_jobs=-1)]: Using backend LokyBackend with 2 concurrent workers.\n",
      "[Parallel(n_jobs=-1)]: Done  46 tasks      | elapsed:   15.0s\n",
      "[Parallel(n_jobs=-1)]: Done 196 tasks      | elapsed:   57.2s\n",
      "[Parallel(n_jobs=-1)]: Done 446 tasks      | elapsed:  2.1min\n",
      "[Parallel(n_jobs=-1)]: Done 796 tasks      | elapsed:  3.8min\n",
      "[Parallel(n_jobs=-1)]: Done 1225 out of 1225 | elapsed:  5.9min finished\n"
     ]
    },
    {
     "name": "stdout",
     "output_type": "stream",
     "text": [
      "CPU times: user 4.97 s, sys: 366 ms, total: 5.34 s\n",
      "Wall time: 5min 51s\n"
     ]
    }
   ],
   "source": [
    "%%time\n",
    "from sklearn.model_selection import GridSearchCV\n",
    "from sklearn.tree import DecisionTreeClassifier\n",
    "\n",
    "# We will skip the 'ASIN', 'target_label', 'ASIN_STATIC_ITEM_NAME', 'ASIN_STATIC_PRODUCT_DESCRIPTION' and keep the rest\n",
    "X_train = train_data[columns[4:]].values\n",
    "y_train = train_data['target_label'].values\n",
    "\n",
    "print(\"Training data shape:\", X_train.shape)\n",
    "print(\"Training label shape:\", y_train.shape)\n",
    "\n",
    "param_grid={'max_depth': [50, 75, 100, 125, 150, 200, 250], \n",
    "            'min_samples_leaf': [5, 10, 15, 25, 30],\n",
    "            'min_samples_split': [2, 5, 15, 25, 30, 45, 50]\n",
    "           }\n",
    "\n",
    "# Here, we will use class_weight parameter. This will put more weight to smaller class during training.\n",
    "dt = DecisionTreeClassifier(class_weight = 'balanced')\n",
    "\n",
    "grid_search = GridSearchCV(dt, # Base model\n",
    "                           param_grid, # Parameters to try\n",
    "                           cv = 5, # Apply 5-fold cross validation\n",
    "                           verbose = 1, # Print summary\n",
    "                           n_jobs = -1 # Use all available processors \n",
    "                          )\n",
    "\n",
    "grid_search.fit(X_train, y_train)"
   ]
  },
  {
   "cell_type": "code",
   "execution_count": 56,
   "metadata": {},
   "outputs": [
    {
     "data": {
      "text/plain": [
       "{'max_depth': 150, 'min_samples_leaf': 5, 'min_samples_split': 5}"
      ]
     },
     "execution_count": 56,
     "metadata": {},
     "output_type": "execute_result"
    }
   ],
   "source": [
    "grid_search.best_params_"
   ]
  },
  {
   "cell_type": "markdown",
   "metadata": {},
   "source": [
    "## 6. Testing\n",
    "Let's see how the classifier performs with \"unseen\" data (our test data). We will use the predict() function this time."
   ]
  },
  {
   "cell_type": "code",
   "execution_count": 57,
   "metadata": {},
   "outputs": [],
   "source": [
    "# Let's get the input and output data for testing the classifier\n",
    "X_test = test_data[columns[4:]].values\n",
    "y_test = test_data['target_label'].values\n",
    "\n",
    "y_pred = grid_search.predict(X_test)"
   ]
  },
  {
   "cell_type": "markdown",
   "metadata": {},
   "source": [
    "We will use Sklearn's metrics functions to see the results.\n",
    "\n",
    "__Confusion matrix:__ The diagonals show us correct classifications. Each row and column belongs to a class (plug or no plug). The first column and row correspond to \"no plug\" case, the second column-rows are \"plug\" case."
   ]
  },
  {
   "cell_type": "code",
   "execution_count": 58,
   "metadata": {},
   "outputs": [
    {
     "name": "stdout",
     "output_type": "stream",
     "text": [
      "[[5095  825]\n",
      " [ 144   60]]\n"
     ]
    }
   ],
   "source": [
    "from sklearn.metrics import confusion_matrix\n",
    "\n",
    "print(confusion_matrix(y_test, y_pred))"
   ]
  },
  {
   "cell_type": "markdown",
   "metadata": {},
   "source": [
    "When we look at the confusion matrix, it is better than our previous KNN model in terms of getting more \"plug\" cases correctly (60).\n",
    "\n",
    "Let's look at the __classification report__ and __accuracy__ below."
   ]
  },
  {
   "cell_type": "code",
   "execution_count": 59,
   "metadata": {},
   "outputs": [
    {
     "name": "stdout",
     "output_type": "stream",
     "text": [
      "              precision    recall  f1-score   support\n",
      "\n",
      "           0       0.97      0.86      0.91      5920\n",
      "           1       0.07      0.29      0.11       204\n",
      "\n",
      "   micro avg       0.84      0.84      0.84      6124\n",
      "   macro avg       0.52      0.58      0.51      6124\n",
      "weighted avg       0.94      0.84      0.89      6124\n",
      "\n",
      "Accuracy: 0.8417700849118224\n"
     ]
    }
   ],
   "source": [
    "from sklearn.metrics import classification_report\n",
    "from sklearn.metrics import accuracy_score\n",
    "\n",
    "print(classification_report(y_test, y_pred))\n",
    "\n",
    "print(\"Accuracy:\", accuracy_score(y_test, y_pred))"
   ]
  },
  {
   "cell_type": "markdown",
   "metadata": {},
   "source": [
    "As we are dealing with an imbalanced dataset, accuracy can be a misleading metric. We should make a class based perfomance assessment.\n",
    "\n",
    "\n",
    "The small or underrepresented class performance improved with this model, but there is still a lot of room for improvement."
   ]
  }
 ],
 "metadata": {
  "kernelspec": {
   "display_name": "Python 3",
   "language": "python",
   "name": "python3"
  },
  "language_info": {
   "codemirror_mode": {
    "name": "ipython",
    "version": 3
   },
   "file_extension": ".py",
   "mimetype": "text/x-python",
   "name": "python",
   "nbconvert_exporter": "python",
   "pygments_lexer": "ipython3",
   "version": "3.7.4"
  }
 },
 "nbformat": 4,
 "nbformat_minor": 2
}
