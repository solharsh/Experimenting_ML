{
 "cells": [
  {
   "cell_type": "code",
   "execution_count": 1,
   "metadata": {},
   "outputs": [
    {
     "name": "stderr",
     "output_type": "stream",
     "text": [
      "/home/rabkol/anaconda3/envs/py36/lib/python3.6/site-packages/sklearn/cross_validation.py:41: DeprecationWarning: This module was deprecated in version 0.18 in favor of the model_selection module into which all the refactored classes and functions are moved. Also note that the interface of the new CV iterators are different from that of this module. This module will be removed in 0.20.\n",
      "  \"This module will be removed in 0.20.\", DeprecationWarning)\n"
     ]
    }
   ],
   "source": [
    "import pandas as pd\n",
    "import numpy as np\n",
    "from sklearn.metrics import accuracy_score\n",
    "from sklearn.cross_validation import train_test_split\n",
    "from sklearn import tree\n",
    "import pandas_redshift as pr\n",
    "from sklearn.metrics import accuracy_score\n",
    "from sklearn.ensemble import RandomForestClassifier\n",
    "from sklearn.tree import DecisionTreeClassifier\n",
    "from sklearn import metrics\n",
    "from sklearn.metrics import accuracy_score\n",
    "import datetime, pytz, sys\n",
    "from sklearn.decomposition import PCA\n",
    "from sklearn.discriminant_analysis import LinearDiscriminantAnalysis\n",
    "from sklearn.model_selection import RandomizedSearchCV\n",
    "from xgboost import XGBClassifier\n",
    "from skopt import BayesSearchCV\n",
    "from sklearn.model_selection import StratifiedKFold\n",
    "from math import sqrt, log\n",
    "from sklearn.tree import DecisionTreeClassifier\n",
    "from sklearn.ensemble import BaggingClassifier"
   ]
  },
  {
   "cell_type": "code",
   "execution_count": 2,
   "metadata": {},
   "outputs": [],
   "source": [
    "def model_accuracy(trained_model, features, targets):\n",
    "    accuracy_score = trained_model.score(features, targets)\n",
    "    return accuracy_score"
   ]
  },
  {
   "cell_type": "code",
   "execution_count": 3,
   "metadata": {},
   "outputs": [],
   "source": [
    "df_train = pd.read_csv('/local/home/rabkol/Desktop/01_Projects/Leaderboard/MLE_Tiny_Training_Trial/TTT_train.csv')\n",
    "#df_test = pd.read_csv('/local/home/rabkol/Desktop/01_Projects/Leaderboard/MLE_Tiny_Training_Trial/TTT_test_features.csv')"
   ]
  },
  {
   "cell_type": "code",
   "execution_count": 4,
   "metadata": {},
   "outputs": [],
   "source": [
    "training_features = list(df_train.columns.values)"
   ]
  },
  {
   "cell_type": "code",
   "execution_count": 5,
   "metadata": {},
   "outputs": [],
   "source": [
    "training_features = list(df_train.columns.values)\n",
    "training_features.remove('label')\n",
    "target = 'label'"
   ]
  },
  {
   "cell_type": "code",
   "execution_count": 6,
   "metadata": {},
   "outputs": [],
   "source": [
    "#Stratified Sampling\n",
    "for i in range(10):\n",
    "    df_train_samp = df_train[df_train.label == i]\n",
    "    train_x_samp, test_x_samp, train_y_samp, test_y_samp = train_test_split(df_train_samp[training_features], df_train_samp[target], train_size=0.8)\n",
    "    if i == 0:\n",
    "        train_x = train_x_samp\n",
    "        test_x = test_x_samp\n",
    "        train_y = train_y_samp\n",
    "        test_y = test_y_samp\n",
    "    else:\n",
    "        train_x = pd.concat([train_x, train_x_samp], axis=0)\n",
    "        test_x = pd.concat([test_x, test_x_samp], axis=0)\n",
    "        train_y = pd.concat([train_y, train_y_samp], axis=0)\n",
    "        test_y = pd.concat([test_y, test_y_samp], axis=0)"
   ]
  },
  {
   "cell_type": "code",
   "execution_count": 7,
   "metadata": {},
   "outputs": [
    {
     "name": "stdout",
     "output_type": "stream",
     "text": [
      "Train:\n",
      " 9    29.292929\n",
      "0    25.353535\n",
      "8    13.535354\n",
      "7     6.464646\n",
      "6     5.555556\n",
      "5     5.252525\n",
      "4     5.252525\n",
      "3     3.636364\n",
      "2     2.828283\n",
      "1     2.828283\n",
      "Name: label, dtype: float64\n",
      "Test:\n",
      " 9    28.740157\n",
      "0    24.803150\n",
      "8    13.385827\n",
      "7     6.692913\n",
      "6     5.511811\n",
      "5     5.511811\n",
      "4     5.118110\n",
      "3     3.937008\n",
      "2     3.149606\n",
      "1     3.149606\n",
      "Name: label, dtype: float64\n"
     ]
    }
   ],
   "source": [
    "print('Train:\\n',train_y.value_counts()*100/train_y.count())\n",
    "print('Test:\\n',test_y.value_counts()*100/test_y.count())"
   ]
  },
  {
   "cell_type": "code",
   "execution_count": 10,
   "metadata": {},
   "outputs": [
    {
     "name": "stdout",
     "output_type": "stream",
     "text": [
      "2019-04-15 14:48:18 PDT-0700 \t:\tStage 1, Depth  2 \t:\t 0.35555555555555557 , 0.36220472440944884\n",
      "2019-04-15 14:48:18 PDT-0700 \t:\tStage 1, Depth  12 \t:\t 0.509090909090909 , 0.4645669291338583\n",
      "2019-04-15 14:48:19 PDT-0700 \t:\tStage 1, Depth  22 \t:\t 0.6989898989898989 , 0.6377952755905512\n",
      "2019-04-15 14:48:19 PDT-0700 \t:\tStage 1, Depth  32 \t:\t 0.7636363636363637 , 0.6535433070866141\n",
      "2019-04-15 14:48:19 PDT-0700 \t:\tStage 1, Depth  42 \t:\t 0.8252525252525252 , 0.65748031496063\n",
      "2019-04-15 14:48:19 PDT-0700 \t:\tStage 1, Depth  42 \t:\t 0.9282828282828283 , 0.7440944881889764\n",
      "2019-04-15 14:48:20 PDT-0700 \t:\tStage 1, Depth  42 \t:\t 0.9717171717171718 , 0.7598425196850394\n",
      "2019-04-15 14:48:20 PDT-0700 \t:\tStage 1, Depth  42 \t:\t 0.9767676767676767 , 0.7677165354330708\n",
      "2019-04-15 14:48:22 PDT-0700 \t:\tStage 1, Depth  42 \t:\t 0.9767676767676767 , 0.7716535433070866\n",
      "2019-04-15 14:48:23 PDT-0700 \t:\tStage 1, Depth  42 \t:\t 0.9767676767676767 , 0.7637795275590551\n"
     ]
    }
   ],
   "source": [
    "#Get Accuracy of Base Model RF\n",
    "RF_base = None\n",
    "#Auto Growing Depth of Tree\n",
    "test_accuracy_prior = 0\n",
    "for depth in range(2,50,10):\n",
    "    clf = RandomForestClassifier(n_estimators = 1, max_depth=depth, min_samples_split = 3, min_samples_leaf = 1,n_jobs = -1)\n",
    "    clf.fit(train_x, train_y)\n",
    "    test_accuracy = model_accuracy(clf, test_x, test_y)\n",
    "    train_accuracy = model_accuracy(clf, train_x, train_y)\n",
    "    datetime_print = datetime.datetime.now(pytz.timezone('US/Pacific')).strftime('%Y-%m-%d %H:%M:%S %Z%z')\n",
    "    print(datetime_print,'\\t:\\tStage 1, Depth ',depth,'\\t:\\t',train_accuracy,',',test_accuracy)\n",
    "    if (test_accuracy - test_accuracy_prior) <= 0.0010:#0.10% improvement in test accuracy between subsequent increase in tree sizes\n",
    "        #print('Depth Chosen for RF classifier\\t:\\t\\t',depth,'\\n')\n",
    "        break\n",
    "    test_accuracy_prior = test_accuracy\n",
    "    sys.stdout.flush()\n",
    "\n",
    "#Auto Growing Number of Trees\n",
    "test_accuracy_prior = 0\n",
    "for trees in range(5,500,100):\n",
    "    clf = RandomForestClassifier(n_estimators = trees, max_depth=depth, min_samples_split = 3, min_samples_leaf = 1,n_jobs = -1)\n",
    "    clf.fit(train_x, train_y)\n",
    "    test_accuracy = model_accuracy(clf, test_x, test_y)\n",
    "    train_accuracy = model_accuracy(clf, train_x, train_y)\n",
    "    datetime_print = datetime.datetime.now(pytz.timezone('US/Pacific')).strftime('%Y-%m-%d %H:%M:%S %Z%z')\n",
    "    print(datetime_print,'\\t:\\tStage 1, Depth ',depth,'\\t:\\t',train_accuracy,',',test_accuracy)\n",
    "    if (test_accuracy - test_accuracy_prior) <= 0.0010:#0.10% improvement in test accuracy between subsequent increase in tree sizes\n",
    "        #print('Num Trees Chosen for RF classifier\\t:\\t\\t',trees,'\\n')\n",
    "        RF_base = clf\n",
    "        break\n",
    "    test_accuracy_prior = test_accuracy\n",
    "    sys.stdout.flush()"
   ]
  },
  {
   "cell_type": "code",
   "execution_count": 14,
   "metadata": {},
   "outputs": [
    {
     "name": "stdout",
     "output_type": "stream",
     "text": [
      "(990, 1257) , (99990, 1257)\n"
     ]
    }
   ],
   "source": [
    "# Introduce some randomness for better generalizability and low data size in training\n",
    "# Add Random Noise (Augment existing training data)\n",
    "\n",
    "def rand_noise_inserter(dataset,n):\n",
    "    df_train_rand = dataset\n",
    "    for i in range(n):\n",
    "        df_randn = pd.DataFrame(np.random.uniform(0.05,0.15)*np.random.randn(dataset.shape[0], dataset.shape[1]-1) + 1, columns=list(dataset.columns.values)[:-1])\n",
    "        #df_randn = pd.DataFrame(max_sd*np.random.randn(dataset.shape[0], dataset.shape[1]-1) + 1, columns=list(dataset.columns.values)[:-1])\n",
    "        df_randn['label'] = 1\n",
    "        df_randn.index = dataset.index\n",
    "        df_train_rand_temp = dataset * df_randn\n",
    "        df_train_rand = pd.concat([df_train_rand, df_train_rand_temp])\n",
    "    df_train_rand2 = df_train_rand\n",
    "    df_train_rand = df_train_rand2.clip(0,1)\n",
    "    df_train_rand['label'] = df_train_rand2['label']\n",
    "    df_train_rand.reset_index()\n",
    "    return df_train_rand\n",
    "\n",
    "train_xy = pd.concat([train_x, train_y], axis = 1)\n",
    "train_xy_rand = rand_noise_inserter(train_xy,100)\n",
    "print(train_xy.shape,',',train_xy_rand.shape)"
   ]
  },
  {
   "cell_type": "code",
   "execution_count": 15,
   "metadata": {},
   "outputs": [
    {
     "data": {
      "text/html": [
       "<div>\n",
       "<style scoped>\n",
       "    .dataframe tbody tr th:only-of-type {\n",
       "        vertical-align: middle;\n",
       "    }\n",
       "\n",
       "    .dataframe tbody tr th {\n",
       "        vertical-align: top;\n",
       "    }\n",
       "\n",
       "    .dataframe thead th {\n",
       "        text-align: right;\n",
       "    }\n",
       "</style>\n",
       "<table border=\"1\" class=\"dataframe\">\n",
       "  <thead>\n",
       "    <tr style=\"text-align: right;\">\n",
       "      <th></th>\n",
       "      <th>f0</th>\n",
       "      <th>f1</th>\n",
       "      <th>f2</th>\n",
       "      <th>f3</th>\n",
       "      <th>f4</th>\n",
       "      <th>f5</th>\n",
       "      <th>f6</th>\n",
       "      <th>f7</th>\n",
       "      <th>f8</th>\n",
       "      <th>f9</th>\n",
       "      <th>...</th>\n",
       "      <th>f1247</th>\n",
       "      <th>f1248</th>\n",
       "      <th>f1249</th>\n",
       "      <th>f1250</th>\n",
       "      <th>f1251</th>\n",
       "      <th>f1252</th>\n",
       "      <th>f1253</th>\n",
       "      <th>f1254</th>\n",
       "      <th>f1255</th>\n",
       "      <th>label</th>\n",
       "    </tr>\n",
       "  </thead>\n",
       "  <tbody>\n",
       "    <tr>\n",
       "      <th>1202</th>\n",
       "      <td>0.0</td>\n",
       "      <td>0.0</td>\n",
       "      <td>0.0</td>\n",
       "      <td>0.0</td>\n",
       "      <td>0.0</td>\n",
       "      <td>0.0</td>\n",
       "      <td>0.0</td>\n",
       "      <td>0.0</td>\n",
       "      <td>0.0</td>\n",
       "      <td>0.0</td>\n",
       "      <td>...</td>\n",
       "      <td>0.0</td>\n",
       "      <td>0.0</td>\n",
       "      <td>0.0</td>\n",
       "      <td>0.0</td>\n",
       "      <td>0.0</td>\n",
       "      <td>0.0</td>\n",
       "      <td>0.0</td>\n",
       "      <td>0.0</td>\n",
       "      <td>0.0</td>\n",
       "      <td>9</td>\n",
       "    </tr>\n",
       "    <tr>\n",
       "      <th>846</th>\n",
       "      <td>0.0</td>\n",
       "      <td>0.0</td>\n",
       "      <td>0.0</td>\n",
       "      <td>0.0</td>\n",
       "      <td>0.0</td>\n",
       "      <td>0.0</td>\n",
       "      <td>0.0</td>\n",
       "      <td>0.0</td>\n",
       "      <td>0.0</td>\n",
       "      <td>0.0</td>\n",
       "      <td>...</td>\n",
       "      <td>0.0</td>\n",
       "      <td>0.0</td>\n",
       "      <td>0.0</td>\n",
       "      <td>0.0</td>\n",
       "      <td>0.0</td>\n",
       "      <td>0.0</td>\n",
       "      <td>0.0</td>\n",
       "      <td>0.0</td>\n",
       "      <td>0.0</td>\n",
       "      <td>9</td>\n",
       "    </tr>\n",
       "    <tr>\n",
       "      <th>906</th>\n",
       "      <td>0.0</td>\n",
       "      <td>0.0</td>\n",
       "      <td>0.0</td>\n",
       "      <td>0.0</td>\n",
       "      <td>0.0</td>\n",
       "      <td>0.0</td>\n",
       "      <td>0.0</td>\n",
       "      <td>0.0</td>\n",
       "      <td>0.0</td>\n",
       "      <td>0.0</td>\n",
       "      <td>...</td>\n",
       "      <td>0.0</td>\n",
       "      <td>0.0</td>\n",
       "      <td>0.0</td>\n",
       "      <td>0.0</td>\n",
       "      <td>0.0</td>\n",
       "      <td>0.0</td>\n",
       "      <td>0.0</td>\n",
       "      <td>0.0</td>\n",
       "      <td>0.0</td>\n",
       "      <td>9</td>\n",
       "    </tr>\n",
       "    <tr>\n",
       "      <th>868</th>\n",
       "      <td>0.0</td>\n",
       "      <td>0.0</td>\n",
       "      <td>0.0</td>\n",
       "      <td>0.0</td>\n",
       "      <td>0.0</td>\n",
       "      <td>0.0</td>\n",
       "      <td>0.0</td>\n",
       "      <td>0.0</td>\n",
       "      <td>0.0</td>\n",
       "      <td>0.0</td>\n",
       "      <td>...</td>\n",
       "      <td>0.0</td>\n",
       "      <td>0.0</td>\n",
       "      <td>0.0</td>\n",
       "      <td>0.0</td>\n",
       "      <td>0.0</td>\n",
       "      <td>0.0</td>\n",
       "      <td>0.0</td>\n",
       "      <td>0.0</td>\n",
       "      <td>0.0</td>\n",
       "      <td>9</td>\n",
       "    </tr>\n",
       "    <tr>\n",
       "      <th>985</th>\n",
       "      <td>0.0</td>\n",
       "      <td>0.0</td>\n",
       "      <td>0.0</td>\n",
       "      <td>0.0</td>\n",
       "      <td>0.0</td>\n",
       "      <td>0.0</td>\n",
       "      <td>0.0</td>\n",
       "      <td>0.0</td>\n",
       "      <td>0.0</td>\n",
       "      <td>0.0</td>\n",
       "      <td>...</td>\n",
       "      <td>0.0</td>\n",
       "      <td>0.0</td>\n",
       "      <td>0.0</td>\n",
       "      <td>0.0</td>\n",
       "      <td>0.0</td>\n",
       "      <td>0.0</td>\n",
       "      <td>0.0</td>\n",
       "      <td>0.0</td>\n",
       "      <td>0.0</td>\n",
       "      <td>9</td>\n",
       "    </tr>\n",
       "  </tbody>\n",
       "</table>\n",
       "<p>5 rows × 1257 columns</p>\n",
       "</div>"
      ],
      "text/plain": [
       "       f0   f1   f2   f3   f4   f5   f6   f7   f8   f9  ...    f1247  f1248  \\\n",
       "1202  0.0  0.0  0.0  0.0  0.0  0.0  0.0  0.0  0.0  0.0  ...      0.0    0.0   \n",
       "846   0.0  0.0  0.0  0.0  0.0  0.0  0.0  0.0  0.0  0.0  ...      0.0    0.0   \n",
       "906   0.0  0.0  0.0  0.0  0.0  0.0  0.0  0.0  0.0  0.0  ...      0.0    0.0   \n",
       "868   0.0  0.0  0.0  0.0  0.0  0.0  0.0  0.0  0.0  0.0  ...      0.0    0.0   \n",
       "985   0.0  0.0  0.0  0.0  0.0  0.0  0.0  0.0  0.0  0.0  ...      0.0    0.0   \n",
       "\n",
       "      f1249  f1250  f1251  f1252  f1253  f1254  f1255  label  \n",
       "1202    0.0    0.0    0.0    0.0    0.0    0.0    0.0      9  \n",
       "846     0.0    0.0    0.0    0.0    0.0    0.0    0.0      9  \n",
       "906     0.0    0.0    0.0    0.0    0.0    0.0    0.0      9  \n",
       "868     0.0    0.0    0.0    0.0    0.0    0.0    0.0      9  \n",
       "985     0.0    0.0    0.0    0.0    0.0    0.0    0.0      9  \n",
       "\n",
       "[5 rows x 1257 columns]"
      ]
     },
     "execution_count": 15,
     "metadata": {},
     "output_type": "execute_result"
    }
   ],
   "source": [
    "train_xy_rand.tail()"
   ]
  },
  {
   "cell_type": "code",
   "execution_count": 16,
   "metadata": {},
   "outputs": [
    {
     "name": "stdout",
     "output_type": "stream",
     "text": [
      "2019-04-15 14:52:53 PDT-0700 \t:\tStage 1, Depth  2 \t:\t 0.33434343434343433 , 0.3110236220472441\n",
      "2019-04-15 14:52:56 PDT-0700 \t:\tStage 1, Depth  12 \t:\t 0.5158015801580158 , 0.4251968503937008\n",
      "2019-04-15 14:52:58 PDT-0700 \t:\tStage 1, Depth  22 \t:\t 0.6542454245424543 , 0.531496062992126\n",
      "2019-04-15 14:53:01 PDT-0700 \t:\tStage 1, Depth  32 \t:\t 0.8153915391539154 , 0.5866141732283464\n",
      "2019-04-15 14:53:04 PDT-0700 \t:\tStage 1, Depth  42 \t:\t 0.8850785078507851 , 0.65748031496063\n",
      "2019-04-15 14:53:07 PDT-0700 \t:\tStage 2, Width  5 \t:\t 0.9616861686168617 , 0.7440944881889764\n",
      "2019-04-15 14:53:27 PDT-0700 \t:\tStage 2, Width  405 \t:\t 0.9892689268926893 , 0.7913385826771654\n",
      "2019-04-15 14:54:02 PDT-0700 \t:\tStage 2, Width  805 \t:\t 0.98994899489949 , 0.7913385826771654\n"
     ]
    }
   ],
   "source": [
    "#Get Accuracy of RF w/ data augmentation\n",
    "RF_Noise = None\n",
    "#Auto Growing Depth of Tree\n",
    "test_accuracy_prior = 0\n",
    "for depth in range(2,50,10):\n",
    "    clf = RandomForestClassifier(n_estimators = 1, max_depth=depth, min_samples_split = 2, min_samples_leaf = 1,n_jobs = -1)\n",
    "    clf.fit(train_xy_rand[training_features], train_xy_rand[target])\n",
    "    test_accuracy = model_accuracy(clf, test_x, test_y)\n",
    "    train_accuracy = model_accuracy(clf, train_xy_rand[training_features], train_xy_rand[target])\n",
    "    datetime_print = datetime.datetime.now(pytz.timezone('US/Pacific')).strftime('%Y-%m-%d %H:%M:%S %Z%z')\n",
    "    print(datetime_print,'\\t:\\tStage 1, Depth ',depth,'\\t:\\t',train_accuracy,',',test_accuracy)\n",
    "    if (test_accuracy - test_accuracy_prior) <= 0.0010:#0.10% improvement in test accuracy between subsequent increase in tree sizes\n",
    "        #print('Depth Chosen for RF classifier\\t:\\t\\t',depth,'\\n')\n",
    "        break\n",
    "    test_accuracy_prior = test_accuracy\n",
    "    sys.stdout.flush()\n",
    "\n",
    "#Auto Growing Number of Trees\n",
    "test_accuracy_prior = 0\n",
    "for trees in range(5,1000,400):\n",
    "    clf = RandomForestClassifier(n_estimators = trees, max_depth=depth, min_samples_split = 2, min_samples_leaf = 1,n_jobs = -1)\n",
    "    clf.fit(train_xy_rand[training_features], train_xy_rand[target])\n",
    "    test_accuracy = model_accuracy(clf, test_x, test_y)\n",
    "    train_accuracy = model_accuracy(clf, train_xy_rand[training_features], train_xy_rand[target])\n",
    "    datetime_print = datetime.datetime.now(pytz.timezone('US/Pacific')).strftime('%Y-%m-%d %H:%M:%S %Z%z')\n",
    "    print(datetime_print,'\\t:\\tStage 2, Width ',trees,'\\t:\\t',train_accuracy,',',test_accuracy)\n",
    "    if (test_accuracy - test_accuracy_prior) <= 0.0010:#0.10% improvement in test accuracy between subsequent increase in tree sizes\n",
    "        #print('Num Trees Chosen for RF classifier\\t:\\t\\t',trees,'\\n')\n",
    "        RF_Noise = clf\n",
    "        break\n",
    "    test_accuracy_prior = test_accuracy\n",
    "    sys.stdout.flush()"
   ]
  },
  {
   "cell_type": "code",
   "execution_count": 21,
   "metadata": {},
   "outputs": [
    {
     "name": "stdout",
     "output_type": "stream",
     "text": [
      "(1244, 1257) , (125644, 1257)\n"
     ]
    }
   ],
   "source": [
    "#train_xy = pd.concat([train_x, train_y], axis = 1)\n",
    "df_train_rand = rand_noise_inserter(df_train,100)\n",
    "print(df_train.shape,',',df_train_rand.shape)"
   ]
  },
  {
   "cell_type": "code",
   "execution_count": 22,
   "metadata": {},
   "outputs": [
    {
     "name": "stdout",
     "output_type": "stream",
     "text": [
      "2019-04-15 15:09:37 PDT-0700 \t:\tStage 1, Depth  2 \t:\t 0.32556270096463025 , 0.3228346456692913\n",
      "2019-04-15 15:09:40 PDT-0700 \t:\tStage 1, Depth  12 \t:\t 0.49220018464869 , 0.5039370078740157\n",
      "2019-04-15 15:09:43 PDT-0700 \t:\tStage 1, Depth  22 \t:\t 0.574615580529114 , 0.5905511811023622\n",
      "2019-04-15 15:09:46 PDT-0700 \t:\tStage 1, Depth  32 \t:\t 0.7910604565279679 , 0.8070866141732284\n",
      "2019-04-15 15:09:50 PDT-0700 \t:\tStage 1, Depth  42 \t:\t 0.8814268886695743 , 0.8858267716535433\n",
      "2019-04-15 15:09:54 PDT-0700 \t:\tStage 2, Width  5 \t:\t 0.9651714367578237 , 0.9606299212598425\n",
      "2019-04-15 15:10:21 PDT-0700 \t:\tStage 2, Width  405 \t:\t 0.9848062780554583 , 0.9803149606299213\n",
      "2019-04-15 15:11:14 PDT-0700 \t:\tStage 2, Width  805 \t:\t 0.985037088917895 , 0.9803149606299213\n"
     ]
    }
   ],
   "source": [
    "#Train on entire dataset + data augmentation. Test accuracy scores are meaningless here. \n",
    "RF_Noise = None\n",
    "#Auto Growing Depth of Tree\n",
    "test_accuracy_prior = 0\n",
    "for depth in range(2,50,10):\n",
    "    clf = RandomForestClassifier(n_estimators = 1, max_depth=depth, min_samples_split = 2, min_samples_leaf = 1,n_jobs = -1)\n",
    "    clf.fit(df_train_rand[training_features], df_train_rand[target])\n",
    "    test_accuracy = model_accuracy(clf, test_x, test_y)\n",
    "    train_accuracy = model_accuracy(clf, df_train_rand[training_features], df_train_rand[target])\n",
    "    datetime_print = datetime.datetime.now(pytz.timezone('US/Pacific')).strftime('%Y-%m-%d %H:%M:%S %Z%z')\n",
    "    print(datetime_print,'\\t:\\tStage 1, Depth ',depth,'\\t:\\t',train_accuracy,',',test_accuracy)\n",
    "    if (test_accuracy - test_accuracy_prior) <= 0.0010:#0.10% improvement in test accuracy between subsequent increase in tree sizes\n",
    "        #print('Depth Chosen for RF classifier\\t:\\t\\t',depth,'\\n')\n",
    "        break\n",
    "    test_accuracy_prior = test_accuracy\n",
    "    sys.stdout.flush()\n",
    "\n",
    "#Auto Growing Number of Trees\n",
    "test_accuracy_prior = 0\n",
    "for trees in range(5,1000,400):\n",
    "    clf = RandomForestClassifier(n_estimators = trees, max_depth=depth, min_samples_split = 2, min_samples_leaf = 1,n_jobs = -1)\n",
    "    clf.fit(df_train_rand[training_features], df_train_rand[target])\n",
    "    test_accuracy = model_accuracy(clf, test_x, test_y)\n",
    "    train_accuracy = model_accuracy(clf, df_train_rand[training_features], df_train_rand[target])\n",
    "    datetime_print = datetime.datetime.now(pytz.timezone('US/Pacific')).strftime('%Y-%m-%d %H:%M:%S %Z%z')\n",
    "    print(datetime_print,'\\t:\\tStage 2, Width ',trees,'\\t:\\t',train_accuracy,',',test_accuracy)\n",
    "    if (test_accuracy - test_accuracy_prior) <= 0.0010:#0.10% improvement in test accuracy between subsequent increase in tree sizes\n",
    "        #print('Num Trees Chosen for RF classifier\\t:\\t\\t',trees,'\\n')\n",
    "        RF_Noise = clf\n",
    "        break\n",
    "    test_accuracy_prior = test_accuracy\n",
    "    sys.stdout.flush()"
   ]
  },
  {
   "cell_type": "code",
   "execution_count": 26,
   "metadata": {},
   "outputs": [
    {
     "data": {
      "text/plain": [
       "RandomForestClassifier(bootstrap=True, class_weight=None, criterion='gini',\n",
       "            max_depth=42, max_features='auto', max_leaf_nodes=None,\n",
       "            min_impurity_decrease=0.0, min_impurity_split=None,\n",
       "            min_samples_leaf=1, min_samples_split=2,\n",
       "            min_weight_fraction_leaf=0.0, n_estimators=2000, n_jobs=-1,\n",
       "            oob_score=False, random_state=None, verbose=0,\n",
       "            warm_start=False)"
      ]
     },
     "execution_count": 26,
     "metadata": {},
     "output_type": "execute_result"
    }
   ],
   "source": [
    "clf = RandomForestClassifier(n_estimators = 2000, max_depth=42, min_samples_split = 2, min_samples_leaf = 1,n_jobs = -1)\n",
    "clf.fit(df_train_rand[training_features], df_train_rand[target])"
   ]
  },
  {
   "cell_type": "code",
   "execution_count": 25,
   "metadata": {},
   "outputs": [],
   "source": [
    "df_test = pd.read_csv('/local/home/rabkol/Desktop/01_Projects/Leaderboard/MLE_Tiny_Training_Trial/TTT_test_features.csv')\n",
    "ypred = pd.DataFrame(clf.predict(df_test[training_features]))\n",
    "ypred.index = df_test.ID\n",
    "ypred.to_csv('/local/home/rabkol/Desktop/01_Projects/Leaderboard/MLE_Tiny_Training_Trial/20190331_RF_BP_Train_All_2k_rand.csv', header=True, sep = ',')"
   ]
  }
 ],
 "metadata": {
  "kernelspec": {
   "display_name": "Python 3",
   "language": "python",
   "name": "python3"
  },
  "language_info": {
   "codemirror_mode": {
    "name": "ipython",
    "version": 3
   },
   "file_extension": ".py",
   "mimetype": "text/x-python",
   "name": "python",
   "nbconvert_exporter": "python",
   "pygments_lexer": "ipython3",
   "version": "3.7.4"
  }
 },
 "nbformat": 4,
 "nbformat_minor": 2
}
