{
  "nbformat": 4,
  "nbformat_minor": 0,
  "metadata": {
    "colab": {
      "name": "GEOIQ_assignment.ipynb",
      "provenance": [],
      "collapsed_sections": [],
      "toc_visible": true,
      "include_colab_link": true
    },
    "kernelspec": {
      "display_name": "Python 3",
      "language": "python",
      "name": "python3"
    },
    "language_info": {
      "codemirror_mode": {
        "name": "ipython",
        "version": 3
      },
      "file_extension": ".py",
      "mimetype": "text/x-python",
      "name": "python",
      "nbconvert_exporter": "python",
      "pygments_lexer": "ipython3",
      "version": "3.7.4"
    }
  },
  "cells": [
    {
      "cell_type": "markdown",
      "metadata": {
        "id": "view-in-github",
        "colab_type": "text"
      },
      "source": [
        "<a href=\"https://colab.research.google.com/github/solharsh/Experimenting_ML/blob/master/GEOIQ_assignment.ipynb\" target=\"_parent\"><img src=\"https://colab.research.google.com/assets/colab-badge.svg\" alt=\"Open In Colab\"/></a>"
      ]
    },
    {
      "cell_type": "code",
      "metadata": {
        "colab_type": "code",
        "id": "XcQlhvv2Y8C_",
        "colab": {
          "base_uri": "https://localhost:8080/",
          "height": 70
        },
        "outputId": "f41e1c22-1064-40ce-b6e6-865a4439a301"
      },
      "source": [
        "# For basic analysis and operations \n",
        "import pandas as pd \n",
        "import numpy as np\n",
        "# For Plotting \n",
        "import matplotlib as plt\n",
        "import seaborn as sns"
      ],
      "execution_count": 1,
      "outputs": [
        {
          "output_type": "stream",
          "text": [
            "/usr/local/lib/python3.6/dist-packages/statsmodels/tools/_testing.py:19: FutureWarning: pandas.util.testing is deprecated. Use the functions in the public API at pandas.testing instead.\n",
            "  import pandas.util.testing as tm\n"
          ],
          "name": "stderr"
        }
      ]
    },
    {
      "cell_type": "code",
      "metadata": {
        "id": "8r6c7Umkbo_7",
        "colab_type": "code",
        "colab": {
          "base_uri": "https://localhost:8080/",
          "height": 120
        },
        "outputId": "7c3b568d-e85f-418d-cabc-641f3fe532fe"
      },
      "source": [
        "from google.colab import drive\n",
        "drive.mount('/content/drive')"
      ],
      "execution_count": 2,
      "outputs": [
        {
          "output_type": "stream",
          "text": [
            "Go to this URL in a browser: https://accounts.google.com/o/oauth2/auth?client_id=947318989803-6bn6qk8qdgf4n4g3pfee6491hc0brc4i.apps.googleusercontent.com&redirect_uri=urn%3aietf%3awg%3aoauth%3a2.0%3aoob&response_type=code&scope=email%20https%3a%2f%2fwww.googleapis.com%2fauth%2fdocs.test%20https%3a%2f%2fwww.googleapis.com%2fauth%2fdrive%20https%3a%2f%2fwww.googleapis.com%2fauth%2fdrive.photos.readonly%20https%3a%2f%2fwww.googleapis.com%2fauth%2fpeopleapi.readonly\n",
            "\n",
            "Enter your authorization code:\n",
            "··········\n",
            "Mounted at /content/drive\n"
          ],
          "name": "stdout"
        }
      ]
    },
    {
      "cell_type": "code",
      "metadata": {
        "colab_type": "code",
        "id": "tEnU6c1cZ_Of",
        "colab": {}
      },
      "source": [
        "# Reading the given dataset to a pandas DataFrame \n",
        "population_df = pd.read_csv('/content/drive/My Drive/Computer_vision/singapore-residents-by-age-group-ethnic-group-and-sex-end-june-annual.csv')"
      ],
      "execution_count": 3,
      "outputs": []
    },
    {
      "cell_type": "code",
      "metadata": {
        "colab_type": "code",
        "id": "vBb_NZruaVIX",
        "colab": {
          "base_uri": "https://localhost:8080/",
          "height": 197
        },
        "outputId": "b686936f-2661-4506-80e0-6a988f14a220"
      },
      "source": [
        "# A quick look at the DataFrame\n",
        "population_df.head()"
      ],
      "execution_count": 4,
      "outputs": [
        {
          "output_type": "execute_result",
          "data": {
            "text/html": [
              "<div>\n",
              "<style scoped>\n",
              "    .dataframe tbody tr th:only-of-type {\n",
              "        vertical-align: middle;\n",
              "    }\n",
              "\n",
              "    .dataframe tbody tr th {\n",
              "        vertical-align: top;\n",
              "    }\n",
              "\n",
              "    .dataframe thead th {\n",
              "        text-align: right;\n",
              "    }\n",
              "</style>\n",
              "<table border=\"1\" class=\"dataframe\">\n",
              "  <thead>\n",
              "    <tr style=\"text-align: right;\">\n",
              "      <th></th>\n",
              "      <th>year</th>\n",
              "      <th>level_1</th>\n",
              "      <th>level_2</th>\n",
              "      <th>value</th>\n",
              "    </tr>\n",
              "  </thead>\n",
              "  <tbody>\n",
              "    <tr>\n",
              "      <th>0</th>\n",
              "      <td>1957</td>\n",
              "      <td>Total Residents</td>\n",
              "      <td>0  -  4 Years</td>\n",
              "      <td>264727</td>\n",
              "    </tr>\n",
              "    <tr>\n",
              "      <th>1</th>\n",
              "      <td>1957</td>\n",
              "      <td>Total Residents</td>\n",
              "      <td>5  -  9 Years</td>\n",
              "      <td>218097</td>\n",
              "    </tr>\n",
              "    <tr>\n",
              "      <th>2</th>\n",
              "      <td>1957</td>\n",
              "      <td>Total Residents</td>\n",
              "      <td>10 - 14 Years</td>\n",
              "      <td>136280</td>\n",
              "    </tr>\n",
              "    <tr>\n",
              "      <th>3</th>\n",
              "      <td>1957</td>\n",
              "      <td>Total Residents</td>\n",
              "      <td>15 - 19 Years</td>\n",
              "      <td>135679</td>\n",
              "    </tr>\n",
              "    <tr>\n",
              "      <th>4</th>\n",
              "      <td>1957</td>\n",
              "      <td>Total Residents</td>\n",
              "      <td>20 - 24 Years</td>\n",
              "      <td>119266</td>\n",
              "    </tr>\n",
              "  </tbody>\n",
              "</table>\n",
              "</div>"
            ],
            "text/plain": [
              "   year          level_1        level_2   value\n",
              "0  1957  Total Residents  0  -  4 Years  264727\n",
              "1  1957  Total Residents  5  -  9 Years  218097\n",
              "2  1957  Total Residents  10 - 14 Years  136280\n",
              "3  1957  Total Residents  15 - 19 Years  135679\n",
              "4  1957  Total Residents  20 - 24 Years  119266"
            ]
          },
          "metadata": {
            "tags": []
          },
          "execution_count": 4
        }
      ]
    },
    {
      "cell_type": "code",
      "metadata": {
        "colab_type": "code",
        "id": "6tklX4A2hXA8",
        "colab": {
          "base_uri": "https://localhost:8080/",
          "height": 200
        },
        "outputId": "debd3347-bcde-46b8-85a9-f14d0f888d41"
      },
      "source": [
        "population_df.info()"
      ],
      "execution_count": 5,
      "outputs": [
        {
          "output_type": "stream",
          "text": [
            "<class 'pandas.core.frame.DataFrame'>\n",
            "RangeIndex: 20460 entries, 0 to 20459\n",
            "Data columns (total 4 columns):\n",
            " #   Column   Non-Null Count  Dtype \n",
            "---  ------   --------------  ----- \n",
            " 0   year     20460 non-null  int64 \n",
            " 1   level_1  20460 non-null  object\n",
            " 2   level_2  20460 non-null  object\n",
            " 3   value    20460 non-null  object\n",
            "dtypes: int64(1), object(3)\n",
            "memory usage: 639.5+ KB\n"
          ],
          "name": "stdout"
        }
      ]
    },
    {
      "cell_type": "code",
      "metadata": {
        "colab_type": "code",
        "id": "YiBoXNLsgONI",
        "colab": {
          "base_uri": "https://localhost:8080/",
          "height": 70
        },
        "outputId": "06fa077b-4b93-49ae-d766-f9c570fb82ee"
      },
      "source": [
        "#population_df.info()\n",
        "# Note that value is treated as object. It needs to be converted to integer. However while converting, its observed there are a few 'na' entries in values column that needs to be eliminated\n",
        "\n",
        "population_df = population_df[population_df.value != 'na']\n",
        "population_df['value'] = population_df['value'].astype(int)"
      ],
      "execution_count": 7,
      "outputs": [
        {
          "output_type": "stream",
          "text": [
            "/usr/local/lib/python3.6/dist-packages/pandas/core/ops/array_ops.py:253: FutureWarning: elementwise comparison failed; returning scalar instead, but in the future will perform elementwise comparison\n",
            "  res_values = method(rvalues)\n"
          ],
          "name": "stderr"
        }
      ]
    },
    {
      "cell_type": "code",
      "metadata": {
        "colab_type": "code",
        "id": "i4ivMPKPaWiX",
        "colab": {
          "base_uri": "https://localhost:8080/",
          "height": 267
        },
        "outputId": "6ddef142-164d-408c-cd70-129a98f9dc5f"
      },
      "source": [
        "# Different types of Ethinicity across Singapore\n",
        "set(population_df.level_1)"
      ],
      "execution_count": 8,
      "outputs": [
        {
          "output_type": "execute_result",
          "data": {
            "text/plain": [
              "{'Other Ethnic Groups (Females)',\n",
              " 'Other Ethnic Groups (Males)',\n",
              " 'Other Ethnic Groups (Total)',\n",
              " 'Total Chinese',\n",
              " 'Total Female Chinese',\n",
              " 'Total Female Indians',\n",
              " 'Total Female Malays',\n",
              " 'Total Female Residents',\n",
              " 'Total Indians',\n",
              " 'Total Malays',\n",
              " 'Total Male Chinese',\n",
              " 'Total Male Indians',\n",
              " 'Total Male Malays',\n",
              " 'Total Male Residents',\n",
              " 'Total Residents'}"
            ]
          },
          "metadata": {
            "tags": []
          },
          "execution_count": 8
        }
      ]
    },
    {
      "cell_type": "code",
      "metadata": {
        "colab_type": "code",
        "id": "ah_LO-_7OsWW",
        "colab": {
          "base_uri": "https://localhost:8080/",
          "height": 377
        },
        "outputId": "1d1995ce-e2ed-468a-effc-b686312143e7"
      },
      "source": [
        "# Population at age level\n",
        "population_age = population_df[['level_2','value']].groupby('level_2').sum().sort_values('value',ascending=False)\n",
        "population_age.plot(kind='bar',color='blue')"
      ],
      "execution_count": 9,
      "outputs": [
        {
          "output_type": "execute_result",
          "data": {
            "text/plain": [
              "<matplotlib.axes._subplots.AxesSubplot at 0x7f2839de4b38>"
            ]
          },
          "metadata": {
            "tags": []
          },
          "execution_count": 9
        },
        {
          "output_type": "display_data",
          "data": {
            "image/png": "[encoded data removed]",
            "text/plain": [
              "<Figure size 432x288 with 1 Axes>"
            ]
          },
          "metadata": {
            "tags": [],
            "needs_background": "light"
          }
        }
      ]
    },
    {
      "cell_type": "code",
      "metadata": {
        "colab_type": "code",
        "id": "Xq21nmXzOzcn",
        "colab": {
          "base_uri": "https://localhost:8080/",
          "height": 735
        },
        "outputId": "fdbc6fec-03f4-453c-c84b-a6f6185dfef4"
      },
      "source": [
        "# Population at ethnicity level\n",
        "population_ethnicity = population_df[['level_1','value']].groupby('level_1').sum().sort_values('value',ascending=False)\n",
        "print(population_ethnicity)\n",
        "population_ethnicity.plot(kind='bar',color='green')"
      ],
      "execution_count": 10,
      "outputs": [
        {
          "output_type": "stream",
          "text": [
            "                                   value\n",
            "level_1                                 \n",
            "Total Residents                192175418\n",
            "Total Chinese                  148157861\n",
            "Total Female Residents          97167570\n",
            "Total Male Residents            95007879\n",
            "Total Female Chinese            75942931\n",
            "Total Male Chinese              72214945\n",
            "Total Malays                    25814830\n",
            "Total Indians                   14563406\n",
            "Total Male Malays               13005325\n",
            "Total Female Malays             12809553\n",
            "Total Male Indians               8034588\n",
            "Total Female Indians             6528837\n",
            "Other Ethnic Groups (Total)      3639417\n",
            "Other Ethnic Groups (Females)    1886349\n",
            "Other Ethnic Groups (Males)      1753101\n"
          ],
          "name": "stdout"
        },
        {
          "output_type": "execute_result",
          "data": {
            "text/plain": [
              "<matplotlib.axes._subplots.AxesSubplot at 0x7f28397efa58>"
            ]
          },
          "metadata": {
            "tags": []
          },
          "execution_count": 10
        },
        {
          "output_type": "display_data",
          "data": {
            "image/png": "[encoded data removed]",
            "text/plain": [
              "<Figure size 432x288 with 1 Axes>"
            ]
          },
          "metadata": {
            "tags": [],
            "needs_background": "light"
          }
        }
      ]
    },
    {
      "cell_type": "markdown",
      "metadata": {
        "colab_type": "text",
        "id": "eJOmN-9OmAVV"
      },
      "source": [
        "##1. Identify the largest Ethnic group in Singapore. Their average population growth over the years and what proportion of the total population do they constitute."
      ]
    },
    {
      "cell_type": "code",
      "metadata": {
        "colab_type": "code",
        "id": "JOOLTCLA1dzd",
        "colab": {
          "base_uri": "https://localhost:8080/",
          "height": 497
        },
        "outputId": "78a508ee-f876-4ae1-d8d1-e70692718cda"
      },
      "source": [
        "population_df[(population_df['year'] == 2018)].groupby(['level_1'], as_index=False)[['value']].sum().sort_values('value',ascending=False)"
      ],
      "execution_count": 11,
      "outputs": [
        {
          "output_type": "execute_result",
          "data": {
            "text/html": [
              "<div>\n",
              "<style scoped>\n",
              "    .dataframe tbody tr th:only-of-type {\n",
              "        vertical-align: middle;\n",
              "    }\n",
              "\n",
              "    .dataframe tbody tr th {\n",
              "        vertical-align: top;\n",
              "    }\n",
              "\n",
              "    .dataframe thead th {\n",
              "        text-align: right;\n",
              "    }\n",
              "</style>\n",
              "<table border=\"1\" class=\"dataframe\">\n",
              "  <thead>\n",
              "    <tr style=\"text-align: right;\">\n",
              "      <th></th>\n",
              "      <th>level_1</th>\n",
              "      <th>value</th>\n",
              "    </tr>\n",
              "  </thead>\n",
              "  <tbody>\n",
              "    <tr>\n",
              "      <th>14</th>\n",
              "      <td>Total Residents</td>\n",
              "      <td>5184977</td>\n",
              "    </tr>\n",
              "    <tr>\n",
              "      <th>3</th>\n",
              "      <td>Total Chinese</td>\n",
              "      <td>3975586</td>\n",
              "    </tr>\n",
              "    <tr>\n",
              "      <th>7</th>\n",
              "      <td>Total Female Residents</td>\n",
              "      <td>2710323</td>\n",
              "    </tr>\n",
              "    <tr>\n",
              "      <th>13</th>\n",
              "      <td>Total Male Residents</td>\n",
              "      <td>2474654</td>\n",
              "    </tr>\n",
              "    <tr>\n",
              "      <th>4</th>\n",
              "      <td>Total Female Chinese</td>\n",
              "      <td>2094352</td>\n",
              "    </tr>\n",
              "    <tr>\n",
              "      <th>10</th>\n",
              "      <td>Total Male Chinese</td>\n",
              "      <td>1881234</td>\n",
              "    </tr>\n",
              "    <tr>\n",
              "      <th>9</th>\n",
              "      <td>Total Malays</td>\n",
              "      <td>636807</td>\n",
              "    </tr>\n",
              "    <tr>\n",
              "      <th>8</th>\n",
              "      <td>Total Indians</td>\n",
              "      <td>428314</td>\n",
              "    </tr>\n",
              "    <tr>\n",
              "      <th>6</th>\n",
              "      <td>Total Female Malays</td>\n",
              "      <td>326562</td>\n",
              "    </tr>\n",
              "    <tr>\n",
              "      <th>12</th>\n",
              "      <td>Total Male Malays</td>\n",
              "      <td>310245</td>\n",
              "    </tr>\n",
              "    <tr>\n",
              "      <th>11</th>\n",
              "      <td>Total Male Indians</td>\n",
              "      <td>215751</td>\n",
              "    </tr>\n",
              "    <tr>\n",
              "      <th>5</th>\n",
              "      <td>Total Female Indians</td>\n",
              "      <td>212563</td>\n",
              "    </tr>\n",
              "    <tr>\n",
              "      <th>2</th>\n",
              "      <td>Other Ethnic Groups (Total)</td>\n",
              "      <td>144270</td>\n",
              "    </tr>\n",
              "    <tr>\n",
              "      <th>0</th>\n",
              "      <td>Other Ethnic Groups (Females)</td>\n",
              "      <td>76846</td>\n",
              "    </tr>\n",
              "    <tr>\n",
              "      <th>1</th>\n",
              "      <td>Other Ethnic Groups (Males)</td>\n",
              "      <td>67424</td>\n",
              "    </tr>\n",
              "  </tbody>\n",
              "</table>\n",
              "</div>"
            ],
            "text/plain": [
              "                          level_1    value\n",
              "14                Total Residents  5184977\n",
              "3                   Total Chinese  3975586\n",
              "7          Total Female Residents  2710323\n",
              "13           Total Male Residents  2474654\n",
              "4            Total Female Chinese  2094352\n",
              "10             Total Male Chinese  1881234\n",
              "9                    Total Malays   636807\n",
              "8                   Total Indians   428314\n",
              "6             Total Female Malays   326562\n",
              "12              Total Male Malays   310245\n",
              "11             Total Male Indians   215751\n",
              "5            Total Female Indians   212563\n",
              "2     Other Ethnic Groups (Total)   144270\n",
              "0   Other Ethnic Groups (Females)    76846\n",
              "1     Other Ethnic Groups (Males)    67424"
            ]
          },
          "metadata": {
            "tags": []
          },
          "execution_count": 11
        }
      ]
    },
    {
      "cell_type": "code",
      "metadata": {
        "colab_type": "code",
        "id": "ETMAK92_3K6v",
        "colab": {
          "base_uri": "https://localhost:8080/",
          "height": 497
        },
        "outputId": "8f29d25f-dc68-4363-c5d7-f788d522a02b"
      },
      "source": [
        "population_df.groupby(['level_1'], as_index=False)[['value']].sum().sort_values('value',ascending=False)"
      ],
      "execution_count": 12,
      "outputs": [
        {
          "output_type": "execute_result",
          "data": {
            "text/html": [
              "<div>\n",
              "<style scoped>\n",
              "    .dataframe tbody tr th:only-of-type {\n",
              "        vertical-align: middle;\n",
              "    }\n",
              "\n",
              "    .dataframe tbody tr th {\n",
              "        vertical-align: top;\n",
              "    }\n",
              "\n",
              "    .dataframe thead th {\n",
              "        text-align: right;\n",
              "    }\n",
              "</style>\n",
              "<table border=\"1\" class=\"dataframe\">\n",
              "  <thead>\n",
              "    <tr style=\"text-align: right;\">\n",
              "      <th></th>\n",
              "      <th>level_1</th>\n",
              "      <th>value</th>\n",
              "    </tr>\n",
              "  </thead>\n",
              "  <tbody>\n",
              "    <tr>\n",
              "      <th>14</th>\n",
              "      <td>Total Residents</td>\n",
              "      <td>192175418</td>\n",
              "    </tr>\n",
              "    <tr>\n",
              "      <th>3</th>\n",
              "      <td>Total Chinese</td>\n",
              "      <td>148157861</td>\n",
              "    </tr>\n",
              "    <tr>\n",
              "      <th>7</th>\n",
              "      <td>Total Female Residents</td>\n",
              "      <td>97167570</td>\n",
              "    </tr>\n",
              "    <tr>\n",
              "      <th>13</th>\n",
              "      <td>Total Male Residents</td>\n",
              "      <td>95007879</td>\n",
              "    </tr>\n",
              "    <tr>\n",
              "      <th>4</th>\n",
              "      <td>Total Female Chinese</td>\n",
              "      <td>75942931</td>\n",
              "    </tr>\n",
              "    <tr>\n",
              "      <th>10</th>\n",
              "      <td>Total Male Chinese</td>\n",
              "      <td>72214945</td>\n",
              "    </tr>\n",
              "    <tr>\n",
              "      <th>9</th>\n",
              "      <td>Total Malays</td>\n",
              "      <td>25814830</td>\n",
              "    </tr>\n",
              "    <tr>\n",
              "      <th>8</th>\n",
              "      <td>Total Indians</td>\n",
              "      <td>14563406</td>\n",
              "    </tr>\n",
              "    <tr>\n",
              "      <th>12</th>\n",
              "      <td>Total Male Malays</td>\n",
              "      <td>13005325</td>\n",
              "    </tr>\n",
              "    <tr>\n",
              "      <th>6</th>\n",
              "      <td>Total Female Malays</td>\n",
              "      <td>12809553</td>\n",
              "    </tr>\n",
              "    <tr>\n",
              "      <th>11</th>\n",
              "      <td>Total Male Indians</td>\n",
              "      <td>8034588</td>\n",
              "    </tr>\n",
              "    <tr>\n",
              "      <th>5</th>\n",
              "      <td>Total Female Indians</td>\n",
              "      <td>6528837</td>\n",
              "    </tr>\n",
              "    <tr>\n",
              "      <th>2</th>\n",
              "      <td>Other Ethnic Groups (Total)</td>\n",
              "      <td>3639417</td>\n",
              "    </tr>\n",
              "    <tr>\n",
              "      <th>0</th>\n",
              "      <td>Other Ethnic Groups (Females)</td>\n",
              "      <td>1886349</td>\n",
              "    </tr>\n",
              "    <tr>\n",
              "      <th>1</th>\n",
              "      <td>Other Ethnic Groups (Males)</td>\n",
              "      <td>1753101</td>\n",
              "    </tr>\n",
              "  </tbody>\n",
              "</table>\n",
              "</div>"
            ],
            "text/plain": [
              "                          level_1      value\n",
              "14                Total Residents  192175418\n",
              "3                   Total Chinese  148157861\n",
              "7          Total Female Residents   97167570\n",
              "13           Total Male Residents   95007879\n",
              "4            Total Female Chinese   75942931\n",
              "10             Total Male Chinese   72214945\n",
              "9                    Total Malays   25814830\n",
              "8                   Total Indians   14563406\n",
              "12              Total Male Malays   13005325\n",
              "6             Total Female Malays   12809553\n",
              "11             Total Male Indians    8034588\n",
              "5            Total Female Indians    6528837\n",
              "2     Other Ethnic Groups (Total)    3639417\n",
              "0   Other Ethnic Groups (Females)    1886349\n",
              "1     Other Ethnic Groups (Males)    1753101"
            ]
          },
          "metadata": {
            "tags": []
          },
          "execution_count": 12
        }
      ]
    },
    {
      "cell_type": "markdown",
      "metadata": {
        "colab_type": "text",
        "id": "Krnmc6nEkObM"
      },
      "source": [
        "- Identify the largest Ethnic group in Singapore: Chinese \n",
        "- Their average population growth over the\n",
        "years: Mentioned in below df under 'Population growth(%)' column\n",
        "- What proportion of the total population do they constitute: Mentioned in below df under column 'Chinese in Total(%)'"
      ]
    },
    {
      "cell_type": "code",
      "metadata": {
        "colab_type": "code",
        "id": "qYnNtE6Uaduy",
        "colab": {}
      },
      "source": [
        "#population_df.groupby(['level_1'])[['value']].agg('sum') "
      ],
      "execution_count": 13,
      "outputs": []
    },
    {
      "cell_type": "code",
      "metadata": {
        "colab_type": "code",
        "id": "yvWI1CjRbSwi",
        "colab": {
          "base_uri": "https://localhost:8080/",
          "height": 407
        },
        "outputId": "b866a479-255c-4f29-dedf-928f91c7689c"
      },
      "source": [
        "ethinic_df = population_df[(population_df['level_1'] == 'Total Chinese')].groupby(['year'], as_index=False)[['value']].sum()\n",
        "ethinic_df['Total Population']=population_df[(population_df['level_1'] == 'Total Residents')].groupby(['year'], as_index=False)[['value']].sum()['value']\n",
        "ethinic_df['Population growth(%)'] = ethinic_df.value.pct_change()*100\n",
        "ethinic_df['Chineese in Total(%)'] = (ethinic_df['value']*100)/ethinic_df['Total Population']\n",
        "ethinic_df.rename(columns = {'value':'Chineese Population', 'year':'Year'}, inplace = True)\n",
        "ethinic_df"
      ],
      "execution_count": 14,
      "outputs": [
        {
          "output_type": "execute_result",
          "data": {
            "text/html": [
              "<div>\n",
              "<style scoped>\n",
              "    .dataframe tbody tr th:only-of-type {\n",
              "        vertical-align: middle;\n",
              "    }\n",
              "\n",
              "    .dataframe tbody tr th {\n",
              "        vertical-align: top;\n",
              "    }\n",
              "\n",
              "    .dataframe thead th {\n",
              "        text-align: right;\n",
              "    }\n",
              "</style>\n",
              "<table border=\"1\" class=\"dataframe\">\n",
              "  <thead>\n",
              "    <tr style=\"text-align: right;\">\n",
              "      <th></th>\n",
              "      <th>Year</th>\n",
              "      <th>Chineese Population</th>\n",
              "      <th>Total Population</th>\n",
              "      <th>Population growth(%)</th>\n",
              "      <th>Chineese in Total(%)</th>\n",
              "    </tr>\n",
              "  </thead>\n",
              "  <tbody>\n",
              "    <tr>\n",
              "      <th>0</th>\n",
              "      <td>1957</td>\n",
              "      <td>1137408</td>\n",
              "      <td>1502203</td>\n",
              "      <td>NaN</td>\n",
              "      <td>75.715998</td>\n",
              "    </tr>\n",
              "    <tr>\n",
              "      <th>1</th>\n",
              "      <td>1958</td>\n",
              "      <td>1178100</td>\n",
              "      <td>1552500</td>\n",
              "      <td>3.577608</td>\n",
              "      <td>75.884058</td>\n",
              "    </tr>\n",
              "    <tr>\n",
              "      <th>2</th>\n",
              "      <td>1959</td>\n",
              "      <td>1235500</td>\n",
              "      <td>1622900</td>\n",
              "      <td>4.872252</td>\n",
              "      <td>76.129152</td>\n",
              "    </tr>\n",
              "    <tr>\n",
              "      <th>3</th>\n",
              "      <td>1960</td>\n",
              "      <td>1284000</td>\n",
              "      <td>1683900</td>\n",
              "      <td>3.925536</td>\n",
              "      <td>76.251559</td>\n",
              "    </tr>\n",
              "    <tr>\n",
              "      <th>4</th>\n",
              "      <td>1961</td>\n",
              "      <td>1328500</td>\n",
              "      <td>1741200</td>\n",
              "      <td>3.465732</td>\n",
              "      <td>76.297955</td>\n",
              "    </tr>\n",
              "    <tr>\n",
              "      <th>...</th>\n",
              "      <td>...</td>\n",
              "      <td>...</td>\n",
              "      <td>...</td>\n",
              "      <td>...</td>\n",
              "      <td>...</td>\n",
              "    </tr>\n",
              "    <tr>\n",
              "      <th>57</th>\n",
              "      <td>2014</td>\n",
              "      <td>3675734</td>\n",
              "      <td>4823625</td>\n",
              "      <td>1.878768</td>\n",
              "      <td>76.202731</td>\n",
              "    </tr>\n",
              "    <tr>\n",
              "      <th>58</th>\n",
              "      <td>2015</td>\n",
              "      <td>3746225</td>\n",
              "      <td>4907802</td>\n",
              "      <td>1.917739</td>\n",
              "      <td>76.332032</td>\n",
              "    </tr>\n",
              "    <tr>\n",
              "      <th>59</th>\n",
              "      <td>2016</td>\n",
              "      <td>3817895</td>\n",
              "      <td>4994232</td>\n",
              "      <td>1.913126</td>\n",
              "      <td>76.446088</td>\n",
              "    </tr>\n",
              "    <tr>\n",
              "      <th>60</th>\n",
              "      <td>2017</td>\n",
              "      <td>3897313</td>\n",
              "      <td>5089716</td>\n",
              "      <td>2.080151</td>\n",
              "      <td>76.572308</td>\n",
              "    </tr>\n",
              "    <tr>\n",
              "      <th>61</th>\n",
              "      <td>2018</td>\n",
              "      <td>3975586</td>\n",
              "      <td>5184977</td>\n",
              "      <td>2.008384</td>\n",
              "      <td>76.675094</td>\n",
              "    </tr>\n",
              "  </tbody>\n",
              "</table>\n",
              "<p>62 rows × 5 columns</p>\n",
              "</div>"
            ],
            "text/plain": [
              "    Year  Chineese Population  ...  Population growth(%)  Chineese in Total(%)\n",
              "0   1957              1137408  ...                   NaN             75.715998\n",
              "1   1958              1178100  ...              3.577608             75.884058\n",
              "2   1959              1235500  ...              4.872252             76.129152\n",
              "3   1960              1284000  ...              3.925536             76.251559\n",
              "4   1961              1328500  ...              3.465732             76.297955\n",
              "..   ...                  ...  ...                   ...                   ...\n",
              "57  2014              3675734  ...              1.878768             76.202731\n",
              "58  2015              3746225  ...              1.917739             76.332032\n",
              "59  2016              3817895  ...              1.913126             76.446088\n",
              "60  2017              3897313  ...              2.080151             76.572308\n",
              "61  2018              3975586  ...              2.008384             76.675094\n",
              "\n",
              "[62 rows x 5 columns]"
            ]
          },
          "metadata": {
            "tags": []
          },
          "execution_count": 14
        }
      ]
    },
    {
      "cell_type": "markdown",
      "metadata": {
        "colab_type": "text",
        "id": "dq0mK7HX4S0s"
      },
      "source": [
        "##2. Identify the largest age group in Singapore. Their average population growth over the years and what proportion of the total population do they constitute."
      ]
    },
    {
      "cell_type": "code",
      "metadata": {
        "colab_type": "code",
        "id": "e8Nxv_zmxjjr",
        "colab": {
          "base_uri": "https://localhost:8080/",
          "height": 707
        },
        "outputId": "5a9e71b0-14a8-471e-8ba8-da6ff8adc048"
      },
      "source": [
        "population_df[(population_df['year'] == 2018)].groupby(['level_2'], as_index=False)[['value']].sum()"
      ],
      "execution_count": 15,
      "outputs": [
        {
          "output_type": "execute_result",
          "data": {
            "text/html": [
              "<div>\n",
              "<style scoped>\n",
              "    .dataframe tbody tr th:only-of-type {\n",
              "        vertical-align: middle;\n",
              "    }\n",
              "\n",
              "    .dataframe tbody tr th {\n",
              "        vertical-align: top;\n",
              "    }\n",
              "\n",
              "    .dataframe thead th {\n",
              "        text-align: right;\n",
              "    }\n",
              "</style>\n",
              "<table border=\"1\" class=\"dataframe\">\n",
              "  <thead>\n",
              "    <tr style=\"text-align: right;\">\n",
              "      <th></th>\n",
              "      <th>level_2</th>\n",
              "      <th>value</th>\n",
              "    </tr>\n",
              "  </thead>\n",
              "  <tbody>\n",
              "    <tr>\n",
              "      <th>0</th>\n",
              "      <td>0  -  4 Years</td>\n",
              "      <td>742112</td>\n",
              "    </tr>\n",
              "    <tr>\n",
              "      <th>1</th>\n",
              "      <td>10 - 14 Years</td>\n",
              "      <td>826120</td>\n",
              "    </tr>\n",
              "    <tr>\n",
              "      <th>2</th>\n",
              "      <td>15 - 19 Years</td>\n",
              "      <td>906080</td>\n",
              "    </tr>\n",
              "    <tr>\n",
              "      <th>3</th>\n",
              "      <td>20 - 24 Years</td>\n",
              "      <td>1022064</td>\n",
              "    </tr>\n",
              "    <tr>\n",
              "      <th>4</th>\n",
              "      <td>25 - 29 Years</td>\n",
              "      <td>1166524</td>\n",
              "    </tr>\n",
              "    <tr>\n",
              "      <th>5</th>\n",
              "      <td>30 - 34 Years</td>\n",
              "      <td>1125588</td>\n",
              "    </tr>\n",
              "    <tr>\n",
              "      <th>6</th>\n",
              "      <td>35 - 39 Years</td>\n",
              "      <td>1214880</td>\n",
              "    </tr>\n",
              "    <tr>\n",
              "      <th>7</th>\n",
              "      <td>40 - 44 Years</td>\n",
              "      <td>1214560</td>\n",
              "    </tr>\n",
              "    <tr>\n",
              "      <th>8</th>\n",
              "      <td>45 - 49 Years</td>\n",
              "      <td>1231352</td>\n",
              "    </tr>\n",
              "    <tr>\n",
              "      <th>9</th>\n",
              "      <td>5  -  9 Years</td>\n",
              "      <td>796264</td>\n",
              "    </tr>\n",
              "    <tr>\n",
              "      <th>10</th>\n",
              "      <td>50 - 54 Years</td>\n",
              "      <td>1235860</td>\n",
              "    </tr>\n",
              "    <tr>\n",
              "      <th>11</th>\n",
              "      <td>55 - 59 Years</td>\n",
              "      <td>1217560</td>\n",
              "    </tr>\n",
              "    <tr>\n",
              "      <th>12</th>\n",
              "      <td>60 - 64 Years</td>\n",
              "      <td>1086752</td>\n",
              "    </tr>\n",
              "    <tr>\n",
              "      <th>13</th>\n",
              "      <td>65 - 69 Years</td>\n",
              "      <td>848404</td>\n",
              "    </tr>\n",
              "    <tr>\n",
              "      <th>14</th>\n",
              "      <td>65 Years &amp; Over</td>\n",
              "      <td>2191416</td>\n",
              "    </tr>\n",
              "    <tr>\n",
              "      <th>15</th>\n",
              "      <td>70 - 74 Years</td>\n",
              "      <td>542184</td>\n",
              "    </tr>\n",
              "    <tr>\n",
              "      <th>16</th>\n",
              "      <td>70 Years &amp; Over</td>\n",
              "      <td>1343012</td>\n",
              "    </tr>\n",
              "    <tr>\n",
              "      <th>17</th>\n",
              "      <td>75 - 79 Years</td>\n",
              "      <td>373308</td>\n",
              "    </tr>\n",
              "    <tr>\n",
              "      <th>18</th>\n",
              "      <td>75 Years &amp; Over</td>\n",
              "      <td>800828</td>\n",
              "    </tr>\n",
              "    <tr>\n",
              "      <th>19</th>\n",
              "      <td>80 - 84 Years</td>\n",
              "      <td>228412</td>\n",
              "    </tr>\n",
              "    <tr>\n",
              "      <th>20</th>\n",
              "      <td>80 Years &amp; Over</td>\n",
              "      <td>427520</td>\n",
              "    </tr>\n",
              "    <tr>\n",
              "      <th>21</th>\n",
              "      <td>85 Years &amp; Over</td>\n",
              "      <td>199108</td>\n",
              "    </tr>\n",
              "  </tbody>\n",
              "</table>\n",
              "</div>"
            ],
            "text/plain": [
              "            level_2    value\n",
              "0     0  -  4 Years   742112\n",
              "1     10 - 14 Years   826120\n",
              "2     15 - 19 Years   906080\n",
              "3     20 - 24 Years  1022064\n",
              "4     25 - 29 Years  1166524\n",
              "5     30 - 34 Years  1125588\n",
              "6     35 - 39 Years  1214880\n",
              "7     40 - 44 Years  1214560\n",
              "8     45 - 49 Years  1231352\n",
              "9     5  -  9 Years   796264\n",
              "10    50 - 54 Years  1235860\n",
              "11    55 - 59 Years  1217560\n",
              "12    60 - 64 Years  1086752\n",
              "13    65 - 69 Years   848404\n",
              "14  65 Years & Over  2191416\n",
              "15    70 - 74 Years   542184\n",
              "16  70 Years & Over  1343012\n",
              "17    75 - 79 Years   373308\n",
              "18  75 Years & Over   800828\n",
              "19    80 - 84 Years   228412\n",
              "20  80 Years & Over   427520\n",
              "21  85 Years & Over   199108"
            ]
          },
          "metadata": {
            "tags": []
          },
          "execution_count": 15
        }
      ]
    },
    {
      "cell_type": "markdown",
      "metadata": {
        "colab_type": "text",
        "id": "ABniYICL6_3t"
      },
      "source": [
        "- Identify the largest age group in Singapore. : 50-54 years\n",
        "- Their average population growth over the years : Mentioned in the below df under 'Population growth(%)' \n",
        "- What proportion of the total population do they constitute: Mentioned in the below df under '50-54 Years in Total(%) column'"
      ]
    },
    {
      "cell_type": "code",
      "metadata": {
        "colab_type": "code",
        "id": "UGS0_nVqs5Hb",
        "colab": {
          "base_uri": "https://localhost:8080/",
          "height": 407
        },
        "outputId": "192abf8e-05cd-473b-fb88-6cdb51bb666b"
      },
      "source": [
        "Age_df = population_df[(population_df['level_2'] == '50 - 54 Years')].groupby(['year'], as_index=False)[['value']].sum()\n",
        "Age_df['Total Population']=population_df[(population_df['level_1'] == 'Total Residents')].groupby(['year'], as_index=False)[['value']].sum()['value']\n",
        "Age_df['Population growth(%)'] = Age_df.value.pct_change()*100\n",
        "Age_df['50-54 Years in Total(%)'] = (Age_df['value']*100)/Age_df['Total Population']\n",
        "Age_df.rename(columns = {'value':'50-54 Years Population', 'year':'Year'}, inplace = True)\n",
        "Age_df"
      ],
      "execution_count": 16,
      "outputs": [
        {
          "output_type": "execute_result",
          "data": {
            "text/html": [
              "<div>\n",
              "<style scoped>\n",
              "    .dataframe tbody tr th:only-of-type {\n",
              "        vertical-align: middle;\n",
              "    }\n",
              "\n",
              "    .dataframe tbody tr th {\n",
              "        vertical-align: top;\n",
              "    }\n",
              "\n",
              "    .dataframe thead th {\n",
              "        text-align: right;\n",
              "    }\n",
              "</style>\n",
              "<table border=\"1\" class=\"dataframe\">\n",
              "  <thead>\n",
              "    <tr style=\"text-align: right;\">\n",
              "      <th></th>\n",
              "      <th>Year</th>\n",
              "      <th>50-54 Years Population</th>\n",
              "      <th>Total Population</th>\n",
              "      <th>Population growth(%)</th>\n",
              "      <th>50-54 Years in Total(%)</th>\n",
              "    </tr>\n",
              "  </thead>\n",
              "  <tbody>\n",
              "    <tr>\n",
              "      <th>0</th>\n",
              "      <td>1957</td>\n",
              "      <td>207176</td>\n",
              "      <td>1502203</td>\n",
              "      <td>NaN</td>\n",
              "      <td>13.791478</td>\n",
              "    </tr>\n",
              "    <tr>\n",
              "      <th>1</th>\n",
              "      <td>1958</td>\n",
              "      <td>216800</td>\n",
              "      <td>1552500</td>\n",
              "      <td>4.645326</td>\n",
              "      <td>13.964573</td>\n",
              "    </tr>\n",
              "    <tr>\n",
              "      <th>2</th>\n",
              "      <td>1959</td>\n",
              "      <td>229200</td>\n",
              "      <td>1622900</td>\n",
              "      <td>5.719557</td>\n",
              "      <td>14.122866</td>\n",
              "    </tr>\n",
              "    <tr>\n",
              "      <th>3</th>\n",
              "      <td>1960</td>\n",
              "      <td>238400</td>\n",
              "      <td>1683900</td>\n",
              "      <td>4.013962</td>\n",
              "      <td>14.157610</td>\n",
              "    </tr>\n",
              "    <tr>\n",
              "      <th>4</th>\n",
              "      <td>1961</td>\n",
              "      <td>250400</td>\n",
              "      <td>1741200</td>\n",
              "      <td>5.033557</td>\n",
              "      <td>14.380887</td>\n",
              "    </tr>\n",
              "    <tr>\n",
              "      <th>...</th>\n",
              "      <td>...</td>\n",
              "      <td>...</td>\n",
              "      <td>...</td>\n",
              "      <td>...</td>\n",
              "      <td>...</td>\n",
              "    </tr>\n",
              "    <tr>\n",
              "      <th>57</th>\n",
              "      <td>2014</td>\n",
              "      <td>1262012</td>\n",
              "      <td>4823625</td>\n",
              "      <td>0.803545</td>\n",
              "      <td>26.163145</td>\n",
              "    </tr>\n",
              "    <tr>\n",
              "      <th>58</th>\n",
              "      <td>2015</td>\n",
              "      <td>1260364</td>\n",
              "      <td>4907802</td>\n",
              "      <td>-0.130585</td>\n",
              "      <td>25.680824</td>\n",
              "    </tr>\n",
              "    <tr>\n",
              "      <th>59</th>\n",
              "      <td>2016</td>\n",
              "      <td>1262392</td>\n",
              "      <td>4994232</td>\n",
              "      <td>0.160906</td>\n",
              "      <td>25.277000</td>\n",
              "    </tr>\n",
              "    <tr>\n",
              "      <th>60</th>\n",
              "      <td>2017</td>\n",
              "      <td>1251256</td>\n",
              "      <td>5089716</td>\n",
              "      <td>-0.882135</td>\n",
              "      <td>24.584004</td>\n",
              "    </tr>\n",
              "    <tr>\n",
              "      <th>61</th>\n",
              "      <td>2018</td>\n",
              "      <td>1235860</td>\n",
              "      <td>5184977</td>\n",
              "      <td>-1.230444</td>\n",
              "      <td>23.835400</td>\n",
              "    </tr>\n",
              "  </tbody>\n",
              "</table>\n",
              "<p>62 rows × 5 columns</p>\n",
              "</div>"
            ],
            "text/plain": [
              "    Year  50-54 Years Population  ...  Population growth(%)  50-54 Years in Total(%)\n",
              "0   1957                  207176  ...                   NaN                13.791478\n",
              "1   1958                  216800  ...              4.645326                13.964573\n",
              "2   1959                  229200  ...              5.719557                14.122866\n",
              "3   1960                  238400  ...              4.013962                14.157610\n",
              "4   1961                  250400  ...              5.033557                14.380887\n",
              "..   ...                     ...  ...                   ...                      ...\n",
              "57  2014                 1262012  ...              0.803545                26.163145\n",
              "58  2015                 1260364  ...             -0.130585                25.680824\n",
              "59  2016                 1262392  ...              0.160906                25.277000\n",
              "60  2017                 1251256  ...             -0.882135                24.584004\n",
              "61  2018                 1235860  ...             -1.230444                23.835400\n",
              "\n",
              "[62 rows x 5 columns]"
            ]
          },
          "metadata": {
            "tags": []
          },
          "execution_count": 16
        }
      ]
    },
    {
      "cell_type": "markdown",
      "metadata": {
        "colab_type": "text",
        "id": "3fx5aapvkZrr"
      },
      "source": [
        "#### We can see highest population counts for the age bracket 50-54 years followed by 45-49 years"
      ]
    },
    {
      "cell_type": "markdown",
      "metadata": {
        "colab_type": "text",
        "id": "koZNzLKFkd7E"
      },
      "source": [
        "3. Identify the group (by age, ethnicity and gender) that:\n",
        "- a. Has shown the highest growth rate\n",
        "- b. Has shown the lowest growth rate\n",
        "- c. Has remained the same"
      ]
    },
    {
      "cell_type": "code",
      "metadata": {
        "colab_type": "code",
        "id": "itCkP47WH0sX",
        "colab": {
          "base_uri": "https://localhost:8080/",
          "height": 77
        },
        "outputId": "eed82611-e5e6-4220-a077-f7eaba06d475"
      },
      "source": [
        "population_df.head(1)"
      ],
      "execution_count": 17,
      "outputs": [
        {
          "output_type": "execute_result",
          "data": {
            "text/html": [
              "<div>\n",
              "<style scoped>\n",
              "    .dataframe tbody tr th:only-of-type {\n",
              "        vertical-align: middle;\n",
              "    }\n",
              "\n",
              "    .dataframe tbody tr th {\n",
              "        vertical-align: top;\n",
              "    }\n",
              "\n",
              "    .dataframe thead th {\n",
              "        text-align: right;\n",
              "    }\n",
              "</style>\n",
              "<table border=\"1\" class=\"dataframe\">\n",
              "  <thead>\n",
              "    <tr style=\"text-align: right;\">\n",
              "      <th></th>\n",
              "      <th>year</th>\n",
              "      <th>level_1</th>\n",
              "      <th>level_2</th>\n",
              "      <th>value</th>\n",
              "    </tr>\n",
              "  </thead>\n",
              "  <tbody>\n",
              "    <tr>\n",
              "      <th>0</th>\n",
              "      <td>1957</td>\n",
              "      <td>Total Residents</td>\n",
              "      <td>0  -  4 Years</td>\n",
              "      <td>264727</td>\n",
              "    </tr>\n",
              "  </tbody>\n",
              "</table>\n",
              "</div>"
            ],
            "text/plain": [
              "   year          level_1        level_2   value\n",
              "0  1957  Total Residents  0  -  4 Years  264727"
            ]
          },
          "metadata": {
            "tags": []
          },
          "execution_count": 17
        }
      ]
    },
    {
      "cell_type": "markdown",
      "metadata": {
        "colab_type": "text",
        "id": "HqK3ZRnzLrYm"
      },
      "source": [
        "# By Gender: \n",
        "- Highest growth rate: Chinese \n",
        "- Lowest growth rate: Indians\n",
        "- Nothing remained same"
      ]
    },
    {
      "cell_type": "code",
      "metadata": {
        "colab_type": "code",
        "id": "zXe-i5okKrxR",
        "colab": {
          "base_uri": "https://localhost:8080/",
          "height": 137
        },
        "outputId": "25c7d4cc-1115-46a3-e620-17082b57a982"
      },
      "source": [
        "gender_new = population_df[population_df['level_1'].str.contains(\"Male\")].groupby(['level_1'])[['value']].agg('sum') \n",
        "#gender_new['Total Population']=population_df[(population_df['level_1'] == 'Total Residents')].groupby(['year'], as_index=False)[['value']].sum()['value']\n",
        "gender_new['Population growth(%)'] = gender_new.value.pct_change()*100\n",
        "gender_new.nlargest(2, ['Population growth(%)']) "
      ],
      "execution_count": 18,
      "outputs": [
        {
          "output_type": "execute_result",
          "data": {
            "text/html": [
              "<div>\n",
              "<style scoped>\n",
              "    .dataframe tbody tr th:only-of-type {\n",
              "        vertical-align: middle;\n",
              "    }\n",
              "\n",
              "    .dataframe tbody tr th {\n",
              "        vertical-align: top;\n",
              "    }\n",
              "\n",
              "    .dataframe thead th {\n",
              "        text-align: right;\n",
              "    }\n",
              "</style>\n",
              "<table border=\"1\" class=\"dataframe\">\n",
              "  <thead>\n",
              "    <tr style=\"text-align: right;\">\n",
              "      <th></th>\n",
              "      <th>value</th>\n",
              "      <th>Population growth(%)</th>\n",
              "    </tr>\n",
              "    <tr>\n",
              "      <th>level_1</th>\n",
              "      <th></th>\n",
              "      <th></th>\n",
              "    </tr>\n",
              "  </thead>\n",
              "  <tbody>\n",
              "    <tr>\n",
              "      <th>Total Male Chinese</th>\n",
              "      <td>72214945</td>\n",
              "      <td>4019.268941</td>\n",
              "    </tr>\n",
              "    <tr>\n",
              "      <th>Total Male Residents</th>\n",
              "      <td>95007879</td>\n",
              "      <td>630.530602</td>\n",
              "    </tr>\n",
              "  </tbody>\n",
              "</table>\n",
              "</div>"
            ],
            "text/plain": [
              "                         value  Population growth(%)\n",
              "level_1                                             \n",
              "Total Male Chinese    72214945           4019.268941\n",
              "Total Male Residents  95007879            630.530602"
            ]
          },
          "metadata": {
            "tags": []
          },
          "execution_count": 18
        }
      ]
    },
    {
      "cell_type": "code",
      "metadata": {
        "colab_type": "code",
        "id": "npa39KIPLXnC",
        "colab": {
          "base_uri": "https://localhost:8080/",
          "height": 137
        },
        "outputId": "669d4d92-85d9-4438-9afc-0a18db926255"
      },
      "source": [
        "gender_new.nsmallest(2, ['Population growth(%)']) "
      ],
      "execution_count": 19,
      "outputs": [
        {
          "output_type": "execute_result",
          "data": {
            "text/html": [
              "<div>\n",
              "<style scoped>\n",
              "    .dataframe tbody tr th:only-of-type {\n",
              "        vertical-align: middle;\n",
              "    }\n",
              "\n",
              "    .dataframe tbody tr th {\n",
              "        vertical-align: top;\n",
              "    }\n",
              "\n",
              "    .dataframe thead th {\n",
              "        text-align: right;\n",
              "    }\n",
              "</style>\n",
              "<table border=\"1\" class=\"dataframe\">\n",
              "  <thead>\n",
              "    <tr style=\"text-align: right;\">\n",
              "      <th></th>\n",
              "      <th>value</th>\n",
              "      <th>Population growth(%)</th>\n",
              "    </tr>\n",
              "    <tr>\n",
              "      <th>level_1</th>\n",
              "      <th></th>\n",
              "      <th></th>\n",
              "    </tr>\n",
              "  </thead>\n",
              "  <tbody>\n",
              "    <tr>\n",
              "      <th>Total Male Indians</th>\n",
              "      <td>8034588</td>\n",
              "      <td>-88.874065</td>\n",
              "    </tr>\n",
              "    <tr>\n",
              "      <th>Total Male Malays</th>\n",
              "      <td>13005325</td>\n",
              "      <td>61.866732</td>\n",
              "    </tr>\n",
              "  </tbody>\n",
              "</table>\n",
              "</div>"
            ],
            "text/plain": [
              "                       value  Population growth(%)\n",
              "level_1                                           \n",
              "Total Male Indians   8034588            -88.874065\n",
              "Total Male Malays   13005325             61.866732"
            ]
          },
          "metadata": {
            "tags": []
          },
          "execution_count": 19
        }
      ]
    },
    {
      "cell_type": "code",
      "metadata": {
        "colab_type": "code",
        "id": "HFmsQRgJK-cD",
        "colab": {
          "base_uri": "https://localhost:8080/",
          "height": 137
        },
        "outputId": "f86bab29-b2ec-44d7-8afc-0c20cf761142"
      },
      "source": [
        "gender_new_female = population_df[population_df['level_1'].str.contains(\"Female\")].groupby(['level_1'])[['value']].agg('sum') \n",
        "#gender_new_female['Total Population']=population_df[(population_df['level_1'] == 'Total Residents')].groupby(['year'], as_index=False)[['value']].sum()['value']\n",
        "gender_new_female['Population growth(%)'] = gender_new_female.value.pct_change()*100\n",
        "gender_new_female.nlargest(2, ['Population growth(%)']) "
      ],
      "execution_count": 20,
      "outputs": [
        {
          "output_type": "execute_result",
          "data": {
            "text/html": [
              "<div>\n",
              "<style scoped>\n",
              "    .dataframe tbody tr th:only-of-type {\n",
              "        vertical-align: middle;\n",
              "    }\n",
              "\n",
              "    .dataframe tbody tr th {\n",
              "        vertical-align: top;\n",
              "    }\n",
              "\n",
              "    .dataframe thead th {\n",
              "        text-align: right;\n",
              "    }\n",
              "</style>\n",
              "<table border=\"1\" class=\"dataframe\">\n",
              "  <thead>\n",
              "    <tr style=\"text-align: right;\">\n",
              "      <th></th>\n",
              "      <th>value</th>\n",
              "      <th>Population growth(%)</th>\n",
              "    </tr>\n",
              "    <tr>\n",
              "      <th>level_1</th>\n",
              "      <th></th>\n",
              "      <th></th>\n",
              "    </tr>\n",
              "  </thead>\n",
              "  <tbody>\n",
              "    <tr>\n",
              "      <th>Total Female Chinese</th>\n",
              "      <td>75942931</td>\n",
              "      <td>3925.921555</td>\n",
              "    </tr>\n",
              "    <tr>\n",
              "      <th>Total Female Residents</th>\n",
              "      <td>97167570</td>\n",
              "      <td>658.555509</td>\n",
              "    </tr>\n",
              "  </tbody>\n",
              "</table>\n",
              "</div>"
            ],
            "text/plain": [
              "                           value  Population growth(%)\n",
              "level_1                                               \n",
              "Total Female Chinese    75942931           3925.921555\n",
              "Total Female Residents  97167570            658.555509"
            ]
          },
          "metadata": {
            "tags": []
          },
          "execution_count": 20
        }
      ]
    },
    {
      "cell_type": "code",
      "metadata": {
        "colab_type": "code",
        "id": "t2Yw2VIiLlbY",
        "colab": {
          "base_uri": "https://localhost:8080/",
          "height": 137
        },
        "outputId": "a848b17b-93ec-4e93-8072-f6e090ffe8a8"
      },
      "source": [
        "gender_new_female.nsmallest(2, ['Population growth(%)']) "
      ],
      "execution_count": 21,
      "outputs": [
        {
          "output_type": "execute_result",
          "data": {
            "text/html": [
              "<div>\n",
              "<style scoped>\n",
              "    .dataframe tbody tr th:only-of-type {\n",
              "        vertical-align: middle;\n",
              "    }\n",
              "\n",
              "    .dataframe tbody tr th {\n",
              "        vertical-align: top;\n",
              "    }\n",
              "\n",
              "    .dataframe thead th {\n",
              "        text-align: right;\n",
              "    }\n",
              "</style>\n",
              "<table border=\"1\" class=\"dataframe\">\n",
              "  <thead>\n",
              "    <tr style=\"text-align: right;\">\n",
              "      <th></th>\n",
              "      <th>value</th>\n",
              "      <th>Population growth(%)</th>\n",
              "    </tr>\n",
              "    <tr>\n",
              "      <th>level_1</th>\n",
              "      <th></th>\n",
              "      <th></th>\n",
              "    </tr>\n",
              "  </thead>\n",
              "  <tbody>\n",
              "    <tr>\n",
              "      <th>Total Female Indians</th>\n",
              "      <td>6528837</td>\n",
              "      <td>-91.402969</td>\n",
              "    </tr>\n",
              "    <tr>\n",
              "      <th>Total Female Malays</th>\n",
              "      <td>12809553</td>\n",
              "      <td>96.199614</td>\n",
              "    </tr>\n",
              "  </tbody>\n",
              "</table>\n",
              "</div>"
            ],
            "text/plain": [
              "                         value  Population growth(%)\n",
              "level_1                                             \n",
              "Total Female Indians   6528837            -91.402969\n",
              "Total Female Malays   12809553             96.199614"
            ]
          },
          "metadata": {
            "tags": []
          },
          "execution_count": 21
        }
      ]
    },
    {
      "cell_type": "code",
      "metadata": {
        "colab_type": "code",
        "id": "SkpeRJMpJ2vp",
        "colab": {
          "base_uri": "https://localhost:8080/",
          "height": 317
        },
        "outputId": "935e48e6-89c0-4f41-9ec7-d43b4c5f9f7c"
      },
      "source": [
        "# List no. of unique values\n",
        "print(population_df['year'].unique())\n",
        "print(len(population_df['level_1'].unique()))\n",
        "print((population_df['level_1'].unique()))\n",
        "print(population_df['level_2'].unique())\n",
        "print(len(population_df['value'].unique()))"
      ],
      "execution_count": 22,
      "outputs": [
        {
          "output_type": "stream",
          "text": [
            "[1957 1958 1959 1960 1961 1962 1963 1964 1965 1966 1967 1968 1969 1970\n",
            " 1971 1972 1973 1974 1975 1976 1977 1978 1979 1980 1981 1982 1983 1984\n",
            " 1985 1986 1987 1988 1989 1990 1991 1992 1993 1994 1995 1996 1997 1998\n",
            " 1999 2000 2001 2002 2003 2004 2005 2006 2007 2008 2009 2010 2011 2012\n",
            " 2013 2014 2015 2016 2017 2018]\n",
            "15\n",
            "['Total Residents' 'Total Male Residents' 'Total Female Residents'\n",
            " 'Total Malays' 'Total Male Malays' 'Total Female Malays' 'Total Chinese'\n",
            " 'Total Male Chinese' 'Total Female Chinese' 'Total Indians'\n",
            " 'Total Male Indians' 'Total Female Indians' 'Other Ethnic Groups (Total)'\n",
            " 'Other Ethnic Groups (Males)' 'Other Ethnic Groups (Females)']\n",
            "['0  -  4 Years' '5  -  9 Years' '10 - 14 Years' '15 - 19 Years'\n",
            " '20 - 24 Years' '25 - 29 Years' '30 - 34 Years' '35 - 39 Years'\n",
            " '40 - 44 Years' '45 - 49 Years' '50 - 54 Years' '55 - 59 Years'\n",
            " '60 - 64 Years' '65 - 69 Years' '70 - 74 Years' '75 - 79 Years'\n",
            " '80 - 84 Years' '65 Years & Over' '70 Years & Over' '75 Years & Over'\n",
            " '80 Years & Over' '85 Years & Over']\n",
            "12215\n"
          ],
          "name": "stdout"
        }
      ]
    },
    {
      "cell_type": "markdown",
      "metadata": {
        "colab_type": "text",
        "id": "We3G2OyML7W5"
      },
      "source": [
        "# By ethnicity:\n",
        "\n",
        "- Highest growth rate: Overall Chinese followed by total female residents (that's an interesting find that femals growth has been more)\n",
        "\n",
        "- Lowest growth rate: Indian female followed by Indian Male (seems like we don't like Singapore much or Singapore does not like indians)\n",
        "\n",
        "- Nothing remained same"
      ]
    },
    {
      "cell_type": "code",
      "metadata": {
        "colab_type": "code",
        "id": "-u4By4bIH3uw",
        "colab": {
          "base_uri": "https://localhost:8080/",
          "height": 137
        },
        "outputId": "1765f593-d978-4f8b-a002-c3b4d21f7e13"
      },
      "source": [
        "ethnic_new = population_df.groupby(['level_1'])[['value']].agg('sum') \n",
        "#ethnic_new['Total Population']=population_df[(population_df['level_1'] == 'Total Residents')].groupby(['year'], as_index=False)[['value']].sum()['value']\n",
        "ethnic_new['Population growth(%)'] = ethnic_new.value.pct_change()*100\n",
        "ethnic_new.nlargest(2, ['Population growth(%)']) "
      ],
      "execution_count": 23,
      "outputs": [
        {
          "output_type": "execute_result",
          "data": {
            "text/html": [
              "<div>\n",
              "<style scoped>\n",
              "    .dataframe tbody tr th:only-of-type {\n",
              "        vertical-align: middle;\n",
              "    }\n",
              "\n",
              "    .dataframe tbody tr th {\n",
              "        vertical-align: top;\n",
              "    }\n",
              "\n",
              "    .dataframe thead th {\n",
              "        text-align: right;\n",
              "    }\n",
              "</style>\n",
              "<table border=\"1\" class=\"dataframe\">\n",
              "  <thead>\n",
              "    <tr style=\"text-align: right;\">\n",
              "      <th></th>\n",
              "      <th>value</th>\n",
              "      <th>Population growth(%)</th>\n",
              "    </tr>\n",
              "    <tr>\n",
              "      <th>level_1</th>\n",
              "      <th></th>\n",
              "      <th></th>\n",
              "    </tr>\n",
              "  </thead>\n",
              "  <tbody>\n",
              "    <tr>\n",
              "      <th>Total Chinese</th>\n",
              "      <td>148157861</td>\n",
              "      <td>3970.922925</td>\n",
              "    </tr>\n",
              "    <tr>\n",
              "      <th>Total Female Residents</th>\n",
              "      <td>97167570</td>\n",
              "      <td>658.555509</td>\n",
              "    </tr>\n",
              "  </tbody>\n",
              "</table>\n",
              "</div>"
            ],
            "text/plain": [
              "                            value  Population growth(%)\n",
              "level_1                                                \n",
              "Total Chinese           148157861           3970.922925\n",
              "Total Female Residents   97167570            658.555509"
            ]
          },
          "metadata": {
            "tags": []
          },
          "execution_count": 23
        }
      ]
    },
    {
      "cell_type": "code",
      "metadata": {
        "colab_type": "code",
        "id": "z7Ni9vTpIJCF",
        "colab": {
          "base_uri": "https://localhost:8080/",
          "height": 137
        },
        "outputId": "c1c5a2df-db27-4bbb-9727-dd81d83a67f3"
      },
      "source": [
        "ethnic_new.nsmallest(2, ['Population growth(%)']) "
      ],
      "execution_count": 24,
      "outputs": [
        {
          "output_type": "execute_result",
          "data": {
            "text/html": [
              "<div>\n",
              "<style scoped>\n",
              "    .dataframe tbody tr th:only-of-type {\n",
              "        vertical-align: middle;\n",
              "    }\n",
              "\n",
              "    .dataframe tbody tr th {\n",
              "        vertical-align: top;\n",
              "    }\n",
              "\n",
              "    .dataframe thead th {\n",
              "        text-align: right;\n",
              "    }\n",
              "</style>\n",
              "<table border=\"1\" class=\"dataframe\">\n",
              "  <thead>\n",
              "    <tr style=\"text-align: right;\">\n",
              "      <th></th>\n",
              "      <th>value</th>\n",
              "      <th>Population growth(%)</th>\n",
              "    </tr>\n",
              "    <tr>\n",
              "      <th>level_1</th>\n",
              "      <th></th>\n",
              "      <th></th>\n",
              "    </tr>\n",
              "  </thead>\n",
              "  <tbody>\n",
              "    <tr>\n",
              "      <th>Total Female Indians</th>\n",
              "      <td>6528837</td>\n",
              "      <td>-91.402969</td>\n",
              "    </tr>\n",
              "    <tr>\n",
              "      <th>Total Male Indians</th>\n",
              "      <td>8034588</td>\n",
              "      <td>-88.874065</td>\n",
              "    </tr>\n",
              "  </tbody>\n",
              "</table>\n",
              "</div>"
            ],
            "text/plain": [
              "                        value  Population growth(%)\n",
              "level_1                                            \n",
              "Total Female Indians  6528837            -91.402969\n",
              "Total Male Indians    8034588            -88.874065"
            ]
          },
          "metadata": {
            "tags": []
          },
          "execution_count": 24
        }
      ]
    },
    {
      "cell_type": "code",
      "metadata": {
        "colab_type": "code",
        "id": "X8petqfjINCq",
        "colab": {
          "base_uri": "https://localhost:8080/",
          "height": 77
        },
        "outputId": "2cb83867-f67a-44be-e04b-577e1a9f374e"
      },
      "source": [
        "ethnic_new[(ethnic_new['Population growth(%)'] == 0)]"
      ],
      "execution_count": 25,
      "outputs": [
        {
          "output_type": "execute_result",
          "data": {
            "text/html": [
              "<div>\n",
              "<style scoped>\n",
              "    .dataframe tbody tr th:only-of-type {\n",
              "        vertical-align: middle;\n",
              "    }\n",
              "\n",
              "    .dataframe tbody tr th {\n",
              "        vertical-align: top;\n",
              "    }\n",
              "\n",
              "    .dataframe thead th {\n",
              "        text-align: right;\n",
              "    }\n",
              "</style>\n",
              "<table border=\"1\" class=\"dataframe\">\n",
              "  <thead>\n",
              "    <tr style=\"text-align: right;\">\n",
              "      <th></th>\n",
              "      <th>value</th>\n",
              "      <th>Population growth(%)</th>\n",
              "    </tr>\n",
              "    <tr>\n",
              "      <th>level_1</th>\n",
              "      <th></th>\n",
              "      <th></th>\n",
              "    </tr>\n",
              "  </thead>\n",
              "  <tbody>\n",
              "  </tbody>\n",
              "</table>\n",
              "</div>"
            ],
            "text/plain": [
              "Empty DataFrame\n",
              "Columns: [value, Population growth(%)]\n",
              "Index: []"
            ]
          },
          "metadata": {
            "tags": []
          },
          "execution_count": 25
        }
      ]
    },
    {
      "cell_type": "markdown",
      "metadata": {
        "colab_type": "text",
        "id": "nlV0JaRjMiou"
      },
      "source": [
        "# By Age:\n",
        "\n",
        "- Highest growth rate: 70 Years & Over (looks like modern medicines are working to prolong life)\n",
        "\n",
        "- Lowest growth rate: 75 - 79 Years (probably but till the age of 75 only as we have seen lowest growth in the age group 75-79)\n",
        "\n",
        "- Nothing remained same"
      ]
    },
    {
      "cell_type": "code",
      "metadata": {
        "colab_type": "code",
        "id": "8tCueppR2S7D",
        "colab": {
          "base_uri": "https://localhost:8080/",
          "height": 137
        },
        "outputId": "7192d4e1-1758-49d5-d712-646daaf6d920"
      },
      "source": [
        "age_new = population_df.groupby(['level_2'])[['value']].agg('sum') \n",
        "#age_new['Total Population']=population_df[(population_df['level_1'] == 'Total Residents')].groupby(['year'], as_index=False)[['value']].sum()['value']\n",
        "age_new['Population growth(%)'] = age_new.value.pct_change()*100\n",
        "age_new.nlargest(2, ['Population growth(%)']) "
      ],
      "execution_count": 26,
      "outputs": [
        {
          "output_type": "execute_result",
          "data": {
            "text/html": [
              "<div>\n",
              "<style scoped>\n",
              "    .dataframe tbody tr th:only-of-type {\n",
              "        vertical-align: middle;\n",
              "    }\n",
              "\n",
              "    .dataframe tbody tr th {\n",
              "        vertical-align: top;\n",
              "    }\n",
              "\n",
              "    .dataframe thead th {\n",
              "        text-align: right;\n",
              "    }\n",
              "</style>\n",
              "<table border=\"1\" class=\"dataframe\">\n",
              "  <thead>\n",
              "    <tr style=\"text-align: right;\">\n",
              "      <th></th>\n",
              "      <th>value</th>\n",
              "      <th>Population growth(%)</th>\n",
              "    </tr>\n",
              "    <tr>\n",
              "      <th>level_2</th>\n",
              "      <th></th>\n",
              "      <th></th>\n",
              "    </tr>\n",
              "  </thead>\n",
              "  <tbody>\n",
              "    <tr>\n",
              "      <th>70 Years &amp; Over</th>\n",
              "      <td>28074338</td>\n",
              "      <td>163.785631</td>\n",
              "    </tr>\n",
              "    <tr>\n",
              "      <th>65 Years &amp; Over</th>\n",
              "      <td>45746835</td>\n",
              "      <td>158.858921</td>\n",
              "    </tr>\n",
              "  </tbody>\n",
              "</table>\n",
              "</div>"
            ],
            "text/plain": [
              "                    value  Population growth(%)\n",
              "level_2                                        \n",
              "70 Years & Over  28074338            163.785631\n",
              "65 Years & Over  45746835            158.858921"
            ]
          },
          "metadata": {
            "tags": []
          },
          "execution_count": 26
        }
      ]
    },
    {
      "cell_type": "code",
      "metadata": {
        "colab_type": "code",
        "id": "yLHqgwEf9Bj3",
        "colab": {
          "base_uri": "https://localhost:8080/",
          "height": 137
        },
        "outputId": "ba06d56a-5336-40ba-ad2a-e67fe574f4ab"
      },
      "source": [
        "age_new.nsmallest(2, ['Population growth(%)']) "
      ],
      "execution_count": 27,
      "outputs": [
        {
          "output_type": "execute_result",
          "data": {
            "text/html": [
              "<div>\n",
              "<style scoped>\n",
              "    .dataframe tbody tr th:only-of-type {\n",
              "        vertical-align: middle;\n",
              "    }\n",
              "\n",
              "    .dataframe tbody tr th {\n",
              "        vertical-align: top;\n",
              "    }\n",
              "\n",
              "    .dataframe thead th {\n",
              "        text-align: right;\n",
              "    }\n",
              "</style>\n",
              "<table border=\"1\" class=\"dataframe\">\n",
              "  <thead>\n",
              "    <tr style=\"text-align: right;\">\n",
              "      <th></th>\n",
              "      <th>value</th>\n",
              "      <th>Population growth(%)</th>\n",
              "    </tr>\n",
              "    <tr>\n",
              "      <th>level_2</th>\n",
              "      <th></th>\n",
              "      <th></th>\n",
              "    </tr>\n",
              "  </thead>\n",
              "  <tbody>\n",
              "    <tr>\n",
              "      <th>75 - 79 Years</th>\n",
              "      <td>6313037</td>\n",
              "      <td>-77.513140</td>\n",
              "    </tr>\n",
              "    <tr>\n",
              "      <th>70 - 74 Years</th>\n",
              "      <td>10642861</td>\n",
              "      <td>-76.735306</td>\n",
              "    </tr>\n",
              "  </tbody>\n",
              "</table>\n",
              "</div>"
            ],
            "text/plain": [
              "                  value  Population growth(%)\n",
              "level_2                                      \n",
              "75 - 79 Years   6313037            -77.513140\n",
              "70 - 74 Years  10642861            -76.735306"
            ]
          },
          "metadata": {
            "tags": []
          },
          "execution_count": 27
        }
      ]
    },
    {
      "cell_type": "code",
      "metadata": {
        "colab_type": "code",
        "id": "yFwtKHdt9u3z",
        "colab": {
          "base_uri": "https://localhost:8080/",
          "height": 77
        },
        "outputId": "78876d7b-03b8-48ae-9b53-1e905b003c4b"
      },
      "source": [
        "age_new[(age_new['Population growth(%)'] == 0)]\n"
      ],
      "execution_count": 28,
      "outputs": [
        {
          "output_type": "execute_result",
          "data": {
            "text/html": [
              "<div>\n",
              "<style scoped>\n",
              "    .dataframe tbody tr th:only-of-type {\n",
              "        vertical-align: middle;\n",
              "    }\n",
              "\n",
              "    .dataframe tbody tr th {\n",
              "        vertical-align: top;\n",
              "    }\n",
              "\n",
              "    .dataframe thead th {\n",
              "        text-align: right;\n",
              "    }\n",
              "</style>\n",
              "<table border=\"1\" class=\"dataframe\">\n",
              "  <thead>\n",
              "    <tr style=\"text-align: right;\">\n",
              "      <th></th>\n",
              "      <th>value</th>\n",
              "      <th>Population growth(%)</th>\n",
              "    </tr>\n",
              "    <tr>\n",
              "      <th>level_2</th>\n",
              "      <th></th>\n",
              "      <th></th>\n",
              "    </tr>\n",
              "  </thead>\n",
              "  <tbody>\n",
              "  </tbody>\n",
              "</table>\n",
              "</div>"
            ],
            "text/plain": [
              "Empty DataFrame\n",
              "Columns: [value, Population growth(%)]\n",
              "Index: []"
            ]
          },
          "metadata": {
            "tags": []
          },
          "execution_count": 28
        }
      ]
    },
    {
      "cell_type": "code",
      "metadata": {
        "colab_type": "code",
        "id": "faACZ8-jQDAC",
        "colab": {
          "base_uri": "https://localhost:8080/",
          "height": 77
        },
        "outputId": "8bd62209-9829-413e-b300-a46f5b9e04b4"
      },
      "source": [
        "population_df.head(1)"
      ],
      "execution_count": 29,
      "outputs": [
        {
          "output_type": "execute_result",
          "data": {
            "text/html": [
              "<div>\n",
              "<style scoped>\n",
              "    .dataframe tbody tr th:only-of-type {\n",
              "        vertical-align: middle;\n",
              "    }\n",
              "\n",
              "    .dataframe tbody tr th {\n",
              "        vertical-align: top;\n",
              "    }\n",
              "\n",
              "    .dataframe thead th {\n",
              "        text-align: right;\n",
              "    }\n",
              "</style>\n",
              "<table border=\"1\" class=\"dataframe\">\n",
              "  <thead>\n",
              "    <tr style=\"text-align: right;\">\n",
              "      <th></th>\n",
              "      <th>year</th>\n",
              "      <th>level_1</th>\n",
              "      <th>level_2</th>\n",
              "      <th>value</th>\n",
              "    </tr>\n",
              "  </thead>\n",
              "  <tbody>\n",
              "    <tr>\n",
              "      <th>0</th>\n",
              "      <td>1957</td>\n",
              "      <td>Total Residents</td>\n",
              "      <td>0  -  4 Years</td>\n",
              "      <td>264727</td>\n",
              "    </tr>\n",
              "  </tbody>\n",
              "</table>\n",
              "</div>"
            ],
            "text/plain": [
              "   year          level_1        level_2   value\n",
              "0  1957  Total Residents  0  -  4 Years  264727"
            ]
          },
          "metadata": {
            "tags": []
          },
          "execution_count": 29
        }
      ]
    },
    {
      "cell_type": "markdown",
      "metadata": {
        "id": "H67DtdqObjkT",
        "colab_type": "text"
      },
      "source": [
        "## Graph of population Trends:\n"
      ]
    },
    {
      "cell_type": "code",
      "metadata": {
        "id": "KLpvwaoxbjkU",
        "colab_type": "code",
        "colab": {
          "base_uri": "https://localhost:8080/",
          "height": 267
        },
        "outputId": "d8b8807e-9f4c-4e8d-d245-99eba0c1ccf3"
      },
      "source": [
        "set(population_df.level_1) ##Similarly we can plot graphs of above values over years.. below is an example of few population trends. "
      ],
      "execution_count": 39,
      "outputs": [
        {
          "output_type": "execute_result",
          "data": {
            "text/plain": [
              "{'Other Ethnic Groups (Females)',\n",
              " 'Other Ethnic Groups (Males)',\n",
              " 'Other Ethnic Groups (Total)',\n",
              " 'Total Chinese',\n",
              " 'Total Female Chinese',\n",
              " 'Total Female Indians',\n",
              " 'Total Female Malays',\n",
              " 'Total Female Residents',\n",
              " 'Total Indians',\n",
              " 'Total Malays',\n",
              " 'Total Male Chinese',\n",
              " 'Total Male Indians',\n",
              " 'Total Male Malays',\n",
              " 'Total Male Residents',\n",
              " 'Total Residents'}"
            ]
          },
          "metadata": {
            "tags": []
          },
          "execution_count": 39
        }
      ]
    },
    {
      "cell_type": "code",
      "metadata": {
        "id": "T6zUMCzVbjkZ",
        "colab_type": "code",
        "colab": {
          "base_uri": "https://localhost:8080/",
          "height": 809
        },
        "outputId": "f1bda053-7461-4ab7-e552-d3ffef174e2a"
      },
      "source": [
        "import matplotlib.pyplot as plt\n",
        "pop_chi = population_df[(population_df['level_1'] == 'Total Chinese')].groupby(['year'], as_index=False)[['value']].sum()\n",
        "pop_chi\n",
        "plt.bar(pop_chi.year, pop_chi.value, align='center', alpha=0.5)\n",
        "plt.ylabel('Chineese Population')\n",
        "plt.title('Chineese Population over Years')\n",
        "plt.show()\n",
        "pop_ind = population_df[(population_df['level_1'] == 'Total Indians')].groupby(['year'], as_index=False)[['value']].sum()\n",
        "pop_ind\n",
        "plt.bar(pop_ind.year, pop_ind.value, align='center', alpha=0.5)\n",
        "plt.ylabel('Indian Population')\n",
        "plt.title('Indian Population over Years')\n",
        "plt.show()\n",
        "pop_Malays = population_df[(population_df['level_1'] == 'Total Malays')].groupby(['year'], as_index=False)[['value']].sum()\n",
        "pop_Malays\n",
        "plt.bar(pop_Malays.year, pop_Malays.value, align='center', alpha=0.5)\n",
        "plt.ylabel('Malays Population')\n",
        "plt.title('Malayas Population over Years')\n",
        "plt.show()\n"
      ],
      "execution_count": 40,
      "outputs": [
        {
          "output_type": "display_data",
          "data": {
            "image/png": "[encoded data removed]",
            "text/plain": [
              "<Figure size 432x288 with 1 Axes>"
            ]
          },
          "metadata": {
            "tags": [],
            "needs_background": "light"
          }
        },
        {
          "output_type": "display_data",
          "data": {
            "image/png": "[encoded data removed]",
            "text/plain": [
              "<Figure size 432x288 with 1 Axes>"
            ]
          },
          "metadata": {
            "tags": [],
            "needs_background": "light"
          }
        },
        {
          "output_type": "display_data",
          "data": {
            "image/png": "[encoded data removed]",
            "text/plain": [
              "<Figure size 432x288 with 1 Axes>"
            ]
          },
          "metadata": {
            "tags": [],
            "needs_background": "light"
          }
        }
      ]
    },
    {
      "cell_type": "markdown",
      "metadata": {
        "colab_type": "text",
        "id": "otWb9eIPRyDH"
      },
      "source": [
        "# Part 2 - \n",
        "\n",
        "The file here contains latitude-longitude information associated with different markers.\n",
        "You need to find out all of these latitude-longitude pairs, as well as the associated marker id\n",
        "with these pairs. Create a dataframe out of this, which has three columns - latitude, longitude\n",
        "and marker id."
      ]
    },
    {
      "cell_type": "code",
      "metadata": {
        "colab_type": "code",
        "id": "bvgYTVpRTqGP",
        "colab": {}
      },
      "source": [
        "import json\n",
        "import re\n",
        "with open('/content/drive/My Drive/Computer_vision/Ex_Files_Rec_Machine_Learning_AI_Upd/BMC-ContainmentZones.js', 'r') as data_file:\n",
        "    data = data_file.read()\n"
      ],
      "execution_count": 34,
      "outputs": []
    },
    {
      "cell_type": "code",
      "metadata": {
        "colab_type": "code",
        "id": "rON2TEN9S2jb",
        "colab": {}
      },
      "source": [
        "list_file = []\n",
        "with open('/content/drive/My Drive/Computer_vision/Ex_Files_Rec_Machine_Learning_AI_Upd/BMC-ContainmentZones.js') as data_file:\n",
        "  for line in data_file:\n",
        "    list_file.append(line)"
      ],
      "execution_count": 35,
      "outputs": []
    },
    {
      "cell_type": "code",
      "metadata": {
        "colab_type": "code",
        "id": "_QTgOk4qeSxW",
        "colab": {}
      },
      "source": [
        "location_df = pd.DataFrame(columns =['latitude', 'longitude', 'marker_id'])\n",
        "regex_marker = re.compile(r'(var marker_.*?)(?:= L.marker)')\n",
        "\n",
        "marker = regex_marker.findall(str(list_file))\n",
        "marker_id = []\n",
        "\n",
        "for check in marker:\n",
        "    marker_id.append(check[11:-1])\n",
        "    \n",
        "\n",
        "location_df.marker_id = marker_id\n"
      ],
      "execution_count": 36,
      "outputs": []
    },
    {
      "cell_type": "code",
      "metadata": {
        "id": "sMM8Zyctbjkx",
        "colab_type": "code",
        "colab": {}
      },
      "source": [
        "regex_marker2 = re.compile(r'(L.marker.*?)(?:.addTo)')\n",
        "\n",
        "marker_id2 = regex_marker2.findall(str(list_file))\n",
        "\n",
        "m = re.findall(r'\\d+', str(marker_id2) )\n",
        "\n",
        "\n",
        "k=0\n",
        "lat_list=[]\n",
        "long_list=[]\n",
        "while k < len(m):\n",
        "    lat_list.append(m[k]+'.'+m[k+1])\n",
        "    long_list.append(m[k+2]+'.'+m[k+3])\n",
        "    k=k+4\n",
        "    \n",
        "location_df.latitude = lat_list\n",
        "location_df.longitude = long_list"
      ],
      "execution_count": 37,
      "outputs": []
    },
    {
      "cell_type": "code",
      "metadata": {
        "id": "WT-Z7vxubjkz",
        "colab_type": "code",
        "colab": {
          "base_uri": "https://localhost:8080/",
          "height": 407
        },
        "outputId": "d7a6f04d-cc6e-4b1f-bf57-77c3fbe22e6b"
      },
      "source": [
        "location_df"
      ],
      "execution_count": 38,
      "outputs": [
        {
          "output_type": "execute_result",
          "data": {
            "text/html": [
              "<div>\n",
              "<style scoped>\n",
              "    .dataframe tbody tr th:only-of-type {\n",
              "        vertical-align: middle;\n",
              "    }\n",
              "\n",
              "    .dataframe tbody tr th {\n",
              "        vertical-align: top;\n",
              "    }\n",
              "\n",
              "    .dataframe thead th {\n",
              "        text-align: right;\n",
              "    }\n",
              "</style>\n",
              "<table border=\"1\" class=\"dataframe\">\n",
              "  <thead>\n",
              "    <tr style=\"text-align: right;\">\n",
              "      <th></th>\n",
              "      <th>latitude</th>\n",
              "      <th>longitude</th>\n",
              "      <th>marker_id</th>\n",
              "    </tr>\n",
              "  </thead>\n",
              "  <tbody>\n",
              "    <tr>\n",
              "      <th>0</th>\n",
              "      <td>19.041691972000024</td>\n",
              "      <td>72.85052482000003</td>\n",
              "      <td>9795626cfd584471ab4406d756a00baf</td>\n",
              "    </tr>\n",
              "    <tr>\n",
              "      <th>1</th>\n",
              "      <td>19.047690380000063</td>\n",
              "      <td>72.85787174600006</td>\n",
              "      <td>82a31b114c0243859e73c4f5f1332554</td>\n",
              "    </tr>\n",
              "    <tr>\n",
              "      <th>2</th>\n",
              "      <td>19.039267403000053</td>\n",
              "      <td>72.85491353500004</td>\n",
              "      <td>0e93001008714f1da3c40e3317183810</td>\n",
              "    </tr>\n",
              "    <tr>\n",
              "      <th>3</th>\n",
              "      <td>19.04372482200006</td>\n",
              "      <td>72.85004247900008</td>\n",
              "      <td>a41b90c2ea4a405b8a35811cd094ea68</td>\n",
              "    </tr>\n",
              "    <tr>\n",
              "      <th>4</th>\n",
              "      <td>19.017987179000045</td>\n",
              "      <td>72.81980024300003</td>\n",
              "      <td>3e13bed860e9471d9a1323cffd3b6129</td>\n",
              "    </tr>\n",
              "    <tr>\n",
              "      <th>...</th>\n",
              "      <td>...</td>\n",
              "      <td>...</td>\n",
              "      <td>...</td>\n",
              "    </tr>\n",
              "    <tr>\n",
              "      <th>635</th>\n",
              "      <td>19.16041</td>\n",
              "      <td>72.85515</td>\n",
              "      <td>ba79eea37f8347ee9a3df5f885e4ffc1</td>\n",
              "    </tr>\n",
              "    <tr>\n",
              "      <th>636</th>\n",
              "      <td>19.18733</td>\n",
              "      <td>72.81258000000001</td>\n",
              "      <td>cb08d17e9ff24c988e4514059168796d</td>\n",
              "    </tr>\n",
              "    <tr>\n",
              "      <th>637</th>\n",
              "      <td>19.20354</td>\n",
              "      <td>72.86236</td>\n",
              "      <td>bfcdac2899914d219a6af40ee233939c</td>\n",
              "    </tr>\n",
              "    <tr>\n",
              "      <th>638</th>\n",
              "      <td>19.06544</td>\n",
              "      <td>72.83051</td>\n",
              "      <td>9ffe302c282f4a36a039a749f885a5ef</td>\n",
              "    </tr>\n",
              "    <tr>\n",
              "      <th>639</th>\n",
              "      <td>19.09035</td>\n",
              "      <td>72.88605</td>\n",
              "      <td>d304a679c76c4ee596d0180ba25061f0</td>\n",
              "    </tr>\n",
              "  </tbody>\n",
              "</table>\n",
              "<p>640 rows × 3 columns</p>\n",
              "</div>"
            ],
            "text/plain": [
              "               latitude          longitude                         marker_id\n",
              "0    19.041691972000024  72.85052482000003  9795626cfd584471ab4406d756a00baf\n",
              "1    19.047690380000063  72.85787174600006  82a31b114c0243859e73c4f5f1332554\n",
              "2    19.039267403000053  72.85491353500004  0e93001008714f1da3c40e3317183810\n",
              "3     19.04372482200006  72.85004247900008  a41b90c2ea4a405b8a35811cd094ea68\n",
              "4    19.017987179000045  72.81980024300003  3e13bed860e9471d9a1323cffd3b6129\n",
              "..                  ...                ...                               ...\n",
              "635            19.16041           72.85515  ba79eea37f8347ee9a3df5f885e4ffc1\n",
              "636            19.18733  72.81258000000001  cb08d17e9ff24c988e4514059168796d\n",
              "637            19.20354           72.86236  bfcdac2899914d219a6af40ee233939c\n",
              "638            19.06544           72.83051  9ffe302c282f4a36a039a749f885a5ef\n",
              "639            19.09035           72.88605  d304a679c76c4ee596d0180ba25061f0\n",
              "\n",
              "[640 rows x 3 columns]"
            ]
          },
          "metadata": {
            "tags": []
          },
          "execution_count": 38
        }
      ]
    },
    {
      "cell_type": "code",
      "metadata": {
        "id": "zEpzu1pNbjk1",
        "colab_type": "code",
        "colab": {}
      },
      "source": [
        ""
      ],
      "execution_count": null,
      "outputs": []
    }
  ]
}