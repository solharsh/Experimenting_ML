{
 "cells": [
  {
   "cell_type": "code",
   "execution_count": 51,
   "metadata": {},
   "outputs": [],
   "source": [
    "#need code below, just for my settings\n",
    "import os\n",
    "os.environ['KMP_DUPLICATE_LIB_OK']='True'\n",
    "\n",
    "import pandas as pd\n",
    "import numpy as np\n",
    "import time\n",
    "from sklearn.preprocessing import LabelEncoder\n",
    "from sklearn.metrics import confusion_matrix\n",
    "from sklearn.model_selection import train_test_split, GridSearchCV, KFold\n",
    "import matplotlib.pyplot as plt\n",
    "import seaborn as sns\n",
    "import warnings\n",
    "from datetime import timedelta\n",
    "import lightgbm as LGBMClassifier\n",
    "from sklearn.metrics import roc_auc_score, accuracy_score, roc_curve, auc\n",
    "from catboost import CatBoostClassifier\n",
    "from sklearn.linear_model import LogisticRegression\n",
    "from sklearn import model_selection\n",
    "from sklearn.pipeline import Pipeline\n",
    "\n",
    "\n",
    "seed = np.random.seed(8675309)"
   ]
  },
  {
   "cell_type": "code",
   "execution_count": 52,
   "metadata": {},
   "outputs": [],
   "source": [
    "train = pd.read_csv('../WFS_Training.csv', na_values = 'null')\n",
    "public_test = pd.read_csv('../WFS_TestFeatures.csv', na_values = 'null')"
   ]
  },
  {
   "cell_type": "markdown",
   "metadata": {},
   "source": [
    "### Feature Engineering\n",
    "\n",
    "First thing I'm doing is Feature Engineering, following some  in-depth EDA, that I'm not showing, but is helpful to understand how data are distributed.\n",
    "\n",
    "Numerical( *score_cols*) and categorical( *cat_cols*) were there already, feat_cols and date_cols were created on purpose. Adding date columns was taking the _AUC_ to 0.75, adding count per appointment was taking it above 0.9"
   ]
  },
  {
   "cell_type": "code",
   "execution_count": 53,
   "metadata": {},
   "outputs": [],
   "source": [
    "#dividing my features\n",
    "score_cols = [\n",
    "    'commute_distance',\n",
    "    'shift_duration',\n",
    "    #'nbr_shift_day',    \n",
    "    #'distdur'\n",
    "]\n",
    "cat_cols = [\n",
    "            'app_esl_status',\n",
    "            'cand_education',\n",
    "            'cand_assess_overall_score',\n",
    "            'shift_code',\n",
    "            'shift_code_group',\n",
    "            'shift_days_of_week',\n",
    "            'shift_emp_class',\n",
    "            'shift_type',\n",
    "            'shift_schedule_type'#,\n",
    "            #'shift_start_time_group'\n",
    "           ]\n",
    "feat_cols = [\n",
    "           'appointment_nbr',\n",
    " #          'application_per_candidate',\n",
    "            'day_to_first_app',\n",
    "            'appointment_for_app' \n",
    "]\n",
    "\n",
    "date_cols = [\n",
    "'create_year', \n",
    "'create_month', \n",
    "'create_day',\n",
    "'app_year',\n",
    "'app_month',\n",
    "'app_day'\n",
    "]"
   ]
  },
  {
   "cell_type": "markdown",
   "metadata": {},
   "source": [
    "## What Worked\n",
    "\n",
    "* adding features counting number of appointments per candidate and number of visit that far( potential _data leakage_?)\n",
    "* extracting year, month and day  from dates but not using them as categorical\n",
    "* Backward Stepwise feature elimination\n",
    "* Logistic Regression\n",
    "* Tree GBM based models\n",
    "* Mean Inputing for missing value _Score_ columns\n",
    "* value Inputing for missing _Categorical_ columns\n",
    "* label encoding for _Categorical_ colums"
   ]
  },
  {
   "cell_type": "code",
   "execution_count": 54,
   "metadata": {},
   "outputs": [],
   "source": [
    "#Feature Engineered columns\n",
    "train['appointment_for_app'] = train.groupby('app_id')['cand_id'].transform('count')\n",
    "public_test['appointment_for_app'] = public_test.groupby('app_id')['cand_id'].transform('count')\n",
    "train['appointment_nbr'] = train.sort_values(['ID'], ascending=[True]) \\\n",
    "             .groupby(['cand_id']).cumcount() + 1\n",
    "public_test['appointment_nbr'] = public_test.sort_values(['ID'], ascending=[True]) \\\n",
    "             .groupby(['cand_id']).cumcount() + 1\n",
    "train['day_to_first_app'] = (pd.DatetimeIndex(train.appt_1_date) - pd.DatetimeIndex(train.app_created_date)).days\n",
    "public_test['day_to_first_app'] = (pd.DatetimeIndex(public_test.appt_1_date) - pd.DatetimeIndex(public_test.app_created_date)).days"
   ]
  },
  {
   "cell_type": "code",
   "execution_count": 55,
   "metadata": {},
   "outputs": [],
   "source": [
    "#Date columns\n",
    "train['create_year'] = pd.DatetimeIndex(train.app_created_date).year\n",
    "train['create_month'] = pd.DatetimeIndex(train.app_created_date).month\n",
    "train['create_day'] = pd.DatetimeIndex(train.app_created_date).day\n",
    "\n",
    "train['app_year'] = pd.DatetimeIndex(train.appt_1_date).year\n",
    "train['app_month'] = pd.DatetimeIndex(train.appt_1_date).month\n",
    "train['app_day'] = pd.DatetimeIndex(train.appt_1_date).day\n",
    "\n",
    "public_test['create_year'] = pd.DatetimeIndex(public_test.app_created_date).year\n",
    "public_test['create_month'] = pd.DatetimeIndex(public_test.app_created_date).month\n",
    "public_test['create_day'] = pd.DatetimeIndex(public_test.app_created_date).day\n",
    "\n",
    "public_test['app_year'] = pd.DatetimeIndex(public_test.appt_1_date).year\n",
    "public_test['app_month'] = pd.DatetimeIndex(public_test.appt_1_date).month\n",
    "public_test['app_day'] = pd.DatetimeIndex(public_test.appt_1_date).day"
   ]
  },
  {
   "cell_type": "code",
   "execution_count": 56,
   "metadata": {},
   "outputs": [],
   "source": [
    "## Mean Scores###\n",
    "train = train.fillna(train[score_cols].mean())\n",
    "public_test = public_test.fillna(public_test[score_cols].mean())\n",
    "### not specified for categorical ###\n",
    "ns_value = 'not_specified'\n",
    "train[cat_cols] = train[cat_cols].fillna(ns_value)\n",
    "public_test[cat_cols] = public_test[cat_cols].fillna(ns_value)"
   ]
  },
  {
   "cell_type": "code",
   "execution_count": 57,
   "metadata": {},
   "outputs": [],
   "source": [
    "for c in cat_cols:\n",
    "    le = LabelEncoder()\n",
    "    unique_elements = list(set(train[c].values.tolist() + public_test[c].values.tolist()))\n",
    "    le.fit(unique_elements)\n",
    "    train[c] = le.transform(train[c])\n",
    "    public_test[c] = le.transform(public_test[c])"
   ]
  },
  {
   "cell_type": "code",
   "execution_count": 58,
   "metadata": {},
   "outputs": [],
   "source": [
    "X= train.loc[:, train.columns != 'nhenoshow_flag']\n",
    "y= train.nhenoshow_flag"
   ]
  },
  {
   "cell_type": "code",
   "execution_count": 59,
   "metadata": {},
   "outputs": [],
   "source": [
    "X = X[cat_cols + score_cols + feat_cols+ date_cols]"
   ]
  },
  {
   "cell_type": "markdown",
   "metadata": {},
   "source": [
    "## Models\n",
    "there is no free lunch, and I tried different algorithm. Best performing were the following\n",
    "***\n",
    "**GBM**\n",
    "\n",
    "All algorithm of this family were performing good, better than XGBM were: \n",
    "\n",
    "1. **LightGBM**\n",
    "\n",
    "2. **CatBoost**\n",
    "\n",
    "They have a lot of parameter to tune, but the most important are depth and number of trees.\n",
    "\n",
    "Raising number of iterators( trees) brought, as expected, higher training and predicting time but not sensitive improvement in the _AUC_ results.\n",
    "\n",
    "I was always using some _Early Stopping_ to prevent overfitting and unnecessary training time.\n",
    "\n",
    "###### to generalize( avoid overfit)\n",
    "obviously learning rate and depth, as in all tree based model algorithm but also\n",
    "> *LightGBM*: _number of leaves_, _min data in leaf_\n",
    "\n",
    "> *CatBoost*: l2\n",
    "\n",
    "###### to improve speed\n",
    "\n",
    "obviously lower number of iterators and \n",
    "\n",
    "> *LightGBM*: _feature_ and _bagging_ fraction\n",
    "\n",
    "> *CatBoost*: _rsm_\n",
    "\n",
    "those algorithms allow to specify _categorical values_ for optimal splitting, selecting them carefully brought improvement, but only for catboost.\n",
    "\n",
    "***\n",
    "**Logistic Regression**\n",
    "went for liblinear balanced with l2 regolarization, tuned only the degree of regularization to C=0.4\n"
   ]
  },
  {
   "cell_type": "code",
   "execution_count": 60,
   "metadata": {},
   "outputs": [],
   "source": [
    "\n",
    "params = {\n",
    "        'task': 'train',\n",
    "        'boosting_type': 'gbdt',\n",
    "        'objective':'binary',\n",
    "        'metric':'auc',\n",
    "        }\n",
    "\n",
    "'''\n",
    "the best performing was below, but had  long training with small improvement \n",
    "compared to the one above, that is shown with semplicity.\n",
    "best lightGBM had 'boosting_type': 'gbdt', 'max_depth' : 7, \n",
    "'objective': 'binary', 'nthread': 5, \n",
    "'num_leaves': 64, 'learning_rate': 0.07, \n",
    "'max_bin': 512, 'subsample_for_bin': 200, \n",
    "'subsample': 1, 'subsample_freq': 1, \n",
    "'colsample_bytree': 0.8, 'reg_alpha': 1.2, \n",
    "'reg_lambda': 1.2, 'min_split_gain': 0.5, \n",
    "'min_child_weight': 1, 'min_child_samples': 5, \n",
    "'scale_pos_weight': 1, 'num_class' : 1, 'metric' : 'auc' } \n",
    " '''"
   ]
  },
  {
   "cell_type": "code",
   "execution_count": 61,
   "metadata": {},
   "outputs": [
    {
     "name": "stdout",
     "output_type": "stream",
     "text": [
      "Training until validation scores don't improve for 50 rounds.\n",
      "[100]\ttraining's auc: 0.939187\tvalid_1's auc: 0.932446\n",
      "Early stopping, best iteration is:\n",
      "[86]\ttraining's auc: 0.938552\tvalid_1's auc: 0.932788\n"
     ]
    },
    {
     "data": {
      "text/plain": [
       "0.9327882144533577"
      ]
     },
     "execution_count": 61,
     "metadata": {},
     "output_type": "execute_result"
    }
   ],
   "source": [
    "'''\n",
    "note that best performing lightGBM had removed some shift code \n",
    "features that didn't bring any improvement.\n",
    "'''\n",
    "X_train, X_test, y_train, y_test = train_test_split(X, y,\n",
    "                                                    stratify = y,\n",
    "                                                    random_state=42)\n",
    "\n",
    "lgtrain = LGBMClassifier.Dataset(X_train, label=y_train)\n",
    "lgval = LGBMClassifier.Dataset(X_test, label=y_test)\n",
    "\n",
    "\n",
    "early_stopping_rounds = 50\n",
    "\n",
    "gbm = LGBMClassifier.train(params,\n",
    "                    lgtrain,\n",
    "                    num_boost_round=10000,\n",
    "                    verbose_eval=100,\n",
    "                    valid_sets=[lgtrain, lgval],\n",
    "                    #categorical_feature = cat_cols,\n",
    "                    early_stopping_rounds=early_stopping_rounds\n",
    "                          )\n",
    "\n",
    "y_pred = gbm.predict(X_test, num_iteration=gbm.best_iteration)\n",
    "roc_auc_score(y_test,y_pred)"
   ]
  },
  {
   "cell_type": "markdown",
   "metadata": {},
   "source": [
    "## What didn't Work\n",
    "\n",
    "* Sin/Cos transformation of time\n",
    "* Measuring time from application to appointment\n",
    "* counting appointment for application\n",
    "* counting number of shift day or breaking them in different features\n",
    "* grouping shift code related features( there are 360 separate shift codes)\n",
    "* One-Hot encoding( that shouldn't be used for Tree-based algorithms, but didn't work for linear)\n",
    "* Dimension Reduction: _PCA_ or _SVD_ \n",
    "* Feature Selectors( Random Forest, XGB based) were working partially\n",
    "* Oversampling with _SMOTE_\n",
    "* Other Kind of Models: Neural Networks, Baynes Models, SVM"
   ]
  },
  {
   "cell_type": "code",
   "execution_count": 62,
   "metadata": {},
   "outputs": [],
   "source": [
    "predictions = public_test.copy()\n",
    "predictions = predictions[['ID']+date_cols + score_cols + cat_cols+feat_cols]\n",
    "predictions_lgbm_prob =  gbm.predict(predictions.loc[:, predictions.columns != 'ID'].values, num_iteration=gbm.best_iteration)\n",
    "#predictions['nhenoshow_flag']= np.where(predictions_lgbm_prob > 0.5, 1, 0)\n",
    "predictions['nhenoshow_flag']=  gbm.predict(predictions.loc[:, predictions.columns != 'ID'].values, num_iteration=gbm.best_iteration)\n",
    "predictions[['ID','nhenoshow_flag']].to_csv('guessTempLGBM.csv', index=False)\n"
   ]
  },
  {
   "cell_type": "code",
   "execution_count": 63,
   "metadata": {},
   "outputs": [
    {
     "data": {
      "image/png": "[encoded data removed]",
      "text/plain": [
       "<Figure size 432x288 with 1 Axes>"
      ]
     },
     "metadata": {
      "needs_background": "light"
     },
     "output_type": "display_data"
    },
    {
     "name": "stdout",
     "output_type": "stream",
     "text": [
      "('AUC score:', 0.9327882144533577)\n"
     ]
    }
   ],
   "source": [
    "#Print Area Under Curve\n",
    "plt.figure()\n",
    "false_positive_rate, recall, thresholds = roc_curve(y_test, y_pred)\n",
    "roc_auc = auc(false_positive_rate, recall)\n",
    "plt.title('Receiver Operating Characteristic (ROC)')\n",
    "plt.plot(false_positive_rate, recall, 'b', label = 'AUC = %0.3f' %roc_auc)\n",
    "plt.legend(loc='lower right')\n",
    "plt.plot([0,1], [0,1], 'r--')\n",
    "plt.xlim([0.0,1.0])\n",
    "plt.ylim([0.0,1.0])\n",
    "plt.ylabel('Recall')\n",
    "plt.xlabel('Fall-out (1-Specificity)')\n",
    "plt.show()\n",
    "\n",
    "print('AUC score:', roc_auc)"
   ]
  },
  {
   "cell_type": "code",
   "execution_count": 64,
   "metadata": {},
   "outputs": [
    {
     "data": {
      "image/png": "[encoded data removed]",
      "text/plain": [
       "<Figure size 1440x720 with 1 Axes>"
      ]
     },
     "metadata": {
      "needs_background": "light"
     },
     "output_type": "display_data"
    },
    {
     "data": {
      "text/plain": [
       "<Figure size 432x288 with 0 Axes>"
      ]
     },
     "metadata": {},
     "output_type": "display_data"
    }
   ],
   "source": [
    "warnings.simplefilter(action='ignore', category=FutureWarning)\n",
    "\n",
    "# sorted(zip(clf.feature_importances_, X.columns), reverse=True)\n",
    "feature_imp = pd.DataFrame(sorted(zip(gbm.feature_importance(),X.columns)), columns=['Value','Feature'])\n",
    "\n",
    "plt.figure(figsize=(20, 10))\n",
    "sns.barplot(x=\"Value\", y=\"Feature\", data=feature_imp.sort_values(by=\"Value\", ascending=False))\n",
    "plt.title('LightGBM Features (avg over folds)')\n",
    "plt.tight_layout()\n",
    "plt.show()\n",
    "plt.savefig('lgbm_importances-01.png')"
   ]
  },
  {
   "cell_type": "code",
   "execution_count": 65,
   "metadata": {},
   "outputs": [
    {
     "name": "stdout",
     "output_type": "stream",
     "text": [
      "Learning rate set to 0.5\n",
      "0:\ttotal: 143ms\tremaining: 8.42s\n",
      "1:\ttotal: 317ms\tremaining: 9.19s\n",
      "2:\ttotal: 621ms\tremaining: 11.8s\n",
      "3:\ttotal: 1.04s\tremaining: 14.5s\n",
      "4:\ttotal: 1.52s\tremaining: 16.7s\n",
      "5:\ttotal: 2s\tremaining: 18s\n",
      "6:\ttotal: 2.19s\tremaining: 16.6s\n",
      "7:\ttotal: 2.36s\tremaining: 15.3s\n",
      "8:\ttotal: 2.51s\tremaining: 14.2s\n",
      "9:\ttotal: 2.66s\tremaining: 13.3s\n",
      "10:\ttotal: 2.76s\tremaining: 12.3s\n",
      "11:\ttotal: 2.85s\tremaining: 11.4s\n",
      "12:\ttotal: 3.02s\tremaining: 10.9s\n",
      "13:\ttotal: 3.15s\tremaining: 10.4s\n",
      "14:\ttotal: 3.27s\tremaining: 9.81s\n",
      "15:\ttotal: 3.38s\tremaining: 9.3s\n",
      "16:\ttotal: 3.48s\tremaining: 8.82s\n",
      "17:\ttotal: 3.67s\tremaining: 8.56s\n",
      "18:\ttotal: 3.95s\tremaining: 8.52s\n",
      "19:\ttotal: 4.09s\tremaining: 8.19s\n",
      "20:\ttotal: 5.42s\tremaining: 10.1s\n",
      "21:\ttotal: 6.52s\tremaining: 11.3s\n",
      "22:\ttotal: 7.13s\tremaining: 11.5s\n",
      "23:\ttotal: 7.67s\tremaining: 11.5s\n",
      "24:\ttotal: 8.04s\tremaining: 11.3s\n",
      "25:\ttotal: 8.22s\tremaining: 10.7s\n",
      "26:\ttotal: 8.46s\tremaining: 10.3s\n",
      "27:\ttotal: 8.96s\tremaining: 10.2s\n",
      "28:\ttotal: 9.15s\tremaining: 9.78s\n",
      "29:\ttotal: 9.69s\tremaining: 9.69s\n",
      "30:\ttotal: 10.3s\tremaining: 9.65s\n",
      "31:\ttotal: 10.7s\tremaining: 9.39s\n",
      "32:\ttotal: 10.9s\tremaining: 8.94s\n",
      "33:\ttotal: 11.2s\tremaining: 8.58s\n",
      "34:\ttotal: 11.8s\tremaining: 8.46s\n",
      "35:\ttotal: 13.2s\tremaining: 8.77s\n",
      "36:\ttotal: 13.5s\tremaining: 8.37s\n",
      "37:\ttotal: 14.5s\tremaining: 8.41s\n",
      "38:\ttotal: 15.1s\tremaining: 8.14s\n",
      "39:\ttotal: 16.1s\tremaining: 8.06s\n",
      "40:\ttotal: 16.3s\tremaining: 7.57s\n",
      "41:\ttotal: 16.7s\tremaining: 7.14s\n",
      "42:\ttotal: 17.8s\tremaining: 7.04s\n",
      "43:\ttotal: 19.4s\tremaining: 7.04s\n",
      "44:\ttotal: 20.2s\tremaining: 6.72s\n",
      "45:\ttotal: 20.6s\tremaining: 6.28s\n",
      "46:\ttotal: 21.1s\tremaining: 5.82s\n",
      "47:\ttotal: 21.4s\tremaining: 5.35s\n",
      "48:\ttotal: 21.5s\tremaining: 4.84s\n",
      "49:\ttotal: 22.2s\tremaining: 4.44s\n",
      "50:\ttotal: 22.5s\tremaining: 3.97s\n",
      "51:\ttotal: 22.7s\tremaining: 3.49s\n",
      "52:\ttotal: 23s\tremaining: 3.04s\n",
      "53:\ttotal: 23.2s\tremaining: 2.58s\n",
      "54:\ttotal: 23.4s\tremaining: 2.13s\n",
      "55:\ttotal: 23.7s\tremaining: 1.69s\n",
      "56:\ttotal: 23.9s\tremaining: 1.25s\n",
      "57:\ttotal: 24s\tremaining: 828ms\n",
      "58:\ttotal: 24.1s\tremaining: 409ms\n",
      "59:\ttotal: 24.3s\tremaining: 0us\n"
     ]
    },
    {
     "data": {
      "text/plain": [
       "(0.9295575774813166, 0.9307889328027643)"
      ]
     },
     "execution_count": 65,
     "metadata": {},
     "output_type": "execute_result"
    }
   ],
   "source": [
    "'''\n",
    "note that best performing CAT boost was not using some features\n",
    "such as shift_duration, cand_education, cand_assess_overall_score,\n",
    "shift_days_of_week and shift_startday, here is not shown for semplicity\n",
    "the one below is not so different in terms of resuls\n",
    "'''\n",
    "def auc(m, train, test): \n",
    "    return (roc_auc_score(y_train,m.predict_proba(train)[:,1]),\n",
    "                            roc_auc_score(y_test,m.predict_proba(test)[:,1]))\n",
    "train, test, y_train, y_test = train_test_split(X, y,\n",
    "                                                random_state=10, test_size=0.25)\n",
    "cal_feat = [train.columns.get_loc(c) for c in cat_cols]\n",
    "\n",
    "clf = CatBoostClassifier(eval_metric=\"AUC\",\n",
    "                         depth=3,  \n",
    "                         iterations= 60,\n",
    "                         #l2_leaf_reg=5,\n",
    "                         #early_stopping_rounds = True,\n",
    "                         #od_wait = 10,\n",
    "                         #class_weights=[1, 1])#,\n",
    "                         #learning_rate= 0.5, l2_leaf_reg= 9\n",
    "                        )\n",
    "\n",
    "clf.fit(train,y_train,cal_feat)\n",
    "auc(clf, train, test)"
   ]
  },
  {
   "cell_type": "code",
   "execution_count": 66,
   "metadata": {},
   "outputs": [
    {
     "name": "stdout",
     "output_type": "stream",
     "text": [
      "('search time:', 32.43830990791321)\n",
      "('Mean AUC:', 0.9237814257351955)\n",
      "('Std AUC:', 0.0021492058581950896)\n",
      "('List of scores:', array([0.92347425, 0.9230489 , 0.9213344 , 0.92324468, 0.92780491]))\n"
     ]
    }
   ],
   "source": [
    "X = np.nan_to_num(X)\n",
    "clf = LogisticRegression(random_state=0, solver='liblinear', class_weight='balanced', C=0.1, penalty='l2')\n",
    "pipe = Pipeline([\n",
    "                # ('scaler' , scaler),\n",
    "                 #('pca' , pca),\n",
    "                 #('smote' , smote),\n",
    "                 #('smoteenn' , smoteenn),\n",
    "                 ('clf' , clf)])\n",
    "search_time_start = time.time()\n",
    "#!!! try with Kfold with smote because by default is stratified \n",
    "scores = model_selection.cross_val_score(estimator=pipe,X=X,y=y,cv=5,scoring='roc_auc')\n",
    "\n",
    "pipe.fit(X,y)\n",
    "\n",
    "print(\"search time:\", time.time() - search_time_start)\n",
    "#look how good is the mean and it's distribution\n",
    "print(\"Mean AUC:\", np.mean(scores)) \n",
    "print(\"Std AUC:\",np.std(scores)) \n",
    "print(\"List of scores:\",scores)"
   ]
  },
  {
   "cell_type": "markdown",
   "metadata": {},
   "source": [
    "**Stacking**\n",
    "\n",
    "*lightGBM* and *CatBoost* were in the region of 0.93, while *Logistic regression* was in 0.92; tried multiple combination giving greater weight to lighGBM who was the best performer.\n",
    "The best results came from:\n",
    "\n",
    "$ 0.8*lightGBM + 0.1*CatBoost +0.1*Lr $ "
   ]
  },
  {
   "cell_type": "code",
   "execution_count": 67,
   "metadata": {},
   "outputs": [],
   "source": [
    "best_cat = pd.read_csv('../Submission2/guess11.csv', na_values = 'null')\n",
    "best_light = pd.read_csv('../Submission2/guess5.csv', na_values = 'null')\n",
    "best_log = pd.read_csv('../Submission2/guess4.csv', na_values = 'null')\n",
    "\n",
    "ensembled_prediction = best_light\n",
    "ensembled_prediction['nhenoshow_flag'] = (\n",
    "    0.1*best_log['nhenoshow_flag']\n",
    "    +0.1*best_cat['nhenoshow_flag']\n",
    "    +0.8*best_light['nhenoshow_flag']\n",
    "    )\n",
    "ensembled_prediction[['ID','nhenoshow_flag']].to_csv('guessTempEnsemble.csv', index=False)"
   ]
  },
  {
   "cell_type": "markdown",
   "metadata": {},
   "source": [
    "**Lesson Learned**\n",
    "\n",
    "   * Go for Low hanging fruits first: Try out simple and quick things \n",
    "   * Generalize more than memorize\n",
    "   * Jupyter handier than Eider\n",
    "   * LightGBM and CatBoost powerful but need optimization and can take long time to train\n",
    "   * Most of the value coming out of *Feature Engineering*\n",
    "   * Stack-ensembling good performing models can give a *tie-breaker*\n",
    "   * Parameter *Hypertuning* can be time-expensive and must follow Feature Engineering( no sense in doing that before)\n",
    "\n"
   ]
  },
  {
   "cell_type": "code",
   "execution_count": null,
   "metadata": {},
   "outputs": [],
   "source": []
  }
 ],
 "metadata": {
  "kernelspec": {
   "display_name": "Python 2",
   "language": "python",
   "name": "python2"
  },
  "language_info": {
   "codemirror_mode": {
    "name": "ipython",
    "version": 2
   },
   "file_extension": ".py",
   "mimetype": "text/x-python",
   "name": "python",
   "nbconvert_exporter": "python",
   "pygments_lexer": "ipython2",
   "version": "2.7.16"
  }
 },
 "nbformat": 4,
 "nbformat_minor": 2
}
