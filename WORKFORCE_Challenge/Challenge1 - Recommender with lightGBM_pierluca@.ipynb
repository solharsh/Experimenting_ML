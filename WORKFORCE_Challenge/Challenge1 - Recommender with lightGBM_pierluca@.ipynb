{
 "cells": [
  {
   "cell_type": "code",
   "execution_count": 182,
   "metadata": {},
   "outputs": [],
   "source": [
    "import os\n",
    "os.environ['KMP_DUPLICATE_LIB_OK']='True'"
   ]
  },
  {
   "cell_type": "code",
   "execution_count": 183,
   "metadata": {},
   "outputs": [],
   "source": [
    "import pandas as pd\n",
    "import numpy as np\n",
    "import time\n",
    "from sklearn.preprocessing import LabelEncoder\n",
    "from sklearn.metrics import confusion_matrix\n",
    "from sklearn.model_selection import train_test_split, GridSearchCV, KFold\n",
    "import matplotlib.pyplot as plt\n",
    "import seaborn as sns\n",
    "import warnings\n",
    "from datetime import timedelta\n",
    "import lightgbm as LGBMClassifier\n",
    "from sklearn.metrics import roc_auc_score, accuracy_score, roc_curve, auc\n"
   ]
  },
  {
   "cell_type": "code",
   "execution_count": 184,
   "metadata": {},
   "outputs": [],
   "source": [
    "train = pd.read_csv('WFS_Training.csv', na_values = 'null')#,nrows=50000)\n",
    "public_test = pd.read_csv('WFS_TestFeatures.csv', na_values = 'null')#,nrows=50000)\n",
    "candidates = pd.read_csv('WFS_ML_Challenge1_candidate_features.csv', na_values = 'null')\n",
    "shifts = pd.read_csv('WFS_ML_Challenge1_shift_features.csv', na_values = 'null')"
   ]
  },
  {
   "cell_type": "code",
   "execution_count": 185,
   "metadata": {},
   "outputs": [],
   "source": [
    "#filtering shift_code_group fregasega\n",
    "common = train.merge(shifts,on=['shift_code','shift_code'])\n",
    "train = train[(train.shift_code.isin(common.shift_code))]\n",
    "\n",
    "common = public_test.merge(shifts,on=['shift_code','shift_code'])\n",
    "public_test = public_test[(public_test.shift_code.isin(common.shift_code))]"
   ]
  },
  {
   "cell_type": "code",
   "execution_count": 186,
   "metadata": {},
   "outputs": [],
   "source": [
    "#only with candidate features\n",
    "score_cols = [\n",
    "    'commute_distance',\n",
    "    #'shift_duration'\n",
    "]\n",
    "cat_cols = [\n",
    "           'app_esl_status',\n",
    "            'cand_education',\n",
    "            'cand_assess_overall_score',\n",
    "            #'shift_code_group',\n",
    "            #'shift_days_of_week',\n",
    "            #'shift_emp_class',\n",
    "            #'shift_startday',\n",
    "            #'shift_type',\n",
    "            #'shift_schedule_type',\n",
    "            #'shift_start_time_group'\n",
    "           ]\n",
    "feat_cols = [\n",
    "          # 'appointment_nbr',\n",
    "          # 'application_per_candidate',\n",
    "            #'day_to_first_app',\n",
    "           # 'appointment_for_app',\n",
    "]\n"
   ]
  },
  {
   "cell_type": "code",
   "execution_count": 187,
   "metadata": {},
   "outputs": [],
   "source": [
    "train['create_year'] = pd.DatetimeIndex(train.app_created_date).year\n",
    "train['create_month'] = pd.DatetimeIndex(train.app_created_date).month\n",
    "train['create_day'] = pd.DatetimeIndex(train.app_created_date).day\n",
    "\n",
    "train['app_year'] = pd.DatetimeIndex(train.appt_1_date).year\n",
    "train['app_month'] = pd.DatetimeIndex(train.appt_1_date).month\n",
    "train['app_day'] = pd.DatetimeIndex(train.appt_1_date).day\n",
    "train['app_quarter'] = pd.DatetimeIndex(train.appt_1_date).quarter\n",
    "train['app_weekday'] = pd.DatetimeIndex(train.appt_1_date).weekday\n",
    "train['app_weekend'] = (train['app_weekday'] // 5 == 1).astype(float)\n",
    "\n",
    "\n",
    "public_test['create_year'] = pd.DatetimeIndex(public_test.app_created_date).year\n",
    "public_test['create_month'] = pd.DatetimeIndex(public_test.app_created_date).month\n",
    "public_test['create_day'] = pd.DatetimeIndex(public_test.app_created_date).day\n",
    "\n",
    "public_test['app_year'] = pd.DatetimeIndex(public_test.appt_1_date).year\n",
    "public_test['app_month'] = pd.DatetimeIndex(public_test.appt_1_date).month\n",
    "public_test['app_day'] = pd.DatetimeIndex(public_test.appt_1_date).day\n",
    "public_test['app_quarter'] = pd.DatetimeIndex(public_test.appt_1_date).quarter\n",
    "public_test['app_weekday'] = pd.DatetimeIndex(public_test.appt_1_date).weekday\n",
    "public_test['app_weekend'] = (public_test['app_weekday'] // 5 == 1).astype(float)\n",
    "\n",
    "\n",
    "candidates['create_year'] = pd.DatetimeIndex(candidates.app_created_date).year\n",
    "candidates['create_month'] = pd.DatetimeIndex(candidates.app_created_date).month\n",
    "candidates['create_day'] = pd.DatetimeIndex(candidates.app_created_date).day\n",
    "\n",
    "\n",
    "date_cols = [\n",
    "#'create_year', \n",
    "#'create_month', \n",
    "#'create_day',\n",
    "#'app_year',\n",
    "#'app_month',\n",
    "#'app_day',\n",
    "#'app_quarter',\n",
    "#'app_weekday',\n",
    "#'app_weekend'\n",
    "]\n",
    "\n",
    "#cat_cols = cat_cols + date_cols"
   ]
  },
  {
   "cell_type": "code",
   "execution_count": 188,
   "metadata": {},
   "outputs": [
    {
     "data": {
      "text/plain": [
       "\"\\ntrain['appointment_for_app'] = train.groupby('app_id')['cand_id'].transform('count')\\npublic_test['appointment_for_app'] = public_test.groupby('app_id')['cand_id'].transform('count')\\ntrain['appointment_nbr'] = train.sort_values(['ID'], ascending=[True])              .groupby(['cand_id']).cumcount() + 1\\npublic_test['appointment_nbr'] = public_test.sort_values(['ID'], ascending=[True])              .groupby(['cand_id']).cumcount() + 1\\n\\ntrain['day_to_first_app'] = (pd.DatetimeIndex(train.appt_1_date) - pd.DatetimeIndex(train.app_created_date)).days\\npublic_test['day_to_first_app'] = (pd.DatetimeIndex(public_test.appt_1_date) - pd.DatetimeIndex(public_test.app_created_date)).days\\n\""
      ]
     },
     "execution_count": 188,
     "metadata": {},
     "output_type": "execute_result"
    }
   ],
   "source": [
    "#application_per_candidate to rewrite\n",
    "'''\n",
    "train['appointment_for_app'] = train.groupby('app_id')['cand_id'].transform('count')\n",
    "public_test['appointment_for_app'] = public_test.groupby('app_id')['cand_id'].transform('count')\n",
    "train['appointment_nbr'] = train.sort_values(['ID'], ascending=[True]) \\\n",
    "             .groupby(['cand_id']).cumcount() + 1\n",
    "public_test['appointment_nbr'] = public_test.sort_values(['ID'], ascending=[True]) \\\n",
    "             .groupby(['cand_id']).cumcount() + 1\n",
    "\n",
    "train['day_to_first_app'] = (pd.DatetimeIndex(train.appt_1_date) - pd.DatetimeIndex(train.app_created_date)).days\n",
    "public_test['day_to_first_app'] = (pd.DatetimeIndex(public_test.appt_1_date) - pd.DatetimeIndex(public_test.app_created_date)).days\n",
    "'''"
   ]
  },
  {
   "cell_type": "code",
   "execution_count": 189,
   "metadata": {},
   "outputs": [],
   "source": [
    "# Mean Scores###\n",
    "train = train.fillna(train[score_cols].mean())\n",
    "public_test = public_test.fillna(public_test[score_cols].mean())\n",
    "candidates = candidates.fillna(public_test[score_cols].mean())\n",
    "\n",
    "### not specified for categorical ###\n",
    "ns_value = '1500'\n",
    "train[cat_cols] = train[cat_cols].fillna(ns_value)\n",
    "public_test[cat_cols] = public_test[cat_cols].fillna(ns_value)\n",
    "candidates[cat_cols] = candidates[cat_cols].fillna(ns_value)"
   ]
  },
  {
   "cell_type": "code",
   "execution_count": 190,
   "metadata": {},
   "outputs": [],
   "source": [
    "#train[date_cols] = train[date_cols].astype(int)\n",
    "#public_test[date_cols] = public_test[date_cols].astype(int)"
   ]
  },
  {
   "cell_type": "code",
   "execution_count": 191,
   "metadata": {},
   "outputs": [
    {
     "data": {
      "text/plain": [
       "\"\\ntrain['shift_start_time_group'] = train['shift_start_time_group'].astype(int)\\npublic_test['shift_start_time_group'] = public_test['shift_start_time_group'].astype(int)\\n\""
      ]
     },
     "execution_count": 191,
     "metadata": {},
     "output_type": "execute_result"
    }
   ],
   "source": [
    "'''\n",
    "train['shift_start_time_group'] = train['shift_start_time_group'].astype(int)\n",
    "public_test['shift_start_time_group'] = public_test['shift_start_time_group'].astype(int)\n",
    "'''"
   ]
  },
  {
   "cell_type": "code",
   "execution_count": 192,
   "metadata": {},
   "outputs": [],
   "source": [
    "#labeling also the target\n",
    "for c in cat_cols:\n",
    "    le = LabelEncoder()\n",
    "    unique_elements = list(set(train[c].values.tolist() \n",
    "                               + public_test[c].values.tolist()\n",
    "                               + candidates[c].values.tolist()))\n",
    "    le.fit(unique_elements)\n",
    "    train[c] = le.transform(train[c])\n",
    "    public_test[c] = le.transform(public_test[c])\n",
    "    candidates[c] = le.transform(candidates[c])"
   ]
  },
  {
   "cell_type": "code",
   "execution_count": 193,
   "metadata": {},
   "outputs": [],
   "source": [
    "dataset = pd.concat([train, public_test], axis=0)"
   ]
  },
  {
   "cell_type": "code",
   "execution_count": 194,
   "metadata": {},
   "outputs": [],
   "source": [
    "dataset = dataset.reset_index(drop=True)"
   ]
  },
  {
   "cell_type": "code",
   "execution_count": 195,
   "metadata": {},
   "outputs": [
    {
     "data": {
      "text/plain": [
       "Counter({'AAAA': 69975,\n",
       "         'ACCPT': 1403,\n",
       "         'DA5-0430': 44,\n",
       "         'DA5-0630': 43,\n",
       "         'DA5-0700': 1584,\n",
       "         'DA5-0715': 104,\n",
       "         'DA5-0730': 2184,\n",
       "         'DA5-0800': 127,\n",
       "         'DA5-0830': 187,\n",
       "         'DA5-0900': 224,\n",
       "         'DA5-0930': 486,\n",
       "         'DA5T0700': 334,\n",
       "         'DA5T0730': 328,\n",
       "         'DA6-0615': 73,\n",
       "         'DA6-0700': 1080,\n",
       "         'DA6-0730': 1048,\n",
       "         'DA7-0615': 101,\n",
       "         'DA7-0700': 1665,\n",
       "         'DA7-0715': 237,\n",
       "         'DA7-0730': 1377,\n",
       "         'DA7T0700': 406,\n",
       "         'DA7T0730': 396,\n",
       "         'DB1-0630': 38,\n",
       "         'DB1-0700': 1581,\n",
       "         'DB1-0730': 1912,\n",
       "         'DB1-0830': 122,\n",
       "         'DB1-0930': 505,\n",
       "         'DB1T0700': 454,\n",
       "         'DB1X0630': 5,\n",
       "         'DB2-0615': 119,\n",
       "         'DB2-0700': 1252,\n",
       "         'DB2-0730': 1107,\n",
       "         'DB2-0800': 121,\n",
       "         'DB2-0900': 159,\n",
       "         'DB2-0930': 33,\n",
       "         'DB3-0700': 1355,\n",
       "         'DB3-0715': 170,\n",
       "         'DB3-0730': 1666,\n",
       "         'DB3T0700': 228,\n",
       "         'DC0-0730': 135,\n",
       "         'DC0-0900': 180,\n",
       "         'DC0-0930': 513,\n",
       "         'DC1-0700': 738,\n",
       "         'DC1-0730': 422,\n",
       "         'DC1-0800': 126,\n",
       "         'DC1T0700': 63,\n",
       "         'DC3-0700': 64,\n",
       "         'DC4-0700': 251,\n",
       "         'DC4-0730': 155,\n",
       "         'DC4T0700': 160,\n",
       "         'DC7-0700': 606,\n",
       "         'DC7-0730': 285,\n",
       "         'DC7-0745': 73,\n",
       "         'DG6-0700': 188,\n",
       "         'DG6-0900': 33,\n",
       "         'DG7-0915': 163,\n",
       "         'DH3-0700': 370,\n",
       "         'DH3-0730': 415,\n",
       "         'DH3T0600': 24,\n",
       "         'DH4-0715': 22,\n",
       "         'DK2-0700': 85,\n",
       "         'DK2-0715': 8,\n",
       "         'DK2-0730': 169,\n",
       "         'DK2T0700': 55,\n",
       "         'DK7-0630': 76,\n",
       "         'DK7-0730': 29,\n",
       "         'DK7T0700': 48,\n",
       "         'DL4-0700': 508,\n",
       "         'DL4-0730': 821,\n",
       "         'DL4T0730': 77,\n",
       "         'DL6-0700': 418,\n",
       "         'DL6-0730': 838,\n",
       "         'DL6T0700': 304,\n",
       "         'DL6T0730': 419,\n",
       "         'DM1-0700': 121,\n",
       "         'DM1-0915': 183,\n",
       "         'DM2-0900': 56,\n",
       "         'DN2-0700': 865,\n",
       "         'DN2-0715': 94,\n",
       "         'DN2-0730': 668,\n",
       "         'DN2T0700': 277,\n",
       "         'DN2T0730': 357,\n",
       "         'DN4-0700': 208,\n",
       "         'DN4-0730': 210,\n",
       "         'DN4T0730': 9,\n",
       "         'DO3-0700': 212,\n",
       "         'DO3-0900': 50,\n",
       "         'DO4-0915': 98,\n",
       "         'DS2-0700': 250,\n",
       "         'DT5-0700': 196,\n",
       "         'DW4-0700': 242,\n",
       "         'DW4-0900': 42,\n",
       "         'DW5-0915': 152,\n",
       "         'NA5-1800': 2151,\n",
       "         'NA5-1830': 3188,\n",
       "         'NA5-1845': 194,\n",
       "         'NA5T1800': 280,\n",
       "         'NA5T1815': 70,\n",
       "         'NA5T1830': 553,\n",
       "         'NA5X1715': 102,\n",
       "         'NA6-1800': 1517,\n",
       "         'NA6-1830': 1985,\n",
       "         'NA6-1845': 206,\n",
       "         'NA6-2000': 8,\n",
       "         'NA6X1715': 137,\n",
       "         'NA6X1815': 130,\n",
       "         'NA7-1700': 3,\n",
       "         'NA7-1745': 81,\n",
       "         'NA7-1800': 1544,\n",
       "         'NA7-1815': 28,\n",
       "         'NA7-1830': 2536,\n",
       "         'NA7-1900': 461,\n",
       "         'NA7-1930': 55,\n",
       "         'NA7T1800': 264,\n",
       "         'NA7T1830': 575,\n",
       "         'NA7X1715': 174,\n",
       "         'NA7X1815': 175,\n",
       "         'NB1-1800': 609,\n",
       "         'NB1-1830': 855,\n",
       "         'NB1-1900': 657,\n",
       "         'NB1-1930': 83,\n",
       "         'NB1T1700': 168,\n",
       "         'NB1T1800': 364,\n",
       "         'NB1T1815': 166,\n",
       "         'NB1T1830': 543,\n",
       "         'NB1X1830': 8,\n",
       "         'NB2-1730': 31,\n",
       "         'NB2-1800': 292,\n",
       "         'NB2-1830': 592,\n",
       "         'NB2-1900': 74,\n",
       "         'NB3-1800': 564,\n",
       "         'NB3-1815': 12,\n",
       "         'NB3-1830': 901,\n",
       "         'NB3-1930': 15,\n",
       "         'NB3T1800': 281,\n",
       "         'NB3T1815': 93,\n",
       "         'NB3T1830': 491,\n",
       "         'NC1-1745': 54,\n",
       "         'NC1-1800': 291,\n",
       "         'NC1-1830': 466,\n",
       "         'NC1-1900': 309,\n",
       "         'NC4T1800': 116,\n",
       "         'NC4T1815': 135,\n",
       "         'NC4T1830': 237,\n",
       "         'NC7-1830': 284,\n",
       "         'NC7T1830': 105,\n",
       "         'NF1-1800': 114,\n",
       "         'NF1-1830': 39,\n",
       "         'NF1T1800': 35,\n",
       "         'NF6-1800': 479,\n",
       "         'NF6-1830': 463,\n",
       "         'NF6T1800': 185,\n",
       "         'NG6-1630': 116,\n",
       "         'NG6-1830': 69,\n",
       "         'NG6-1900': 145,\n",
       "         'NG7-1815': 171,\n",
       "         'NH3-1800': 259,\n",
       "         'NH3-1830': 716,\n",
       "         'NH3T1700': 30,\n",
       "         'NK7-1800': 140,\n",
       "         'NK7-1830': 185,\n",
       "         'NL4-1800': 385,\n",
       "         'NL4-1830': 972,\n",
       "         'NL4T1830': 147,\n",
       "         'NL5-1830': 155,\n",
       "         'NL6-1800': 265,\n",
       "         'NL6-1830': 684,\n",
       "         'NL6T1800': 204,\n",
       "         'NL6T1815': 145,\n",
       "         'NL6T1830': 620,\n",
       "         'NM1-1630': 137,\n",
       "         'NM1-1815': 135,\n",
       "         'NM1-1900': 102,\n",
       "         'NM2-1830': 79,\n",
       "         'NN2-1800': 500,\n",
       "         'NN2-1815': 79,\n",
       "         'NN2-1830': 1027,\n",
       "         'NN2-1900': 405,\n",
       "         'NN2T1700': 172,\n",
       "         'NN2T1800': 303,\n",
       "         'NN2T1815': 156,\n",
       "         'NN2T1830': 621,\n",
       "         'NN4-1800': 146,\n",
       "         'NN4-1830': 311,\n",
       "         'NO3-1630': 111,\n",
       "         'NO3-1830': 59,\n",
       "         'NO3-1900': 131,\n",
       "         'NO4-1815': 110,\n",
       "         'NS2-1630': 77,\n",
       "         'NS2-1900': 196,\n",
       "         'NT5-1630': 63,\n",
       "         'NW4-1630': 110,\n",
       "         'NW4-1830': 58,\n",
       "         'NW4-1900': 217,\n",
       "         'NW5-1815': 111,\n",
       "         'PR005': 11,\n",
       "         'PT101': 1952,\n",
       "         'PT106': 326,\n",
       "         'PT107': 152,\n",
       "         'PT110': 19,\n",
       "         'PT1124': 193,\n",
       "         'PT1125': 173,\n",
       "         'PT1127': 58,\n",
       "         'PT1152': 2198,\n",
       "         'PT1154': 2153,\n",
       "         'PT1214': 119,\n",
       "         'PT1283': 57,\n",
       "         'PT1284': 50,\n",
       "         'PT1337': 5,\n",
       "         'PT142': 8,\n",
       "         'PT147': 4,\n",
       "         'PT1479': 1488,\n",
       "         'PT148': 1,\n",
       "         'PT1483': 1412,\n",
       "         'PT1691': 1236,\n",
       "         'PT1692': 1535,\n",
       "         'PT1693': 1239,\n",
       "         'PT1794': 147,\n",
       "         'PT1879': 16,\n",
       "         'PT1904': 57,\n",
       "         'PT1915': 27,\n",
       "         'PT1916': 73,\n",
       "         'PT2024': 3,\n",
       "         'PT2025': 18,\n",
       "         'PT2170': 188,\n",
       "         'PT2171': 202,\n",
       "         'PT2172': 271,\n",
       "         'PT2173': 216,\n",
       "         'PT2174': 243,\n",
       "         'PT2175': 195,\n",
       "         'PT2176': 268,\n",
       "         'PT220': 102,\n",
       "         'PT2331': 395,\n",
       "         'PT2332': 348,\n",
       "         'PT2399': 57,\n",
       "         'PT2408': 57,\n",
       "         'PT2623': 11,\n",
       "         'PT2711': 9,\n",
       "         'PT3157': 107,\n",
       "         'PT3159': 75,\n",
       "         'PT3162': 172,\n",
       "         'PT3163': 223,\n",
       "         'PT3164': 177,\n",
       "         'PT3165': 334,\n",
       "         'PT3166': 359,\n",
       "         'PT3167': 312,\n",
       "         'PT3182': 15,\n",
       "         'PT3268': 71,\n",
       "         'PT3269': 70,\n",
       "         'PT3270': 57,\n",
       "         'PT3271': 130,\n",
       "         'PT3281': 132,\n",
       "         'PT3283': 125,\n",
       "         'PT333': 17,\n",
       "         'PT336': 247,\n",
       "         'PT3365': 42,\n",
       "         'PT337': 246,\n",
       "         'PT3430': 97,\n",
       "         'PT3442': 2115,\n",
       "         'PT3475': 117,\n",
       "         'PT3478': 1860,\n",
       "         'PT3488': 1664,\n",
       "         'PT3500': 127,\n",
       "         'PT3515': 1961,\n",
       "         'PT3537': 1220,\n",
       "         'PT3549': 1102,\n",
       "         'PT3556': 2215,\n",
       "         'PT3564': 957,\n",
       "         'PT3578': 126,\n",
       "         'PT3612': 145,\n",
       "         'PT3615': 117,\n",
       "         'PT3625': 171,\n",
       "         'PT3631': 1613,\n",
       "         'PT3635': 79,\n",
       "         'PT3649': 1462,\n",
       "         'PT3650': 1431,\n",
       "         'PT3657': 1422,\n",
       "         'PT3661': 1213,\n",
       "         'PT3664': 46,\n",
       "         'PT3680': 2000,\n",
       "         'PT3859': 7,\n",
       "         'PT3860': 7,\n",
       "         'PT3922': 309,\n",
       "         'PT3923': 348,\n",
       "         'PT3924': 311,\n",
       "         'PT3925': 313,\n",
       "         'PT3926': 347,\n",
       "         'PT3927': 342,\n",
       "         'PT3928': 275,\n",
       "         'PT3929': 163,\n",
       "         'PT3930': 188,\n",
       "         'PT3931': 185,\n",
       "         'PT3932': 156,\n",
       "         'PT3933': 193,\n",
       "         'PT3934': 174,\n",
       "         'PT3935': 140,\n",
       "         'PT3971': 28,\n",
       "         'PT4012': 604,\n",
       "         'PT4013': 905,\n",
       "         'PT4014': 901,\n",
       "         'PT4015': 632,\n",
       "         'PT4016': 676,\n",
       "         'PT4017': 612,\n",
       "         'PT4018': 764,\n",
       "         'PT4019': 1596,\n",
       "         'PT4036': 1098,\n",
       "         'PT4037': 1256,\n",
       "         'PT4038': 1160,\n",
       "         'PT4058': 52,\n",
       "         'PT4202': 8,\n",
       "         'PT467': 10,\n",
       "         'PT498': 26,\n",
       "         'PT514': 82,\n",
       "         'PT518': 82,\n",
       "         'PT584': 123,\n",
       "         'PT607': 214,\n",
       "         'PT610': 77,\n",
       "         'PT611': 43,\n",
       "         'PT709': 4,\n",
       "         'PT971': 5,\n",
       "         'RT1049': 329,\n",
       "         'RT1050': 542,\n",
       "         'RT1053': 353,\n",
       "         'RT1054': 409,\n",
       "         'RT1057': 348,\n",
       "         'RT1058': 368,\n",
       "         'RT1062': 381,\n",
       "         'RT558': 354,\n",
       "         'RT677': 51,\n",
       "         'RT677-1': 995,\n",
       "         'RT677-2': 898,\n",
       "         'RT677-3': 966,\n",
       "         'RT677-4': 846,\n",
       "         'RT678': 76,\n",
       "         'RT678-1': 986,\n",
       "         'RT678-2': 699,\n",
       "         'RT678-3': 1034,\n",
       "         'RT678-4': 824,\n",
       "         'RT685-1': 103,\n",
       "         'RT685-2': 139,\n",
       "         'RT685-4': 78,\n",
       "         'RT884-1': 113,\n",
       "         'RT885-2': 76,\n",
       "         'RT910': 385,\n",
       "         'SA5-1000': 330,\n",
       "         'SA5-1100': 214,\n",
       "         'SB1-1000': 298,\n",
       "         'SB1-1030': 158,\n",
       "         'SC4-1000': 323,\n",
       "         'SC4-1100': 213,\n",
       "         'SG6-1130': 369,\n",
       "         'SG6-1200': 560,\n",
       "         'SG6-1230': 672,\n",
       "         'SG6-1300': 415,\n",
       "         'SG6-1330': 214,\n",
       "         'SM0-1300': 361,\n",
       "         'SM1-1130': 378,\n",
       "         'SM1-1200': 576,\n",
       "         'SM1-1230': 2,\n",
       "         'SM1-1300': 6,\n",
       "         'SM2-1230': 669,\n",
       "         'XT1003': 1787,\n",
       "         'XT1569': 2876,\n",
       "         'XT1574': 395})"
      ]
     },
     "execution_count": 195,
     "metadata": {},
     "output_type": "execute_result"
    }
   ],
   "source": [
    "from collections import Counter\n",
    "Counter(dataset.shift_code)"
   ]
  },
  {
   "cell_type": "code",
   "execution_count": 196,
   "metadata": {},
   "outputs": [
    {
     "name": "stdout",
     "output_type": "stream",
     "text": [
      "('class to be removed is {}', 'PT148')\n"
     ]
    }
   ],
   "source": [
    "from collections import Counter\n",
    "for job, cnt in Counter(dataset.shift_code).items():    # for name, age in dictionary.iteritems():  (for Python 2.x)\n",
    "    if int(cnt) == 1:\n",
    "        print('class to be removed is {}',format(job))\n",
    "        dataset = dataset[dataset.shift_code != job]"
   ]
  },
  {
   "cell_type": "code",
   "execution_count": 197,
   "metadata": {},
   "outputs": [],
   "source": [
    "target_col = 'shift_code'\n",
    "tgt = LabelEncoder()\n",
    "unique_elements = list(set(dataset[target_col].values.tolist()))\n",
    "tgt.fit(unique_elements)\n",
    "dataset[target_col] = tgt.transform(dataset[target_col])"
   ]
  },
  {
   "cell_type": "code",
   "execution_count": 198,
   "metadata": {},
   "outputs": [
    {
     "data": {
      "text/plain": [
       "\"\\ntarget_col = 'shift_code'\\ntgt = LabelEncoder()\\nunique_elements = list(set(train[target_col].values.tolist() + public_test[target_col].values.tolist()))\\ntgt.fit(unique_elements)\\ntrain[target_col] = tgt.transform(train[target_col])\\npublic_test[target_col] = tgt.transform(public_test[target_col])\\n\""
      ]
     },
     "execution_count": 198,
     "metadata": {},
     "output_type": "execute_result"
    }
   ],
   "source": [
    "#labeling also the target\n",
    "'''\n",
    "target_col = 'shift_code'\n",
    "tgt = LabelEncoder()\n",
    "unique_elements = list(set(train[target_col].values.tolist() + public_test[target_col].values.tolist()))\n",
    "tgt.fit(unique_elements)\n",
    "train[target_col] = tgt.transform(train[target_col])\n",
    "public_test[target_col] = tgt.transform(public_test[target_col])\n",
    "'''"
   ]
  },
  {
   "cell_type": "code",
   "execution_count": 199,
   "metadata": {},
   "outputs": [
    {
     "data": {
      "text/plain": [
       "363"
      ]
     },
     "execution_count": 199,
     "metadata": {},
     "output_type": "execute_result"
    }
   ],
   "source": [
    "classes = list(unique_elements)\n",
    "n_class = len(set(classes))\n",
    "n_class"
   ]
  },
  {
   "cell_type": "code",
   "execution_count": 200,
   "metadata": {},
   "outputs": [],
   "source": [
    "X= dataset.loc[:, dataset.columns != 'shift_code']\n",
    "y= dataset.shift_code"
   ]
  },
  {
   "cell_type": "code",
   "execution_count": 201,
   "metadata": {},
   "outputs": [],
   "source": [
    "X = X[feat_cols + score_cols + cat_cols + date_cols]"
   ]
  },
  {
   "cell_type": "code",
   "execution_count": 202,
   "metadata": {},
   "outputs": [],
   "source": [
    "X_train, X_test, y_train, y_test = train_test_split(X, y,\n",
    "                                                random_state=10, \n",
    "                                                test_size=0.25,\n",
    "                                               stratify=y)                                               "
   ]
  },
  {
   "cell_type": "code",
   "execution_count": 219,
   "metadata": {},
   "outputs": [],
   "source": [
    "params = {\n",
    "        'task': 'train',\n",
    "        'boosting_type': 'gbdt',\n",
    "        'objective':'multiclass',\n",
    "        #'metric':'accuracy',\n",
    "         'num_class': n_class,\n",
    "         'max_depth': 7, \n",
    "     #   'num_leaves': 70,\n",
    "     #   'max_bin': 100,\n",
    "    #     'lambda_l1': 0.1,\n",
    "    #     'lambda_l2': 0.1,\n",
    "    #   'min_gain_to_split': 0.1,\n",
    "    #    'feature_fraction': 0.3,\n",
    "    #    'bagging_fraction': 0.3,\n",
    "    #    'scale_pos_weight' : 0.7,\n",
    "        'class_weight': 'balanced',\n",
    "    #    'learning_rate': 0.01,\n",
    "    #     'max_depth': 7,\n",
    "     #   'eta': 0.2,\n",
    "    #    'gamma':4,\n",
    "    #    'min_child_weight':6,\n",
    "    #   'min_child_sample':6,\n",
    "    #  'num_leaves': 8,\n",
    "    #'scale_pos_weight':0.33\n",
    "        }"
   ]
  },
  {
   "cell_type": "code",
   "execution_count": 220,
   "metadata": {},
   "outputs": [
    {
     "name": "stderr",
     "output_type": "stream",
     "text": [
      "/anaconda2/lib/python2.7/site-packages/lightgbm/basic.py:1209: UserWarning: categorical_feature in Dataset is overridden.\n",
      "New categorical_feature is ['app_esl_status', 'cand_assess_overall_score', 'cand_education']\n",
      "  'New categorical_feature is {}'.format(sorted(list(categorical_feature))))\n",
      "/anaconda2/lib/python2.7/site-packages/lightgbm/basic.py:1209: UserWarning: categorical_feature in Dataset is overridden.\n",
      "New categorical_feature is ['app_esl_status', 'cand_assess_overall_score', 'cand_education']\n",
      "  'New categorical_feature is {}'.format(sorted(list(categorical_feature))))\n",
      "/anaconda2/lib/python2.7/site-packages/lightgbm/basic.py:762: UserWarning: categorical_feature in param dict is overridden.\n",
      "  warnings.warn('categorical_feature in param dict is overridden.')\n"
     ]
    },
    {
     "name": "stdout",
     "output_type": "stream",
     "text": [
      "Training until validation scores don't improve for 30 rounds.\n",
      "Early stopping, best iteration is:\n",
      "[1]\ttraining's multi_logloss: 4.21453\tvalid_1's multi_logloss: 4.26512\n",
      "('train time:', 151.55106592178345)\n",
      "('prediction time:', 0.8126609325408936)\n",
      "accuracy 0.305280205015038\n"
     ]
    }
   ],
   "source": [
    "\n",
    "lgtrain = LGBMClassifier.Dataset(X_train, label=y_train)\n",
    "lgval = LGBMClassifier.Dataset(X_test, label=y_test)\n",
    "\n",
    "\n",
    "early_stopping_rounds = 30\n",
    "\n",
    "search_time_start = time.time()\n",
    "gbm = LGBMClassifier.train(params,\n",
    "                    lgtrain,\n",
    "                    num_boost_round=1000,\n",
    "                    verbose_eval=100,\n",
    "                    valid_sets=[lgtrain, lgval],\n",
    "                    categorical_feature = cat_cols+date_cols,\n",
    "                    early_stopping_rounds=early_stopping_rounds\n",
    "                          )\n",
    "print(\"train time:\", time.time() - search_time_start)\n",
    "search_time_start = time.time()\n",
    "y_pred = gbm.predict(X_test, num_iteration=gbm.best_iteration)\n",
    "print(\"prediction time:\", time.time() - search_time_start)\n",
    "print('accuracy %s' % accuracy_score(np.argmax(y_pred,1), y_test))"
   ]
  },
  {
   "cell_type": "code",
   "execution_count": 221,
   "metadata": {},
   "outputs": [
    {
     "data": {
      "image/png": "[encoded data removed]",
      "text/plain": [
       "<Figure size 1440x720 with 1 Axes>"
      ]
     },
     "metadata": {
      "needs_background": "light"
     },
     "output_type": "display_data"
    },
    {
     "data": {
      "text/plain": [
       "<Figure size 432x288 with 0 Axes>"
      ]
     },
     "metadata": {},
     "output_type": "display_data"
    }
   ],
   "source": [
    "warnings.simplefilter(action='ignore', category=FutureWarning)\n",
    "\n",
    "# sorted(zip(clf.feature_importances_, X.columns), reverse=True)\n",
    "feature_imp = pd.DataFrame(sorted(zip(gbm.feature_importance(),X_train.columns)), columns=['Value','Feature'])\n",
    "\n",
    "plt.figure(figsize=(20, 10))\n",
    "sns.barplot(x=\"Value\", y=\"Feature\", data=feature_imp.sort_values(by=\"Value\", ascending=False))\n",
    "plt.title('LightGBM Features (avg over folds)')\n",
    "plt.tight_layout()\n",
    "plt.show()\n",
    "plt.savefig('lgbm_importances-01.png')"
   ]
  },
  {
   "cell_type": "code",
   "execution_count": 213,
   "metadata": {},
   "outputs": [],
   "source": [
    "predictions = candidates.copy()\n",
    "predictions = predictions[['cand_id']+feat_cols + score_cols + cat_cols + date_cols]\n",
    "predict =  gbm.predict(predictions.loc[:, predictions.columns != 'cand_id'].values, num_iteration=gbm.best_iteration)\n",
    "\n",
    "top_n_predict = [predict[i].argsort()[-5:][::-1] for i in range(predict.shape[0])]\n",
    "\n",
    "\n",
    "predictions['rank1_shiftcode'] = [top_n_predict[i][0] for i in range(len(top_n_predict))]\n",
    "predictions['rank2_shiftcode'] = [top_n_predict[i][1] for i in range(len(top_n_predict))]\n",
    "predictions['rank3_shiftcode'] = [top_n_predict[i][2] for i in range(len(top_n_predict))]\n",
    "predictions['rank4_shiftcode'] = [top_n_predict[i][3] for i in range(len(top_n_predict))]\n",
    "predictions['rank5_shiftcode'] = [top_n_predict[i][4] for i in range(len(top_n_predict))]\n",
    "\n",
    "rank_cols = ['rank1_shiftcode', 'rank2_shiftcode', 'rank3_shiftcode'\n",
    "            , 'rank4_shiftcode', 'rank5_shiftcode']\n",
    "for c in rank_cols:\n",
    "    predictions[c] = tgt.inverse_transform(predictions[c])"
   ]
  },
  {
   "cell_type": "code",
   "execution_count": 214,
   "metadata": {},
   "outputs": [],
   "source": [
    "predictions[['cand_id','rank1_shiftcode', 'rank2_shiftcode', 'rank3_shiftcode'\n",
    "            , 'rank4_shiftcode', 'rank5_shiftcode']].to_csv('recommender_temp_LGBM.csv', index=False)\n"
   ]
  },
  {
   "cell_type": "code",
   "execution_count": 215,
   "metadata": {},
   "outputs": [],
   "source": [
    "solutions = predictions[['cand_id','rank1_shiftcode', 'rank2_shiftcode', 'rank3_shiftcode'\n",
    "            , 'rank4_shiftcode', 'rank5_shiftcode']]"
   ]
  }
 ],
 "metadata": {
  "kernelspec": {
   "display_name": "Python 2",
   "language": "python",
   "name": "python2"
  },
  "language_info": {
   "codemirror_mode": {
    "name": "ipython",
    "version": 2
   },
   "file_extension": ".py",
   "mimetype": "text/x-python",
   "name": "python",
   "nbconvert_exporter": "python",
   "pygments_lexer": "ipython2",
   "version": "2.7.16"
  }
 },
 "nbformat": 4,
 "nbformat_minor": 2
}
