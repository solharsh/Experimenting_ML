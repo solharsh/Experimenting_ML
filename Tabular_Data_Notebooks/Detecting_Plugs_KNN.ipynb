{
 "cells": [
  {
   "cell_type": "markdown",
   "metadata": {},
   "source": [
    "# Exploratory Data Analysis\n",
    "## Sample Problem: Detecting Electrical Plugs in Amazon Marketplace Products\n",
    "#### In this notebook, we will explore an Amazon dataset. In some marketplaces, ASINs having electrical plugs need to be accompanied by a compliance form. Thus it is desirable to identify ASINs which have an electrical plug.\n",
    "\n",
    "__Dataset schema:__ \n",
    "- __ASIN__: Product ASIN\n",
    "- __target_label:__ Binary field with values in {0,1}. A value of 1 show ASIN has a plug, otherwise 0.\n",
    "- __ASIN_STATIC_ITEM_NAME:__ Title of the ASIN.\n",
    "- __ASIN_STATIC_PRODUCT_DESCRIPTION:__ Description of the ASIN\n",
    "- __ASIN_STATIC_GL_PRODUCT_GROUP_TYPE:__ GL information for the ASIN.\n",
    "- __ASIN_STATIC_ITEM_PACKAGE_WEIGHT:__ Weight of the ASIN.\n",
    "- __ASIN_STATIC_LIST_PRICE:__ Price information for the ASIN.\n",
    "- __ASIN_STATIC_BATTERIES_INCLUDED:__ Information whether batteries are included along with the product.\n",
    "- __ASIN_STATIC_BATTERIES_REQUIRED:__ Information whether batteries are required for using the product.\n",
    "- __ASIN_STATIC_ITEM_CLASSIFICATION:__ Item classification of whether it is a standalone or bundle parent item etc"
   ]
  },
  {
   "cell_type": "markdown",
   "metadata": {},
   "source": [
    "## 1. Reading the data\n",
    "Let's read the dataset into a dataframe."
   ]
  },
  {
   "cell_type": "code",
   "execution_count": 2,
   "metadata": {},
   "outputs": [
    {
     "name": "stderr",
     "output_type": "stream",
     "text": [
      "C:\\Users\\solharsh\\AppData\\Local\\Continuum\\anaconda3\\lib\\site-packages\\IPython\\core\\interactiveshell.py:3063: DtypeWarning: Columns (0,18,19,23,31,38,41,48,63,78,82,85,96,105) have mixed types.Specify dtype option on import or set low_memory=False.\n",
      "  interactivity=interactivity, compiler=compiler, result=result)\n"
     ]
    }
   ],
   "source": [
    "import pandas as pd\n",
    "\n",
    "# import the datasets\n",
    "df = pd.read_csv('C:\\\\Users\\\\solharsh\\\\Downloads\\\\Tabular Data MLU\\\\final_project\\\\final_project\\\\asin_product.csv',encoding= 'unicode_escape')"
   ]
  },
  {
   "cell_type": "markdown",
   "metadata": {},
   "source": [
    "## 2. Overall Statistics:\n",
    "We will look at number of rows, columns and simple statistics of the dataset."
   ]
  },
  {
   "cell_type": "code",
   "execution_count": 19,
   "metadata": {},
   "outputs": [
    {
     "data": {
      "text/html": [
       "<div>\n",
       "<style scoped>\n",
       "    .dataframe tbody tr th:only-of-type {\n",
       "        vertical-align: middle;\n",
       "    }\n",
       "\n",
       "    .dataframe tbody tr th {\n",
       "        vertical-align: top;\n",
       "    }\n",
       "\n",
       "    .dataframe thead th {\n",
       "        text-align: right;\n",
       "    }\n",
       "</style>\n",
       "<table border=\"1\" class=\"dataframe\">\n",
       "  <thead>\n",
       "    <tr style=\"text-align: right;\">\n",
       "      <th></th>\n",
       "      <th>ASIN</th>\n",
       "      <th>target_label</th>\n",
       "      <th>ASIN_STATIC_ITEM_NAME</th>\n",
       "      <th>ASIN_STATIC_PRODUCT_DESCRIPTION</th>\n",
       "      <th>ASIN_STATIC_GL_PRODUCT_GROUP_TYPE</th>\n",
       "      <th>ASIN_STATIC_ITEM_PACKAGE_WEIGHT</th>\n",
       "      <th>ASIN_STATIC_LIST_PRICE</th>\n",
       "      <th>ASIN_STATIC_BATTERIES_INCLUDED</th>\n",
       "      <th>ASIN_STATIC_BATTERIES_REQUIRED</th>\n",
       "      <th>ASIN_STATIC_ITEM_CLASSIFICATION</th>\n",
       "    </tr>\n",
       "  </thead>\n",
       "  <tbody>\n",
       "    <tr>\n",
       "      <th>0</th>\n",
       "      <td>B004U9MOWO</td>\n",
       "      <td>0</td>\n",
       "      <td>Master Lock 8 X 900 mm Chain Integrated 4 Digi...</td>\n",
       "      <td>Master Lock Street Flexium 900mm Integrated Co...</td>\n",
       "      <td>gl_sports</td>\n",
       "      <td>2.650000</td>\n",
       "      <td>16.66</td>\n",
       "      <td>False</td>\n",
       "      <td>False</td>\n",
       "      <td>base_product</td>\n",
       "    </tr>\n",
       "    <tr>\n",
       "      <th>1</th>\n",
       "      <td>B006OJWZMW</td>\n",
       "      <td>0</td>\n",
       "      <td>In Phase SRX-EQ 10 Band Parametric Equalizer w...</td>\n",
       "      <td>NaN</td>\n",
       "      <td>gl_wireless</td>\n",
       "      <td>1.680000</td>\n",
       "      <td>158.33</td>\n",
       "      <td>False</td>\n",
       "      <td>False</td>\n",
       "      <td>base_product</td>\n",
       "    </tr>\n",
       "    <tr>\n",
       "      <th>2</th>\n",
       "      <td>B00008VIJ4</td>\n",
       "      <td>0</td>\n",
       "      <td>Technics RPDJ1210 DJ Headphones - Silver</td>\n",
       "      <td>Plated Connector:Gold, Connector Type:Headphon...</td>\n",
       "      <td>gl_home_entertainment</td>\n",
       "      <td>1.455036</td>\n",
       "      <td>NaN</td>\n",
       "      <td>False</td>\n",
       "      <td>False</td>\n",
       "      <td>base_product</td>\n",
       "    </tr>\n",
       "    <tr>\n",
       "      <th>3</th>\n",
       "      <td>B005433T4M</td>\n",
       "      <td>0</td>\n",
       "      <td>Heartwarmers Coming Home Padded Lap Tray, 42 x...</td>\n",
       "      <td>NaN</td>\n",
       "      <td>gl_home</td>\n",
       "      <td>1.763680</td>\n",
       "      <td>12.49</td>\n",
       "      <td>False</td>\n",
       "      <td>NaN</td>\n",
       "      <td>base_product</td>\n",
       "    </tr>\n",
       "    <tr>\n",
       "      <th>4</th>\n",
       "      <td>B0073CN63Q</td>\n",
       "      <td>0</td>\n",
       "      <td>Douceur D'Intérieur  - 1600728, Curtain With E...</td>\n",
       "      <td>NaN</td>\n",
       "      <td>gl_home</td>\n",
       "      <td>2.292784</td>\n",
       "      <td>25.42</td>\n",
       "      <td>False</td>\n",
       "      <td>False</td>\n",
       "      <td>base_product</td>\n",
       "    </tr>\n",
       "    <tr>\n",
       "      <th>5</th>\n",
       "      <td>B00F5223QM</td>\n",
       "      <td>0</td>\n",
       "      <td>Legler Lamborghini Aventador LP700 Plastic Model</td>\n",
       "      <td>A car for stars and super rich ones! In matt b...</td>\n",
       "      <td>gl_toy</td>\n",
       "      <td>5.070580</td>\n",
       "      <td>NaN</td>\n",
       "      <td>False</td>\n",
       "      <td>True</td>\n",
       "      <td>base_product</td>\n",
       "    </tr>\n",
       "    <tr>\n",
       "      <th>6</th>\n",
       "      <td>B00MGT8FAA</td>\n",
       "      <td>0</td>\n",
       "      <td>MARTY Food for Cannaries</td>\n",
       "      <td>NaN</td>\n",
       "      <td>gl_pet_products</td>\n",
       "      <td>2.292784</td>\n",
       "      <td>NaN</td>\n",
       "      <td>False</td>\n",
       "      <td>NaN</td>\n",
       "      <td>base_product</td>\n",
       "    </tr>\n",
       "    <tr>\n",
       "      <th>7</th>\n",
       "      <td>B003ESVCGG</td>\n",
       "      <td>0</td>\n",
       "      <td>Apiro 150006 Twin Square Car Exhaust Tip</td>\n",
       "      <td>Exhaust Back Box, Stainless Steel, Universal S...</td>\n",
       "      <td>gl_automotive</td>\n",
       "      <td>9.347505</td>\n",
       "      <td>NaN</td>\n",
       "      <td>NaN</td>\n",
       "      <td>NaN</td>\n",
       "      <td>base_product</td>\n",
       "    </tr>\n",
       "    <tr>\n",
       "      <th>8</th>\n",
       "      <td>B00187PYTQ</td>\n",
       "      <td>0</td>\n",
       "      <td>Bresser spotting scope Pirsch 20-60x80</td>\n",
       "      <td>&lt;b&gt;Bresser are proud to introduce their latest...</td>\n",
       "      <td>gl_camera</td>\n",
       "      <td>5.950000</td>\n",
       "      <td>NaN</td>\n",
       "      <td>False</td>\n",
       "      <td>True</td>\n",
       "      <td>base_product</td>\n",
       "    </tr>\n",
       "    <tr>\n",
       "      <th>9</th>\n",
       "      <td>B00074U7VQ</td>\n",
       "      <td>0</td>\n",
       "      <td>Small Foot Company 1710 Garden Tool Bag</td>\n",
       "      <td>Garden Bag - dark&lt;br/&gt;</td>\n",
       "      <td>gl_toy</td>\n",
       "      <td>1.719588</td>\n",
       "      <td>NaN</td>\n",
       "      <td>False</td>\n",
       "      <td>False</td>\n",
       "      <td>base_product</td>\n",
       "    </tr>\n",
       "  </tbody>\n",
       "</table>\n",
       "</div>"
      ],
      "text/plain": [
       "         ASIN  target_label  \\\n",
       "0  B004U9MOWO             0   \n",
       "1  B006OJWZMW             0   \n",
       "2  B00008VIJ4             0   \n",
       "3  B005433T4M             0   \n",
       "4  B0073CN63Q             0   \n",
       "5  B00F5223QM             0   \n",
       "6  B00MGT8FAA             0   \n",
       "7  B003ESVCGG             0   \n",
       "8  B00187PYTQ             0   \n",
       "9  B00074U7VQ             0   \n",
       "\n",
       "                               ASIN_STATIC_ITEM_NAME  \\\n",
       "0  Master Lock 8 X 900 mm Chain Integrated 4 Digi...   \n",
       "1  In Phase SRX-EQ 10 Band Parametric Equalizer w...   \n",
       "2           Technics RPDJ1210 DJ Headphones - Silver   \n",
       "3  Heartwarmers Coming Home Padded Lap Tray, 42 x...   \n",
       "4  Douceur D'Intérieur  - 1600728, Curtain With E...   \n",
       "5   Legler Lamborghini Aventador LP700 Plastic Model   \n",
       "6                           MARTY Food for Cannaries   \n",
       "7           Apiro 150006 Twin Square Car Exhaust Tip   \n",
       "8             Bresser spotting scope Pirsch 20-60x80   \n",
       "9            Small Foot Company 1710 Garden Tool Bag   \n",
       "\n",
       "                     ASIN_STATIC_PRODUCT_DESCRIPTION  \\\n",
       "0  Master Lock Street Flexium 900mm Integrated Co...   \n",
       "1                                                NaN   \n",
       "2  Plated Connector:Gold, Connector Type:Headphon...   \n",
       "3                                                NaN   \n",
       "4                                                NaN   \n",
       "5  A car for stars and super rich ones! In matt b...   \n",
       "6                                                NaN   \n",
       "7  Exhaust Back Box, Stainless Steel, Universal S...   \n",
       "8  <b>Bresser are proud to introduce their latest...   \n",
       "9                             Garden Bag - dark<br/>   \n",
       "\n",
       "  ASIN_STATIC_GL_PRODUCT_GROUP_TYPE  ASIN_STATIC_ITEM_PACKAGE_WEIGHT  \\\n",
       "0                         gl_sports                         2.650000   \n",
       "1                       gl_wireless                         1.680000   \n",
       "2             gl_home_entertainment                         1.455036   \n",
       "3                           gl_home                         1.763680   \n",
       "4                           gl_home                         2.292784   \n",
       "5                            gl_toy                         5.070580   \n",
       "6                   gl_pet_products                         2.292784   \n",
       "7                     gl_automotive                         9.347505   \n",
       "8                         gl_camera                         5.950000   \n",
       "9                            gl_toy                         1.719588   \n",
       "\n",
       "   ASIN_STATIC_LIST_PRICE ASIN_STATIC_BATTERIES_INCLUDED  \\\n",
       "0                   16.66                          False   \n",
       "1                  158.33                          False   \n",
       "2                     NaN                          False   \n",
       "3                   12.49                          False   \n",
       "4                   25.42                          False   \n",
       "5                     NaN                          False   \n",
       "6                     NaN                          False   \n",
       "7                     NaN                            NaN   \n",
       "8                     NaN                          False   \n",
       "9                     NaN                          False   \n",
       "\n",
       "  ASIN_STATIC_BATTERIES_REQUIRED ASIN_STATIC_ITEM_CLASSIFICATION  \n",
       "0                          False                    base_product  \n",
       "1                          False                    base_product  \n",
       "2                          False                    base_product  \n",
       "3                            NaN                    base_product  \n",
       "4                          False                    base_product  \n",
       "5                           True                    base_product  \n",
       "6                            NaN                    base_product  \n",
       "7                            NaN                    base_product  \n",
       "8                           True                    base_product  \n",
       "9                          False                    base_product  "
      ]
     },
     "execution_count": 19,
     "metadata": {},
     "output_type": "execute_result"
    }
   ],
   "source": [
    "# Print the first five rows\n",
    "# NaN means missing data\n",
    "df.head(10)"
   ]
  },
  {
   "cell_type": "code",
   "execution_count": 20,
   "metadata": {},
   "outputs": [
    {
     "name": "stdout",
     "output_type": "stream",
     "text": [
      "<class 'pandas.core.frame.DataFrame'>\n",
      "RangeIndex: 61233 entries, 0 to 61232\n",
      "Data columns (total 10 columns):\n",
      "ASIN                                 61233 non-null object\n",
      "target_label                         61233 non-null int64\n",
      "ASIN_STATIC_ITEM_NAME                61233 non-null object\n",
      "ASIN_STATIC_PRODUCT_DESCRIPTION      35261 non-null object\n",
      "ASIN_STATIC_GL_PRODUCT_GROUP_TYPE    61233 non-null object\n",
      "ASIN_STATIC_ITEM_PACKAGE_WEIGHT      61141 non-null float64\n",
      "ASIN_STATIC_LIST_PRICE               45741 non-null float64\n",
      "ASIN_STATIC_BATTERIES_INCLUDED       50058 non-null object\n",
      "ASIN_STATIC_BATTERIES_REQUIRED       45229 non-null object\n",
      "ASIN_STATIC_ITEM_CLASSIFICATION      61221 non-null object\n",
      "dtypes: float64(2), int64(1), object(7)\n",
      "memory usage: 4.7+ MB\n"
     ]
    }
   ],
   "source": [
    "# Let's see the data types and non-null values for each column\n",
    "df.info()"
   ]
  },
  {
   "cell_type": "code",
   "execution_count": 21,
   "metadata": {},
   "outputs": [
    {
     "data": {
      "text/html": [
       "<div>\n",
       "<style scoped>\n",
       "    .dataframe tbody tr th:only-of-type {\n",
       "        vertical-align: middle;\n",
       "    }\n",
       "\n",
       "    .dataframe tbody tr th {\n",
       "        vertical-align: top;\n",
       "    }\n",
       "\n",
       "    .dataframe thead th {\n",
       "        text-align: right;\n",
       "    }\n",
       "</style>\n",
       "<table border=\"1\" class=\"dataframe\">\n",
       "  <thead>\n",
       "    <tr style=\"text-align: right;\">\n",
       "      <th></th>\n",
       "      <th>target_label</th>\n",
       "      <th>ASIN_STATIC_ITEM_PACKAGE_WEIGHT</th>\n",
       "      <th>ASIN_STATIC_LIST_PRICE</th>\n",
       "    </tr>\n",
       "  </thead>\n",
       "  <tbody>\n",
       "    <tr>\n",
       "      <th>count</th>\n",
       "      <td>61233.000000</td>\n",
       "      <td>61141.000000</td>\n",
       "      <td>4.574100e+04</td>\n",
       "    </tr>\n",
       "    <tr>\n",
       "      <th>mean</th>\n",
       "      <td>0.036647</td>\n",
       "      <td>31.520023</td>\n",
       "      <td>1.475785e+02</td>\n",
       "    </tr>\n",
       "    <tr>\n",
       "      <th>std</th>\n",
       "      <td>0.187895</td>\n",
       "      <td>462.639041</td>\n",
       "      <td>1.664631e+04</td>\n",
       "    </tr>\n",
       "    <tr>\n",
       "      <th>min</th>\n",
       "      <td>0.000000</td>\n",
       "      <td>0.000000</td>\n",
       "      <td>1.160000e+00</td>\n",
       "    </tr>\n",
       "    <tr>\n",
       "      <th>25%</th>\n",
       "      <td>0.000000</td>\n",
       "      <td>1.520000</td>\n",
       "      <td>1.667000e+01</td>\n",
       "    </tr>\n",
       "    <tr>\n",
       "      <th>50%</th>\n",
       "      <td>0.000000</td>\n",
       "      <td>2.513244</td>\n",
       "      <td>3.291000e+01</td>\n",
       "    </tr>\n",
       "    <tr>\n",
       "      <th>75%</th>\n",
       "      <td>0.000000</td>\n",
       "      <td>5.555592</td>\n",
       "      <td>7.000000e+01</td>\n",
       "    </tr>\n",
       "    <tr>\n",
       "      <th>max</th>\n",
       "      <td>1.000000</td>\n",
       "      <td>29500.000000</td>\n",
       "      <td>3.560000e+06</td>\n",
       "    </tr>\n",
       "  </tbody>\n",
       "</table>\n",
       "</div>"
      ],
      "text/plain": [
       "       target_label  ASIN_STATIC_ITEM_PACKAGE_WEIGHT  ASIN_STATIC_LIST_PRICE\n",
       "count  61233.000000                     61141.000000            4.574100e+04\n",
       "mean       0.036647                        31.520023            1.475785e+02\n",
       "std        0.187895                       462.639041            1.664631e+04\n",
       "min        0.000000                         0.000000            1.160000e+00\n",
       "25%        0.000000                         1.520000            1.667000e+01\n",
       "50%        0.000000                         2.513244            3.291000e+01\n",
       "75%        0.000000                         5.555592            7.000000e+01\n",
       "max        1.000000                     29500.000000            3.560000e+06"
      ]
     },
     "execution_count": 21,
     "metadata": {},
     "output_type": "execute_result"
    }
   ],
   "source": [
    "# This will print basic statistics for numerical columns\n",
    "df.describe()"
   ]
  },
  {
   "cell_type": "markdown",
   "metadata": {},
   "source": [
    "## 3. Basic Plots\n",
    "\n",
    "In this section, we will plot our data. Important note: These plots ignore null (missing) values. \n",
    "\n",
    "\n",
    "__Bar plots:__ These plots show counts of categorical data fields. value_counts() function yields the counts of each unique value. It is useful for categorical variables."
   ]
  },
  {
   "cell_type": "code",
   "execution_count": 22,
   "metadata": {},
   "outputs": [
    {
     "data": {
      "text/plain": [
       "0    58989\n",
       "1     2244\n",
       "Name: target_label, dtype: int64"
      ]
     },
     "execution_count": 22,
     "metadata": {},
     "output_type": "execute_result"
    }
   ],
   "source": [
    "df['target_label'].value_counts()"
   ]
  },
  {
   "cell_type": "markdown",
   "metadata": {},
   "source": [
    "__plot.bar()__ addition to the __value_counts()__ function makes a bar plot of the values."
   ]
  },
  {
   "cell_type": "code",
   "execution_count": 23,
   "metadata": {},
   "outputs": [
    {
     "data": {
      "image/png": "[encoded data removed]",
      "text/plain": [
       "<Figure size 432x288 with 1 Axes>"
      ]
     },
     "metadata": {},
     "output_type": "display_data"
    }
   ],
   "source": [
    "import matplotlib.pyplot as plt\n",
    "%matplotlib inline\n",
    "\n",
    "df['target_label'].value_counts().plot.bar()\n",
    "plt.show()"
   ]
  },
  {
   "cell_type": "code",
   "execution_count": 24,
   "metadata": {},
   "outputs": [
    {
     "data": {
      "image/png": "[encoded data removed]",
      "text/plain": [
       "<Figure size 432x288 with 1 Axes>"
      ]
     },
     "metadata": {},
     "output_type": "display_data"
    }
   ],
   "source": [
    "import matplotlib.pyplot as plt\n",
    "\n",
    "df['ASIN_STATIC_GL_PRODUCT_GROUP_TYPE'].value_counts().plot.bar()\n",
    "plt.show()"
   ]
  },
  {
   "cell_type": "code",
   "execution_count": 25,
   "metadata": {},
   "outputs": [
    {
     "data": {
      "text/plain": [
       "gl_home                        16221\n",
       "gl_home_improvement             6985\n",
       "gl_sports                       5868\n",
       "gl_toy                          5493\n",
       "gl_automotive                   4435\n",
       "gl_pet_products                 4231\n",
       "gl_office_product               3229\n",
       "gl_lawn_and_garden              2779\n",
       "gl_musical_instruments          2008\n",
       "gl_pc                           1837\n",
       "gl_camera                       1790\n",
       "gl_electronics                  1440\n",
       "gl_baby_product                 1375\n",
       "gl_drugstore                     857\n",
       "gl_wireless                      655\n",
       "gl_personal_care_appliances      643\n",
       "gl_kitchen                       626\n",
       "gl_biss                          259\n",
       "gl_major_appliances              237\n",
       "gl_home_entertainment            116\n",
       "gl_apparel                        58\n",
       "gl_luggage                        34\n",
       "gl_shoes                          22\n",
       "gl_beauty                         20\n",
       "gl_video_games                     7\n",
       "gl_watch                           3\n",
       "gl_book                            3\n",
       "gl_fresh_ambient                   1\n",
       "gl_music                           1\n",
       "Name: ASIN_STATIC_GL_PRODUCT_GROUP_TYPE, dtype: int64"
      ]
     },
     "execution_count": 25,
     "metadata": {},
     "output_type": "execute_result"
    }
   ],
   "source": [
    "df['ASIN_STATIC_GL_PRODUCT_GROUP_TYPE'].value_counts()"
   ]
  },
  {
   "cell_type": "code",
   "execution_count": 26,
   "metadata": {},
   "outputs": [
    {
     "data": {
      "image/png": "[encoded data removed]",
      "text/plain": [
       "<Figure size 432x288 with 1 Axes>"
      ]
     },
     "metadata": {},
     "output_type": "display_data"
    }
   ],
   "source": [
    "df['ASIN_STATIC_BATTERIES_INCLUDED'].value_counts().plot.bar()\n",
    "plt.show()"
   ]
  },
  {
   "cell_type": "code",
   "execution_count": 27,
   "metadata": {},
   "outputs": [
    {
     "data": {
      "image/png": "[encoded data removed]",
      "text/plain": [
       "<Figure size 432x288 with 1 Axes>"
      ]
     },
     "metadata": {},
     "output_type": "display_data"
    }
   ],
   "source": [
    "df['ASIN_STATIC_BATTERIES_REQUIRED'].value_counts().plot.bar()\n",
    "plt.show()"
   ]
  },
  {
   "cell_type": "markdown",
   "metadata": {},
   "source": [
    "__Histograms:__ Histograms show distribution of numeric data. Data is divided into \"buckets\" or \"bins\"."
   ]
  },
  {
   "cell_type": "code",
   "execution_count": 28,
   "metadata": {},
   "outputs": [
    {
     "data": {
      "image/png": "[encoded data removed]",
      "text/plain": [
       "<Figure size 432x288 with 1 Axes>"
      ]
     },
     "metadata": {},
     "output_type": "display_data"
    }
   ],
   "source": [
    "df['ASIN_STATIC_LIST_PRICE'].plot.hist(bins=5)\n",
    "plt.show()"
   ]
  },
  {
   "cell_type": "markdown",
   "metadata": {},
   "source": [
    "When we look at the histogram above, we can see that values are heavily placed in the first bin. Let's check the min-max values below."
   ]
  },
  {
   "cell_type": "code",
   "execution_count": 29,
   "metadata": {},
   "outputs": [
    {
     "data": {
      "text/plain": [
       "1.16"
      ]
     },
     "execution_count": 29,
     "metadata": {},
     "output_type": "execute_result"
    }
   ],
   "source": [
    "df['ASIN_STATIC_LIST_PRICE'].min()"
   ]
  },
  {
   "cell_type": "code",
   "execution_count": 30,
   "metadata": {},
   "outputs": [
    {
     "data": {
      "text/plain": [
       "3560000.0"
      ]
     },
     "execution_count": 30,
     "metadata": {},
     "output_type": "execute_result"
    }
   ],
   "source": [
    "df['ASIN_STATIC_LIST_PRICE'].max()"
   ]
  },
  {
   "cell_type": "markdown",
   "metadata": {},
   "source": [
    "__value_counts()__ function again becomes useful here. Let's increase the number of bins to 10 for more bins. Looking below, we can see that we have an outlier number in the last bin. We have a very expensive item of worth more than __3 million $__ :) \n",
    "\n",
    "This is likely a wrong value. We will drop this record."
   ]
  },
  {
   "cell_type": "code",
   "execution_count": 31,
   "metadata": {},
   "outputs": [
    {
     "data": {
      "text/plain": [
       "(-3558.84, 356001.044]        45740\n",
       "(356001.044, 712000.928]          0\n",
       "(712000.928, 1068000.812]         0\n",
       "(1068000.812, 1424000.696]        0\n",
       "(1424000.696, 1780000.58]         0\n",
       "(1780000.58, 2136000.464]         0\n",
       "(2136000.464, 2492000.348]        0\n",
       "(2492000.348, 2848000.232]        0\n",
       "(2848000.232, 3204000.116]        0\n",
       "(3204000.116, 3560000.0]          1\n",
       "Name: ASIN_STATIC_LIST_PRICE, dtype: int64"
      ]
     },
     "execution_count": 31,
     "metadata": {},
     "output_type": "execute_result"
    }
   ],
   "source": [
    "df['ASIN_STATIC_LIST_PRICE'].value_counts(bins=10, sort=False)"
   ]
  },
  {
   "cell_type": "code",
   "execution_count": 32,
   "metadata": {},
   "outputs": [],
   "source": [
    "dropIndexes = df[df['ASIN_STATIC_LIST_PRICE'] > 3000000].index\n",
    "df.drop(dropIndexes , inplace=True)"
   ]
  },
  {
   "cell_type": "code",
   "execution_count": 33,
   "metadata": {},
   "outputs": [
    {
     "data": {
      "text/plain": [
       "(-13.838999999999999, 1500.944]    45704\n",
       "(1500.944, 3000.728]                  15\n",
       "(3000.728, 4500.512]                   9\n",
       "(4500.512, 6000.296]                   3\n",
       "(6000.296, 7500.08]                    2\n",
       "(7500.08, 8999.864]                    4\n",
       "(8999.864, 10499.648]                  0\n",
       "(10499.648, 11999.432]                 1\n",
       "(11999.432, 13499.216]                 0\n",
       "(13499.216, 14999.0]                   2\n",
       "Name: ASIN_STATIC_LIST_PRICE, dtype: int64"
      ]
     },
     "execution_count": 33,
     "metadata": {},
     "output_type": "execute_result"
    }
   ],
   "source": [
    "df['ASIN_STATIC_LIST_PRICE'].value_counts(bins=10, sort=False)"
   ]
  },
  {
   "cell_type": "markdown",
   "metadata": {},
   "source": [
    "Let' see the histogram again."
   ]
  },
  {
   "cell_type": "code",
   "execution_count": 34,
   "metadata": {},
   "outputs": [
    {
     "data": {
      "image/png": "[encoded data removed]",
      "text/plain": [
       "<Figure size 432x288 with 1 Axes>"
      ]
     },
     "metadata": {},
     "output_type": "display_data"
    }
   ],
   "source": [
    "df['ASIN_STATIC_LIST_PRICE'].plot.hist(bins=100)\n",
    "plt.show()"
   ]
  },
  {
   "cell_type": "code",
   "execution_count": 35,
   "metadata": {},
   "outputs": [
    {
     "data": {
      "image/png": "[encoded data removed]",
      "text/plain": [
       "<Figure size 432x288 with 1 Axes>"
      ]
     },
     "metadata": {},
     "output_type": "display_data"
    }
   ],
   "source": [
    "df['ASIN_STATIC_ITEM_PACKAGE_WEIGHT'].plot.hist(bins=100)\n",
    "plt.show()"
   ]
  },
  {
   "cell_type": "code",
   "execution_count": 36,
   "metadata": {},
   "outputs": [
    {
     "data": {
      "text/plain": [
       "(-29.501, 5900.0]     61064\n",
       "(5900.0, 11800.0]        51\n",
       "(11800.0, 17700.0]       20\n",
       "(17700.0, 23600.0]        1\n",
       "(23600.0, 29500.0]        4\n",
       "Name: ASIN_STATIC_ITEM_PACKAGE_WEIGHT, dtype: int64"
      ]
     },
     "execution_count": 36,
     "metadata": {},
     "output_type": "execute_result"
    }
   ],
   "source": [
    "df['ASIN_STATIC_ITEM_PACKAGE_WEIGHT'].value_counts(bins=5, sort=False)"
   ]
  },
  {
   "cell_type": "markdown",
   "metadata": {},
   "source": [
    "## 4. Handling Missing Values\n",
    "#### Check the number of missing (nan) values for each column"
   ]
  },
  {
   "cell_type": "code",
   "execution_count": 37,
   "metadata": {},
   "outputs": [
    {
     "data": {
      "text/plain": [
       "ASIN                                     0\n",
       "target_label                             0\n",
       "ASIN_STATIC_ITEM_NAME                    0\n",
       "ASIN_STATIC_PRODUCT_DESCRIPTION      25972\n",
       "ASIN_STATIC_GL_PRODUCT_GROUP_TYPE        0\n",
       "ASIN_STATIC_ITEM_PACKAGE_WEIGHT         92\n",
       "ASIN_STATIC_LIST_PRICE               15492\n",
       "ASIN_STATIC_BATTERIES_INCLUDED       11175\n",
       "ASIN_STATIC_BATTERIES_REQUIRED       16004\n",
       "ASIN_STATIC_ITEM_CLASSIFICATION         12\n",
       "dtype: int64"
      ]
     },
     "execution_count": 37,
     "metadata": {},
     "output_type": "execute_result"
    }
   ],
   "source": [
    "df.isna().sum()"
   ]
  },
  {
   "cell_type": "markdown",
   "metadata": {},
   "source": [
    "### 4.1 Impute (fill-in) Missing Values:\n",
    "\n",
    "__1-Imputing Numerical Values:__ The easiest way to impute numerical values is to get the __average (mean) value__ for the corresponding column and use that as the new value for each missing record in that column. "
   ]
  },
  {
   "cell_type": "code",
   "execution_count": 38,
   "metadata": {},
   "outputs": [],
   "source": [
    "# Assign our df to a new df (You can use the same df in your final project)\n",
    "df_imputed = df\n",
    "\n",
    "# Let's impute our two numerical columns. \n",
    "# \"inplace=True\" parameter replaces missing values in place (no need for left handside assignment)\n",
    "\n",
    "df_imputed[\"ASIN_STATIC_ITEM_PACKAGE_WEIGHT\"].fillna(df_imputed[\"ASIN_STATIC_ITEM_PACKAGE_WEIGHT\"].mean(), inplace=True)\n",
    "df_imputed[\"ASIN_STATIC_LIST_PRICE\"].fillna(df_imputed[\"ASIN_STATIC_LIST_PRICE\"].mean(), inplace=True)"
   ]
  },
  {
   "cell_type": "markdown",
   "metadata": {},
   "source": [
    "__2-Imputing Categorical Values:__ We can impute categorical values by getting the most common (mode) value for the corresponding column and use that as the new value for each missing record in that column. We can also create a new category such as \"Missing\" for those columns."
   ]
  },
  {
   "cell_type": "code",
   "execution_count": 39,
   "metadata": {},
   "outputs": [
    {
     "name": "stdout",
     "output_type": "stream",
     "text": [
      "0    False\n",
      "dtype: object\n",
      "0    False\n",
      "dtype: object\n"
     ]
    }
   ],
   "source": [
    "# Let's find the mode for our two categorical columns.\n",
    "print(df_imputed[\"ASIN_STATIC_BATTERIES_INCLUDED\"].mode())\n",
    "print(df_imputed[\"ASIN_STATIC_BATTERIES_REQUIRED\"].mode())"
   ]
  },
  {
   "cell_type": "code",
   "execution_count": 40,
   "metadata": {},
   "outputs": [],
   "source": [
    "# Let's impute our two categorical columns. \n",
    "# \"inplace=True\" parameter replaces missing values in place (no need for left handside assignment)\n",
    "\n",
    "df_imputed[\"ASIN_STATIC_BATTERIES_INCLUDED\"].fillna(False, inplace=True)\n",
    "df_imputed[\"ASIN_STATIC_BATTERIES_REQUIRED\"].fillna(False, inplace=True)"
   ]
  },
  {
   "cell_type": "code",
   "execution_count": 41,
   "metadata": {},
   "outputs": [],
   "source": [
    "# Creating a new category named \"Missing\". \n",
    "# This won't change anything if you run the mode imputation first. Pick one of the method for each column.\n",
    "\n",
    "df_imputed[\"ASIN_STATIC_BATTERIES_INCLUDED\"].fillna(\"Missing\", inplace=True)\n",
    "df_imputed[\"ASIN_STATIC_BATTERIES_REQUIRED\"].fillna(\"Missing\", inplace=True)\n",
    "df_imputed[\"ASIN_STATIC_PRODUCT_DESCRIPTION\"].fillna(\"Missing\", inplace=True)\n",
    "df_imputed[\"ASIN_STATIC_ITEM_CLASSIFICATION\"].fillna(\"Missing\", inplace=True)"
   ]
  },
  {
   "cell_type": "markdown",
   "metadata": {},
   "source": [
    "Let's check the missing values below"
   ]
  },
  {
   "cell_type": "code",
   "execution_count": 42,
   "metadata": {},
   "outputs": [
    {
     "data": {
      "text/plain": [
       "ASIN                                 0\n",
       "target_label                         0\n",
       "ASIN_STATIC_ITEM_NAME                0\n",
       "ASIN_STATIC_PRODUCT_DESCRIPTION      0\n",
       "ASIN_STATIC_GL_PRODUCT_GROUP_TYPE    0\n",
       "ASIN_STATIC_ITEM_PACKAGE_WEIGHT      0\n",
       "ASIN_STATIC_LIST_PRICE               0\n",
       "ASIN_STATIC_BATTERIES_INCLUDED       0\n",
       "ASIN_STATIC_BATTERIES_REQUIRED       0\n",
       "ASIN_STATIC_ITEM_CLASSIFICATION      0\n",
       "dtype: int64"
      ]
     },
     "execution_count": 42,
     "metadata": {},
     "output_type": "execute_result"
    }
   ],
   "source": [
    "df_imputed.isna().sum()"
   ]
  },
  {
   "cell_type": "markdown",
   "metadata": {},
   "source": [
    "### 4.2. Drop rows with missing values\n",
    "We will simply drop rows that have at least one missing value."
   ]
  },
  {
   "cell_type": "code",
   "execution_count": 43,
   "metadata": {},
   "outputs": [],
   "source": [
    "df_missing_dropped = df.dropna()"
   ]
  },
  {
   "cell_type": "markdown",
   "metadata": {},
   "source": [
    "Let's check the missing values below"
   ]
  },
  {
   "cell_type": "code",
   "execution_count": 44,
   "metadata": {},
   "outputs": [
    {
     "data": {
      "text/plain": [
       "ASIN                                 0\n",
       "target_label                         0\n",
       "ASIN_STATIC_ITEM_NAME                0\n",
       "ASIN_STATIC_PRODUCT_DESCRIPTION      0\n",
       "ASIN_STATIC_GL_PRODUCT_GROUP_TYPE    0\n",
       "ASIN_STATIC_ITEM_PACKAGE_WEIGHT      0\n",
       "ASIN_STATIC_LIST_PRICE               0\n",
       "ASIN_STATIC_BATTERIES_INCLUDED       0\n",
       "ASIN_STATIC_BATTERIES_REQUIRED       0\n",
       "ASIN_STATIC_ITEM_CLASSIFICATION      0\n",
       "dtype: int64"
      ]
     },
     "execution_count": 44,
     "metadata": {},
     "output_type": "execute_result"
    }
   ],
   "source": [
    "df_missing_dropped.isna().sum()"
   ]
  },
  {
   "cell_type": "markdown",
   "metadata": {},
   "source": [
    "### 4.3. Drop columns with missing values:\n",
    "\n",
    "We can drop some columns if we think there is siginificant amount of missing data in those columns.\n",
    "\n",
    "__Hint:__ You can again use inplace=True parameter to drop columns inplace without assignment."
   ]
  },
  {
   "cell_type": "code",
   "execution_count": 45,
   "metadata": {},
   "outputs": [
    {
     "data": {
      "text/html": [
       "<div>\n",
       "<style scoped>\n",
       "    .dataframe tbody tr th:only-of-type {\n",
       "        vertical-align: middle;\n",
       "    }\n",
       "\n",
       "    .dataframe tbody tr th {\n",
       "        vertical-align: top;\n",
       "    }\n",
       "\n",
       "    .dataframe thead th {\n",
       "        text-align: right;\n",
       "    }\n",
       "</style>\n",
       "<table border=\"1\" class=\"dataframe\">\n",
       "  <thead>\n",
       "    <tr style=\"text-align: right;\">\n",
       "      <th></th>\n",
       "      <th>ASIN</th>\n",
       "      <th>target_label</th>\n",
       "      <th>ASIN_STATIC_ITEM_NAME</th>\n",
       "      <th>ASIN_STATIC_PRODUCT_DESCRIPTION</th>\n",
       "      <th>ASIN_STATIC_GL_PRODUCT_GROUP_TYPE</th>\n",
       "      <th>ASIN_STATIC_ITEM_CLASSIFICATION</th>\n",
       "    </tr>\n",
       "  </thead>\n",
       "  <tbody>\n",
       "    <tr>\n",
       "      <th>0</th>\n",
       "      <td>B004U9MOWO</td>\n",
       "      <td>0</td>\n",
       "      <td>Master Lock 8 X 900 mm Chain Integrated 4 Digi...</td>\n",
       "      <td>Master Lock Street Flexium 900mm Integrated Co...</td>\n",
       "      <td>gl_sports</td>\n",
       "      <td>base_product</td>\n",
       "    </tr>\n",
       "    <tr>\n",
       "      <th>1</th>\n",
       "      <td>B006OJWZMW</td>\n",
       "      <td>0</td>\n",
       "      <td>In Phase SRX-EQ 10 Band Parametric Equalizer w...</td>\n",
       "      <td>Missing</td>\n",
       "      <td>gl_wireless</td>\n",
       "      <td>base_product</td>\n",
       "    </tr>\n",
       "    <tr>\n",
       "      <th>2</th>\n",
       "      <td>B00008VIJ4</td>\n",
       "      <td>0</td>\n",
       "      <td>Technics RPDJ1210 DJ Headphones - Silver</td>\n",
       "      <td>Plated Connector:Gold, Connector Type:Headphon...</td>\n",
       "      <td>gl_home_entertainment</td>\n",
       "      <td>base_product</td>\n",
       "    </tr>\n",
       "    <tr>\n",
       "      <th>3</th>\n",
       "      <td>B005433T4M</td>\n",
       "      <td>0</td>\n",
       "      <td>Heartwarmers Coming Home Padded Lap Tray, 42 x...</td>\n",
       "      <td>Missing</td>\n",
       "      <td>gl_home</td>\n",
       "      <td>base_product</td>\n",
       "    </tr>\n",
       "    <tr>\n",
       "      <th>4</th>\n",
       "      <td>B0073CN63Q</td>\n",
       "      <td>0</td>\n",
       "      <td>Douceur D'Intérieur  - 1600728, Curtain With E...</td>\n",
       "      <td>Missing</td>\n",
       "      <td>gl_home</td>\n",
       "      <td>base_product</td>\n",
       "    </tr>\n",
       "  </tbody>\n",
       "</table>\n",
       "</div>"
      ],
      "text/plain": [
       "         ASIN  target_label  \\\n",
       "0  B004U9MOWO             0   \n",
       "1  B006OJWZMW             0   \n",
       "2  B00008VIJ4             0   \n",
       "3  B005433T4M             0   \n",
       "4  B0073CN63Q             0   \n",
       "\n",
       "                               ASIN_STATIC_ITEM_NAME  \\\n",
       "0  Master Lock 8 X 900 mm Chain Integrated 4 Digi...   \n",
       "1  In Phase SRX-EQ 10 Band Parametric Equalizer w...   \n",
       "2           Technics RPDJ1210 DJ Headphones - Silver   \n",
       "3  Heartwarmers Coming Home Padded Lap Tray, 42 x...   \n",
       "4  Douceur D'Intérieur  - 1600728, Curtain With E...   \n",
       "\n",
       "                     ASIN_STATIC_PRODUCT_DESCRIPTION  \\\n",
       "0  Master Lock Street Flexium 900mm Integrated Co...   \n",
       "1                                            Missing   \n",
       "2  Plated Connector:Gold, Connector Type:Headphon...   \n",
       "3                                            Missing   \n",
       "4                                            Missing   \n",
       "\n",
       "  ASIN_STATIC_GL_PRODUCT_GROUP_TYPE ASIN_STATIC_ITEM_CLASSIFICATION  \n",
       "0                         gl_sports                    base_product  \n",
       "1                       gl_wireless                    base_product  \n",
       "2             gl_home_entertainment                    base_product  \n",
       "3                           gl_home                    base_product  \n",
       "4                           gl_home                    base_product  "
      ]
     },
     "execution_count": 45,
     "metadata": {},
     "output_type": "execute_result"
    }
   ],
   "source": [
    "df_columns_dropped = df.drop(columns = [\"ASIN_STATIC_ITEM_PACKAGE_WEIGHT\", \n",
    "                                        \"ASIN_STATIC_LIST_PRICE\",\n",
    "                                        \"ASIN_STATIC_BATTERIES_INCLUDED\",\n",
    "                                        \"ASIN_STATIC_BATTERIES_REQUIRED\"\n",
    "                                       ])\n",
    "df_columns_dropped.head()"
   ]
  },
  {
   "cell_type": "markdown",
   "metadata": {},
   "source": [
    "## 5. Scatter Plots, Pair Plots and Correlation\n",
    "__5.1 Scatter plot:__ Simple 2D plots of numerical variables. We can see relationship between 2 variables. Below, we are plotting package weight vs list price. "
   ]
  },
  {
   "cell_type": "code",
   "execution_count": 46,
   "metadata": {},
   "outputs": [
    {
     "data": {
      "image/png": "[encoded data removed]",
      "text/plain": [
       "<Figure size 432x288 with 1 Axes>"
      ]
     },
     "metadata": {},
     "output_type": "display_data"
    }
   ],
   "source": [
    "import matplotlib.pyplot as plt\n",
    "\n",
    "df.plot.scatter(x='ASIN_STATIC_ITEM_PACKAGE_WEIGHT', y='ASIN_STATIC_LIST_PRICE')\n",
    "plt.show()"
   ]
  },
  {
   "cell_type": "markdown",
   "metadata": {},
   "source": [
    "From this scatter plot, we can see that these two variables do not have a relationship. "
   ]
  },
  {
   "cell_type": "markdown",
   "metadata": {},
   "source": [
    "### Scatterplot with Identification\n",
    "\n",
    "We can also add the target value: \"Plug\" or \"No plug\" to our scatter plot."
   ]
  },
  {
   "cell_type": "code",
   "execution_count": 47,
   "metadata": {},
   "outputs": [
    {
     "data": {
      "image/png": "[encoded data removed]",
      "text/plain": [
       "<Figure size 432x288 with 1 Axes>"
      ]
     },
     "metadata": {},
     "output_type": "display_data"
    }
   ],
   "source": [
    "import seaborn as sns\n",
    "\n",
    "X1 = df[['ASIN_STATIC_ITEM_PACKAGE_WEIGHT', 'ASIN_STATIC_LIST_PRICE']][df['target_label'] == 0]\n",
    "X2 = df[['ASIN_STATIC_ITEM_PACKAGE_WEIGHT', 'ASIN_STATIC_LIST_PRICE']][df['target_label'] == 1]\n",
    "\n",
    "plt.scatter(X1.iloc[:,0], \n",
    "            X1.iloc[:,1], \n",
    "            s=50, \n",
    "            c='blue', \n",
    "            marker='o', \n",
    "            label='No Plug')\n",
    "\n",
    "plt.scatter(X2.iloc[:,0], \n",
    "            X2.iloc[:,1], \n",
    "            s=50, \n",
    "            c='red', \n",
    "            marker='v', \n",
    "            label='Plug')\n",
    "\n",
    "plt.xlabel('Package weight')\n",
    "plt.ylabel('List price')\n",
    "plt.legend()\n",
    "plt.grid()\n",
    "plt.show()"
   ]
  },
  {
   "cell_type": "markdown",
   "metadata": {},
   "source": [
    "From this plot, we can't get a good separation between the data points."
   ]
  },
  {
   "cell_type": "markdown",
   "metadata": {},
   "source": [
    "## Correlation Matrix Heatmap:\n",
    "We will plot the correlation matrix. Correlation is calculated for numerical fields. For that reason, we will only pick the numerical fields: __ASIN_STATIC_ITEM_PACKAGE_WEIGHT__ and __ASIN_STATIC_LIST_PRICE__"
   ]
  },
  {
   "cell_type": "code",
   "execution_count": 48,
   "metadata": {},
   "outputs": [
    {
     "data": {
      "image/png": "[encoded data removed]",
      "text/plain": [
       "<Figure size 432x288 with 2 Axes>"
      ]
     },
     "metadata": {},
     "output_type": "display_data"
    }
   ],
   "source": [
    "import numpy as np\n",
    "\n",
    "cols = ['ASIN_STATIC_ITEM_PACKAGE_WEIGHT', 'ASIN_STATIC_LIST_PRICE']\n",
    "cm = np.corrcoef(df[cols].values.T)\n",
    "ax = sns.heatmap(cm, cbar=True, annot=True, square=True, fmt='.1f', yticklabels=cols, xticklabels=cols)\n",
    "plt.show()"
   ]
  },
  {
   "cell_type": "markdown",
   "metadata": {},
   "source": [
    "From the correlation matrix, we can see that there is no relationship between listing price and item package weight."
   ]
  },
  {
   "cell_type": "markdown",
   "metadata": {},
   "source": [
    "### A fancy example using Seaborn\n",
    "Simulating a dataset with some correlation we can show a fancy example below for 26 dimensions."
   ]
  },
  {
   "cell_type": "code",
   "execution_count": 49,
   "metadata": {},
   "outputs": [
    {
     "data": {
      "text/plain": [
       "<matplotlib.axes._subplots.AxesSubplot at 0x7f0bd5ceadd8>"
      ]
     },
     "execution_count": 49,
     "metadata": {},
     "output_type": "execute_result"
    },
    {
     "data": {
      "image/png": "[encoded data removed]",
      "text/plain": [
       "<Figure size 792x648 with 2 Axes>"
      ]
     },
     "metadata": {},
     "output_type": "display_data"
    }
   ],
   "source": [
    "from string import ascii_letters\n",
    "import numpy as np\n",
    "import pandas as pd\n",
    "import seaborn as sns\n",
    "import matplotlib.pyplot as plt\n",
    "\n",
    "sns.set(style=\"white\")\n",
    "\n",
    "# Generate a large random dataset\n",
    "rs = np.random.RandomState(33)\n",
    "d = pd.DataFrame(data=rs.normal(size=(100, 26)),\n",
    "                 columns=list(ascii_letters[26:]))\n",
    "\n",
    "# Compute the correlation matrix\n",
    "corr = d.corr()\n",
    "\n",
    "# Generate a mask for the upper triangle\n",
    "mask = np.triu(np.ones_like(corr, dtype=np.bool))\n",
    "\n",
    "# Set up the matplotlib figure\n",
    "f, ax = plt.subplots(figsize=(11, 9))\n",
    "\n",
    "# Generate a custom diverging colormap\n",
    "cmap = sns.diverging_palette(220, 10, as_cmap=True)\n",
    "\n",
    "# Draw the heatmap with the mask and correct aspect ratio\n",
    "sns.heatmap(corr, mask=mask, cmap=cmap, vmax=.3, center=0,\n",
    "            square=True, linewidths=.5, cbar_kws={\"shrink\": .5})"
   ]
  },
  {
   "cell_type": "markdown",
   "metadata": {},
   "source": [
    "# K Nearest Neighbors Model"
   ]
  },
  {
   "cell_type": "markdown",
   "metadata": {},
   "source": [
    "## Fitting K Nearest Neighbors Classifier to our Electrical Plug Dataset\n",
    "\n",
    "__Dataset schema:__ \n",
    "- __ASIN__: Product ASIN\n",
    "- __target_label:__ Binary field with values in {0,1}. A value of 1 show ASIN has a plug, otherwise 0.\n",
    "- __ASIN_STATIC_ITEM_NAME:__ Title of the ASIN.\n",
    "- __ASIN_STATIC_PRODUCT_DESCRIPTION:__ Description of the ASIN\n",
    "- __ASIN_STATIC_GL_PRODUCT_GROUP_TYPE:__ GL information for the ASIN.\n",
    "- __ASIN_STATIC_ITEM_PACKAGE_WEIGHT:__ Weight of the ASIN.\n",
    "- __ASIN_STATIC_LIST_PRICE:__ Price information for the ASIN.\n",
    "- __ASIN_STATIC_BATTERIES_INCLUDED:__ Information whether batteries are included along with the product.\n",
    "- __ASIN_STATIC_BATTERIES_REQUIRED:__ Information whether batteries are required for using the product.\n",
    "- __ASIN_STATIC_ITEM_CLASSIFICATION:__ Item classification of whether it is a standalone or bundle parent item etc"
   ]
  },
  {
   "cell_type": "markdown",
   "metadata": {},
   "source": [
    "## 2. Overall Statistics and Imputing:\n",
    "We will look at number of rows, columns and simple statistics of the dataset."
   ]
  },
  {
   "cell_type": "code",
   "execution_count": 2,
   "metadata": {},
   "outputs": [
    {
     "data": {
      "text/plain": [
       "array(['base_product', nan, 'variation_parent'], dtype=object)"
      ]
     },
     "execution_count": 2,
     "metadata": {},
     "output_type": "execute_result"
    }
   ],
   "source": [
    "df[\"ASIN_STATIC_ITEM_CLASSIFICATION\"].unique()"
   ]
  },
  {
   "cell_type": "code",
   "execution_count": 3,
   "metadata": {},
   "outputs": [
    {
     "data": {
      "text/html": [
       "<div>\n",
       "<style scoped>\n",
       "    .dataframe tbody tr th:only-of-type {\n",
       "        vertical-align: middle;\n",
       "    }\n",
       "\n",
       "    .dataframe tbody tr th {\n",
       "        vertical-align: top;\n",
       "    }\n",
       "\n",
       "    .dataframe thead th {\n",
       "        text-align: right;\n",
       "    }\n",
       "</style>\n",
       "<table border=\"1\" class=\"dataframe\">\n",
       "  <thead>\n",
       "    <tr style=\"text-align: right;\">\n",
       "      <th></th>\n",
       "      <th>ASIN</th>\n",
       "      <th>target_label</th>\n",
       "      <th>ASIN_STATIC_ITEM_NAME</th>\n",
       "      <th>ASIN_STATIC_PRODUCT_DESCRIPTION</th>\n",
       "      <th>ASIN_STATIC_GL_PRODUCT_GROUP_TYPE</th>\n",
       "      <th>ASIN_STATIC_ITEM_PACKAGE_WEIGHT</th>\n",
       "      <th>ASIN_STATIC_LIST_PRICE</th>\n",
       "      <th>ASIN_STATIC_BATTERIES_INCLUDED</th>\n",
       "      <th>ASIN_STATIC_BATTERIES_REQUIRED</th>\n",
       "      <th>ASIN_STATIC_ITEM_CLASSIFICATION</th>\n",
       "    </tr>\n",
       "  </thead>\n",
       "  <tbody>\n",
       "    <tr>\n",
       "      <th>0</th>\n",
       "      <td>B004U9MOWO</td>\n",
       "      <td>0</td>\n",
       "      <td>Master Lock 8 X 900 mm Chain Integrated 4 Digi...</td>\n",
       "      <td>Master Lock Street Flexium 900mm Integrated Co...</td>\n",
       "      <td>gl_sports</td>\n",
       "      <td>2.650000</td>\n",
       "      <td>16.66</td>\n",
       "      <td>False</td>\n",
       "      <td>False</td>\n",
       "      <td>base_product</td>\n",
       "    </tr>\n",
       "    <tr>\n",
       "      <th>1</th>\n",
       "      <td>B006OJWZMW</td>\n",
       "      <td>0</td>\n",
       "      <td>In Phase SRX-EQ 10 Band Parametric Equalizer w...</td>\n",
       "      <td>NaN</td>\n",
       "      <td>gl_wireless</td>\n",
       "      <td>1.680000</td>\n",
       "      <td>158.33</td>\n",
       "      <td>False</td>\n",
       "      <td>False</td>\n",
       "      <td>base_product</td>\n",
       "    </tr>\n",
       "    <tr>\n",
       "      <th>2</th>\n",
       "      <td>B00008VIJ4</td>\n",
       "      <td>0</td>\n",
       "      <td>Technics RPDJ1210 DJ Headphones - Silver</td>\n",
       "      <td>Plated Connector:Gold, Connector Type:Headphon...</td>\n",
       "      <td>gl_home_entertainment</td>\n",
       "      <td>1.455036</td>\n",
       "      <td>NaN</td>\n",
       "      <td>False</td>\n",
       "      <td>False</td>\n",
       "      <td>base_product</td>\n",
       "    </tr>\n",
       "    <tr>\n",
       "      <th>3</th>\n",
       "      <td>B005433T4M</td>\n",
       "      <td>0</td>\n",
       "      <td>Heartwarmers Coming Home Padded Lap Tray, 42 x...</td>\n",
       "      <td>NaN</td>\n",
       "      <td>gl_home</td>\n",
       "      <td>1.763680</td>\n",
       "      <td>12.49</td>\n",
       "      <td>False</td>\n",
       "      <td>NaN</td>\n",
       "      <td>base_product</td>\n",
       "    </tr>\n",
       "    <tr>\n",
       "      <th>4</th>\n",
       "      <td>B0073CN63Q</td>\n",
       "      <td>0</td>\n",
       "      <td>Douceur D'Intérieur  - 1600728, Curtain With E...</td>\n",
       "      <td>NaN</td>\n",
       "      <td>gl_home</td>\n",
       "      <td>2.292784</td>\n",
       "      <td>25.42</td>\n",
       "      <td>False</td>\n",
       "      <td>False</td>\n",
       "      <td>base_product</td>\n",
       "    </tr>\n",
       "  </tbody>\n",
       "</table>\n",
       "</div>"
      ],
      "text/plain": [
       "         ASIN  target_label  \\\n",
       "0  B004U9MOWO             0   \n",
       "1  B006OJWZMW             0   \n",
       "2  B00008VIJ4             0   \n",
       "3  B005433T4M             0   \n",
       "4  B0073CN63Q             0   \n",
       "\n",
       "                               ASIN_STATIC_ITEM_NAME  \\\n",
       "0  Master Lock 8 X 900 mm Chain Integrated 4 Digi...   \n",
       "1  In Phase SRX-EQ 10 Band Parametric Equalizer w...   \n",
       "2           Technics RPDJ1210 DJ Headphones - Silver   \n",
       "3  Heartwarmers Coming Home Padded Lap Tray, 42 x...   \n",
       "4  Douceur D'Intérieur  - 1600728, Curtain With E...   \n",
       "\n",
       "                     ASIN_STATIC_PRODUCT_DESCRIPTION  \\\n",
       "0  Master Lock Street Flexium 900mm Integrated Co...   \n",
       "1                                                NaN   \n",
       "2  Plated Connector:Gold, Connector Type:Headphon...   \n",
       "3                                                NaN   \n",
       "4                                                NaN   \n",
       "\n",
       "  ASIN_STATIC_GL_PRODUCT_GROUP_TYPE  ASIN_STATIC_ITEM_PACKAGE_WEIGHT  \\\n",
       "0                         gl_sports                         2.650000   \n",
       "1                       gl_wireless                         1.680000   \n",
       "2             gl_home_entertainment                         1.455036   \n",
       "3                           gl_home                         1.763680   \n",
       "4                           gl_home                         2.292784   \n",
       "\n",
       "   ASIN_STATIC_LIST_PRICE ASIN_STATIC_BATTERIES_INCLUDED  \\\n",
       "0                   16.66                          False   \n",
       "1                  158.33                          False   \n",
       "2                     NaN                          False   \n",
       "3                   12.49                          False   \n",
       "4                   25.42                          False   \n",
       "\n",
       "  ASIN_STATIC_BATTERIES_REQUIRED ASIN_STATIC_ITEM_CLASSIFICATION  \n",
       "0                          False                    base_product  \n",
       "1                          False                    base_product  \n",
       "2                          False                    base_product  \n",
       "3                            NaN                    base_product  \n",
       "4                          False                    base_product  "
      ]
     },
     "execution_count": 3,
     "metadata": {},
     "output_type": "execute_result"
    }
   ],
   "source": [
    "# Print the first five rows\n",
    "# NaN means missing data\n",
    "df.head()"
   ]
  },
  {
   "cell_type": "code",
   "execution_count": 4,
   "metadata": {},
   "outputs": [
    {
     "name": "stdout",
     "output_type": "stream",
     "text": [
      "<class 'pandas.core.frame.DataFrame'>\n",
      "RangeIndex: 61233 entries, 0 to 61232\n",
      "Data columns (total 10 columns):\n",
      "ASIN                                 61233 non-null object\n",
      "target_label                         61233 non-null int64\n",
      "ASIN_STATIC_ITEM_NAME                61233 non-null object\n",
      "ASIN_STATIC_PRODUCT_DESCRIPTION      35261 non-null object\n",
      "ASIN_STATIC_GL_PRODUCT_GROUP_TYPE    61233 non-null object\n",
      "ASIN_STATIC_ITEM_PACKAGE_WEIGHT      61141 non-null float64\n",
      "ASIN_STATIC_LIST_PRICE               45741 non-null float64\n",
      "ASIN_STATIC_BATTERIES_INCLUDED       50058 non-null object\n",
      "ASIN_STATIC_BATTERIES_REQUIRED       45229 non-null object\n",
      "ASIN_STATIC_ITEM_CLASSIFICATION      61221 non-null object\n",
      "dtypes: float64(2), int64(1), object(7)\n",
      "memory usage: 4.7+ MB\n"
     ]
    }
   ],
   "source": [
    "# Let's see the data types and non-null values for each column\n",
    "df.info()"
   ]
  },
  {
   "cell_type": "code",
   "execution_count": 5,
   "metadata": {},
   "outputs": [
    {
     "data": {
      "text/html": [
       "<div>\n",
       "<style scoped>\n",
       "    .dataframe tbody tr th:only-of-type {\n",
       "        vertical-align: middle;\n",
       "    }\n",
       "\n",
       "    .dataframe tbody tr th {\n",
       "        vertical-align: top;\n",
       "    }\n",
       "\n",
       "    .dataframe thead th {\n",
       "        text-align: right;\n",
       "    }\n",
       "</style>\n",
       "<table border=\"1\" class=\"dataframe\">\n",
       "  <thead>\n",
       "    <tr style=\"text-align: right;\">\n",
       "      <th></th>\n",
       "      <th>ASIN</th>\n",
       "      <th>target_label</th>\n",
       "      <th>ASIN_STATIC_ITEM_NAME</th>\n",
       "      <th>ASIN_STATIC_PRODUCT_DESCRIPTION</th>\n",
       "      <th>ASIN_STATIC_GL_PRODUCT_GROUP_TYPE</th>\n",
       "      <th>ASIN_STATIC_ITEM_PACKAGE_WEIGHT</th>\n",
       "      <th>ASIN_STATIC_LIST_PRICE</th>\n",
       "      <th>ASIN_STATIC_BATTERIES_INCLUDED</th>\n",
       "      <th>ASIN_STATIC_BATTERIES_REQUIRED</th>\n",
       "      <th>ASIN_STATIC_ITEM_CLASSIFICATION</th>\n",
       "    </tr>\n",
       "  </thead>\n",
       "  <tbody>\n",
       "    <tr>\n",
       "      <th>0</th>\n",
       "      <td>B004U9MOWO</td>\n",
       "      <td>0</td>\n",
       "      <td>Master Lock 8 X 900 mm Chain Integrated 4 Digi...</td>\n",
       "      <td>Master Lock Street Flexium 900mm Integrated Co...</td>\n",
       "      <td>gl_sports</td>\n",
       "      <td>2.650000</td>\n",
       "      <td>16.66</td>\n",
       "      <td>False</td>\n",
       "      <td>False</td>\n",
       "      <td>base_product</td>\n",
       "    </tr>\n",
       "    <tr>\n",
       "      <th>1</th>\n",
       "      <td>B006OJWZMW</td>\n",
       "      <td>0</td>\n",
       "      <td>In Phase SRX-EQ 10 Band Parametric Equalizer w...</td>\n",
       "      <td>NaN</td>\n",
       "      <td>gl_wireless</td>\n",
       "      <td>1.680000</td>\n",
       "      <td>158.33</td>\n",
       "      <td>False</td>\n",
       "      <td>False</td>\n",
       "      <td>base_product</td>\n",
       "    </tr>\n",
       "    <tr>\n",
       "      <th>2</th>\n",
       "      <td>B00008VIJ4</td>\n",
       "      <td>0</td>\n",
       "      <td>Technics RPDJ1210 DJ Headphones - Silver</td>\n",
       "      <td>Plated Connector:Gold, Connector Type:Headphon...</td>\n",
       "      <td>gl_home_entertainment</td>\n",
       "      <td>1.455036</td>\n",
       "      <td>NaN</td>\n",
       "      <td>False</td>\n",
       "      <td>False</td>\n",
       "      <td>base_product</td>\n",
       "    </tr>\n",
       "    <tr>\n",
       "      <th>3</th>\n",
       "      <td>B005433T4M</td>\n",
       "      <td>0</td>\n",
       "      <td>Heartwarmers Coming Home Padded Lap Tray, 42 x...</td>\n",
       "      <td>NaN</td>\n",
       "      <td>gl_home</td>\n",
       "      <td>1.763680</td>\n",
       "      <td>12.49</td>\n",
       "      <td>False</td>\n",
       "      <td>NaN</td>\n",
       "      <td>base_product</td>\n",
       "    </tr>\n",
       "    <tr>\n",
       "      <th>4</th>\n",
       "      <td>B0073CN63Q</td>\n",
       "      <td>0</td>\n",
       "      <td>Douceur D'Intérieur  - 1600728, Curtain With E...</td>\n",
       "      <td>NaN</td>\n",
       "      <td>gl_home</td>\n",
       "      <td>2.292784</td>\n",
       "      <td>25.42</td>\n",
       "      <td>False</td>\n",
       "      <td>False</td>\n",
       "      <td>base_product</td>\n",
       "    </tr>\n",
       "  </tbody>\n",
       "</table>\n",
       "</div>"
      ],
      "text/plain": [
       "         ASIN  target_label  \\\n",
       "0  B004U9MOWO             0   \n",
       "1  B006OJWZMW             0   \n",
       "2  B00008VIJ4             0   \n",
       "3  B005433T4M             0   \n",
       "4  B0073CN63Q             0   \n",
       "\n",
       "                               ASIN_STATIC_ITEM_NAME  \\\n",
       "0  Master Lock 8 X 900 mm Chain Integrated 4 Digi...   \n",
       "1  In Phase SRX-EQ 10 Band Parametric Equalizer w...   \n",
       "2           Technics RPDJ1210 DJ Headphones - Silver   \n",
       "3  Heartwarmers Coming Home Padded Lap Tray, 42 x...   \n",
       "4  Douceur D'Intérieur  - 1600728, Curtain With E...   \n",
       "\n",
       "                     ASIN_STATIC_PRODUCT_DESCRIPTION  \\\n",
       "0  Master Lock Street Flexium 900mm Integrated Co...   \n",
       "1                                                NaN   \n",
       "2  Plated Connector:Gold, Connector Type:Headphon...   \n",
       "3                                                NaN   \n",
       "4                                                NaN   \n",
       "\n",
       "  ASIN_STATIC_GL_PRODUCT_GROUP_TYPE  ASIN_STATIC_ITEM_PACKAGE_WEIGHT  \\\n",
       "0                         gl_sports                         2.650000   \n",
       "1                       gl_wireless                         1.680000   \n",
       "2             gl_home_entertainment                         1.455036   \n",
       "3                           gl_home                         1.763680   \n",
       "4                           gl_home                         2.292784   \n",
       "\n",
       "   ASIN_STATIC_LIST_PRICE ASIN_STATIC_BATTERIES_INCLUDED  \\\n",
       "0                   16.66                          False   \n",
       "1                  158.33                          False   \n",
       "2                     NaN                          False   \n",
       "3                   12.49                          False   \n",
       "4                   25.42                          False   \n",
       "\n",
       "  ASIN_STATIC_BATTERIES_REQUIRED ASIN_STATIC_ITEM_CLASSIFICATION  \n",
       "0                          False                    base_product  \n",
       "1                          False                    base_product  \n",
       "2                          False                    base_product  \n",
       "3                            NaN                    base_product  \n",
       "4                          False                    base_product  "
      ]
     },
     "execution_count": 5,
     "metadata": {},
     "output_type": "execute_result"
    }
   ],
   "source": [
    "# This will print basic statistics for numerical columns\n",
    "#df.describe()\n",
    "df.head()"
   ]
  },
  {
   "cell_type": "markdown",
   "metadata": {},
   "source": [
    "Let's check our target distribution."
   ]
  },
  {
   "cell_type": "code",
   "execution_count": 6,
   "metadata": {},
   "outputs": [
    {
     "data": {
      "text/plain": [
       "<Figure size 640x480 with 1 Axes>"
      ]
     },
     "metadata": {},
     "output_type": "display_data"
    }
   ],
   "source": [
    "import matplotlib.pyplot as plt\n",
    "\n",
    "df['target_label'].value_counts().plot.bar()\n",
    "plt.show()"
   ]
  },
  {
   "cell_type": "markdown",
   "metadata": {},
   "source": [
    "We can see from the target plot above that we are dealing with an imbalanced dataset. This means one result type is dominating the other one(s). In this case, we have a lot of \"no plug\" records but not many \"plug\" records."
   ]
  },
  {
   "cell_type": "code",
   "execution_count": 7,
   "metadata": {},
   "outputs": [
    {
     "data": {
      "text/plain": [
       "(-3558.84, 356001.044]        45740\n",
       "(356001.044, 712000.928]          0\n",
       "(712000.928, 1068000.812]         0\n",
       "(1068000.812, 1424000.696]        0\n",
       "(1424000.696, 1780000.58]         0\n",
       "(1780000.58, 2136000.464]         0\n",
       "(2136000.464, 2492000.348]        0\n",
       "(2492000.348, 2848000.232]        0\n",
       "(2848000.232, 3204000.116]        0\n",
       "(3204000.116, 3560000.0]          1\n",
       "Name: ASIN_STATIC_LIST_PRICE, dtype: int64"
      ]
     },
     "execution_count": 7,
     "metadata": {},
     "output_type": "execute_result"
    }
   ],
   "source": [
    "df['ASIN_STATIC_LIST_PRICE'].value_counts(bins=10, sort=False)"
   ]
  },
  {
   "cell_type": "markdown",
   "metadata": {},
   "source": [
    "We have an outlier data in the last bin. We will remove this data point below."
   ]
  },
  {
   "cell_type": "code",
   "execution_count": 8,
   "metadata": {},
   "outputs": [],
   "source": [
    "dropIndexes = df[df['ASIN_STATIC_LIST_PRICE'] > 3000000].index\n",
    "df.drop(dropIndexes , inplace=True)"
   ]
  },
  {
   "cell_type": "code",
   "execution_count": 9,
   "metadata": {},
   "outputs": [
    {
     "data": {
      "text/plain": [
       "(-13.838999999999999, 1500.944]    45704\n",
       "(1500.944, 3000.728]                  15\n",
       "(3000.728, 4500.512]                   9\n",
       "(4500.512, 6000.296]                   3\n",
       "(6000.296, 7500.08]                    2\n",
       "(7500.08, 8999.864]                    4\n",
       "(8999.864, 10499.648]                  0\n",
       "(10499.648, 11999.432]                 1\n",
       "(11999.432, 13499.216]                 0\n",
       "(13499.216, 14999.0]                   2\n",
       "Name: ASIN_STATIC_LIST_PRICE, dtype: int64"
      ]
     },
     "execution_count": 9,
     "metadata": {},
     "output_type": "execute_result"
    }
   ],
   "source": [
    "df['ASIN_STATIC_LIST_PRICE'].value_counts(bins=10, sort=False)"
   ]
  },
  {
   "cell_type": "markdown",
   "metadata": {},
   "source": [
    "We will only consider __numerical values__ in this exercise. They are __ASIN_STATIC_ITEM_PACKAGE_WEIGHT__ and __ASIN_STATIC_LIST_PRICE__.\n",
    "\n",
    "Let's check missing values for these columns."
   ]
  },
  {
   "cell_type": "code",
   "execution_count": 10,
   "metadata": {},
   "outputs": [
    {
     "data": {
      "text/plain": [
       "92"
      ]
     },
     "execution_count": 10,
     "metadata": {},
     "output_type": "execute_result"
    }
   ],
   "source": [
    "df[\"ASIN_STATIC_ITEM_PACKAGE_WEIGHT\"].isna().sum()"
   ]
  },
  {
   "cell_type": "code",
   "execution_count": 11,
   "metadata": {},
   "outputs": [
    {
     "data": {
      "text/plain": [
       "15492"
      ]
     },
     "execution_count": 11,
     "metadata": {},
     "output_type": "execute_result"
    }
   ],
   "source": [
    "df[\"ASIN_STATIC_LIST_PRICE\"].isna().sum()"
   ]
  },
  {
   "cell_type": "markdown",
   "metadata": {},
   "source": [
    "As a quick fix, we will apply mean imputation. This will replace the missing values with the mean value of the corresponding column."
   ]
  },
  {
   "cell_type": "code",
   "execution_count": 12,
   "metadata": {},
   "outputs": [
    {
     "name": "stdout",
     "output_type": "stream",
     "text": [
      "Mean value of package weight: 31.507184248991948\n",
      "Mean value of list price: 69.750458242256\n"
     ]
    }
   ],
   "source": [
    "print(\"Mean value of package weight:\", df[\"ASIN_STATIC_ITEM_PACKAGE_WEIGHT\"].mean())\n",
    "print(\"Mean value of list price:\", df[\"ASIN_STATIC_LIST_PRICE\"].mean())"
   ]
  },
  {
   "cell_type": "code",
   "execution_count": 13,
   "metadata": {},
   "outputs": [],
   "source": [
    "df[\"ASIN_STATIC_ITEM_PACKAGE_WEIGHT\"].fillna(df[\"ASIN_STATIC_ITEM_PACKAGE_WEIGHT\"].mean(), inplace=True)\n",
    "df[\"ASIN_STATIC_LIST_PRICE\"].fillna(df[\"ASIN_STATIC_LIST_PRICE\"].mean(), inplace=True)"
   ]
  },
  {
   "cell_type": "markdown",
   "metadata": {},
   "source": [
    "Let's check missing values one more time"
   ]
  },
  {
   "cell_type": "code",
   "execution_count": 14,
   "metadata": {},
   "outputs": [
    {
     "data": {
      "text/plain": [
       "0"
      ]
     },
     "execution_count": 14,
     "metadata": {},
     "output_type": "execute_result"
    }
   ],
   "source": [
    "df[\"ASIN_STATIC_ITEM_PACKAGE_WEIGHT\"].isna().sum()"
   ]
  },
  {
   "cell_type": "code",
   "execution_count": 15,
   "metadata": {},
   "outputs": [
    {
     "data": {
      "text/plain": [
       "0"
      ]
     },
     "execution_count": 15,
     "metadata": {},
     "output_type": "execute_result"
    }
   ],
   "source": [
    "df[\"ASIN_STATIC_LIST_PRICE\"].isna().sum()"
   ]
  },
  {
   "cell_type": "markdown",
   "metadata": {},
   "source": [
    "## 4. Training and test subsets\n",
    "We will split our dataset into training (90%) and test (10%) subsets. "
   ]
  },
  {
   "cell_type": "code",
   "execution_count": 16,
   "metadata": {},
   "outputs": [],
   "source": [
    "from sklearn.model_selection import train_test_split\n",
    "\n",
    "train_data, test_data = train_test_split(df, test_size=0.1, shuffle=True, random_state=23)"
   ]
  },
  {
   "cell_type": "markdown",
   "metadata": {},
   "source": [
    "## 5. Fitting the classifier\n",
    "We will use Sklearn's K Nearest Neighbors Classifier algorithm here."
   ]
  },
  {
   "cell_type": "code",
   "execution_count": 17,
   "metadata": {},
   "outputs": [
    {
     "name": "stdout",
     "output_type": "stream",
     "text": [
      "Training data shape: (55108, 2)\n",
      "Training label shape: (55108,)\n"
     ]
    },
    {
     "data": {
      "text/plain": [
       "KNeighborsClassifier(algorithm='auto', leaf_size=30, metric='minkowski',\n",
       "           metric_params=None, n_jobs=None, n_neighbors=5, p=2,\n",
       "           weights='uniform')"
      ]
     },
     "execution_count": 17,
     "metadata": {},
     "output_type": "execute_result"
    }
   ],
   "source": [
    "from sklearn.neighbors import KNeighborsClassifier\n",
    "\n",
    "# Let's get the input and output data for training of the classifier\n",
    "X_train = train_data[['ASIN_STATIC_ITEM_PACKAGE_WEIGHT', 'ASIN_STATIC_LIST_PRICE']].values\n",
    "y_train = train_data['target_label'].values\n",
    "\n",
    "print(\"Training data shape:\", X_train.shape)\n",
    "print(\"Training label shape:\", y_train.shape)\n",
    "\n",
    "knn = KNeighborsClassifier(n_neighbors = 5)\n",
    "knn.fit(X_train, y_train)"
   ]
  },
  {
   "cell_type": "markdown",
   "metadata": {},
   "source": [
    "## 6. Testing\n",
    "\n",
    "Let's see how the classifier performs with \"unseen\" data (our test data). We will use the predict() function this time."
   ]
  },
  {
   "cell_type": "code",
   "execution_count": 18,
   "metadata": {},
   "outputs": [],
   "source": [
    "# Let's get the input and output data for testing the classifier\n",
    "X_test = test_data[['ASIN_STATIC_ITEM_PACKAGE_WEIGHT', 'ASIN_STATIC_LIST_PRICE']].values\n",
    "y_test = test_data['target_label'].values\n",
    "\n",
    "y_pred = knn.predict(X_test)"
   ]
  },
  {
   "cell_type": "code",
   "execution_count": 19,
   "metadata": {},
   "outputs": [
    {
     "data": {
      "text/plain": [
       "array([0, 0, 0, ..., 0, 0, 0])"
      ]
     },
     "execution_count": 19,
     "metadata": {},
     "output_type": "execute_result"
    }
   ],
   "source": [
    "y_pred"
   ]
  },
  {
   "cell_type": "markdown",
   "metadata": {},
   "source": [
    "We will use Sklearn's metrics functions to see the results.\n",
    "\n",
    "__Confusion matrix:__ The diagonals show us correct classifications. Each row and column belongs to a class (plug or no plug). The first column and row correspond to \"no plug\" case, the second column-rows are \"plug\" case."
   ]
  },
  {
   "cell_type": "code",
   "execution_count": 20,
   "metadata": {},
   "outputs": [
    {
     "name": "stdout",
     "output_type": "stream",
     "text": [
      "[[5917    3]\n",
      " [ 203    1]]\n"
     ]
    }
   ],
   "source": [
    "from sklearn.metrics import confusion_matrix\n",
    "\n",
    "print(confusion_matrix(y_test, y_pred))"
   ]
  },
  {
   "cell_type": "markdown",
   "metadata": {},
   "source": [
    "When we look at the confusion matrix, we can quickly see that we have only \"1\" correct classification (1 on the diagonal bottom right) for the items with plug."
   ]
  },
  {
   "cell_type": "markdown",
   "metadata": {},
   "source": [
    "Let's look at the classification report and accuracy below.from sklearn.metrics import classification_report"
   ]
  },
  {
   "cell_type": "code",
   "execution_count": 21,
   "metadata": {},
   "outputs": [
    {
     "name": "stdout",
     "output_type": "stream",
     "text": [
      "              precision    recall  f1-score   support\n",
      "\n",
      "           0       0.97      1.00      0.98      5920\n",
      "           1       0.25      0.00      0.01       204\n",
      "\n",
      "   micro avg       0.97      0.97      0.97      6124\n",
      "   macro avg       0.61      0.50      0.50      6124\n",
      "weighted avg       0.94      0.97      0.95      6124\n",
      "\n",
      "Accuracy: 0.9663618549967342\n"
     ]
    }
   ],
   "source": [
    "from sklearn.metrics import classification_report\n",
    "from sklearn.metrics import accuracy_score\n",
    "\n",
    "print(classification_report(y_test, y_pred))\n",
    "\n",
    "print(\"Accuracy:\", accuracy_score(y_test, y_pred))"
   ]
  },
  {
   "cell_type": "markdown",
   "metadata": {},
   "source": [
    "We achieved 96.6% accuracy on our test dataset. <br/>\n",
    "This might seem like a good score, but the confusion matrix and classification report show poor performance for items with plug (class 1). <br/>\n",
    "__We have a heavily imbalanced dataset and the accuracy score is heavily dominated by the non-plug samples.__"
   ]
  }
 ],
 "metadata": {
  "kernelspec": {
   "display_name": "Python 3",
   "language": "python",
   "name": "python3"
  },
  "language_info": {
   "codemirror_mode": {
    "name": "ipython",
    "version": 3
   },
   "file_extension": ".py",
   "mimetype": "text/x-python",
   "name": "python",
   "nbconvert_exporter": "python",
   "pygments_lexer": "ipython3",
   "version": "3.7.4"
  }
 },
 "nbformat": 4,
 "nbformat_minor": 2
}
